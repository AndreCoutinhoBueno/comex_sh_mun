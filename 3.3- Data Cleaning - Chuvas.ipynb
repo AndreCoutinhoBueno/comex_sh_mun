{
 "cells": [
  {
   "cell_type": "code",
   "execution_count": 1,
   "id": "14a30b37-d868-4b96-b6c0-b96f5e2386ad",
   "metadata": {},
   "outputs": [],
   "source": [
    "%run '~/git/Bibliotecas.ipynb'"
   ]
  },
  {
   "cell_type": "code",
   "execution_count": 2,
   "id": "ba4cd312-8eb2-4413-9cb5-dd017fb2e78f",
   "metadata": {
    "scrolled": true
   },
   "outputs": [
    {
     "name": "stdout",
     "output_type": "stream",
     "text": [
      "<class 'pandas.core.frame.DataFrame'>\n",
      "Index: 448296 entries, 448295 to 224147\n",
      "Data columns (total 21 columns):\n",
      " #   Column                                                 Non-Null Count   Dtype  \n",
      "---  ------                                                 --------------   -----  \n",
      " 0   Estação                                                448296 non-null  object \n",
      " 1   ano                                                    448296 non-null  int64  \n",
      " 2   mês                                                    448296 non-null  int64  \n",
      " 3   dia                                                    448296 non-null  int64  \n",
      " 4   hour                                                   448296 non-null  int64  \n",
      " 5   PRECIPITAÇÃO TOTAL, HORÁRIO (mm)                       446137 non-null  float64\n",
      " 6   PRESSAO ATMOSFERICA AO NIVEL DA ESTACAO, HORARIA (mB)  447520 non-null  float64\n",
      " 7   PRESSÃO ATMOSFERICA MAX.NA HORA ANT. (AUT) (mB)        447513 non-null  float64\n",
      " 8   PRESSÃO ATMOSFERICA MIN. NA HORA ANT. (AUT) (mB)       447513 non-null  float64\n",
      " 9   TEMPERATURA DO AR - BULBO SECO, HORARIA (°C)           447519 non-null  float64\n",
      " 10  TEMPERATURA DO PONTO DE ORVALHO (°C)                   436980 non-null  float64\n",
      " 11  TEMPERATURA MÁXIMA NA HORA ANT. (AUT) (°C)             447512 non-null  float64\n",
      " 12  TEMPERATURA MÍNIMA NA HORA ANT. (AUT) (°C)             447512 non-null  float64\n",
      " 13  TEMPERATURA ORVALHO MAX. NA HORA ANT. (AUT) (°C)       436946 non-null  float64\n",
      " 14  TEMPERATURA ORVALHO MIN. NA HORA ANT. (AUT) (°C)       436876 non-null  float64\n",
      " 15  UMIDADE REL. MAX. NA HORA ANT. (AUT) (%)               436984 non-null  float64\n",
      " 16  UMIDADE REL. MIN. NA HORA ANT. (AUT) (%)               436925 non-null  float64\n",
      " 17  UMIDADE RELATIVA DO AR, HORARIA (%)                    436997 non-null  float64\n",
      " 18  VENTO, DIREÇÃO HORARIA (gr) (° (gr))                   447519 non-null  float64\n",
      " 19  VENTO, RAJADA MAXIMA (m/s)                             447507 non-null  float64\n",
      " 20  VENTO, VELOCIDADE HORARIA (m/s)                        447519 non-null  float64\n",
      "dtypes: float64(16), int64(4), object(1)\n",
      "memory usage: 75.2+ MB\n"
     ]
    }
   ],
   "source": [
    "chuvas_m_r_pa=pd.read_csv('~/git/Importacao-por-SH-e-Municipio/temp/chuvas_m_r_pa.csv')\n",
    "chuvas_m_r_pa=chuvas_m_r_pa.sort_values('Estação')\n",
    "chuvas_m_r_pa.info()"
   ]
  },
  {
   "cell_type": "code",
   "execution_count": null,
   "id": "c9a4ff85-8eca-439a-90c8-b88994b1ff60",
   "metadata": {},
   "outputs": [],
   "source": []
  },
  {
   "cell_type": "code",
   "execution_count": 3,
   "id": "2bbbf28e-488f-47dc-983d-011134bf1098",
   "metadata": {},
   "outputs": [
    {
     "name": "stdout",
     "output_type": "stream",
     "text": [
      "<class 'pandas.core.frame.DataFrame'>\n",
      "Index: 448296 entries, 448295 to 224147\n",
      "Data columns (total 6 columns):\n",
      " #   Column                            Non-Null Count   Dtype  \n",
      "---  ------                            --------------   -----  \n",
      " 0   Estação                           448296 non-null  object \n",
      " 1   ano                               448296 non-null  int64  \n",
      " 2   mês                               448296 non-null  int64  \n",
      " 3   dia                               448296 non-null  int64  \n",
      " 4   hour                              448296 non-null  int64  \n",
      " 5   PRECIPITAÇÃO TOTAL, HORÁRIO (mm)  446137 non-null  float64\n",
      "dtypes: float64(1), int64(4), object(1)\n",
      "memory usage: 23.9+ MB\n"
     ]
    }
   ],
   "source": [
    "chuvas_m_r_pa=chuvas_m_r_pa.iloc[:,:6]\n",
    "chuvas_m_r_pa.info()"
   ]
  },
  {
   "cell_type": "code",
   "execution_count": 4,
   "id": "03634d32-6bd1-47c8-9fb3-c2b78729b928",
   "metadata": {},
   "outputs": [
    {
     "name": "stdout",
     "output_type": "stream",
     "text": [
      "<class 'pandas.core.frame.DataFrame'>\n",
      "Index: 448296 entries, 448295 to 224147\n",
      "Data columns (total 6 columns):\n",
      " #   Column     Non-Null Count   Dtype  \n",
      "---  ------     --------------   -----  \n",
      " 0   Município  448296 non-null  object \n",
      " 1   ano        448296 non-null  int64  \n",
      " 2   mês        448296 non-null  int64  \n",
      " 3   dia        448296 non-null  int64  \n",
      " 4   hour       448296 non-null  int64  \n",
      " 5   mm         446137 non-null  float64\n",
      "dtypes: float64(1), int64(4), object(1)\n",
      "memory usage: 23.9+ MB\n"
     ]
    }
   ],
   "source": [
    "chuvas_m_r_pa=chuvas_m_r_pa.rename(columns={'PRECIPITAÇÃO TOTAL, HORÁRIO (mm)':'mm','Estação':'Município'})\n",
    "chuvas_m_r_pa.info()"
   ]
  },
  {
   "cell_type": "code",
   "execution_count": 5,
   "id": "1935c8de-e3cb-49ba-b93e-784f17aeb2db",
   "metadata": {},
   "outputs": [
    {
     "data": {
      "text/plain": [
       "array([-9.999e+03,  0.000e+00,  2.000e-01,  4.000e-01,  6.000e-01,\n",
       "        8.000e-01,  1.000e+00,  1.200e+00,  1.400e+00,  1.600e+00,\n",
       "        1.800e+00,  2.000e+00,  2.200e+00,  2.400e+00,  2.600e+00,\n",
       "        2.800e+00,  3.000e+00,  3.200e+00,  3.400e+00,  3.600e+00,\n",
       "        3.800e+00,  4.000e+00,  4.200e+00,  4.400e+00,  4.600e+00,\n",
       "        4.800e+00,  5.000e+00,  5.200e+00,  5.400e+00,  5.600e+00,\n",
       "        5.800e+00,  6.000e+00,  6.200e+00,  6.400e+00,  6.600e+00,\n",
       "        6.800e+00,  7.000e+00,  7.200e+00,  7.400e+00,  7.600e+00,\n",
       "        7.800e+00,  8.000e+00,  8.200e+00,  8.400e+00,  8.600e+00,\n",
       "        8.800e+00,  9.000e+00,  9.200e+00,  9.400e+00,  9.600e+00,\n",
       "        9.800e+00,  1.000e+01,  1.020e+01,  1.040e+01,  1.060e+01,\n",
       "        1.080e+01,  1.100e+01,  1.120e+01,  1.140e+01,  1.160e+01,\n",
       "        1.180e+01,  1.200e+01,  1.220e+01,  1.240e+01,  1.260e+01,\n",
       "        1.280e+01,  1.300e+01,  1.320e+01,  1.340e+01,  1.360e+01,\n",
       "        1.380e+01,  1.400e+01,  1.420e+01,  1.440e+01,  1.460e+01,\n",
       "        1.480e+01,  1.500e+01,  1.520e+01,  1.540e+01,  1.560e+01,\n",
       "        1.580e+01,  1.600e+01,  1.620e+01,  1.640e+01,  1.660e+01,\n",
       "        1.680e+01,  1.700e+01,  1.720e+01,  1.740e+01,  1.760e+01,\n",
       "        1.780e+01,  1.800e+01,  1.820e+01,  1.840e+01,  1.860e+01,\n",
       "        1.880e+01,  1.900e+01,  1.920e+01,  1.940e+01,  1.960e+01,\n",
       "        1.980e+01,  2.000e+01,  2.020e+01,  2.040e+01,  2.060e+01,\n",
       "        2.080e+01,  2.100e+01,  2.120e+01,  2.140e+01,  2.160e+01,\n",
       "        2.180e+01,  2.200e+01,  2.220e+01,  2.240e+01,  2.260e+01,\n",
       "        2.280e+01,  2.300e+01,  2.320e+01,  2.340e+01,  2.360e+01,\n",
       "        2.380e+01,  2.400e+01,  2.420e+01,  2.440e+01,  2.460e+01,\n",
       "        2.480e+01,  2.500e+01,  2.520e+01,  2.540e+01,  2.560e+01,\n",
       "        2.580e+01,  2.600e+01,  2.640e+01,  2.660e+01,  2.680e+01,\n",
       "        2.720e+01,  2.740e+01,  2.760e+01,  2.780e+01,  2.800e+01,\n",
       "        2.820e+01,  2.840e+01,  2.860e+01,  2.880e+01,  2.900e+01,\n",
       "        2.920e+01,  2.960e+01,  3.000e+01,  3.020e+01,  3.040e+01,\n",
       "        3.060e+01,  3.140e+01,  3.160e+01,  3.180e+01,  3.200e+01,\n",
       "        3.220e+01,  3.240e+01,  3.260e+01,  3.280e+01,  3.300e+01,\n",
       "        3.320e+01,  3.380e+01,  3.400e+01,  3.420e+01,  3.440e+01,\n",
       "        3.460e+01,  3.480e+01,  3.580e+01,  3.600e+01,  3.640e+01,\n",
       "        3.660e+01,  3.780e+01,  3.800e+01,  3.820e+01,  3.840e+01,\n",
       "        3.860e+01,  3.920e+01,  3.940e+01,  3.960e+01,  4.000e+01,\n",
       "        4.020e+01,  4.060e+01,  4.200e+01,  4.340e+01,  4.360e+01,\n",
       "        4.380e+01,  4.400e+01,  4.440e+01,  4.560e+01,  4.600e+01,\n",
       "        4.800e+01,  4.900e+01,  4.980e+01,  5.720e+01,  5.820e+01,\n",
       "              nan])"
      ]
     },
     "execution_count": 5,
     "metadata": {},
     "output_type": "execute_result"
    }
   ],
   "source": [
    "chuvas_m_r_pa.mm.sort_values().unique()"
   ]
  },
  {
   "cell_type": "code",
   "execution_count": 6,
   "id": "2466117b-a3d6-474c-9029-951a7baa27cd",
   "metadata": {},
   "outputs": [
    {
     "name": "stdout",
     "output_type": "stream",
     "text": [
      "<class 'pandas.core.frame.DataFrame'>\n",
      "Index: 448296 entries, 448295 to 224147\n",
      "Data columns (total 6 columns):\n",
      " #   Column     Non-Null Count   Dtype  \n",
      "---  ------     --------------   -----  \n",
      " 0   Município  448296 non-null  object \n",
      " 1   ano        448296 non-null  int64  \n",
      " 2   mês        448296 non-null  int64  \n",
      " 3   dia        448296 non-null  int64  \n",
      " 4   hour       448296 non-null  int64  \n",
      " 5   mm         422781 non-null  float64\n",
      "dtypes: float64(1), int64(4), object(1)\n",
      "memory usage: 23.9+ MB\n"
     ]
    }
   ],
   "source": [
    "chuvas_m_r_pa.loc[chuvas_m_r_pa.mm==chuvas_m_r_pa.mm.min(),'mm']=np.nan\n",
    "chuvas_m_r_pa.info()"
   ]
  },
  {
   "cell_type": "code",
   "execution_count": 7,
   "id": "a8965501-2236-4b38-b6f0-cf03272d2707",
   "metadata": {},
   "outputs": [
    {
     "data": {
      "text/plain": [
       "0.0"
      ]
     },
     "execution_count": 7,
     "metadata": {},
     "output_type": "execute_result"
    }
   ],
   "source": [
    "chuvas_m_r_pa.mm.min()"
   ]
  },
  {
   "cell_type": "code",
   "execution_count": null,
   "id": "b70e2df7-e51f-4fb5-bdba-248429919260",
   "metadata": {},
   "outputs": [],
   "source": []
  },
  {
   "cell_type": "code",
   "execution_count": null,
   "id": "d4c63068-a599-45be-bfdc-f8d6e011a3b1",
   "metadata": {},
   "outputs": [],
   "source": []
  },
  {
   "cell_type": "code",
   "execution_count": 8,
   "id": "093ecf3b-a6c4-4aa8-824a-41b59cc82ae1",
   "metadata": {},
   "outputs": [],
   "source": [
    "chuvas_m_r_pa['date']=pd.to_datetime(chuvas_m_r_pa.ano.astype(str)+'/'+chuvas_m_r_pa.mês.astype(str)+'/1')"
   ]
  },
  {
   "cell_type": "code",
   "execution_count": 9,
   "id": "51759d79-8f27-44db-890a-83c80d180dc5",
   "metadata": {},
   "outputs": [
    {
     "data": {
      "text/plain": [
       "Timestamp('2007-05-01 00:00:00')"
      ]
     },
     "execution_count": 9,
     "metadata": {},
     "output_type": "execute_result"
    }
   ],
   "source": [
    "primeira_data=chuvas_m_r_pa.groupby('Município')[['date']].min().reset_index().date.max()\n",
    "primeira_data"
   ]
  },
  {
   "cell_type": "code",
   "execution_count": 10,
   "id": "f9ec207a-7be3-4eaa-8845-c10d1690ec5c",
   "metadata": {},
   "outputs": [],
   "source": [
    "chuvas_m_r_pa=chuvas_m_r_pa[chuvas_m_r_pa.date>=primeira_data]"
   ]
  },
  {
   "cell_type": "code",
   "execution_count": 11,
   "id": "d4b881b9-6d8c-45d1-9914-f3e706206f88",
   "metadata": {},
   "outputs": [],
   "source": [
    "chuvas_m_r_pa[chuvas_m_r_pa.date==chuvas_m_r_pa.date.min()]\n",
    "\n",
    "chuvas_m_r_pa=chuvas_m_r_pa.drop(columns='date')"
   ]
  },
  {
   "cell_type": "code",
   "execution_count": null,
   "id": "d111af13-bbfb-431c-97ac-43f880323171",
   "metadata": {},
   "outputs": [],
   "source": []
  },
  {
   "cell_type": "code",
   "execution_count": null,
   "id": "1f12128d-1eef-4797-9e41-ca978ec64355",
   "metadata": {},
   "outputs": [],
   "source": []
  },
  {
   "cell_type": "code",
   "execution_count": 12,
   "id": "d653560f-0bf1-4b32-9e35-39c605b34b8e",
   "metadata": {},
   "outputs": [
    {
     "data": {
      "text/plain": [
       "<seaborn.axisgrid.FacetGrid at 0x79e33e16f650>"
      ]
     },
     "execution_count": 12,
     "metadata": {},
     "output_type": "execute_result"
    },
    {
     "data": {
      "image/png": "[encoded data removed]",
      "text/plain": [
       "<Figure size 500x500 with 1 Axes>"
      ]
     },
     "metadata": {},
     "output_type": "display_data"
    }
   ],
   "source": [
    "sns.displot(data=chuvas_m_r_pa[chuvas_m_r_pa.mm>0],x='mm',log_scale=True, bins=15)"
   ]
  },
  {
   "cell_type": "code",
   "execution_count": 13,
   "id": "ad7dc359-47fe-4246-ba57-1725e899fa7b",
   "metadata": {
    "scrolled": true
   },
   "outputs": [],
   "source": [
    "chuvas_m_r_pa_isna=chuvas_m_r_pa[chuvas_m_r_pa.mm.isna()]\n",
    "chuvas_m_r_pa_notna=chuvas_m_r_pa[~chuvas_m_r_pa.mm.isna()]"
   ]
  },
  {
   "cell_type": "code",
   "execution_count": 14,
   "id": "8138ada3-7903-4200-98d6-2ec732722906",
   "metadata": {},
   "outputs": [],
   "source": [
    "corr_1=chuvas_m_r_pa_notna.groupby(by=['ano','mês','dia','hour']).mm.median().reset_index()\n",
    "corr_2=chuvas_m_r_pa_notna.groupby(by=['ano','mês','dia']).mm.median().reset_index()\n",
    "corr_3=chuvas_m_r_pa_notna.groupby(by=['ano','mês']).mm.median().reset_index()\n"
   ]
  },
  {
   "cell_type": "code",
   "execution_count": 15,
   "id": "2cd71282-d17b-4279-bdc4-f00120710332",
   "metadata": {},
   "outputs": [
    {
     "data": {
      "text/html": [
       "<div>\n",
       "<style scoped>\n",
       "    .dataframe tbody tr th:only-of-type {\n",
       "        vertical-align: middle;\n",
       "    }\n",
       "\n",
       "    .dataframe tbody tr th {\n",
       "        vertical-align: top;\n",
       "    }\n",
       "\n",
       "    .dataframe thead th {\n",
       "        text-align: right;\n",
       "    }\n",
       "</style>\n",
       "<table border=\"1\" class=\"dataframe\">\n",
       "  <thead>\n",
       "    <tr style=\"text-align: right;\">\n",
       "      <th></th>\n",
       "      <th>Município</th>\n",
       "      <th>ano</th>\n",
       "      <th>mês</th>\n",
       "      <th>dia</th>\n",
       "      <th>hour</th>\n",
       "      <th>mm</th>\n",
       "    </tr>\n",
       "  </thead>\n",
       "  <tbody>\n",
       "    <tr>\n",
       "      <th>0</th>\n",
       "      <td>CALDAS</td>\n",
       "      <td>2014</td>\n",
       "      <td>9</td>\n",
       "      <td>20</td>\n",
       "      <td>13</td>\n",
       "      <td>0.0</td>\n",
       "    </tr>\n",
       "    <tr>\n",
       "      <th>1</th>\n",
       "      <td>CALDAS</td>\n",
       "      <td>2007</td>\n",
       "      <td>10</td>\n",
       "      <td>24</td>\n",
       "      <td>23</td>\n",
       "      <td>0.9</td>\n",
       "    </tr>\n",
       "    <tr>\n",
       "      <th>2</th>\n",
       "      <td>CALDAS</td>\n",
       "      <td>2007</td>\n",
       "      <td>10</td>\n",
       "      <td>25</td>\n",
       "      <td>0</td>\n",
       "      <td>0.8</td>\n",
       "    </tr>\n",
       "    <tr>\n",
       "      <th>3</th>\n",
       "      <td>CALDAS</td>\n",
       "      <td>2007</td>\n",
       "      <td>10</td>\n",
       "      <td>25</td>\n",
       "      <td>1</td>\n",
       "      <td>1.5</td>\n",
       "    </tr>\n",
       "    <tr>\n",
       "      <th>4</th>\n",
       "      <td>CALDAS</td>\n",
       "      <td>2007</td>\n",
       "      <td>10</td>\n",
       "      <td>25</td>\n",
       "      <td>2</td>\n",
       "      <td>7.6</td>\n",
       "    </tr>\n",
       "    <tr>\n",
       "      <th>...</th>\n",
       "      <td>...</td>\n",
       "      <td>...</td>\n",
       "      <td>...</td>\n",
       "      <td>...</td>\n",
       "      <td>...</td>\n",
       "      <td>...</td>\n",
       "    </tr>\n",
       "    <tr>\n",
       "      <th>25102</th>\n",
       "      <td>PASSA QUATRO</td>\n",
       "      <td>2008</td>\n",
       "      <td>2</td>\n",
       "      <td>20</td>\n",
       "      <td>6</td>\n",
       "      <td>0.0</td>\n",
       "    </tr>\n",
       "    <tr>\n",
       "      <th>25103</th>\n",
       "      <td>PASSA QUATRO</td>\n",
       "      <td>2008</td>\n",
       "      <td>2</td>\n",
       "      <td>20</td>\n",
       "      <td>5</td>\n",
       "      <td>0.0</td>\n",
       "    </tr>\n",
       "    <tr>\n",
       "      <th>25104</th>\n",
       "      <td>PASSA QUATRO</td>\n",
       "      <td>2008</td>\n",
       "      <td>2</td>\n",
       "      <td>20</td>\n",
       "      <td>4</td>\n",
       "      <td>0.0</td>\n",
       "    </tr>\n",
       "    <tr>\n",
       "      <th>25105</th>\n",
       "      <td>PASSA QUATRO</td>\n",
       "      <td>2008</td>\n",
       "      <td>2</td>\n",
       "      <td>20</td>\n",
       "      <td>3</td>\n",
       "      <td>0.0</td>\n",
       "    </tr>\n",
       "    <tr>\n",
       "      <th>25106</th>\n",
       "      <td>PASSA QUATRO</td>\n",
       "      <td>2008</td>\n",
       "      <td>3</td>\n",
       "      <td>1</td>\n",
       "      <td>3</td>\n",
       "      <td>1.4</td>\n",
       "    </tr>\n",
       "  </tbody>\n",
       "</table>\n",
       "<p>25107 rows × 6 columns</p>\n",
       "</div>"
      ],
      "text/plain": [
       "          Município   ano  mês  dia  hour   mm\n",
       "0            CALDAS  2014    9   20    13  0.0\n",
       "1            CALDAS  2007   10   24    23  0.9\n",
       "2            CALDAS  2007   10   25     0  0.8\n",
       "3            CALDAS  2007   10   25     1  1.5\n",
       "4            CALDAS  2007   10   25     2  7.6\n",
       "...             ...   ...  ...  ...   ...  ...\n",
       "25102  PASSA QUATRO  2008    2   20     6  0.0\n",
       "25103  PASSA QUATRO  2008    2   20     5  0.0\n",
       "25104  PASSA QUATRO  2008    2   20     4  0.0\n",
       "25105  PASSA QUATRO  2008    2   20     3  0.0\n",
       "25106  PASSA QUATRO  2008    3    1     3  1.4\n",
       "\n",
       "[25107 rows x 6 columns]"
      ]
     },
     "execution_count": 15,
     "metadata": {},
     "output_type": "execute_result"
    }
   ],
   "source": [
    "chuvas_m_r_pa_isna_corr_1=chuvas_m_r_pa_isna.drop(columns='mm').merge(corr_1,how='outer')\n",
    "chuvas_m_r_pa_isna_corr_1=chuvas_m_r_pa_isna_corr_1[~chuvas_m_r_pa_isna_corr_1.Município.isna()]\n",
    "chuvas_m_r_pa_isna_corr_1"
   ]
  },
  {
   "cell_type": "code",
   "execution_count": 16,
   "id": "fd56627b-e63d-4fed-a75e-da7753dfe8f0",
   "metadata": {},
   "outputs": [
    {
     "data": {
      "text/plain": [
       "24911"
      ]
     },
     "execution_count": 16,
     "metadata": {},
     "output_type": "execute_result"
    }
   ],
   "source": [
    "len(chuvas_m_r_pa_isna_corr_1.dropna())"
   ]
  },
  {
   "cell_type": "code",
   "execution_count": 17,
   "id": "ed0f6b73-22cd-4308-9a6d-2038e3798668",
   "metadata": {},
   "outputs": [
    {
     "data": {
      "text/plain": [
       "25107"
      ]
     },
     "execution_count": 17,
     "metadata": {},
     "output_type": "execute_result"
    }
   ],
   "source": [
    "len(chuvas_m_r_pa_isna)"
   ]
  },
  {
   "cell_type": "code",
   "execution_count": 18,
   "id": "02df6716-d24c-4ba0-9901-476e24613429",
   "metadata": {},
   "outputs": [
    {
     "data": {
      "text/html": [
       "<div>\n",
       "<style scoped>\n",
       "    .dataframe tbody tr th:only-of-type {\n",
       "        vertical-align: middle;\n",
       "    }\n",
       "\n",
       "    .dataframe tbody tr th {\n",
       "        vertical-align: top;\n",
       "    }\n",
       "\n",
       "    .dataframe thead th {\n",
       "        text-align: right;\n",
       "    }\n",
       "</style>\n",
       "<table border=\"1\" class=\"dataframe\">\n",
       "  <thead>\n",
       "    <tr style=\"text-align: right;\">\n",
       "      <th></th>\n",
       "      <th>Município</th>\n",
       "      <th>ano</th>\n",
       "      <th>mês</th>\n",
       "      <th>dia</th>\n",
       "      <th>hour</th>\n",
       "      <th>mm</th>\n",
       "    </tr>\n",
       "  </thead>\n",
       "  <tbody>\n",
       "    <tr>\n",
       "      <th>0</th>\n",
       "      <td>CALDAS</td>\n",
       "      <td>2014</td>\n",
       "      <td>9</td>\n",
       "      <td>20</td>\n",
       "      <td>13</td>\n",
       "      <td>0.0</td>\n",
       "    </tr>\n",
       "    <tr>\n",
       "      <th>1</th>\n",
       "      <td>CALDAS</td>\n",
       "      <td>2007</td>\n",
       "      <td>10</td>\n",
       "      <td>24</td>\n",
       "      <td>23</td>\n",
       "      <td>0.9</td>\n",
       "    </tr>\n",
       "    <tr>\n",
       "      <th>2</th>\n",
       "      <td>CALDAS</td>\n",
       "      <td>2007</td>\n",
       "      <td>10</td>\n",
       "      <td>25</td>\n",
       "      <td>0</td>\n",
       "      <td>0.8</td>\n",
       "    </tr>\n",
       "    <tr>\n",
       "      <th>3</th>\n",
       "      <td>CALDAS</td>\n",
       "      <td>2007</td>\n",
       "      <td>10</td>\n",
       "      <td>25</td>\n",
       "      <td>1</td>\n",
       "      <td>1.5</td>\n",
       "    </tr>\n",
       "    <tr>\n",
       "      <th>4</th>\n",
       "      <td>CALDAS</td>\n",
       "      <td>2007</td>\n",
       "      <td>10</td>\n",
       "      <td>25</td>\n",
       "      <td>2</td>\n",
       "      <td>7.6</td>\n",
       "    </tr>\n",
       "    <tr>\n",
       "      <th>...</th>\n",
       "      <td>...</td>\n",
       "      <td>...</td>\n",
       "      <td>...</td>\n",
       "      <td>...</td>\n",
       "      <td>...</td>\n",
       "      <td>...</td>\n",
       "    </tr>\n",
       "    <tr>\n",
       "      <th>25102</th>\n",
       "      <td>PASSA QUATRO</td>\n",
       "      <td>2008</td>\n",
       "      <td>2</td>\n",
       "      <td>20</td>\n",
       "      <td>6</td>\n",
       "      <td>0.0</td>\n",
       "    </tr>\n",
       "    <tr>\n",
       "      <th>25103</th>\n",
       "      <td>PASSA QUATRO</td>\n",
       "      <td>2008</td>\n",
       "      <td>2</td>\n",
       "      <td>20</td>\n",
       "      <td>5</td>\n",
       "      <td>0.0</td>\n",
       "    </tr>\n",
       "    <tr>\n",
       "      <th>25104</th>\n",
       "      <td>PASSA QUATRO</td>\n",
       "      <td>2008</td>\n",
       "      <td>2</td>\n",
       "      <td>20</td>\n",
       "      <td>4</td>\n",
       "      <td>0.0</td>\n",
       "    </tr>\n",
       "    <tr>\n",
       "      <th>25105</th>\n",
       "      <td>PASSA QUATRO</td>\n",
       "      <td>2008</td>\n",
       "      <td>2</td>\n",
       "      <td>20</td>\n",
       "      <td>3</td>\n",
       "      <td>0.0</td>\n",
       "    </tr>\n",
       "    <tr>\n",
       "      <th>25106</th>\n",
       "      <td>PASSA QUATRO</td>\n",
       "      <td>2008</td>\n",
       "      <td>3</td>\n",
       "      <td>1</td>\n",
       "      <td>3</td>\n",
       "      <td>1.4</td>\n",
       "    </tr>\n",
       "  </tbody>\n",
       "</table>\n",
       "<p>24911 rows × 6 columns</p>\n",
       "</div>"
      ],
      "text/plain": [
       "          Município   ano  mês  dia  hour   mm\n",
       "0            CALDAS  2014    9   20    13  0.0\n",
       "1            CALDAS  2007   10   24    23  0.9\n",
       "2            CALDAS  2007   10   25     0  0.8\n",
       "3            CALDAS  2007   10   25     1  1.5\n",
       "4            CALDAS  2007   10   25     2  7.6\n",
       "...             ...   ...  ...  ...   ...  ...\n",
       "25102  PASSA QUATRO  2008    2   20     6  0.0\n",
       "25103  PASSA QUATRO  2008    2   20     5  0.0\n",
       "25104  PASSA QUATRO  2008    2   20     4  0.0\n",
       "25105  PASSA QUATRO  2008    2   20     3  0.0\n",
       "25106  PASSA QUATRO  2008    3    1     3  1.4\n",
       "\n",
       "[24911 rows x 6 columns]"
      ]
     },
     "execution_count": 18,
     "metadata": {},
     "output_type": "execute_result"
    }
   ],
   "source": [
    "chuvas_m_r_pa_corr_1=chuvas_m_r_pa_isna_corr_1[~chuvas_m_r_pa_isna_corr_1.mm.isna()]\n",
    "chuvas_m_r_pa_corr_1"
   ]
  },
  {
   "cell_type": "code",
   "execution_count": 19,
   "id": "8a500aae-3cdf-4f90-8a3f-c9afc9f426a0",
   "metadata": {},
   "outputs": [
    {
     "data": {
      "text/html": [
       "<div>\n",
       "<style scoped>\n",
       "    .dataframe tbody tr th:only-of-type {\n",
       "        vertical-align: middle;\n",
       "    }\n",
       "\n",
       "    .dataframe tbody tr th {\n",
       "        vertical-align: top;\n",
       "    }\n",
       "\n",
       "    .dataframe thead th {\n",
       "        text-align: right;\n",
       "    }\n",
       "</style>\n",
       "<table border=\"1\" class=\"dataframe\">\n",
       "  <thead>\n",
       "    <tr style=\"text-align: right;\">\n",
       "      <th></th>\n",
       "      <th>Município</th>\n",
       "      <th>ano</th>\n",
       "      <th>mês</th>\n",
       "      <th>dia</th>\n",
       "      <th>hour</th>\n",
       "      <th>mm</th>\n",
       "    </tr>\n",
       "  </thead>\n",
       "  <tbody>\n",
       "    <tr>\n",
       "      <th>30</th>\n",
       "      <td>CALDAS</td>\n",
       "      <td>2007</td>\n",
       "      <td>7</td>\n",
       "      <td>28</td>\n",
       "      <td>7</td>\n",
       "      <td>NaN</td>\n",
       "    </tr>\n",
       "    <tr>\n",
       "      <th>31</th>\n",
       "      <td>CONCEICAO DAS ALAGOAS</td>\n",
       "      <td>2007</td>\n",
       "      <td>7</td>\n",
       "      <td>28</td>\n",
       "      <td>7</td>\n",
       "      <td>NaN</td>\n",
       "    </tr>\n",
       "    <tr>\n",
       "      <th>32</th>\n",
       "      <td>PASSA QUATRO</td>\n",
       "      <td>2007</td>\n",
       "      <td>7</td>\n",
       "      <td>28</td>\n",
       "      <td>7</td>\n",
       "      <td>NaN</td>\n",
       "    </tr>\n",
       "    <tr>\n",
       "      <th>35</th>\n",
       "      <td>CALDAS</td>\n",
       "      <td>2007</td>\n",
       "      <td>8</td>\n",
       "      <td>6</td>\n",
       "      <td>19</td>\n",
       "      <td>NaN</td>\n",
       "    </tr>\n",
       "    <tr>\n",
       "      <th>36</th>\n",
       "      <td>CONCEICAO DAS ALAGOAS</td>\n",
       "      <td>2007</td>\n",
       "      <td>8</td>\n",
       "      <td>6</td>\n",
       "      <td>19</td>\n",
       "      <td>NaN</td>\n",
       "    </tr>\n",
       "    <tr>\n",
       "      <th>...</th>\n",
       "      <td>...</td>\n",
       "      <td>...</td>\n",
       "      <td>...</td>\n",
       "      <td>...</td>\n",
       "      <td>...</td>\n",
       "      <td>...</td>\n",
       "    </tr>\n",
       "    <tr>\n",
       "      <th>4076</th>\n",
       "      <td>CONCEICAO DAS ALAGOAS</td>\n",
       "      <td>2009</td>\n",
       "      <td>10</td>\n",
       "      <td>7</td>\n",
       "      <td>6</td>\n",
       "      <td>NaN</td>\n",
       "    </tr>\n",
       "    <tr>\n",
       "      <th>4077</th>\n",
       "      <td>PASSA QUATRO</td>\n",
       "      <td>2009</td>\n",
       "      <td>10</td>\n",
       "      <td>7</td>\n",
       "      <td>6</td>\n",
       "      <td>NaN</td>\n",
       "    </tr>\n",
       "    <tr>\n",
       "      <th>4943</th>\n",
       "      <td>CALDAS</td>\n",
       "      <td>2018</td>\n",
       "      <td>2</td>\n",
       "      <td>7</td>\n",
       "      <td>17</td>\n",
       "      <td>NaN</td>\n",
       "    </tr>\n",
       "    <tr>\n",
       "      <th>4944</th>\n",
       "      <td>CONCEICAO DAS ALAGOAS</td>\n",
       "      <td>2018</td>\n",
       "      <td>2</td>\n",
       "      <td>7</td>\n",
       "      <td>17</td>\n",
       "      <td>NaN</td>\n",
       "    </tr>\n",
       "    <tr>\n",
       "      <th>4945</th>\n",
       "      <td>PASSA QUATRO</td>\n",
       "      <td>2018</td>\n",
       "      <td>2</td>\n",
       "      <td>7</td>\n",
       "      <td>17</td>\n",
       "      <td>NaN</td>\n",
       "    </tr>\n",
       "  </tbody>\n",
       "</table>\n",
       "<p>196 rows × 6 columns</p>\n",
       "</div>"
      ],
      "text/plain": [
       "                  Município   ano  mês  dia  hour  mm\n",
       "30                   CALDAS  2007    7   28     7 NaN\n",
       "31    CONCEICAO DAS ALAGOAS  2007    7   28     7 NaN\n",
       "32             PASSA QUATRO  2007    7   28     7 NaN\n",
       "35                   CALDAS  2007    8    6    19 NaN\n",
       "36    CONCEICAO DAS ALAGOAS  2007    8    6    19 NaN\n",
       "...                     ...   ...  ...  ...   ...  ..\n",
       "4076  CONCEICAO DAS ALAGOAS  2009   10    7     6 NaN\n",
       "4077           PASSA QUATRO  2009   10    7     6 NaN\n",
       "4943                 CALDAS  2018    2    7    17 NaN\n",
       "4944  CONCEICAO DAS ALAGOAS  2018    2    7    17 NaN\n",
       "4945           PASSA QUATRO  2018    2    7    17 NaN\n",
       "\n",
       "[196 rows x 6 columns]"
      ]
     },
     "execution_count": 19,
     "metadata": {},
     "output_type": "execute_result"
    }
   ],
   "source": [
    "chuvas_m_r_pa_isna_2=chuvas_m_r_pa_isna_corr_1[chuvas_m_r_pa_isna_corr_1.mm.isna()]\n",
    "chuvas_m_r_pa_isna_2"
   ]
  },
  {
   "cell_type": "code",
   "execution_count": 20,
   "id": "0f794af8-ace0-4451-9ffa-bf1ea84edf06",
   "metadata": {},
   "outputs": [
    {
     "data": {
      "text/html": [
       "<div>\n",
       "<style scoped>\n",
       "    .dataframe tbody tr th:only-of-type {\n",
       "        vertical-align: middle;\n",
       "    }\n",
       "\n",
       "    .dataframe tbody tr th {\n",
       "        vertical-align: top;\n",
       "    }\n",
       "\n",
       "    .dataframe thead th {\n",
       "        text-align: right;\n",
       "    }\n",
       "</style>\n",
       "<table border=\"1\" class=\"dataframe\">\n",
       "  <thead>\n",
       "    <tr style=\"text-align: right;\">\n",
       "      <th></th>\n",
       "      <th>Município</th>\n",
       "      <th>ano</th>\n",
       "      <th>mês</th>\n",
       "      <th>dia</th>\n",
       "      <th>hour</th>\n",
       "      <th>mm</th>\n",
       "    </tr>\n",
       "  </thead>\n",
       "  <tbody>\n",
       "    <tr>\n",
       "      <th>0</th>\n",
       "      <td>CALDAS</td>\n",
       "      <td>2007</td>\n",
       "      <td>7</td>\n",
       "      <td>28</td>\n",
       "      <td>7.0</td>\n",
       "      <td>0.0</td>\n",
       "    </tr>\n",
       "    <tr>\n",
       "      <th>1</th>\n",
       "      <td>CONCEICAO DAS ALAGOAS</td>\n",
       "      <td>2007</td>\n",
       "      <td>7</td>\n",
       "      <td>28</td>\n",
       "      <td>7.0</td>\n",
       "      <td>0.0</td>\n",
       "    </tr>\n",
       "    <tr>\n",
       "      <th>2</th>\n",
       "      <td>PASSA QUATRO</td>\n",
       "      <td>2007</td>\n",
       "      <td>7</td>\n",
       "      <td>28</td>\n",
       "      <td>7.0</td>\n",
       "      <td>0.0</td>\n",
       "    </tr>\n",
       "    <tr>\n",
       "      <th>3</th>\n",
       "      <td>CALDAS</td>\n",
       "      <td>2007</td>\n",
       "      <td>8</td>\n",
       "      <td>6</td>\n",
       "      <td>19.0</td>\n",
       "      <td>0.0</td>\n",
       "    </tr>\n",
       "    <tr>\n",
       "      <th>4</th>\n",
       "      <td>CONCEICAO DAS ALAGOAS</td>\n",
       "      <td>2007</td>\n",
       "      <td>8</td>\n",
       "      <td>6</td>\n",
       "      <td>19.0</td>\n",
       "      <td>0.0</td>\n",
       "    </tr>\n",
       "    <tr>\n",
       "      <th>...</th>\n",
       "      <td>...</td>\n",
       "      <td>...</td>\n",
       "      <td>...</td>\n",
       "      <td>...</td>\n",
       "      <td>...</td>\n",
       "      <td>...</td>\n",
       "    </tr>\n",
       "    <tr>\n",
       "      <th>191</th>\n",
       "      <td>CONCEICAO DAS ALAGOAS</td>\n",
       "      <td>2009</td>\n",
       "      <td>10</td>\n",
       "      <td>7</td>\n",
       "      <td>6.0</td>\n",
       "      <td>0.0</td>\n",
       "    </tr>\n",
       "    <tr>\n",
       "      <th>192</th>\n",
       "      <td>PASSA QUATRO</td>\n",
       "      <td>2009</td>\n",
       "      <td>10</td>\n",
       "      <td>7</td>\n",
       "      <td>6.0</td>\n",
       "      <td>0.0</td>\n",
       "    </tr>\n",
       "    <tr>\n",
       "      <th>193</th>\n",
       "      <td>CALDAS</td>\n",
       "      <td>2018</td>\n",
       "      <td>2</td>\n",
       "      <td>7</td>\n",
       "      <td>17.0</td>\n",
       "      <td>0.0</td>\n",
       "    </tr>\n",
       "    <tr>\n",
       "      <th>194</th>\n",
       "      <td>CONCEICAO DAS ALAGOAS</td>\n",
       "      <td>2018</td>\n",
       "      <td>2</td>\n",
       "      <td>7</td>\n",
       "      <td>17.0</td>\n",
       "      <td>0.0</td>\n",
       "    </tr>\n",
       "    <tr>\n",
       "      <th>195</th>\n",
       "      <td>PASSA QUATRO</td>\n",
       "      <td>2018</td>\n",
       "      <td>2</td>\n",
       "      <td>7</td>\n",
       "      <td>17.0</td>\n",
       "      <td>0.0</td>\n",
       "    </tr>\n",
       "  </tbody>\n",
       "</table>\n",
       "<p>196 rows × 6 columns</p>\n",
       "</div>"
      ],
      "text/plain": [
       "                 Município   ano  mês  dia  hour   mm\n",
       "0                   CALDAS  2007    7   28   7.0  0.0\n",
       "1    CONCEICAO DAS ALAGOAS  2007    7   28   7.0  0.0\n",
       "2             PASSA QUATRO  2007    7   28   7.0  0.0\n",
       "3                   CALDAS  2007    8    6  19.0  0.0\n",
       "4    CONCEICAO DAS ALAGOAS  2007    8    6  19.0  0.0\n",
       "..                     ...   ...  ...  ...   ...  ...\n",
       "191  CONCEICAO DAS ALAGOAS  2009   10    7   6.0  0.0\n",
       "192           PASSA QUATRO  2009   10    7   6.0  0.0\n",
       "193                 CALDAS  2018    2    7  17.0  0.0\n",
       "194  CONCEICAO DAS ALAGOAS  2018    2    7  17.0  0.0\n",
       "195           PASSA QUATRO  2018    2    7  17.0  0.0\n",
       "\n",
       "[196 rows x 6 columns]"
      ]
     },
     "execution_count": 20,
     "metadata": {},
     "output_type": "execute_result"
    }
   ],
   "source": [
    "chuvas_m_r_pa_isna_corr_2=chuvas_m_r_pa_isna_2.drop(columns='mm').merge(corr_2,how='outer')\n",
    "chuvas_m_r_pa_isna_corr_2=chuvas_m_r_pa_isna_corr_2[~chuvas_m_r_pa_isna_corr_2.Município.isna()]\n",
    "chuvas_m_r_pa_isna_corr_2"
   ]
  },
  {
   "cell_type": "code",
   "execution_count": 21,
   "id": "214a8af9-ccf6-40f1-89b7-8f6b9ca05974",
   "metadata": {},
   "outputs": [
    {
     "data": {
      "text/html": [
       "<div>\n",
       "<style scoped>\n",
       "    .dataframe tbody tr th:only-of-type {\n",
       "        vertical-align: middle;\n",
       "    }\n",
       "\n",
       "    .dataframe tbody tr th {\n",
       "        vertical-align: top;\n",
       "    }\n",
       "\n",
       "    .dataframe thead th {\n",
       "        text-align: right;\n",
       "    }\n",
       "</style>\n",
       "<table border=\"1\" class=\"dataframe\">\n",
       "  <thead>\n",
       "    <tr style=\"text-align: right;\">\n",
       "      <th></th>\n",
       "      <th>Município</th>\n",
       "      <th>ano</th>\n",
       "      <th>mês</th>\n",
       "      <th>dia</th>\n",
       "      <th>hour</th>\n",
       "      <th>mm</th>\n",
       "    </tr>\n",
       "  </thead>\n",
       "  <tbody>\n",
       "    <tr>\n",
       "      <th>0</th>\n",
       "      <td>CALDAS</td>\n",
       "      <td>2014</td>\n",
       "      <td>9</td>\n",
       "      <td>20</td>\n",
       "      <td>13</td>\n",
       "      <td>NaN</td>\n",
       "    </tr>\n",
       "    <tr>\n",
       "      <th>1</th>\n",
       "      <td>CALDAS</td>\n",
       "      <td>2007</td>\n",
       "      <td>10</td>\n",
       "      <td>24</td>\n",
       "      <td>23</td>\n",
       "      <td>NaN</td>\n",
       "    </tr>\n",
       "    <tr>\n",
       "      <th>2</th>\n",
       "      <td>CALDAS</td>\n",
       "      <td>2007</td>\n",
       "      <td>10</td>\n",
       "      <td>25</td>\n",
       "      <td>0</td>\n",
       "      <td>NaN</td>\n",
       "    </tr>\n",
       "    <tr>\n",
       "      <th>3</th>\n",
       "      <td>CALDAS</td>\n",
       "      <td>2007</td>\n",
       "      <td>10</td>\n",
       "      <td>25</td>\n",
       "      <td>1</td>\n",
       "      <td>NaN</td>\n",
       "    </tr>\n",
       "    <tr>\n",
       "      <th>4</th>\n",
       "      <td>CALDAS</td>\n",
       "      <td>2007</td>\n",
       "      <td>10</td>\n",
       "      <td>25</td>\n",
       "      <td>2</td>\n",
       "      <td>NaN</td>\n",
       "    </tr>\n",
       "    <tr>\n",
       "      <th>...</th>\n",
       "      <td>...</td>\n",
       "      <td>...</td>\n",
       "      <td>...</td>\n",
       "      <td>...</td>\n",
       "      <td>...</td>\n",
       "      <td>...</td>\n",
       "    </tr>\n",
       "    <tr>\n",
       "      <th>25102</th>\n",
       "      <td>PASSA QUATRO</td>\n",
       "      <td>2008</td>\n",
       "      <td>2</td>\n",
       "      <td>20</td>\n",
       "      <td>6</td>\n",
       "      <td>NaN</td>\n",
       "    </tr>\n",
       "    <tr>\n",
       "      <th>25103</th>\n",
       "      <td>PASSA QUATRO</td>\n",
       "      <td>2008</td>\n",
       "      <td>2</td>\n",
       "      <td>20</td>\n",
       "      <td>5</td>\n",
       "      <td>NaN</td>\n",
       "    </tr>\n",
       "    <tr>\n",
       "      <th>25104</th>\n",
       "      <td>PASSA QUATRO</td>\n",
       "      <td>2008</td>\n",
       "      <td>2</td>\n",
       "      <td>20</td>\n",
       "      <td>4</td>\n",
       "      <td>NaN</td>\n",
       "    </tr>\n",
       "    <tr>\n",
       "      <th>25105</th>\n",
       "      <td>PASSA QUATRO</td>\n",
       "      <td>2008</td>\n",
       "      <td>2</td>\n",
       "      <td>20</td>\n",
       "      <td>3</td>\n",
       "      <td>NaN</td>\n",
       "    </tr>\n",
       "    <tr>\n",
       "      <th>25106</th>\n",
       "      <td>PASSA QUATRO</td>\n",
       "      <td>2008</td>\n",
       "      <td>3</td>\n",
       "      <td>1</td>\n",
       "      <td>3</td>\n",
       "      <td>NaN</td>\n",
       "    </tr>\n",
       "  </tbody>\n",
       "</table>\n",
       "<p>25107 rows × 6 columns</p>\n",
       "</div>"
      ],
      "text/plain": [
       "          Município   ano  mês  dia  hour  mm\n",
       "0            CALDAS  2014    9   20    13 NaN\n",
       "1            CALDAS  2007   10   24    23 NaN\n",
       "2            CALDAS  2007   10   25     0 NaN\n",
       "3            CALDAS  2007   10   25     1 NaN\n",
       "4            CALDAS  2007   10   25     2 NaN\n",
       "...             ...   ...  ...  ...   ...  ..\n",
       "25102  PASSA QUATRO  2008    2   20     6 NaN\n",
       "25103  PASSA QUATRO  2008    2   20     5 NaN\n",
       "25104  PASSA QUATRO  2008    2   20     4 NaN\n",
       "25105  PASSA QUATRO  2008    2   20     3 NaN\n",
       "25106  PASSA QUATRO  2008    3    1     3 NaN\n",
       "\n",
       "[25107 rows x 6 columns]"
      ]
     },
     "execution_count": 21,
     "metadata": {},
     "output_type": "execute_result"
    }
   ],
   "source": [
    "chuvas_m_r_pa_isna_2=chuvas_m_r_pa_isna.merge(corr_1,how='left')\n",
    "chuvas_m_r_pa_isna_2.sort_values('mm')"
   ]
  },
  {
   "cell_type": "code",
   "execution_count": 22,
   "id": "2ae202d2-cba0-4dd9-bdb9-54dddd2d2fa2",
   "metadata": {},
   "outputs": [
    {
     "data": {
      "text/plain": [
       "196"
      ]
     },
     "execution_count": 22,
     "metadata": {},
     "output_type": "execute_result"
    }
   ],
   "source": [
    "len(chuvas_m_r_pa_isna_corr_2.dropna())"
   ]
  },
  {
   "cell_type": "code",
   "execution_count": 23,
   "id": "44ed1f8b-5674-41e5-b77c-0f831f234e42",
   "metadata": {},
   "outputs": [
    {
     "data": {
      "text/html": [
       "<div>\n",
       "<style scoped>\n",
       "    .dataframe tbody tr th:only-of-type {\n",
       "        vertical-align: middle;\n",
       "    }\n",
       "\n",
       "    .dataframe tbody tr th {\n",
       "        vertical-align: top;\n",
       "    }\n",
       "\n",
       "    .dataframe thead th {\n",
       "        text-align: right;\n",
       "    }\n",
       "</style>\n",
       "<table border=\"1\" class=\"dataframe\">\n",
       "  <thead>\n",
       "    <tr style=\"text-align: right;\">\n",
       "      <th></th>\n",
       "      <th>Município</th>\n",
       "      <th>ano</th>\n",
       "      <th>mês</th>\n",
       "      <th>dia</th>\n",
       "      <th>hour</th>\n",
       "      <th>mm</th>\n",
       "    </tr>\n",
       "  </thead>\n",
       "  <tbody>\n",
       "    <tr>\n",
       "      <th>0</th>\n",
       "      <td>CALDAS</td>\n",
       "      <td>2007</td>\n",
       "      <td>7</td>\n",
       "      <td>28</td>\n",
       "      <td>7.0</td>\n",
       "      <td>0.0</td>\n",
       "    </tr>\n",
       "    <tr>\n",
       "      <th>1</th>\n",
       "      <td>CONCEICAO DAS ALAGOAS</td>\n",
       "      <td>2007</td>\n",
       "      <td>7</td>\n",
       "      <td>28</td>\n",
       "      <td>7.0</td>\n",
       "      <td>0.0</td>\n",
       "    </tr>\n",
       "    <tr>\n",
       "      <th>2</th>\n",
       "      <td>PASSA QUATRO</td>\n",
       "      <td>2007</td>\n",
       "      <td>7</td>\n",
       "      <td>28</td>\n",
       "      <td>7.0</td>\n",
       "      <td>0.0</td>\n",
       "    </tr>\n",
       "    <tr>\n",
       "      <th>3</th>\n",
       "      <td>CALDAS</td>\n",
       "      <td>2007</td>\n",
       "      <td>8</td>\n",
       "      <td>6</td>\n",
       "      <td>19.0</td>\n",
       "      <td>0.0</td>\n",
       "    </tr>\n",
       "    <tr>\n",
       "      <th>4</th>\n",
       "      <td>CONCEICAO DAS ALAGOAS</td>\n",
       "      <td>2007</td>\n",
       "      <td>8</td>\n",
       "      <td>6</td>\n",
       "      <td>19.0</td>\n",
       "      <td>0.0</td>\n",
       "    </tr>\n",
       "    <tr>\n",
       "      <th>...</th>\n",
       "      <td>...</td>\n",
       "      <td>...</td>\n",
       "      <td>...</td>\n",
       "      <td>...</td>\n",
       "      <td>...</td>\n",
       "      <td>...</td>\n",
       "    </tr>\n",
       "    <tr>\n",
       "      <th>191</th>\n",
       "      <td>CONCEICAO DAS ALAGOAS</td>\n",
       "      <td>2009</td>\n",
       "      <td>10</td>\n",
       "      <td>7</td>\n",
       "      <td>6.0</td>\n",
       "      <td>0.0</td>\n",
       "    </tr>\n",
       "    <tr>\n",
       "      <th>192</th>\n",
       "      <td>PASSA QUATRO</td>\n",
       "      <td>2009</td>\n",
       "      <td>10</td>\n",
       "      <td>7</td>\n",
       "      <td>6.0</td>\n",
       "      <td>0.0</td>\n",
       "    </tr>\n",
       "    <tr>\n",
       "      <th>193</th>\n",
       "      <td>CALDAS</td>\n",
       "      <td>2018</td>\n",
       "      <td>2</td>\n",
       "      <td>7</td>\n",
       "      <td>17.0</td>\n",
       "      <td>0.0</td>\n",
       "    </tr>\n",
       "    <tr>\n",
       "      <th>194</th>\n",
       "      <td>CONCEICAO DAS ALAGOAS</td>\n",
       "      <td>2018</td>\n",
       "      <td>2</td>\n",
       "      <td>7</td>\n",
       "      <td>17.0</td>\n",
       "      <td>0.0</td>\n",
       "    </tr>\n",
       "    <tr>\n",
       "      <th>195</th>\n",
       "      <td>PASSA QUATRO</td>\n",
       "      <td>2018</td>\n",
       "      <td>2</td>\n",
       "      <td>7</td>\n",
       "      <td>17.0</td>\n",
       "      <td>0.0</td>\n",
       "    </tr>\n",
       "  </tbody>\n",
       "</table>\n",
       "<p>196 rows × 6 columns</p>\n",
       "</div>"
      ],
      "text/plain": [
       "                 Município   ano  mês  dia  hour   mm\n",
       "0                   CALDAS  2007    7   28   7.0  0.0\n",
       "1    CONCEICAO DAS ALAGOAS  2007    7   28   7.0  0.0\n",
       "2             PASSA QUATRO  2007    7   28   7.0  0.0\n",
       "3                   CALDAS  2007    8    6  19.0  0.0\n",
       "4    CONCEICAO DAS ALAGOAS  2007    8    6  19.0  0.0\n",
       "..                     ...   ...  ...  ...   ...  ...\n",
       "191  CONCEICAO DAS ALAGOAS  2009   10    7   6.0  0.0\n",
       "192           PASSA QUATRO  2009   10    7   6.0  0.0\n",
       "193                 CALDAS  2018    2    7  17.0  0.0\n",
       "194  CONCEICAO DAS ALAGOAS  2018    2    7  17.0  0.0\n",
       "195           PASSA QUATRO  2018    2    7  17.0  0.0\n",
       "\n",
       "[196 rows x 6 columns]"
      ]
     },
     "execution_count": 23,
     "metadata": {},
     "output_type": "execute_result"
    }
   ],
   "source": [
    "chuvas_m_r_pa_corr_2=chuvas_m_r_pa_isna_corr_2[~chuvas_m_r_pa_isna_corr_2.mm.isna()]\n",
    "chuvas_m_r_pa_corr_2"
   ]
  },
  {
   "cell_type": "code",
   "execution_count": 24,
   "id": "0f0819ec-6433-40aa-afb4-5ff9525aecfa",
   "metadata": {},
   "outputs": [
    {
     "data": {
      "text/html": [
       "<div>\n",
       "<style scoped>\n",
       "    .dataframe tbody tr th:only-of-type {\n",
       "        vertical-align: middle;\n",
       "    }\n",
       "\n",
       "    .dataframe tbody tr th {\n",
       "        vertical-align: top;\n",
       "    }\n",
       "\n",
       "    .dataframe thead th {\n",
       "        text-align: right;\n",
       "    }\n",
       "</style>\n",
       "<table border=\"1\" class=\"dataframe\">\n",
       "  <thead>\n",
       "    <tr style=\"text-align: right;\">\n",
       "      <th></th>\n",
       "      <th>Município</th>\n",
       "      <th>ano</th>\n",
       "      <th>mês</th>\n",
       "      <th>dia</th>\n",
       "      <th>hour</th>\n",
       "      <th>mm</th>\n",
       "    </tr>\n",
       "  </thead>\n",
       "  <tbody>\n",
       "  </tbody>\n",
       "</table>\n",
       "</div>"
      ],
      "text/plain": [
       "Empty DataFrame\n",
       "Columns: [Município, ano, mês, dia, hour, mm]\n",
       "Index: []"
      ]
     },
     "execution_count": 24,
     "metadata": {},
     "output_type": "execute_result"
    }
   ],
   "source": [
    "chuvas_m_r_pa_isna_2=chuvas_m_r_pa_isna_corr_2[chuvas_m_r_pa_isna_corr_2.mm.isna()]\n",
    "chuvas_m_r_pa_isna_2"
   ]
  },
  {
   "cell_type": "code",
   "execution_count": 25,
   "id": "0e593fb7-14bc-44bf-8ef2-3e826724a53a",
   "metadata": {},
   "outputs": [
    {
     "data": {
      "text/plain": [
       "Município    0\n",
       "ano          0\n",
       "mês          0\n",
       "dia          0\n",
       "hour         0\n",
       "mm           0\n",
       "dtype: int64"
      ]
     },
     "execution_count": 25,
     "metadata": {},
     "output_type": "execute_result"
    }
   ],
   "source": [
    "pd.concat([chuvas_m_r_pa_notna,chuvas_m_r_pa_corr_1,chuvas_m_r_pa_corr_2]).isna().sum()"
   ]
  },
  {
   "cell_type": "code",
   "execution_count": 26,
   "id": "06d355d7-2fa3-4c0b-a16f-d6577dde20a0",
   "metadata": {},
   "outputs": [
    {
     "data": {
      "text/plain": [
       "Município    0\n",
       "ano          0\n",
       "mês          0\n",
       "dia          0\n",
       "hour         0\n",
       "mm           0\n",
       "dtype: int64"
      ]
     },
     "execution_count": 26,
     "metadata": {},
     "output_type": "execute_result"
    }
   ],
   "source": [
    "chuvas_m_r_pa_clean=pd.concat([chuvas_m_r_pa_notna,chuvas_m_r_pa_corr_1,chuvas_m_r_pa_corr_2])\n",
    "chuvas_m_r_pa_clean.isna().sum()"
   ]
  },
  {
   "cell_type": "code",
   "execution_count": 27,
   "id": "2f40e7e9-de78-480a-a90e-1d41929e07b8",
   "metadata": {},
   "outputs": [
    {
     "data": {
      "text/plain": [
       "0"
      ]
     },
     "execution_count": 27,
     "metadata": {},
     "output_type": "execute_result"
    }
   ],
   "source": [
    "chuvas_m_r_pa_clean.iloc[:,:5].duplicated().sum()"
   ]
  },
  {
   "cell_type": "code",
   "execution_count": 28,
   "id": "82a11254-b3bc-4741-bf09-705d39372886",
   "metadata": {},
   "outputs": [
    {
     "data": {
      "text/plain": [
       "<seaborn.axisgrid.FacetGrid at 0x79e33dad7a50>"
      ]
     },
     "execution_count": 28,
     "metadata": {},
     "output_type": "execute_result"
    },
    {
     "data": {
      "image/png": "[encoded data removed]",
      "text/plain": [
       "<Figure size 500x500 with 1 Axes>"
      ]
     },
     "metadata": {},
     "output_type": "display_data"
    }
   ],
   "source": [
    "sns.displot(data=chuvas_m_r_pa_clean[chuvas_m_r_pa_clean.mm>0],x='mm',log_scale=True, bins=10)"
   ]
  },
  {
   "cell_type": "markdown",
   "id": "223dc486-e43d-40e9-aca5-8e734d4cfc77",
   "metadata": {},
   "source": [
    "Os dados não parecem normalmente distribuidos. Os demais dados meteorológicos poderão servir para identificar clusters de chuvas e auxiliar normalização. Porém isso não será feito agora."
   ]
  },
  {
   "cell_type": "markdown",
   "id": "ac982d64-9a45-4f33-9aa1-76c56f4ddd8f",
   "metadata": {},
   "source": [
    "Agrupando para igualar a unidade de tempo com os demais dados do projeto."
   ]
  },
  {
   "cell_type": "code",
   "execution_count": 29,
   "id": "6deb1b17-7434-45dd-8f0c-84ddff127018",
   "metadata": {},
   "outputs": [
    {
     "data": {
      "text/html": [
       "<div>\n",
       "<style scoped>\n",
       "    .dataframe tbody tr th:only-of-type {\n",
       "        vertical-align: middle;\n",
       "    }\n",
       "\n",
       "    .dataframe tbody tr th {\n",
       "        vertical-align: top;\n",
       "    }\n",
       "\n",
       "    .dataframe thead th {\n",
       "        text-align: right;\n",
       "    }\n",
       "</style>\n",
       "<table border=\"1\" class=\"dataframe\">\n",
       "  <thead>\n",
       "    <tr style=\"text-align: right;\">\n",
       "      <th></th>\n",
       "      <th>Município</th>\n",
       "      <th>ano</th>\n",
       "      <th>mês</th>\n",
       "      <th>dia</th>\n",
       "      <th>hour</th>\n",
       "      <th>mm</th>\n",
       "    </tr>\n",
       "  </thead>\n",
       "  <tbody>\n",
       "    <tr>\n",
       "      <th>448295</th>\n",
       "      <td>CALDAS</td>\n",
       "      <td>2019</td>\n",
       "      <td>12</td>\n",
       "      <td>31</td>\n",
       "      <td>23.0</td>\n",
       "      <td>0.0</td>\n",
       "    </tr>\n",
       "  </tbody>\n",
       "</table>\n",
       "</div>"
      ],
      "text/plain": [
       "       Município   ano  mês  dia  hour   mm\n",
       "448295    CALDAS  2019   12   31  23.0  0.0"
      ]
     },
     "execution_count": 29,
     "metadata": {},
     "output_type": "execute_result"
    }
   ],
   "source": [
    "chuvas_m_r_pa_clean.head(1)"
   ]
  },
  {
   "cell_type": "code",
   "execution_count": 30,
   "id": "3146ca45-b9a3-422a-aa75-8d85528ae52a",
   "metadata": {},
   "outputs": [
    {
     "data": {
      "text/html": [
       "<div>\n",
       "<style scoped>\n",
       "    .dataframe tbody tr th:only-of-type {\n",
       "        vertical-align: middle;\n",
       "    }\n",
       "\n",
       "    .dataframe tbody tr th {\n",
       "        vertical-align: top;\n",
       "    }\n",
       "\n",
       "    .dataframe thead th {\n",
       "        text-align: right;\n",
       "    }\n",
       "</style>\n",
       "<table border=\"1\" class=\"dataframe\">\n",
       "  <thead>\n",
       "    <tr style=\"text-align: right;\">\n",
       "      <th></th>\n",
       "      <th>Município</th>\n",
       "      <th>ano</th>\n",
       "      <th>mês</th>\n",
       "      <th>mm</th>\n",
       "    </tr>\n",
       "  </thead>\n",
       "  <tbody>\n",
       "    <tr>\n",
       "      <th>0</th>\n",
       "      <td>CALDAS</td>\n",
       "      <td>2007</td>\n",
       "      <td>5</td>\n",
       "      <td>63.8</td>\n",
       "    </tr>\n",
       "    <tr>\n",
       "      <th>1</th>\n",
       "      <td>CALDAS</td>\n",
       "      <td>2007</td>\n",
       "      <td>6</td>\n",
       "      <td>14.2</td>\n",
       "    </tr>\n",
       "    <tr>\n",
       "      <th>2</th>\n",
       "      <td>CALDAS</td>\n",
       "      <td>2007</td>\n",
       "      <td>7</td>\n",
       "      <td>130.6</td>\n",
       "    </tr>\n",
       "    <tr>\n",
       "      <th>3</th>\n",
       "      <td>CALDAS</td>\n",
       "      <td>2007</td>\n",
       "      <td>8</td>\n",
       "      <td>0.4</td>\n",
       "    </tr>\n",
       "    <tr>\n",
       "      <th>4</th>\n",
       "      <td>CALDAS</td>\n",
       "      <td>2007</td>\n",
       "      <td>9</td>\n",
       "      <td>12.0</td>\n",
       "    </tr>\n",
       "  </tbody>\n",
       "</table>\n",
       "</div>"
      ],
      "text/plain": [
       "  Município   ano  mês     mm\n",
       "0    CALDAS  2007    5   63.8\n",
       "1    CALDAS  2007    6   14.2\n",
       "2    CALDAS  2007    7  130.6\n",
       "3    CALDAS  2007    8    0.4\n",
       "4    CALDAS  2007    9   12.0"
      ]
     },
     "execution_count": 30,
     "metadata": {},
     "output_type": "execute_result"
    }
   ],
   "source": [
    "chuvas_m_r_pa_clean=chuvas_m_r_pa_clean.groupby(by=chuvas_m_r_pa_clean.columns[:3].tolist())[chuvas_m_r_pa_clean.columns[5:].tolist()].sum().reset_index()\n",
    "chuvas_m_r_pa_clean.head()"
   ]
  },
  {
   "cell_type": "markdown",
   "id": "7601cc22-d8dd-4d95-ad73-fd5fa3e7229c",
   "metadata": {},
   "source": [
    "Obtendo a Matriz Esparsa"
   ]
  },
  {
   "cell_type": "code",
   "execution_count": 31,
   "id": "a5a72339-8016-463e-bd57-75296783204b",
   "metadata": {},
   "outputs": [
    {
     "data": {
      "text/html": [
       "<div>\n",
       "<style scoped>\n",
       "    .dataframe tbody tr th:only-of-type {\n",
       "        vertical-align: middle;\n",
       "    }\n",
       "\n",
       "    .dataframe tbody tr th {\n",
       "        vertical-align: top;\n",
       "    }\n",
       "\n",
       "    .dataframe thead th {\n",
       "        text-align: right;\n",
       "    }\n",
       "</style>\n",
       "<table border=\"1\" class=\"dataframe\">\n",
       "  <thead>\n",
       "    <tr style=\"text-align: right;\">\n",
       "      <th></th>\n",
       "      <th>Município</th>\n",
       "      <th>ano</th>\n",
       "      <th>mês</th>\n",
       "      <th>mm</th>\n",
       "    </tr>\n",
       "  </thead>\n",
       "  <tbody>\n",
       "    <tr>\n",
       "      <th>0</th>\n",
       "      <td>CALDAS</td>\n",
       "      <td>2007</td>\n",
       "      <td>5</td>\n",
       "      <td>63.8</td>\n",
       "    </tr>\n",
       "  </tbody>\n",
       "</table>\n",
       "</div>"
      ],
      "text/plain": [
       "  Município   ano  mês    mm\n",
       "0    CALDAS  2007    5  63.8"
      ]
     },
     "execution_count": 31,
     "metadata": {},
     "output_type": "execute_result"
    }
   ],
   "source": [
    "chuvas_m_r_pa_clean.head(1)"
   ]
  },
  {
   "cell_type": "code",
   "execution_count": 32,
   "id": "e2c4e097-e36b-42da-9ad0-7116a9196f2c",
   "metadata": {},
   "outputs": [],
   "source": [
    "chuvas_m_r_pa_clean.iloc[:,:3]=chuvas_m_r_pa_clean.iloc[:,:3].astype('category')"
   ]
  },
  {
   "cell_type": "code",
   "execution_count": 33,
   "id": "9c5001bf-c33e-4195-ad52-42bc62336fed",
   "metadata": {},
   "outputs": [
    {
     "data": {
      "image/png": "[encoded data removed]",
      "text/plain": [
       "<Figure size 500x500 with 1 Axes>"
      ]
     },
     "metadata": {},
     "output_type": "display_data"
    }
   ],
   "source": [
    "sns.displot(data=chuvas_m_r_pa_clean[chuvas_m_r_pa_clean.mm>0],x='mm',log_scale=True,bins=15).fig.suptitle('Precipitação Mensal\\n\\\n",
    "na Região de Pouso Alegre',y=1.01)\n",
    "plt.show()"
   ]
  },
  {
   "cell_type": "markdown",
   "id": "80b1c977-09df-452b-b753-1fa3574ed07a",
   "metadata": {},
   "source": [
    "A distribuição das chuvas foi considerada normal."
   ]
  },
  {
   "cell_type": "code",
   "execution_count": 34,
   "id": "880d1aca-d788-476e-99a0-95c8d37c3ee3",
   "metadata": {},
   "outputs": [
    {
     "name": "stdout",
     "output_type": "stream",
     "text": [
      "<class 'pandas.core.frame.DataFrame'>\n",
      "RangeIndex: 612 entries, 0 to 611\n",
      "Data columns (total 4 columns):\n",
      " #   Column     Non-Null Count  Dtype   \n",
      "---  ------     --------------  -----   \n",
      " 0   Município  612 non-null    object  \n",
      " 1   ano        612 non-null    category\n",
      " 2   mês        612 non-null    category\n",
      " 3   mm         612 non-null    float64 \n",
      "dtypes: category(2), float64(1), object(1)\n",
      "memory usage: 11.9+ KB\n"
     ]
    }
   ],
   "source": [
    "chuvas_m_r_pa_sprx=chuvas_m_r_pa_clean.groupby(by=chuvas_m_r_pa_clean.columns[:3].tolist())[chuvas_m_r_pa_clean.columns[3:].tolist()].sum().reset_index()\n",
    "chuvas_m_r_pa_sprx.info()"
   ]
  },
  {
   "cell_type": "code",
   "execution_count": 35,
   "id": "a28842a7-3f6f-4c39-ba79-d89108742db0",
   "metadata": {},
   "outputs": [],
   "source": [
    "chuvas_m_r_pa_sprx['date']=pd.to_datetime(chuvas_m_r_pa_sprx.ano.astype(str)+'/'+chuvas_m_r_pa_sprx.mês.astype(str)+'/1')"
   ]
  },
  {
   "cell_type": "code",
   "execution_count": 36,
   "id": "2505aa06-9441-4653-83a8-044b5be757f6",
   "metadata": {},
   "outputs": [],
   "source": [
    "chuvas_m_r_pa_sprx=chuvas_m_r_pa_sprx[chuvas_m_r_pa_sprx.date>=primeira_data]"
   ]
  },
  {
   "cell_type": "code",
   "execution_count": 37,
   "id": "c86e92bc-3fbc-4b4a-8bbd-3285617f8cba",
   "metadata": {},
   "outputs": [
    {
     "data": {
      "text/plain": [
       "Timestamp('2023-12-01 00:00:00')"
      ]
     },
     "execution_count": 37,
     "metadata": {},
     "output_type": "execute_result"
    }
   ],
   "source": [
    "última_data=chuvas_m_r_pa_sprx.groupby('Município')[['date']].max().reset_index().date.min()\n",
    "última_data"
   ]
  },
  {
   "cell_type": "code",
   "execution_count": 38,
   "id": "14fa9b49-a9d5-46dd-9509-050d9936f595",
   "metadata": {},
   "outputs": [],
   "source": [
    "chuvas_m_r_pa_sprx=chuvas_m_r_pa_sprx[chuvas_m_r_pa_sprx.date<=última_data]"
   ]
  },
  {
   "cell_type": "code",
   "execution_count": null,
   "id": "08bd8495-123f-4ac8-9cfc-2762b5397c3b",
   "metadata": {},
   "outputs": [],
   "source": []
  },
  {
   "cell_type": "code",
   "execution_count": 39,
   "id": "f3bc3feb-9f99-4177-b8c5-46671c24daed",
   "metadata": {},
   "outputs": [
    {
     "ename": "AttributeError",
     "evalue": "'function' object has no attribute 'title'",
     "output_type": "error",
     "traceback": [
      "\u001b[0;31m---------------------------------------------------------------------------\u001b[0m",
      "\u001b[0;31mAttributeError\u001b[0m                            Traceback (most recent call last)",
      "Cell \u001b[0;32mIn[39], line 1\u001b[0m\n\u001b[0;32m----> 1\u001b[0m sns\u001b[38;5;241m.\u001b[39mlineplot(data\u001b[38;5;241m=\u001b[39mchuvas_m_r_pa_sprx,x\u001b[38;5;241m=\u001b[39m\u001b[38;5;124m'\u001b[39m\u001b[38;5;124mdate\u001b[39m\u001b[38;5;124m'\u001b[39m,y\u001b[38;5;241m=\u001b[39m\u001b[38;5;124m'\u001b[39m\u001b[38;5;124mmm\u001b[39m\u001b[38;5;124m'\u001b[39m, hue\u001b[38;5;241m=\u001b[39m\u001b[38;5;124m'\u001b[39m\u001b[38;5;124mMunicípio\u001b[39m\u001b[38;5;124m'\u001b[39m)\u001b[38;5;241m.\u001b[39mset\u001b[38;5;241m.\u001b[39mtitle(\u001b[38;5;124m'\u001b[39m\u001b[38;5;124mx\u001b[39m\u001b[38;5;124m'\u001b[39m)\n",
      "\u001b[0;31mAttributeError\u001b[0m: 'function' object has no attribute 'title'"
     ]
    },
    {
     "data": {
      "image/png": "[encoded data removed]",
      "text/plain": [
       "<Figure size 640x480 with 1 Axes>"
      ]
     },
     "metadata": {},
     "output_type": "display_data"
    }
   ],
   "source": [
    "sns.lineplot(data=chuvas_m_r_pa_sprx,x='date',y='mm', hue='Município').set.title('x')"
   ]
  },
  {
   "cell_type": "code",
   "execution_count": null,
   "id": "fb1b3a77-5eab-4779-b4c1-6f935b73146b",
   "metadata": {},
   "outputs": [],
   "source": []
  },
  {
   "cell_type": "code",
   "execution_count": null,
   "id": "19d0530d-497c-41b1-802d-9b86f370f258",
   "metadata": {},
   "outputs": [],
   "source": [
    "chuvas_m_r_pa_sprx=chuvas_m_r_pa_sprx.drop(columns='date')\n",
    "chuvas_m_r_pa_sprx"
   ]
  },
  {
   "cell_type": "code",
   "execution_count": null,
   "id": "bed25dbd-e4ec-4d7a-b08d-dff3184e4ecf",
   "metadata": {},
   "outputs": [],
   "source": [
    "chuvas_m_r_pa_sprx.to_csv('~/git/Importacao-por-SH-e-Municipio/temp/chuvas_m_r_pa_sprx.csv',index=False)"
   ]
  },
  {
   "cell_type": "code",
   "execution_count": null,
   "id": "b7ec3aa9-af04-4865-9d5b-530f82cc83e5",
   "metadata": {},
   "outputs": [],
   "source": [
    "chuvas_m_r_pa_sprx"
   ]
  }
 ],
 "metadata": {
  "kernelspec": {
   "display_name": "Python 3 (ipykernel)",
   "language": "python",
   "name": "python3"
  },
  "language_info": {
   "codemirror_mode": {
    "name": "ipython",
    "version": 3
   },
   "file_extension": ".py",
   "mimetype": "text/x-python",
   "name": "python",
   "nbconvert_exporter": "python",
   "pygments_lexer": "ipython3",
   "version": "3.11.5"
  }
 },
 "nbformat": 4,
 "nbformat_minor": 5
}
