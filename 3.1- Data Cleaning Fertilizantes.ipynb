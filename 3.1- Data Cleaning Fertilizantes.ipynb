{
 "cells": [
  {
   "cell_type": "markdown",
   "id": "520353b2-2db2-42d7-a801-e5e8c463d6e1",
   "metadata": {},
   "source": [
    "# 1- Importação de Fertilizantes por Município da Região de Pouso Alegre"
   ]
  },
  {
   "cell_type": "code",
   "execution_count": 1,
   "id": "53ab2fc5-dcde-4b81-82e3-b22485b17679",
   "metadata": {},
   "outputs": [],
   "source": [
    "%run '~/git/Bibliotecas.ipynb'"
   ]
  },
  {
   "cell_type": "code",
   "execution_count": 2,
   "id": "10b57946-49f0-4ca1-af83-723a54e143c5",
   "metadata": {},
   "outputs": [],
   "source": [
    "i_f_m_r_pa=pd.read_csv('~/git/comex_sh_mun/temp/i_f_m_r_pa.csv')"
   ]
  },
  {
   "cell_type": "code",
   "execution_count": 3,
   "id": "ddecaed5-cc77-4254-bab6-04e9e31bb63f",
   "metadata": {},
   "outputs": [
    {
     "data": {
      "text/html": [
       "<div>\n",
       "<style scoped>\n",
       "    .dataframe tbody tr th:only-of-type {\n",
       "        vertical-align: middle;\n",
       "    }\n",
       "\n",
       "    .dataframe tbody tr th {\n",
       "        vertical-align: top;\n",
       "    }\n",
       "\n",
       "    .dataframe thead th {\n",
       "        text-align: right;\n",
       "    }\n",
       "</style>\n",
       "<table border=\"1\" class=\"dataframe\">\n",
       "  <thead>\n",
       "    <tr style=\"text-align: right;\">\n",
       "      <th></th>\n",
       "      <th>CO_MUN</th>\n",
       "      <th>NO_MUN</th>\n",
       "      <th>NO_MUN_MIN</th>\n",
       "      <th>SG_UF</th>\n",
       "      <th>CO_ANO</th>\n",
       "      <th>CO_MES</th>\n",
       "      <th>SH4</th>\n",
       "      <th>CO_PAIS</th>\n",
       "      <th>SG_UF_MUN</th>\n",
       "      <th>KG_LIQUIDO</th>\n",
       "      <th>VL_FOB</th>\n",
       "      <th>NO_SH4_POR</th>\n",
       "      <th>CO_SH2</th>\n",
       "      <th>NO_SH2_POR</th>\n",
       "    </tr>\n",
       "  </thead>\n",
       "  <tbody>\n",
       "    <tr>\n",
       "      <th>0</th>\n",
       "      <td>3125101</td>\n",
       "      <td>EXTREMA</td>\n",
       "      <td>Extrema</td>\n",
       "      <td>MG</td>\n",
       "      <td>2003</td>\n",
       "      <td>9</td>\n",
       "      <td>3105</td>\n",
       "      <td>493</td>\n",
       "      <td>MG</td>\n",
       "      <td>1000</td>\n",
       "      <td>323</td>\n",
       "      <td>Adubos (fertilizantes) minerais ou químicos, c...</td>\n",
       "      <td>31</td>\n",
       "      <td>Adubos (fertilizantes)</td>\n",
       "    </tr>\n",
       "  </tbody>\n",
       "</table>\n",
       "</div>"
      ],
      "text/plain": [
       "    CO_MUN   NO_MUN NO_MUN_MIN SG_UF  CO_ANO  CO_MES   SH4  CO_PAIS SG_UF_MUN  \\\n",
       "0  3125101  EXTREMA    Extrema    MG    2003       9  3105      493        MG   \n",
       "\n",
       "   KG_LIQUIDO  VL_FOB                                         NO_SH4_POR  \\\n",
       "0        1000     323  Adubos (fertilizantes) minerais ou químicos, c...   \n",
       "\n",
       "   CO_SH2              NO_SH2_POR  \n",
       "0      31  Adubos (fertilizantes)  "
      ]
     },
     "execution_count": 3,
     "metadata": {},
     "output_type": "execute_result"
    }
   ],
   "source": [
    "i_f_m_r_pa.head(1)"
   ]
  },
  {
   "cell_type": "code",
   "execution_count": null,
   "id": "e8d0d0d6-ee6b-4e49-96d4-1266ebbee9da",
   "metadata": {},
   "outputs": [],
   "source": []
  },
  {
   "cell_type": "markdown",
   "id": "92b8ab3d-44b5-44a1-b996-865fdb962af1",
   "metadata": {},
   "source": [
    "Eliminando SH4 com número de importações irrelevante desde 2017 "
   ]
  },
  {
   "cell_type": "code",
   "execution_count": 4,
   "id": "b14d210d-1f38-4ef7-8918-6103b21ae3e1",
   "metadata": {},
   "outputs": [
    {
     "data": {
      "text/plain": [
       "SH4\n",
       "3101       198647\n",
       "3103      4300000\n",
       "3105    100583161\n",
       "3104    230500447\n",
       "3102    353202980\n",
       "Name: KG_LIQUIDO, dtype: int64"
      ]
     },
     "execution_count": 4,
     "metadata": {},
     "output_type": "execute_result"
    }
   ],
   "source": [
    "i_f_m_r_pa[i_f_m_r_pa.CO_ANO>2017].groupby('SH4').KG_LIQUIDO.sum().sort_values()"
   ]
  },
  {
   "cell_type": "code",
   "execution_count": 5,
   "id": "fa7243c8-188a-4514-b127-c700cae8baed",
   "metadata": {},
   "outputs": [
    {
     "data": {
      "text/plain": [
       "SH4\n",
       "3103      3\n",
       "3101      6\n",
       "3105     62\n",
       "3104     96\n",
       "3102    164\n",
       "Name: KG_LIQUIDO, dtype: int64"
      ]
     },
     "execution_count": 5,
     "metadata": {},
     "output_type": "execute_result"
    }
   ],
   "source": [
    "i_f_m_r_pa[i_f_m_r_pa.CO_ANO>2017].groupby('SH4').KG_LIQUIDO.count().sort_values()"
   ]
  },
  {
   "cell_type": "code",
   "execution_count": 6,
   "id": "c303b331-7b8b-41f2-aa64-3ec83a6bb62c",
   "metadata": {},
   "outputs": [
    {
     "data": {
      "text/plain": [
       "array([3105, 3104, 3102])"
      ]
     },
     "execution_count": 6,
     "metadata": {},
     "output_type": "execute_result"
    }
   ],
   "source": [
    "sh4s=i_f_m_r_pa[i_f_m_r_pa.CO_ANO>2017].groupby('SH4').KG_LIQUIDO.count().sort_values().reset_index()['SH4'].tail(3).values\n",
    "sh4s"
   ]
  },
  {
   "cell_type": "code",
   "execution_count": 7,
   "id": "0f31870b-43c8-41da-bbf0-7bb6660ce0af",
   "metadata": {},
   "outputs": [],
   "source": [
    "i_f_m_r_pa=i_f_m_r_pa[i_f_m_r_pa.SH4.isin(sh4s)]"
   ]
  },
  {
   "cell_type": "code",
   "execution_count": 8,
   "id": "eceb28a7-a0d3-4109-89c8-9e9793a88f99",
   "metadata": {},
   "outputs": [
    {
     "data": {
      "text/plain": [
       "array([3105, 3102, 3104])"
      ]
     },
     "execution_count": 8,
     "metadata": {},
     "output_type": "execute_result"
    }
   ],
   "source": [
    "i_f_m_r_pa.SH4.unique()"
   ]
  },
  {
   "cell_type": "code",
   "execution_count": null,
   "id": "dfcce7ae-e96b-4536-b8d8-cba98983a5bf",
   "metadata": {},
   "outputs": [],
   "source": []
  },
  {
   "cell_type": "code",
   "execution_count": null,
   "id": "7c114024-8917-4f38-b394-14a929f002ce",
   "metadata": {},
   "outputs": [],
   "source": []
  },
  {
   "cell_type": "markdown",
   "id": "19a696cf-01a1-4c01-828f-d48816e7b6a2",
   "metadata": {},
   "source": [
    "Correção da Inflação"
   ]
  },
  {
   "cell_type": "code",
   "execution_count": 9,
   "id": "9f161962-fc10-4613-9b62-6b800a4898e5",
   "metadata": {},
   "outputs": [],
   "source": [
    "# Cria manualmente a tabela de correção do dólar\n",
    "infl_dolar=pd.DataFrame({\n",
    " 'CO_ANO':np.arange(1997,2025),\n",
    " 'FATOR':[0.50,0.50,0.51,0.53,0.55,0.56,0.57,0.59,0.61,\\\n",
    " 0.63,0.64,0.67,0.67,0.68,0.70,0.72,0.73,0.74,\\\n",
    " 0.74,0.75,0.77,0.78,0.80,0.81,0.85,0.92,0.96,1.00]})\n",
    "\n",
    "i_f_m_r_pa=i_f_m_r_pa.merge(infl_dolar)\n",
    "\n",
    "#Armazena valor histórico em nova coluna\n",
    "i_f_m_r_pa['KG_LIQUIDO_real']=i_f_m_r_pa['KG_LIQUIDO']\n",
    "\n",
    "# Atualiza valor monetário\n",
    "i_f_m_r_pa['KG_LIQUIDO']=i_f_m_r_pa['KG_LIQUIDO']/i_f_m_r_pa['FATOR']"
   ]
  },
  {
   "cell_type": "code",
   "execution_count": null,
   "id": "8165e550-7431-4ed9-90a3-ff755704195c",
   "metadata": {},
   "outputs": [],
   "source": []
  },
  {
   "cell_type": "code",
   "execution_count": null,
   "id": "734456ed-eee4-4bec-a26d-ecd218275da0",
   "metadata": {},
   "outputs": [],
   "source": []
  },
  {
   "cell_type": "code",
   "execution_count": null,
   "id": "ab61fba0-7442-4e0c-a73e-16f87123f6d2",
   "metadata": {},
   "outputs": [],
   "source": []
  },
  {
   "cell_type": "code",
   "execution_count": 10,
   "id": "79af2327-9b8f-4518-8637-efb03b6512c1",
   "metadata": {},
   "outputs": [
    {
     "data": {
      "text/html": [
       "<div>\n",
       "<style scoped>\n",
       "    .dataframe tbody tr th:only-of-type {\n",
       "        vertical-align: middle;\n",
       "    }\n",
       "\n",
       "    .dataframe tbody tr th {\n",
       "        vertical-align: top;\n",
       "    }\n",
       "\n",
       "    .dataframe thead th {\n",
       "        text-align: right;\n",
       "    }\n",
       "</style>\n",
       "<table border=\"1\" class=\"dataframe\">\n",
       "  <thead>\n",
       "    <tr style=\"text-align: right;\">\n",
       "      <th></th>\n",
       "      <th>CO_MUN</th>\n",
       "      <th>NO_MUN</th>\n",
       "      <th>NO_MUN_MIN</th>\n",
       "      <th>SG_UF</th>\n",
       "      <th>CO_ANO</th>\n",
       "      <th>CO_MES</th>\n",
       "      <th>SH4</th>\n",
       "      <th>CO_PAIS</th>\n",
       "      <th>SG_UF_MUN</th>\n",
       "      <th>KG_LIQUIDO</th>\n",
       "      <th>VL_FOB</th>\n",
       "      <th>NO_SH4_POR</th>\n",
       "      <th>CO_SH2</th>\n",
       "      <th>NO_SH2_POR</th>\n",
       "      <th>FATOR</th>\n",
       "      <th>KG_LIQUIDO_real</th>\n",
       "    </tr>\n",
       "  </thead>\n",
       "  <tbody>\n",
       "  </tbody>\n",
       "</table>\n",
       "</div>"
      ],
      "text/plain": [
       "Empty DataFrame\n",
       "Columns: [CO_MUN, NO_MUN, NO_MUN_MIN, SG_UF, CO_ANO, CO_MES, SH4, CO_PAIS, SG_UF_MUN, KG_LIQUIDO, VL_FOB, NO_SH4_POR, CO_SH2, NO_SH2_POR, FATOR, KG_LIQUIDO_real]\n",
       "Index: []"
      ]
     },
     "execution_count": 10,
     "metadata": {},
     "output_type": "execute_result"
    }
   ],
   "source": [
    "i_f_m_r_pa[i_f_m_r_pa.duplicated()]"
   ]
  },
  {
   "cell_type": "code",
   "execution_count": 11,
   "id": "96f296f6-8b9a-4012-833f-b38542cd66fd",
   "metadata": {},
   "outputs": [
    {
     "data": {
      "text/html": [
       "<div>\n",
       "<style scoped>\n",
       "    .dataframe tbody tr th:only-of-type {\n",
       "        vertical-align: middle;\n",
       "    }\n",
       "\n",
       "    .dataframe tbody tr th {\n",
       "        vertical-align: top;\n",
       "    }\n",
       "\n",
       "    .dataframe thead th {\n",
       "        text-align: right;\n",
       "    }\n",
       "</style>\n",
       "<table border=\"1\" class=\"dataframe\">\n",
       "  <thead>\n",
       "    <tr style=\"text-align: right;\">\n",
       "      <th></th>\n",
       "      <th>CO_MUN</th>\n",
       "      <th>NO_MUN</th>\n",
       "      <th>NO_MUN_MIN</th>\n",
       "      <th>SG_UF</th>\n",
       "      <th>CO_ANO</th>\n",
       "      <th>CO_MES</th>\n",
       "      <th>SH4</th>\n",
       "      <th>CO_PAIS</th>\n",
       "      <th>SG_UF_MUN</th>\n",
       "      <th>KG_LIQUIDO</th>\n",
       "      <th>VL_FOB</th>\n",
       "      <th>NO_SH4_POR</th>\n",
       "      <th>CO_SH2</th>\n",
       "      <th>NO_SH2_POR</th>\n",
       "      <th>FATOR</th>\n",
       "      <th>KG_LIQUIDO_real</th>\n",
       "    </tr>\n",
       "  </thead>\n",
       "  <tbody>\n",
       "  </tbody>\n",
       "</table>\n",
       "</div>"
      ],
      "text/plain": [
       "Empty DataFrame\n",
       "Columns: [CO_MUN, NO_MUN, NO_MUN_MIN, SG_UF, CO_ANO, CO_MES, SH4, CO_PAIS, SG_UF_MUN, KG_LIQUIDO, VL_FOB, NO_SH4_POR, CO_SH2, NO_SH2_POR, FATOR, KG_LIQUIDO_real]\n",
       "Index: []"
      ]
     },
     "execution_count": 11,
     "metadata": {},
     "output_type": "execute_result"
    }
   ],
   "source": [
    "i_f_m_r_pa[i_f_m_r_pa.duplicated(subset=['CO_MUN','CO_ANO','CO_MES','SH4','CO_PAIS'])]"
   ]
  },
  {
   "cell_type": "code",
   "execution_count": 12,
   "id": "8965fda2-63ea-4263-a8a2-974d2f945f72",
   "metadata": {},
   "outputs": [
    {
     "data": {
      "text/html": [
       "<div>\n",
       "<style scoped>\n",
       "    .dataframe tbody tr th:only-of-type {\n",
       "        vertical-align: middle;\n",
       "    }\n",
       "\n",
       "    .dataframe tbody tr th {\n",
       "        vertical-align: top;\n",
       "    }\n",
       "\n",
       "    .dataframe thead th {\n",
       "        text-align: right;\n",
       "    }\n",
       "</style>\n",
       "<table border=\"1\" class=\"dataframe\">\n",
       "  <thead>\n",
       "    <tr style=\"text-align: right;\">\n",
       "      <th></th>\n",
       "      <th>CO_MUN</th>\n",
       "      <th>NO_MUN</th>\n",
       "      <th>NO_MUN_MIN</th>\n",
       "      <th>SG_UF</th>\n",
       "      <th>CO_ANO</th>\n",
       "      <th>CO_MES</th>\n",
       "      <th>SH4</th>\n",
       "      <th>CO_PAIS</th>\n",
       "      <th>SG_UF_MUN</th>\n",
       "      <th>KG_LIQUIDO</th>\n",
       "      <th>VL_FOB</th>\n",
       "      <th>NO_SH4_POR</th>\n",
       "      <th>CO_SH2</th>\n",
       "      <th>NO_SH2_POR</th>\n",
       "      <th>FATOR</th>\n",
       "      <th>KG_LIQUIDO_real</th>\n",
       "    </tr>\n",
       "  </thead>\n",
       "  <tbody>\n",
       "    <tr>\n",
       "      <th>346</th>\n",
       "      <td>3152501</td>\n",
       "      <td>POUSO ALEGRE</td>\n",
       "      <td>Pouso Alegre</td>\n",
       "      <td>MG</td>\n",
       "      <td>2009</td>\n",
       "      <td>2</td>\n",
       "      <td>3102</td>\n",
       "      <td>628</td>\n",
       "      <td>MG</td>\n",
       "      <td>0.0</td>\n",
       "      <td>348</td>\n",
       "      <td>Adubos (fertilizantes) minerais ou químicos, a...</td>\n",
       "      <td>31</td>\n",
       "      <td>Adubos (fertilizantes)</td>\n",
       "      <td>0.67</td>\n",
       "      <td>0</td>\n",
       "    </tr>\n",
       "  </tbody>\n",
       "</table>\n",
       "</div>"
      ],
      "text/plain": [
       "      CO_MUN        NO_MUN    NO_MUN_MIN SG_UF  CO_ANO  CO_MES   SH4  CO_PAIS  \\\n",
       "346  3152501  POUSO ALEGRE  Pouso Alegre    MG    2009       2  3102      628   \n",
       "\n",
       "    SG_UF_MUN  KG_LIQUIDO  VL_FOB  \\\n",
       "346        MG         0.0     348   \n",
       "\n",
       "                                            NO_SH4_POR  CO_SH2  \\\n",
       "346  Adubos (fertilizantes) minerais ou químicos, a...      31   \n",
       "\n",
       "                 NO_SH2_POR  FATOR  KG_LIQUIDO_real  \n",
       "346  Adubos (fertilizantes)   0.67                0  "
      ]
     },
     "execution_count": 12,
     "metadata": {},
     "output_type": "execute_result"
    }
   ],
   "source": [
    "i_f_m_r_pa[i_f_m_r_pa.KG_LIQUIDO<=0]"
   ]
  },
  {
   "cell_type": "markdown",
   "id": "59ed25bb-649f-4f68-8977-db924d958faa",
   "metadata": {},
   "source": [
    "Como o registro com 0 KG apresenta também o valor em US$ desprezível, ele será descartado."
   ]
  },
  {
   "cell_type": "code",
   "execution_count": 13,
   "id": "64ccb4c6-889c-4a9c-9053-d111a2b718ef",
   "metadata": {},
   "outputs": [],
   "source": [
    "i_f_m_r_pa=i_f_m_r_pa[i_f_m_r_pa.KG_LIQUIDO>0]"
   ]
  },
  {
   "cell_type": "code",
   "execution_count": 14,
   "id": "352910e9-dd4c-43d6-9738-caaade54505f",
   "metadata": {},
   "outputs": [
    {
     "data": {
      "text/html": [
       "<div>\n",
       "<style scoped>\n",
       "    .dataframe tbody tr th:only-of-type {\n",
       "        vertical-align: middle;\n",
       "    }\n",
       "\n",
       "    .dataframe tbody tr th {\n",
       "        vertical-align: top;\n",
       "    }\n",
       "\n",
       "    .dataframe thead th {\n",
       "        text-align: right;\n",
       "    }\n",
       "</style>\n",
       "<table border=\"1\" class=\"dataframe\">\n",
       "  <thead>\n",
       "    <tr style=\"text-align: right;\">\n",
       "      <th></th>\n",
       "      <th>CO_MUN</th>\n",
       "      <th>NO_MUN</th>\n",
       "      <th>NO_MUN_MIN</th>\n",
       "      <th>SG_UF</th>\n",
       "      <th>CO_ANO</th>\n",
       "      <th>CO_MES</th>\n",
       "      <th>SH4</th>\n",
       "      <th>CO_PAIS</th>\n",
       "      <th>SG_UF_MUN</th>\n",
       "      <th>KG_LIQUIDO</th>\n",
       "      <th>VL_FOB</th>\n",
       "      <th>NO_SH4_POR</th>\n",
       "      <th>CO_SH2</th>\n",
       "      <th>NO_SH2_POR</th>\n",
       "      <th>FATOR</th>\n",
       "      <th>KG_LIQUIDO_real</th>\n",
       "    </tr>\n",
       "  </thead>\n",
       "  <tbody>\n",
       "  </tbody>\n",
       "</table>\n",
       "</div>"
      ],
      "text/plain": [
       "Empty DataFrame\n",
       "Columns: [CO_MUN, NO_MUN, NO_MUN_MIN, SG_UF, CO_ANO, CO_MES, SH4, CO_PAIS, SG_UF_MUN, KG_LIQUIDO, VL_FOB, NO_SH4_POR, CO_SH2, NO_SH2_POR, FATOR, KG_LIQUIDO_real]\n",
       "Index: []"
      ]
     },
     "execution_count": 14,
     "metadata": {},
     "output_type": "execute_result"
    }
   ],
   "source": [
    "i_f_m_r_pa[i_f_m_r_pa.VL_FOB<=0]"
   ]
  },
  {
   "cell_type": "code",
   "execution_count": 15,
   "id": "b9e08287-777f-46f0-be79-06a11d0a0985",
   "metadata": {},
   "outputs": [
    {
     "data": {
      "text/html": [
       "<div>\n",
       "<style scoped>\n",
       "    .dataframe tbody tr th:only-of-type {\n",
       "        vertical-align: middle;\n",
       "    }\n",
       "\n",
       "    .dataframe tbody tr th {\n",
       "        vertical-align: top;\n",
       "    }\n",
       "\n",
       "    .dataframe thead th {\n",
       "        text-align: right;\n",
       "    }\n",
       "</style>\n",
       "<table border=\"1\" class=\"dataframe\">\n",
       "  <thead>\n",
       "    <tr style=\"text-align: right;\">\n",
       "      <th></th>\n",
       "      <th>CO_MUN</th>\n",
       "      <th>NO_MUN</th>\n",
       "      <th>NO_MUN_MIN</th>\n",
       "      <th>SG_UF</th>\n",
       "      <th>CO_ANO</th>\n",
       "      <th>CO_MES</th>\n",
       "      <th>SH4</th>\n",
       "      <th>CO_PAIS</th>\n",
       "      <th>SG_UF_MUN</th>\n",
       "      <th>KG_LIQUIDO</th>\n",
       "      <th>VL_FOB</th>\n",
       "      <th>NO_SH4_POR</th>\n",
       "      <th>CO_SH2</th>\n",
       "      <th>NO_SH2_POR</th>\n",
       "      <th>FATOR</th>\n",
       "      <th>KG_LIQUIDO_real</th>\n",
       "    </tr>\n",
       "  </thead>\n",
       "  <tbody>\n",
       "    <tr>\n",
       "      <th>0</th>\n",
       "      <td>3125101</td>\n",
       "      <td>EXTREMA</td>\n",
       "      <td>Extrema</td>\n",
       "      <td>MG</td>\n",
       "      <td>2003</td>\n",
       "      <td>9</td>\n",
       "      <td>3105</td>\n",
       "      <td>493</td>\n",
       "      <td>MG</td>\n",
       "      <td>1754.385965</td>\n",
       "      <td>323</td>\n",
       "      <td>Adubos (fertilizantes) minerais ou químicos, c...</td>\n",
       "      <td>31</td>\n",
       "      <td>Adubos (fertilizantes)</td>\n",
       "      <td>0.57</td>\n",
       "      <td>1000</td>\n",
       "    </tr>\n",
       "  </tbody>\n",
       "</table>\n",
       "</div>"
      ],
      "text/plain": [
       "    CO_MUN   NO_MUN NO_MUN_MIN SG_UF  CO_ANO  CO_MES   SH4  CO_PAIS SG_UF_MUN  \\\n",
       "0  3125101  EXTREMA    Extrema    MG    2003       9  3105      493        MG   \n",
       "\n",
       "    KG_LIQUIDO  VL_FOB                                         NO_SH4_POR  \\\n",
       "0  1754.385965     323  Adubos (fertilizantes) minerais ou químicos, c...   \n",
       "\n",
       "   CO_SH2              NO_SH2_POR  FATOR  KG_LIQUIDO_real  \n",
       "0      31  Adubos (fertilizantes)   0.57             1000  "
      ]
     },
     "execution_count": 15,
     "metadata": {},
     "output_type": "execute_result"
    }
   ],
   "source": [
    "i_f_m_r_pa.head(1)"
   ]
  },
  {
   "cell_type": "code",
   "execution_count": 16,
   "id": "c990b79a-0824-44aa-a1b7-21971d980d5b",
   "metadata": {},
   "outputs": [],
   "source": [
    "i_f_m_r_pa=i_f_m_r_pa[i_f_m_r_pa.columns[[4,5,1,6,7,9,10]]]"
   ]
  },
  {
   "cell_type": "code",
   "execution_count": 17,
   "id": "70b4ad4a-07b0-4253-b736-058762416fdc",
   "metadata": {},
   "outputs": [
    {
     "data": {
      "text/html": [
       "<div>\n",
       "<style scoped>\n",
       "    .dataframe tbody tr th:only-of-type {\n",
       "        vertical-align: middle;\n",
       "    }\n",
       "\n",
       "    .dataframe tbody tr th {\n",
       "        vertical-align: top;\n",
       "    }\n",
       "\n",
       "    .dataframe thead th {\n",
       "        text-align: right;\n",
       "    }\n",
       "</style>\n",
       "<table border=\"1\" class=\"dataframe\">\n",
       "  <thead>\n",
       "    <tr style=\"text-align: right;\">\n",
       "      <th></th>\n",
       "      <th>CO_ANO</th>\n",
       "      <th>CO_MES</th>\n",
       "      <th>NO_MUN</th>\n",
       "      <th>SH4</th>\n",
       "      <th>CO_PAIS</th>\n",
       "      <th>KG_LIQUIDO</th>\n",
       "      <th>VL_FOB</th>\n",
       "    </tr>\n",
       "  </thead>\n",
       "  <tbody>\n",
       "    <tr>\n",
       "      <th>0</th>\n",
       "      <td>2003</td>\n",
       "      <td>9</td>\n",
       "      <td>EXTREMA</td>\n",
       "      <td>3105</td>\n",
       "      <td>493</td>\n",
       "      <td>1.754386e+03</td>\n",
       "      <td>323</td>\n",
       "    </tr>\n",
       "    <tr>\n",
       "      <th>1</th>\n",
       "      <td>2003</td>\n",
       "      <td>8</td>\n",
       "      <td>EXTREMA</td>\n",
       "      <td>3105</td>\n",
       "      <td>493</td>\n",
       "      <td>1.403509e+02</td>\n",
       "      <td>25</td>\n",
       "    </tr>\n",
       "    <tr>\n",
       "      <th>2</th>\n",
       "      <td>2003</td>\n",
       "      <td>3</td>\n",
       "      <td>CONGONHAL</td>\n",
       "      <td>3104</td>\n",
       "      <td>149</td>\n",
       "      <td>4.385965e+06</td>\n",
       "      <td>285075</td>\n",
       "    </tr>\n",
       "    <tr>\n",
       "      <th>3</th>\n",
       "      <td>2003</td>\n",
       "      <td>7</td>\n",
       "      <td>CONGONHAL</td>\n",
       "      <td>3104</td>\n",
       "      <td>676</td>\n",
       "      <td>3.340702e+06</td>\n",
       "      <td>199779</td>\n",
       "    </tr>\n",
       "    <tr>\n",
       "      <th>4</th>\n",
       "      <td>2003</td>\n",
       "      <td>11</td>\n",
       "      <td>CONGONHAL</td>\n",
       "      <td>3102</td>\n",
       "      <td>676</td>\n",
       "      <td>8.643333e+06</td>\n",
       "      <td>603064</td>\n",
       "    </tr>\n",
       "    <tr>\n",
       "      <th>...</th>\n",
       "      <td>...</td>\n",
       "      <td>...</td>\n",
       "      <td>...</td>\n",
       "      <td>...</td>\n",
       "      <td>...</td>\n",
       "      <td>...</td>\n",
       "      <td>...</td>\n",
       "    </tr>\n",
       "    <tr>\n",
       "      <th>877</th>\n",
       "      <td>2021</td>\n",
       "      <td>6</td>\n",
       "      <td>POUSO ALEGRE</td>\n",
       "      <td>3105</td>\n",
       "      <td>160</td>\n",
       "      <td>3.546778e+06</td>\n",
       "      <td>1475018</td>\n",
       "    </tr>\n",
       "    <tr>\n",
       "      <th>878</th>\n",
       "      <td>2021</td>\n",
       "      <td>11</td>\n",
       "      <td>POUSO ALEGRE</td>\n",
       "      <td>3105</td>\n",
       "      <td>249</td>\n",
       "      <td>9.384706e+03</td>\n",
       "      <td>40612</td>\n",
       "    </tr>\n",
       "    <tr>\n",
       "      <th>879</th>\n",
       "      <td>2021</td>\n",
       "      <td>8</td>\n",
       "      <td>POUSO ALEGRE</td>\n",
       "      <td>3104</td>\n",
       "      <td>85</td>\n",
       "      <td>6.490094e+06</td>\n",
       "      <td>1760962</td>\n",
       "    </tr>\n",
       "    <tr>\n",
       "      <th>880</th>\n",
       "      <td>2021</td>\n",
       "      <td>10</td>\n",
       "      <td>POUSO ALEGRE</td>\n",
       "      <td>3102</td>\n",
       "      <td>59</td>\n",
       "      <td>6.355552e+06</td>\n",
       "      <td>2324194</td>\n",
       "    </tr>\n",
       "    <tr>\n",
       "      <th>881</th>\n",
       "      <td>2021</td>\n",
       "      <td>6</td>\n",
       "      <td>POUSO ALEGRE</td>\n",
       "      <td>3102</td>\n",
       "      <td>154</td>\n",
       "      <td>1.823529e+06</td>\n",
       "      <td>548639</td>\n",
       "    </tr>\n",
       "  </tbody>\n",
       "</table>\n",
       "<p>881 rows × 7 columns</p>\n",
       "</div>"
      ],
      "text/plain": [
       "     CO_ANO  CO_MES        NO_MUN   SH4  CO_PAIS    KG_LIQUIDO   VL_FOB\n",
       "0      2003       9       EXTREMA  3105      493  1.754386e+03      323\n",
       "1      2003       8       EXTREMA  3105      493  1.403509e+02       25\n",
       "2      2003       3     CONGONHAL  3104      149  4.385965e+06   285075\n",
       "3      2003       7     CONGONHAL  3104      676  3.340702e+06   199779\n",
       "4      2003      11     CONGONHAL  3102      676  8.643333e+06   603064\n",
       "..      ...     ...           ...   ...      ...           ...      ...\n",
       "877    2021       6  POUSO ALEGRE  3105      160  3.546778e+06  1475018\n",
       "878    2021      11  POUSO ALEGRE  3105      249  9.384706e+03    40612\n",
       "879    2021       8  POUSO ALEGRE  3104       85  6.490094e+06  1760962\n",
       "880    2021      10  POUSO ALEGRE  3102       59  6.355552e+06  2324194\n",
       "881    2021       6  POUSO ALEGRE  3102      154  1.823529e+06   548639\n",
       "\n",
       "[881 rows x 7 columns]"
      ]
     },
     "execution_count": 17,
     "metadata": {},
     "output_type": "execute_result"
    }
   ],
   "source": [
    "i_f_m_r_pa"
   ]
  },
  {
   "cell_type": "code",
   "execution_count": null,
   "id": "2375d5a7-8c97-4094-9bbc-4aeaf2327ab4",
   "metadata": {},
   "outputs": [],
   "source": []
  },
  {
   "cell_type": "code",
   "execution_count": null,
   "id": "d492eee1-411a-42c7-a5c2-40cde0cc327c",
   "metadata": {},
   "outputs": [],
   "source": []
  },
  {
   "cell_type": "code",
   "execution_count": 18,
   "id": "758ae7c3-da06-4616-a943-a4540bb44048",
   "metadata": {},
   "outputs": [
    {
     "data": {
      "image/png": "[encoded data removed]",
      "text/plain": [
       "<Figure size 500x500 with 1 Axes>"
      ]
     },
     "metadata": {},
     "output_type": "display_data"
    }
   ],
   "source": [
    "sns.displot(data=i_f_m_r_pa,x='KG_LIQUIDO',log_scale=True,bins=10)\\\n",
    ".fig.suptitle('Importação de Fertilizantes por Município\\n da Região de Pouso Alegre',y=1.1)\n",
    "plt.show()"
   ]
  },
  {
   "cell_type": "markdown",
   "id": "52ef2126-699c-461c-a42c-e4c954b0f387",
   "metadata": {},
   "source": [
    "Os valores formam considerados normais."
   ]
  },
  {
   "cell_type": "code",
   "execution_count": 19,
   "id": "ed92239e-bc69-4fc9-9df3-9ff05f9125a5",
   "metadata": {},
   "outputs": [],
   "source": [
    "i_f_m_r_pa=i_f_m_r_pa.assign(descarte_peso='não')"
   ]
  },
  {
   "cell_type": "code",
   "execution_count": null,
   "id": "1c0b3ad8-499b-4b0d-8033-c66cf7b0cc16",
   "metadata": {},
   "outputs": [],
   "source": []
  },
  {
   "cell_type": "code",
   "execution_count": null,
   "id": "a7f17155-8b3e-4329-9ea9-55f6d4483173",
   "metadata": {},
   "outputs": [],
   "source": []
  },
  {
   "cell_type": "code",
   "execution_count": 20,
   "id": "4b89f4bd-a669-45aa-a31f-6a972439b734",
   "metadata": {},
   "outputs": [
    {
     "data": {
      "image/png": "[encoded data removed]",
      "text/plain": [
       "<Figure size 500x500 with 1 Axes>"
      ]
     },
     "metadata": {},
     "output_type": "display_data"
    }
   ],
   "source": [
    "sns.displot(data=i_f_m_r_pa,x='VL_FOB',log_scale=True, bins=15)\\\n",
    ".fig.suptitle('Importação de Fertilizantes por Município\\n da Região de Pouso Alegre',y=1.1)\n",
    "plt.show()"
   ]
  },
  {
   "cell_type": "markdown",
   "id": "56f104c3-456e-4433-822a-3ab7e2ab6915",
   "metadata": {},
   "source": [
    "Os valores formam considerados normais."
   ]
  },
  {
   "cell_type": "code",
   "execution_count": 21,
   "id": "3ae6126b-1a90-4ef1-8166-f0c14aa9a10d",
   "metadata": {},
   "outputs": [],
   "source": [
    "i_f_m_r_pa=i_f_m_r_pa.assign(descarte_vl='não')"
   ]
  },
  {
   "cell_type": "code",
   "execution_count": null,
   "id": "c6e12cc4-d33f-46f2-8558-8fe1f52a239a",
   "metadata": {},
   "outputs": [],
   "source": []
  },
  {
   "cell_type": "code",
   "execution_count": 22,
   "id": "e6b8601e-761f-4c71-88b3-49cb3b597a4b",
   "metadata": {},
   "outputs": [],
   "source": [
    "i_f_m_r_pa['US$/KG']=i_f_m_r_pa.VL_FOB/i_f_m_r_pa.KG_LIQUIDO"
   ]
  },
  {
   "cell_type": "code",
   "execution_count": 23,
   "id": "2adcfee9-f15c-49c0-9e7e-b73132af1f36",
   "metadata": {},
   "outputs": [
    {
     "data": {
      "image/png": "[encoded data removed]",
      "text/plain": [
       "<Figure size 500x500 with 1 Axes>"
      ]
     },
     "metadata": {},
     "output_type": "display_data"
    }
   ],
   "source": [
    "sns.displot(data=i_f_m_r_pa,x='US$/KG',log_scale=True, bins=15)\\\n",
    ".fig.suptitle('Importação de Fertilizantes por Município\\n da Região de Pouso Alegre',y=1.1)\n",
    "plt.show()"
   ]
  },
  {
   "cell_type": "markdown",
   "id": "08d73d66-1060-4835-b9ef-8d5904296771",
   "metadata": {},
   "source": [
    "Os valores acima de 10**0 foram considerados anormais e serão marcados para descarte."
   ]
  },
  {
   "cell_type": "code",
   "execution_count": 24,
   "id": "42442739-8469-4e38-80f2-a0427f13476c",
   "metadata": {},
   "outputs": [],
   "source": [
    "i_f_m_r_pa=i_f_m_r_pa.assign(descarte_preço='não')"
   ]
  },
  {
   "cell_type": "code",
   "execution_count": 25,
   "id": "1c805307-a6f3-4515-b442-62885d77c099",
   "metadata": {},
   "outputs": [],
   "source": [
    "i_f_m_r_pa.loc[i_f_m_r_pa['US$/KG']>10**0,'descarte_preço']='sim'"
   ]
  },
  {
   "cell_type": "code",
   "execution_count": 26,
   "id": "99ab4398-22c9-4a57-8fa8-19a55999cf9d",
   "metadata": {},
   "outputs": [],
   "source": [
    "i_f_m_r_pa[\n",
    "(i_f_m_r_pa.descarte_peso=='sim')&\n",
    "(i_f_m_r_pa.descarte_vl=='sim')&\n",
    "(i_f_m_r_pa.descarte_preço=='sim')\n",
    "].tipo='descarte_triplo'"
   ]
  },
  {
   "cell_type": "code",
   "execution_count": 27,
   "id": "a01721f5-01df-4711-8021-8b0ef878e1e7",
   "metadata": {},
   "outputs": [],
   "source": [
    "i_f_m_r_pa['tipo']='sem_descarte'\n",
    "\n",
    "i_f_m_r_pa.loc[(i_f_m_r_pa.descarte_peso=='sim')&(i_f_m_r_pa.descarte_vl=='sim')&(i_f_m_r_pa.descarte_preço=='sim'),'tipo']='descarte_triplo'\n",
    "\n",
    "i_f_m_r_pa.loc[(i_f_m_r_pa.descarte_peso=='não')&(i_f_m_r_pa.descarte_vl=='sim')&(i_f_m_r_pa.descarte_preço=='sim'),'tipo']='descarte_vl_preço'\n",
    "\n",
    "i_f_m_r_pa.loc[(i_f_m_r_pa.descarte_peso=='sim')&(i_f_m_r_pa.descarte_vl=='não')&(i_f_m_r_pa.descarte_preço=='sim'),'tipo']='descarte_peso_preço'\n",
    "\n",
    "i_f_m_r_pa.loc[(i_f_m_r_pa.descarte_peso=='não')&(i_f_m_r_pa.descarte_vl=='sim')&(i_f_m_r_pa.descarte_preço=='sim'),'tipo']='descarte_vl_preço'\n",
    "\n",
    "i_f_m_r_pa.loc[(i_f_m_r_pa.descarte_peso=='não')&(i_f_m_r_pa.descarte_vl=='não')&(i_f_m_r_pa.descarte_preço=='sim'),'tipo']='descarte_preço'\n",
    "\n",
    "i_f_m_r_pa.loc[(i_f_m_r_pa.descarte_peso=='sim')&(i_f_m_r_pa.descarte_vl=='não')&(i_f_m_r_pa.descarte_preço=='não'),'tipo']='descarte_peso'\n",
    "\n",
    "\n",
    "i_f_m_r_pa.loc[(i_f_m_r_pa.descarte_peso=='não')&(i_f_m_r_pa.descarte_vl=='sim')&(i_f_m_r_pa.descarte_preço=='não'),'tipo']='descarte_vl'\n",
    "\n",
    "i_f_m_r_pa.loc[(i_f_m_r_pa.descarte_peso=='não')&(i_f_m_r_pa.descarte_vl=='não')&(i_f_m_r_pa.descarte_preço=='não'),'tipo']='sem_descarte'\n",
    "\n",
    "w=i_f_m_r_pa.copy()\n",
    "\n",
    "i_f_m_r_pa=i_f_m_r_pa[i_f_m_r_pa.tipo!='descarte_triplo']"
   ]
  },
  {
   "cell_type": "code",
   "execution_count": null,
   "id": "bcb0b927-1130-42f0-bc1e-4756ac1c4546",
   "metadata": {},
   "outputs": [],
   "source": []
  },
  {
   "cell_type": "code",
   "execution_count": null,
   "id": "1d32b2e5-c9bf-4502-a34d-3d52a76593e2",
   "metadata": {},
   "outputs": [],
   "source": []
  },
  {
   "cell_type": "code",
   "execution_count": 28,
   "id": "110c1049-eb32-4d57-8a67-897992a32113",
   "metadata": {},
   "outputs": [
    {
     "data": {
      "image/png": "[encoded data removed]",
      "text/plain": [
       "<Figure size 656.5x500 with 1 Axes>"
      ]
     },
     "metadata": {},
     "output_type": "display_data"
    },
    {
     "data": {
      "image/png": "[encoded data removed]",
      "text/plain": [
       "<Figure size 656.5x500 with 1 Axes>"
      ]
     },
     "metadata": {},
     "output_type": "display_data"
    },
    {
     "data": {
      "image/png": "[encoded data removed]",
      "text/plain": [
       "<Figure size 656.5x500 with 1 Axes>"
      ]
     },
     "metadata": {},
     "output_type": "display_data"
    }
   ],
   "source": [
    "for c in ['KG_LIQUIDO','VL_FOB','US$/KG']:\n",
    "    sns.displot(data=i_f_m_r_pa,x=c,log_scale=True, hue='tipo', bins=15).fig.suptitle('Importação de Fertilizantes por Município\\n da Região de Pouso Alegre',y=1.1)\n",
    "    plt.show()"
   ]
  },
  {
   "cell_type": "code",
   "execution_count": null,
   "id": "ae0a062d-b487-4316-a653-548a14721a87",
   "metadata": {},
   "outputs": [],
   "source": []
  },
  {
   "cell_type": "code",
   "execution_count": 29,
   "id": "7a3a7b73-0639-4341-bd81-a2bb8499e07f",
   "metadata": {},
   "outputs": [],
   "source": [
    "i_f_m_r_pa_sem_descarte=i_f_m_r_pa[i_f_m_r_pa.tipo=='sem_descarte']"
   ]
  },
  {
   "cell_type": "code",
   "execution_count": 30,
   "id": "560df019-2233-4ce0-82ce-e03b5de83568",
   "metadata": {},
   "outputs": [],
   "source": [
    "i_f_m_r_pa_com_descarte=i_f_m_r_pa[i_f_m_r_pa.tipo!='sem_descarte']"
   ]
  },
  {
   "cell_type": "code",
   "execution_count": 31,
   "id": "369a624f-1260-401a-bce5-777312ec5fd0",
   "metadata": {},
   "outputs": [
    {
     "name": "stdout",
     "output_type": "stream",
     "text": [
      "Os registros com algum tipo de descarte correspondem a 3 % do total de registros.\n"
     ]
    }
   ],
   "source": [
    "print(f\"Os registros com algum tipo de descarte correspondem a {round(100*len(i_f_m_r_pa_com_descarte)/(len(i_f_m_r_pa_com_descarte)+len(i_f_m_r_pa_sem_descarte)))} % do total de registros.\")"
   ]
  },
  {
   "cell_type": "code",
   "execution_count": 32,
   "id": "2db3515a-eee6-4073-a6e2-0adf0418de21",
   "metadata": {},
   "outputs": [
    {
     "name": "stdout",
     "output_type": "stream",
     "text": [
      "Os registros com algum tipo de descarte correspondem a 0 % do total do peso.\n"
     ]
    }
   ],
   "source": [
    "print(f\"Os registros com algum tipo de descarte correspondem a {round(100*(i_f_m_r_pa_com_descarte.KG_LIQUIDO.sum())/((i_f_m_r_pa_com_descarte.KG_LIQUIDO.sum())+(i_f_m_r_pa_sem_descarte.KG_LIQUIDO.sum())))} % do total do peso.\")"
   ]
  },
  {
   "cell_type": "code",
   "execution_count": 33,
   "id": "2b91236a-a5a8-4cf4-9849-8c9bc8bc3692",
   "metadata": {},
   "outputs": [
    {
     "name": "stdout",
     "output_type": "stream",
     "text": [
      "Os registros com algum tipo de descarte correspondem a 1 % do total do valor FOB.\n"
     ]
    }
   ],
   "source": [
    "print(f\"Os registros com algum tipo de descarte correspondem a {round(100*(i_f_m_r_pa_com_descarte.VL_FOB.sum())/((i_f_m_r_pa_com_descarte.VL_FOB.sum())+(i_f_m_r_pa_sem_descarte.VL_FOB.sum())))} % do total do valor FOB.\")"
   ]
  },
  {
   "cell_type": "code",
   "execution_count": null,
   "id": "b9358f9a-943a-430d-86a1-42292de9c88c",
   "metadata": {},
   "outputs": [],
   "source": []
  },
  {
   "cell_type": "code",
   "execution_count": null,
   "id": "1234a391-6302-421f-a057-d4f17615360f",
   "metadata": {},
   "outputs": [],
   "source": []
  },
  {
   "cell_type": "raw",
   "id": "557eb95f-6272-4a79-a095-c0fc9b78565c",
   "metadata": {
    "scrolled": true
   },
   "source": [
    "mean=i_f_m_r_pa_sem_descarte.groupby(['CO_ANO','SH4'])[['KG_LIQUIDO','VL_FOB']].mean().reset_index().rename(columns={'KG_LIQUIDO':'KG_mean','VL_FOB':'VL_mean'})"
   ]
  },
  {
   "cell_type": "raw",
   "id": "5f9d3960-af9f-4303-be2f-35277b72e1ed",
   "metadata": {
    "scrolled": true
   },
   "source": [
    "std=i_f_m_r_pa_sem_descarte.groupby(['CO_ANO','SH4'])[['KG_LIQUIDO','VL_FOB']].std().reset_index().rename(columns={'KG_LIQUIDO':'KG_std','VL_FOB':'VL_std'})"
   ]
  },
  {
   "cell_type": "raw",
   "id": "cc070e1c-dbb3-43b5-b15b-50fea1ba6b88",
   "metadata": {},
   "source": [
    "len(i_f_m_r_pa_com_descarte)"
   ]
  },
  {
   "cell_type": "raw",
   "id": "8c757363-8d65-4122-9b6c-3d031beb947d",
   "metadata": {},
   "source": [
    "i_f_m_r_pa_com_descarte_2=i_f_m_r_pa_com_descarte.merge(mean, how='left').merge(std, how='left')\n",
    "len(i_f_m_r_pa_com_descarte_2)"
   ]
  },
  {
   "cell_type": "raw",
   "id": "dbc391da-2a77-481a-a777-ae63799114ba",
   "metadata": {},
   "source": [
    "i_f_m_r_pa_com_descarte_2.isna().sum()"
   ]
  },
  {
   "cell_type": "raw",
   "id": "2fba57a3-b493-4bda-bbb5-851cbb24b1b0",
   "metadata": {
    "scrolled": true
   },
   "source": [
    "i_f_m_r_pa_com_descarte_2_sem_na=i_f_m_r_pa_com_descarte_2.dropna()\n",
    "len(i_f_m_r_pa_com_descarte_2_sem_na)"
   ]
  },
  {
   "cell_type": "raw",
   "id": "985d1287-329c-44d7-96c3-79a654ee5dce",
   "metadata": {
    "scrolled": true
   },
   "source": [
    "i_f_m_r_pa_com_descarte_2_com_na=i_f_m_r_pa_com_descarte_2[i_f_m_r_pa_com_descarte_2.KG_std.isna()]"
   ]
  },
  {
   "cell_type": "code",
   "execution_count": null,
   "id": "0dda797c-8e53-49c5-b47d-4f16531952de",
   "metadata": {},
   "outputs": [],
   "source": []
  },
  {
   "cell_type": "raw",
   "id": "25f6ce46-01c7-4d2c-8501-10f03a0c6e09",
   "metadata": {},
   "source": [
    "i_f_m_r_pa_com_descarte_2_sem_na[['KG_LIQUIDO','VL_FOB']].sum()"
   ]
  },
  {
   "cell_type": "raw",
   "id": "1d7cc332-5cfb-4e33-be27-8276b4bd3a75",
   "metadata": {},
   "source": [
    "i_f_m_r_pa_com_descarte_2_sem_na['KG_z_score']=(i_f_m_r_pa_com_descarte_2_sem_na.KG_LIQUIDO-i_f_m_r_pa_com_descarte_2_sem_na.KG_mean)/i_f_m_r_pa_com_descarte_2_sem_na.KG_std"
   ]
  },
  {
   "cell_type": "raw",
   "id": "4c61fbeb-da17-48a0-9534-5723d004bcc4",
   "metadata": {},
   "source": [
    "i_f_m_r_pa_com_descarte_2_sem_na['VL_z_score']=(i_f_m_r_pa_com_descarte_2_sem_na.VL_FOB-i_f_m_r_pa_com_descarte_2_sem_na.VL_mean)/i_f_m_r_pa_com_descarte_2_sem_na.VL_std"
   ]
  },
  {
   "cell_type": "raw",
   "id": "c8fc5c6b-605e-444d-a374-7a3f0a0df085",
   "metadata": {},
   "source": [
    "i_f_m_r_pa_com_descarte_2_sem_na.loc[i_f_m_r_pa_com_descarte_2_sem_na.VL_z_score>i_f_m_r_pa_com_descarte_2_sem_na.KG_z_score,'VL_FOB']=\\\n",
    "(i_f_m_r_pa_com_descarte_2_sem_na.KG_z_score *i_f_m_r_pa_com_descarte_2_sem_na.VL_std)+i_f_m_r_pa_com_descarte_2_sem_na.VL_mean"
   ]
  },
  {
   "cell_type": "raw",
   "id": "bd88fa87-42cc-49c3-b7d7-9e9e99acebb7",
   "metadata": {},
   "source": [
    "i_f_m_r_pa_com_descarte_2_sem_na.loc[i_f_m_r_pa_com_descarte_2_sem_na.VL_z_score<=i_f_m_r_pa_com_descarte_2_sem_na.KG_z_score,'KG_LIQUIDO']=\\\n",
    "(i_f_m_r_pa_com_descarte_2_sem_na.VL_z_score * i_f_m_r_pa_com_descarte_2_sem_na.KG_std)+i_f_m_r_pa_com_descarte_2_sem_na.KG_mean"
   ]
  },
  {
   "cell_type": "code",
   "execution_count": 34,
   "id": "6b33ebfd-ca70-4416-aba5-6e74f4698d59",
   "metadata": {},
   "outputs": [],
   "source": [
    "i_f_m_r_pa_clean=pd.concat([i_f_m_r_pa_sem_descarte])#,i_f_m_r_pa_com_descarte_2_sem_na,i_f_m_r_pa_com_descarte_2_com_na])"
   ]
  },
  {
   "cell_type": "raw",
   "id": "41bc9c52-d166-4854-86b9-9bb6d902ef2d",
   "metadata": {},
   "source": [
    "i_f_m_r_pa_clean['US$/KG']=i_f_m_r_pa_clean.VL_FOB/i_f_m_r_pa_clean.KG_LIQUIDO"
   ]
  },
  {
   "cell_type": "raw",
   "id": "24d3e334-545b-4b0c-8712-43ddd3023195",
   "metadata": {},
   "source": [
    "for c in ['KG_LIQUIDO','VL_FOB','US$/KG']:\n",
    "    sns.displot(data=i_f_m_r_pa_clean,x=c,log_scale=True, hue='tipo', bins=15).fig.suptitle('Importação de Fertilizantes por Município\\n da Região de Pouso Alegre',y=1.1)\n",
    "    plt.show()"
   ]
  },
  {
   "cell_type": "raw",
   "id": "3c40e716-b36f-4457-8c08-8416faff6adc",
   "metadata": {},
   "source": [
    "i_f_m_r_pa_clean=i_f_m_r_pa_clean[i_f_m_r_pa_clean['US$/KG']<10**0.1]"
   ]
  },
  {
   "cell_type": "raw",
   "id": "73c6f494-4768-4276-82d9-4c2d7173ec0c",
   "metadata": {},
   "source": [
    "for c in ['KG_LIQUIDO','VL_FOB','US$/KG']:\n",
    "    sns.displot(data=i_f_m_r_pa_clean,x=c,log_scale=True, bins=15,hue='tipo').fig.suptitle('Importação de Fertilizantes por Município\\n da Região de Pouso Alegre',y=1.1)\n",
    "    plt.show()"
   ]
  },
  {
   "cell_type": "code",
   "execution_count": 35,
   "id": "bd267edb-185c-4e58-a9a2-79b5fa939bfd",
   "metadata": {},
   "outputs": [
    {
     "data": {
      "text/html": [
       "<div>\n",
       "<style scoped>\n",
       "    .dataframe tbody tr th:only-of-type {\n",
       "        vertical-align: middle;\n",
       "    }\n",
       "\n",
       "    .dataframe tbody tr th {\n",
       "        vertical-align: top;\n",
       "    }\n",
       "\n",
       "    .dataframe thead th {\n",
       "        text-align: right;\n",
       "    }\n",
       "</style>\n",
       "<table border=\"1\" class=\"dataframe\">\n",
       "  <thead>\n",
       "    <tr style=\"text-align: right;\">\n",
       "      <th></th>\n",
       "      <th>CO_ANO</th>\n",
       "      <th>CO_MES</th>\n",
       "      <th>NO_MUN</th>\n",
       "      <th>SH4</th>\n",
       "      <th>CO_PAIS</th>\n",
       "      <th>KG_LIQUIDO</th>\n",
       "      <th>VL_FOB</th>\n",
       "      <th>descarte_peso</th>\n",
       "      <th>descarte_vl</th>\n",
       "      <th>US$/KG</th>\n",
       "      <th>descarte_preço</th>\n",
       "      <th>tipo</th>\n",
       "    </tr>\n",
       "  </thead>\n",
       "  <tbody>\n",
       "    <tr>\n",
       "      <th>0</th>\n",
       "      <td>2003</td>\n",
       "      <td>9</td>\n",
       "      <td>EXTREMA</td>\n",
       "      <td>3105</td>\n",
       "      <td>493</td>\n",
       "      <td>1754.385965</td>\n",
       "      <td>323</td>\n",
       "      <td>não</td>\n",
       "      <td>não</td>\n",
       "      <td>0.18411</td>\n",
       "      <td>não</td>\n",
       "      <td>sem_descarte</td>\n",
       "    </tr>\n",
       "  </tbody>\n",
       "</table>\n",
       "</div>"
      ],
      "text/plain": [
       "   CO_ANO  CO_MES   NO_MUN   SH4  CO_PAIS   KG_LIQUIDO  VL_FOB descarte_peso  \\\n",
       "0    2003       9  EXTREMA  3105      493  1754.385965     323           não   \n",
       "\n",
       "  descarte_vl   US$/KG descarte_preço          tipo  \n",
       "0         não  0.18411            não  sem_descarte  "
      ]
     },
     "execution_count": 35,
     "metadata": {},
     "output_type": "execute_result"
    }
   ],
   "source": [
    "i_f_m_r_pa_clean.head(1)"
   ]
  },
  {
   "cell_type": "code",
   "execution_count": 36,
   "id": "8f4a25ea-4aed-4478-85f4-728a0ff9a760",
   "metadata": {},
   "outputs": [],
   "source": [
    "i_f_m_r_pa_clean=i_f_m_r_pa_clean.iloc[:,:7]"
   ]
  },
  {
   "cell_type": "code",
   "execution_count": 37,
   "id": "0ecccf55-772c-4118-8f8d-0a9012f55e87",
   "metadata": {},
   "outputs": [
    {
     "data": {
      "text/html": [
       "<div>\n",
       "<style scoped>\n",
       "    .dataframe tbody tr th:only-of-type {\n",
       "        vertical-align: middle;\n",
       "    }\n",
       "\n",
       "    .dataframe tbody tr th {\n",
       "        vertical-align: top;\n",
       "    }\n",
       "\n",
       "    .dataframe thead th {\n",
       "        text-align: right;\n",
       "    }\n",
       "</style>\n",
       "<table border=\"1\" class=\"dataframe\">\n",
       "  <thead>\n",
       "    <tr style=\"text-align: right;\">\n",
       "      <th></th>\n",
       "      <th>CO_ANO</th>\n",
       "      <th>CO_MES</th>\n",
       "      <th>NO_MUN</th>\n",
       "      <th>SH4</th>\n",
       "      <th>CO_PAIS</th>\n",
       "      <th>KG_LIQUIDO</th>\n",
       "      <th>VL_FOB</th>\n",
       "    </tr>\n",
       "  </thead>\n",
       "  <tbody>\n",
       "    <tr>\n",
       "      <th>0</th>\n",
       "      <td>2003</td>\n",
       "      <td>9</td>\n",
       "      <td>EXTREMA</td>\n",
       "      <td>3105</td>\n",
       "      <td>493</td>\n",
       "      <td>1754.385965</td>\n",
       "      <td>323</td>\n",
       "    </tr>\n",
       "  </tbody>\n",
       "</table>\n",
       "</div>"
      ],
      "text/plain": [
       "   CO_ANO  CO_MES   NO_MUN   SH4  CO_PAIS   KG_LIQUIDO  VL_FOB\n",
       "0    2003       9  EXTREMA  3105      493  1754.385965     323"
      ]
     },
     "execution_count": 37,
     "metadata": {},
     "output_type": "execute_result"
    }
   ],
   "source": [
    "i_f_m_r_pa_clean.head(1)"
   ]
  },
  {
   "cell_type": "code",
   "execution_count": 38,
   "id": "4409590d-ae67-4ee5-bd43-983cd026fdaa",
   "metadata": {},
   "outputs": [],
   "source": [
    "outros_paises=i_f_m_r_pa_clean.groupby('CO_PAIS').KG_LIQUIDO.sum().sort_values().reset_index()\n",
    "outros_paises=outros_paises[i_f_m_r_pa_clean.KG_LIQUIDO<10**6]['CO_PAIS'].to_list()"
   ]
  },
  {
   "cell_type": "code",
   "execution_count": 39,
   "id": "533ef744-4b6a-436d-a35e-938c59e5bd77",
   "metadata": {},
   "outputs": [
    {
     "data": {
      "text/html": [
       "<div>\n",
       "<style scoped>\n",
       "    .dataframe tbody tr th:only-of-type {\n",
       "        vertical-align: middle;\n",
       "    }\n",
       "\n",
       "    .dataframe tbody tr th {\n",
       "        vertical-align: top;\n",
       "    }\n",
       "\n",
       "    .dataframe thead th {\n",
       "        text-align: right;\n",
       "    }\n",
       "</style>\n",
       "<table border=\"1\" class=\"dataframe\">\n",
       "  <thead>\n",
       "    <tr style=\"text-align: right;\">\n",
       "      <th></th>\n",
       "      <th>CO_PAIS</th>\n",
       "      <th>CO_PAIS_ISON3</th>\n",
       "      <th>CO_PAIS_ISOA3</th>\n",
       "      <th>NO_PAIS</th>\n",
       "      <th>NO_PAIS_ING</th>\n",
       "      <th>NO_PAIS_ESP</th>\n",
       "    </tr>\n",
       "  </thead>\n",
       "  <tbody>\n",
       "    <tr>\n",
       "      <th>271</th>\n",
       "      <td>875</td>\n",
       "      <td>876</td>\n",
       "      <td>WLF</td>\n",
       "      <td>Wallis e Futuna, Ilhas</td>\n",
       "      <td>Wallis and Futuna</td>\n",
       "      <td>Wallis y Futuna</td>\n",
       "    </tr>\n",
       "    <tr>\n",
       "      <th>272</th>\n",
       "      <td>888</td>\n",
       "      <td>180</td>\n",
       "      <td>COD</td>\n",
       "      <td>Congo, República Democrática</td>\n",
       "      <td>Democratic Republic of the Congo</td>\n",
       "      <td>República Democrática del Congo</td>\n",
       "    </tr>\n",
       "    <tr>\n",
       "      <th>273</th>\n",
       "      <td>890</td>\n",
       "      <td>894</td>\n",
       "      <td>ZMB</td>\n",
       "      <td>Zâmbia</td>\n",
       "      <td>Zambia</td>\n",
       "      <td>Zambia</td>\n",
       "    </tr>\n",
       "    <tr>\n",
       "      <th>274</th>\n",
       "      <td>895</td>\n",
       "      <td>592</td>\n",
       "      <td>PCZ</td>\n",
       "      <td>Zona do Canal do Panamá</td>\n",
       "      <td>Panama Canal Zone</td>\n",
       "      <td>Zona del Canal de Panamá</td>\n",
       "    </tr>\n",
       "    <tr>\n",
       "      <th>275</th>\n",
       "      <td>990</td>\n",
       "      <td>898</td>\n",
       "      <td>ZZZ</td>\n",
       "      <td>Provisão de Navios e Aeronaves</td>\n",
       "      <td>Planes and ships provisions</td>\n",
       "      <td>Disposiciones para buques y aviones</td>\n",
       "    </tr>\n",
       "    <tr>\n",
       "      <th>276</th>\n",
       "      <td>994</td>\n",
       "      <td>898</td>\n",
       "      <td>ZZZ</td>\n",
       "      <td>A Designar</td>\n",
       "      <td>To define</td>\n",
       "      <td>A designar</td>\n",
       "    </tr>\n",
       "    <tr>\n",
       "      <th>277</th>\n",
       "      <td>995</td>\n",
       "      <td>898</td>\n",
       "      <td>ZZZ</td>\n",
       "      <td>Bancos Centrais</td>\n",
       "      <td>Central Banks</td>\n",
       "      <td>Bancos Centrales</td>\n",
       "    </tr>\n",
       "    <tr>\n",
       "      <th>278</th>\n",
       "      <td>997</td>\n",
       "      <td>898</td>\n",
       "      <td>ZZZ</td>\n",
       "      <td>Organizações Internacionais</td>\n",
       "      <td>International Organizations</td>\n",
       "      <td>Organizaciones Internacionales</td>\n",
       "    </tr>\n",
       "    <tr>\n",
       "      <th>279</th>\n",
       "      <td>998</td>\n",
       "      <td>898</td>\n",
       "      <td>ZZZ</td>\n",
       "      <td>Sem informação</td>\n",
       "      <td>Sem informação</td>\n",
       "      <td>Sem informação</td>\n",
       "    </tr>\n",
       "    <tr>\n",
       "      <th>280</th>\n",
       "      <td>999</td>\n",
       "      <td>898</td>\n",
       "      <td>ZZZ</td>\n",
       "      <td>Não Declarados</td>\n",
       "      <td>Not declared</td>\n",
       "      <td>No declarados</td>\n",
       "    </tr>\n",
       "  </tbody>\n",
       "</table>\n",
       "</div>"
      ],
      "text/plain": [
       "     CO_PAIS  CO_PAIS_ISON3 CO_PAIS_ISOA3                         NO_PAIS  \\\n",
       "271      875            876           WLF          Wallis e Futuna, Ilhas   \n",
       "272      888            180           COD    Congo, República Democrática   \n",
       "273      890            894           ZMB                          Zâmbia   \n",
       "274      895            592           PCZ         Zona do Canal do Panamá   \n",
       "275      990            898           ZZZ  Provisão de Navios e Aeronaves   \n",
       "276      994            898           ZZZ                      A Designar   \n",
       "277      995            898           ZZZ                 Bancos Centrais   \n",
       "278      997            898           ZZZ     Organizações Internacionais   \n",
       "279      998            898           ZZZ                  Sem informação   \n",
       "280      999            898           ZZZ                  Não Declarados   \n",
       "\n",
       "                          NO_PAIS_ING                          NO_PAIS_ESP  \n",
       "271                 Wallis and Futuna                      Wallis y Futuna  \n",
       "272  Democratic Republic of the Congo      República Democrática del Congo  \n",
       "273                            Zambia                               Zambia  \n",
       "274                 Panama Canal Zone             Zona del Canal de Panamá  \n",
       "275       Planes and ships provisions  Disposiciones para buques y aviones  \n",
       "276                         To define                           A designar  \n",
       "277                     Central Banks                     Bancos Centrales  \n",
       "278       International Organizations       Organizaciones Internacionales  \n",
       "279                    Sem informação                       Sem informação  \n",
       "280                      Not declared                        No declarados  "
      ]
     },
     "execution_count": 39,
     "metadata": {},
     "output_type": "execute_result"
    }
   ],
   "source": [
    "pd.read_csv('~/git/BD/Comexstat/PAIS.csv', sep=';',encoding='Latin-1').tail(10)"
   ]
  },
  {
   "cell_type": "code",
   "execution_count": 40,
   "id": "6cc6570b-5ffe-4870-bef7-a80f6ff908db",
   "metadata": {},
   "outputs": [],
   "source": [
    "i_f_m_r_pa_clean.loc[i_f_m_r_pa_clean.CO_PAIS.isin(outros_paises),'CO_PAIS']=999"
   ]
  },
  {
   "cell_type": "code",
   "execution_count": 41,
   "id": "c05a0adb-ae0c-42f1-adb9-022fa8d60901",
   "metadata": {},
   "outputs": [],
   "source": [
    "i_f_m_r_pa_clean=i_f_m_r_pa_clean.rename(columns={'NO_MUN':'NO_MUN_i_f','SH4':'SH4_f','CO_PAIS':'CO_PAIS_e_f','KG_LIQUIDO':'KG_f','VL_FOB':'VL_f'})"
   ]
  },
  {
   "cell_type": "code",
   "execution_count": 42,
   "id": "f1cc6a7b-055e-4270-8f43-adda48558960",
   "metadata": {},
   "outputs": [],
   "source": [
    "i_f_m_r_pa_clean.to_csv('~/git/comex_sh_mun/temp/i_f_m_r_pa_clean.csv',index=False)"
   ]
  },
  {
   "cell_type": "code",
   "execution_count": null,
   "id": "39d0ae3d-bcee-408f-8ff9-cebf85ca6c7d",
   "metadata": {},
   "outputs": [],
   "source": []
  }
 ],
 "metadata": {
  "kernelspec": {
   "display_name": "Python 3 (ipykernel)",
   "language": "python",
   "name": "python3"
  },
  "language_info": {
   "codemirror_mode": {
    "name": "ipython",
    "version": 3
   },
   "file_extension": ".py",
   "mimetype": "text/x-python",
   "name": "python",
   "nbconvert_exporter": "python",
   "pygments_lexer": "ipython3",
   "version": "3.11.5"
  }
 },
 "nbformat": 4,
 "nbformat_minor": 5
}
