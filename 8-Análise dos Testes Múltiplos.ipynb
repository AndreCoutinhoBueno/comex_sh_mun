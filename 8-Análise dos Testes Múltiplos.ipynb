{
 "cells": [
  {
   "cell_type": "code",
   "execution_count": 37,
   "id": "85ebd80a",
   "metadata": {},
   "outputs": [],
   "source": [
    "%run '~/git/Bibliotecas.ipynb'"
   ]
  },
  {
   "cell_type": "code",
   "execution_count": 38,
   "id": "0a4c7a45",
   "metadata": {},
   "outputs": [],
   "source": [
    "r=pd.read_csv('~/git/Importacao-por-SH-e-Municipio/temp/q1.csv')"
   ]
  },
  {
   "cell_type": "code",
   "execution_count": 39,
   "id": "ec57ce73",
   "metadata": {
    "scrolled": false
   },
   "outputs": [],
   "source": [
    "r['test_f%_LR'] =round(100*(r['test_f_LR' ]-r['y_test_f'])/r['y_test_f'])\n",
    "r['test_f%_RFR']=round(100*(r['test_f_RFR']-r['y_test_f'])/r['y_test_f'])"
   ]
  },
  {
   "cell_type": "code",
   "execution_count": 40,
   "id": "2f97dbc1",
   "metadata": {
    "scrolled": true
   },
   "outputs": [],
   "source": [
    "a1=r.groupby('c_l')['test_f%_LR'].mean().reset_index().rename(columns={'test_f%_LR':'f%_LR_mean'})\n",
    "\n",
    "a2=r.groupby('c_l')['test_f%_LR'].std().reset_index().rename(columns={'test_f%_LR':'f%_LR_std'})\n",
    "\n",
    "a3=a1.merge(a2)\n",
    "a3['desvio_maximo_LR']=np.abs(a3['f%_LR_mean'])+a3['f%_LR_std']"
   ]
  },
  {
   "cell_type": "code",
   "execution_count": 41,
   "id": "52c604c2",
   "metadata": {},
   "outputs": [],
   "source": [
    "a1=r.groupby('c_l')['test_f%_RFR'].mean().reset_index().rename(columns={'test_f%_RFR':'f%_RFR_mean'})\n",
    "\n",
    "a2=r.groupby('c_l')['test_f%_RFR'].std().reset_index().rename(columns={'test_f%_RFR':'f%_RFR_std'})\n",
    "\n",
    "a3=a1.merge(a2)\n",
    "a3['desvio_maximo_RFR']=np.abs(a3['f%_RFR_mean'])+a3['f%_RFR_std']"
   ]
  },
  {
   "cell_type": "code",
   "execution_count": 42,
   "id": "650b11cb",
   "metadata": {},
   "outputs": [
    {
     "name": "stdout",
     "output_type": "stream",
     "text": [
      "\n",
      "\n",
      "Erro Médio das Regressões:\n",
      "\n",
      "test_f%_LR    -6.0\n",
      "test_f%_RFR   -2.0\n",
      "dtype: float64\n"
     ]
    }
   ],
   "source": [
    "print(f\"\\n\\nErro Médio das Regressões:\\n\\n{round(r[['test_f%_LR','test_f%_RFR']].mean())}\")"
   ]
  },
  {
   "cell_type": "code",
   "execution_count": 43,
   "id": "6810d45d",
   "metadata": {},
   "outputs": [
    {
     "name": "stdout",
     "output_type": "stream",
     "text": [
      "\n",
      "\n",
      "Desvio Padrão das Regressões:\n",
      "\n",
      "test_f%_LR     522.0\n",
      "test_f%_RFR     28.0\n",
      "dtype: float64\n"
     ]
    }
   ],
   "source": [
    "print(f\"\\n\\nDesvio Padrão das Regressões:\\n\\n{round(r[['test_f%_LR','test_f%_RFR']].std())}\")"
   ]
  },
  {
   "cell_type": "code",
   "execution_count": 44,
   "id": "e4fca878",
   "metadata": {},
   "outputs": [
    {
     "name": "stdout",
     "output_type": "stream",
     "text": [
      "\n",
      "\n",
      "Devido a maior desvio padrão da Regressão Linear, seguiremos o estudo\n",
      "somente processando a regressão por Floresta Randômica.\n",
      "\n"
     ]
    }
   ],
   "source": [
    "print('\\n\\nDevido a maior desvio padrão da Regressão Linear, seguiremos o estudo\\n\\\n",
    "somente processando a regressão por Floresta Randômica.\\n')"
   ]
  },
  {
   "cell_type": "code",
   "execution_count": 45,
   "id": "e3231281",
   "metadata": {},
   "outputs": [
    {
     "name": "stdout",
     "output_type": "stream",
     "text": [
      "\n",
      "\n",
      "\n",
      "Melhores Combinações de Variáveis para Previsão\n",
      "\n"
     ]
    }
   ],
   "source": [
    "print('\\n\\n\\nMelhores Combinações de Variáveis para Previsão\\n')"
   ]
  },
  {
   "cell_type": "code",
   "execution_count": 46,
   "id": "0ef676f6",
   "metadata": {},
   "outputs": [
    {
     "data": {
      "text/html": [
       "<div>\n",
       "<style scoped>\n",
       "    .dataframe tbody tr th:only-of-type {\n",
       "        vertical-align: middle;\n",
       "    }\n",
       "\n",
       "    .dataframe tbody tr th {\n",
       "        vertical-align: top;\n",
       "    }\n",
       "\n",
       "    .dataframe thead th {\n",
       "        text-align: right;\n",
       "    }\n",
       "</style>\n",
       "<table border=\"1\" class=\"dataframe\">\n",
       "  <thead>\n",
       "    <tr style=\"text-align: right;\">\n",
       "      <th></th>\n",
       "      <th>c_l</th>\n",
       "      <th>f%_RFR_mean</th>\n",
       "      <th>f%_RFR_std</th>\n",
       "      <th>desvio_maximo_RFR</th>\n",
       "    </tr>\n",
       "  </thead>\n",
       "  <tbody>\n",
       "    <tr>\n",
       "      <th>0</th>\n",
       "      <td>Ano1,miFOB_f_ad</td>\n",
       "      <td>-3.0</td>\n",
       "      <td>18.0</td>\n",
       "      <td>21.0</td>\n",
       "    </tr>\n",
       "    <tr>\n",
       "      <th>1</th>\n",
       "      <td>Ano1,miFOB_f_ad,miFOB_c_ad</td>\n",
       "      <td>-1.0</td>\n",
       "      <td>21.0</td>\n",
       "      <td>21.0</td>\n",
       "    </tr>\n",
       "    <tr>\n",
       "      <th>2</th>\n",
       "      <td>Ano1,miFOB_f_ad,KT_c_ad,miFOB_c_ad</td>\n",
       "      <td>-1.0</td>\n",
       "      <td>21.0</td>\n",
       "      <td>22.0</td>\n",
       "    </tr>\n",
       "    <tr>\n",
       "      <th>3</th>\n",
       "      <td>Ano1,rel_preço_ad,miFOB_f_ad</td>\n",
       "      <td>-3.0</td>\n",
       "      <td>19.0</td>\n",
       "      <td>22.0</td>\n",
       "    </tr>\n",
       "    <tr>\n",
       "      <th>4</th>\n",
       "      <td>Ano1,rel_preço_ad,mm_ad</td>\n",
       "      <td>-0.0</td>\n",
       "      <td>22.0</td>\n",
       "      <td>22.0</td>\n",
       "    </tr>\n",
       "    <tr>\n",
       "      <th>5</th>\n",
       "      <td>Ano1,miFOB_f_ad,KT_c_ad</td>\n",
       "      <td>-1.0</td>\n",
       "      <td>21.0</td>\n",
       "      <td>22.0</td>\n",
       "    </tr>\n",
       "    <tr>\n",
       "      <th>6</th>\n",
       "      <td>Ano1,rel_preço_ad,mm_ad,KT_c_ad,miFOB_c_ad</td>\n",
       "      <td>-0.0</td>\n",
       "      <td>22.0</td>\n",
       "      <td>22.0</td>\n",
       "    </tr>\n",
       "    <tr>\n",
       "      <th>7</th>\n",
       "      <td>Ano1,rel_preço_ad,mm_ad,KT_c_ad</td>\n",
       "      <td>-0.0</td>\n",
       "      <td>22.0</td>\n",
       "      <td>22.0</td>\n",
       "    </tr>\n",
       "    <tr>\n",
       "      <th>8</th>\n",
       "      <td>Ano1,mm_ad,miFOB_f_ad,miFOB_c_ad</td>\n",
       "      <td>-2.0</td>\n",
       "      <td>20.0</td>\n",
       "      <td>22.0</td>\n",
       "    </tr>\n",
       "    <tr>\n",
       "      <th>9</th>\n",
       "      <td>Ano1,mm_ad,miFOB_f_ad</td>\n",
       "      <td>-2.0</td>\n",
       "      <td>20.0</td>\n",
       "      <td>22.0</td>\n",
       "    </tr>\n",
       "    <tr>\n",
       "      <th>10</th>\n",
       "      <td>Ano1,rel_preço_ad,miFOB_f_ad,miFOB_c_ad</td>\n",
       "      <td>-1.0</td>\n",
       "      <td>21.0</td>\n",
       "      <td>22.0</td>\n",
       "    </tr>\n",
       "    <tr>\n",
       "      <th>11</th>\n",
       "      <td>Ano1,rel_preço_ad,miFOB_f_ad,KT_c_ad</td>\n",
       "      <td>-2.0</td>\n",
       "      <td>21.0</td>\n",
       "      <td>22.0</td>\n",
       "    </tr>\n",
       "    <tr>\n",
       "      <th>12</th>\n",
       "      <td>Ano1,mm_ad,miFOB_f_ad,KT_c_ad,miFOB_c_ad</td>\n",
       "      <td>-2.0</td>\n",
       "      <td>20.0</td>\n",
       "      <td>22.0</td>\n",
       "    </tr>\n",
       "    <tr>\n",
       "      <th>13</th>\n",
       "      <td>Ano1,rel_preço_ad,miFOB_f_ad,KT_c_ad,miFOB_c_ad</td>\n",
       "      <td>-2.0</td>\n",
       "      <td>21.0</td>\n",
       "      <td>22.0</td>\n",
       "    </tr>\n",
       "    <tr>\n",
       "      <th>14</th>\n",
       "      <td>Ano1,rel_preço_ad,mm_ad,miFOB_f_ad,KT_c_ad,miF...</td>\n",
       "      <td>-3.0</td>\n",
       "      <td>20.0</td>\n",
       "      <td>23.0</td>\n",
       "    </tr>\n",
       "  </tbody>\n",
       "</table>\n",
       "</div>"
      ],
      "text/plain": [
       "                                                  c_l  f%_RFR_mean  \\\n",
       "0                                     Ano1,miFOB_f_ad         -3.0   \n",
       "1                          Ano1,miFOB_f_ad,miFOB_c_ad         -1.0   \n",
       "2                  Ano1,miFOB_f_ad,KT_c_ad,miFOB_c_ad         -1.0   \n",
       "3                        Ano1,rel_preço_ad,miFOB_f_ad         -3.0   \n",
       "4                             Ano1,rel_preço_ad,mm_ad         -0.0   \n",
       "5                             Ano1,miFOB_f_ad,KT_c_ad         -1.0   \n",
       "6          Ano1,rel_preço_ad,mm_ad,KT_c_ad,miFOB_c_ad         -0.0   \n",
       "7                     Ano1,rel_preço_ad,mm_ad,KT_c_ad         -0.0   \n",
       "8                    Ano1,mm_ad,miFOB_f_ad,miFOB_c_ad         -2.0   \n",
       "9                               Ano1,mm_ad,miFOB_f_ad         -2.0   \n",
       "10            Ano1,rel_preço_ad,miFOB_f_ad,miFOB_c_ad         -1.0   \n",
       "11               Ano1,rel_preço_ad,miFOB_f_ad,KT_c_ad         -2.0   \n",
       "12           Ano1,mm_ad,miFOB_f_ad,KT_c_ad,miFOB_c_ad         -2.0   \n",
       "13    Ano1,rel_preço_ad,miFOB_f_ad,KT_c_ad,miFOB_c_ad         -2.0   \n",
       "14  Ano1,rel_preço_ad,mm_ad,miFOB_f_ad,KT_c_ad,miF...         -3.0   \n",
       "\n",
       "    f%_RFR_std  desvio_maximo_RFR  \n",
       "0         18.0               21.0  \n",
       "1         21.0               21.0  \n",
       "2         21.0               22.0  \n",
       "3         19.0               22.0  \n",
       "4         22.0               22.0  \n",
       "5         21.0               22.0  \n",
       "6         22.0               22.0  \n",
       "7         22.0               22.0  \n",
       "8         20.0               22.0  \n",
       "9         20.0               22.0  \n",
       "10        21.0               22.0  \n",
       "11        21.0               22.0  \n",
       "12        20.0               22.0  \n",
       "13        21.0               22.0  \n",
       "14        20.0               23.0  "
      ]
     },
     "metadata": {},
     "output_type": "display_data"
    }
   ],
   "source": [
    "a3=a3.sort_values(by=['desvio_maximo_RFR'])\n",
    "display(round(a3).head(15).reset_index(drop=True))"
   ]
  },
  {
   "cell_type": "markdown",
   "id": "68f47c51",
   "metadata": {},
   "source": [
    "Considerando todos os valores de desvio_maximo_FR sem diferença significativa, faremos opção por a combinação de fatores da linha 4, que alé do Ano1 , leava em conta também as chuvas e a relação de preço entre fertilizantes e café."
   ]
  },
  {
   "cell_type": "code",
   "execution_count": 47,
   "id": "ad8b7a1f",
   "metadata": {},
   "outputs": [
    {
     "data": {
      "text/html": [
       "<div>\n",
       "<style scoped>\n",
       "    .dataframe tbody tr th:only-of-type {\n",
       "        vertical-align: middle;\n",
       "    }\n",
       "\n",
       "    .dataframe tbody tr th {\n",
       "        vertical-align: top;\n",
       "    }\n",
       "\n",
       "    .dataframe thead th {\n",
       "        text-align: right;\n",
       "    }\n",
       "</style>\n",
       "<table border=\"1\" class=\"dataframe\">\n",
       "  <thead>\n",
       "    <tr style=\"text-align: right;\">\n",
       "      <th></th>\n",
       "      <th>c_l</th>\n",
       "      <th>f%_RFR_mean</th>\n",
       "      <th>f%_RFR_std</th>\n",
       "      <th>desvio_maximo_RFR</th>\n",
       "    </tr>\n",
       "  </thead>\n",
       "  <tbody>\n",
       "    <tr>\n",
       "      <th>0</th>\n",
       "      <td>Ano1</td>\n",
       "      <td>3.0</td>\n",
       "      <td>25.0</td>\n",
       "      <td>28.0</td>\n",
       "    </tr>\n",
       "  </tbody>\n",
       "</table>\n",
       "</div>"
      ],
      "text/plain": [
       "    c_l  f%_RFR_mean  f%_RFR_std  desvio_maximo_RFR\n",
       "0  Ano1          3.0        25.0               28.0"
      ]
     },
     "metadata": {},
     "output_type": "display_data"
    }
   ],
   "source": [
    "display(round(a3[a3.c_l=='Ano1']))"
   ]
  },
  {
   "cell_type": "code",
   "execution_count": 48,
   "id": "59a6aded",
   "metadata": {},
   "outputs": [
    {
     "data": {
      "text/html": [
       "<div>\n",
       "<style scoped>\n",
       "    .dataframe tbody tr th:only-of-type {\n",
       "        vertical-align: middle;\n",
       "    }\n",
       "\n",
       "    .dataframe tbody tr th {\n",
       "        vertical-align: top;\n",
       "    }\n",
       "\n",
       "    .dataframe thead th {\n",
       "        text-align: right;\n",
       "    }\n",
       "</style>\n",
       "<table border=\"1\" class=\"dataframe\">\n",
       "  <thead>\n",
       "    <tr style=\"text-align: right;\">\n",
       "      <th></th>\n",
       "      <th>c_l</th>\n",
       "      <th>f%_RFR_mean</th>\n",
       "      <th>f%_RFR_std</th>\n",
       "      <th>desvio_maximo_RFR</th>\n",
       "    </tr>\n",
       "  </thead>\n",
       "  <tbody>\n",
       "    <tr>\n",
       "      <th>64</th>\n",
       "      <td>Ano4</td>\n",
       "      <td>5.0</td>\n",
       "      <td>34.0</td>\n",
       "      <td>39.0</td>\n",
       "    </tr>\n",
       "  </tbody>\n",
       "</table>\n",
       "</div>"
      ],
      "text/plain": [
       "     c_l  f%_RFR_mean  f%_RFR_std  desvio_maximo_RFR\n",
       "64  Ano4          5.0        34.0               39.0"
      ]
     },
     "metadata": {},
     "output_type": "display_data"
    }
   ],
   "source": [
    "display(round(a3[a3.c_l=='Ano4']))"
   ]
  },
  {
   "cell_type": "code",
   "execution_count": 49,
   "id": "b1d65d28",
   "metadata": {},
   "outputs": [
    {
     "data": {
      "text/html": [
       "<div>\n",
       "<style scoped>\n",
       "    .dataframe tbody tr th:only-of-type {\n",
       "        vertical-align: middle;\n",
       "    }\n",
       "\n",
       "    .dataframe tbody tr th {\n",
       "        vertical-align: top;\n",
       "    }\n",
       "\n",
       "    .dataframe thead th {\n",
       "        text-align: right;\n",
       "    }\n",
       "</style>\n",
       "<table border=\"1\" class=\"dataframe\">\n",
       "  <thead>\n",
       "    <tr style=\"text-align: right;\">\n",
       "      <th></th>\n",
       "      <th>c_l</th>\n",
       "      <th>f%_RFR_mean</th>\n",
       "      <th>f%_RFR_std</th>\n",
       "      <th>desvio_maximo_RFR</th>\n",
       "    </tr>\n",
       "  </thead>\n",
       "  <tbody>\n",
       "    <tr>\n",
       "      <th>96</th>\n",
       "      <td>Ano7</td>\n",
       "      <td>12.0</td>\n",
       "      <td>46.0</td>\n",
       "      <td>58.0</td>\n",
       "    </tr>\n",
       "  </tbody>\n",
       "</table>\n",
       "</div>"
      ],
      "text/plain": [
       "     c_l  f%_RFR_mean  f%_RFR_std  desvio_maximo_RFR\n",
       "96  Ano7         12.0        46.0               58.0"
      ]
     },
     "metadata": {},
     "output_type": "display_data"
    }
   ],
   "source": [
    "display(round(a3[a3.c_l=='Ano7']))"
   ]
  },
  {
   "cell_type": "code",
   "execution_count": 50,
   "id": "254c4ce8",
   "metadata": {},
   "outputs": [
    {
     "data": {
      "text/html": [
       "<div>\n",
       "<style scoped>\n",
       "    .dataframe tbody tr th:only-of-type {\n",
       "        vertical-align: middle;\n",
       "    }\n",
       "\n",
       "    .dataframe tbody tr th {\n",
       "        vertical-align: top;\n",
       "    }\n",
       "\n",
       "    .dataframe thead th {\n",
       "        text-align: right;\n",
       "    }\n",
       "</style>\n",
       "<table border=\"1\" class=\"dataframe\">\n",
       "  <thead>\n",
       "    <tr style=\"text-align: right;\">\n",
       "      <th></th>\n",
       "      <th>c_l</th>\n",
       "      <th>f%_RFR_mean</th>\n",
       "      <th>f%_RFR_std</th>\n",
       "      <th>desvio_maximo_RFR</th>\n",
       "    </tr>\n",
       "  </thead>\n",
       "  <tbody>\n",
       "    <tr>\n",
       "      <th>32</th>\n",
       "      <td>Ano10</td>\n",
       "      <td>3.0</td>\n",
       "      <td>27.0</td>\n",
       "      <td>30.0</td>\n",
       "    </tr>\n",
       "  </tbody>\n",
       "</table>\n",
       "</div>"
      ],
      "text/plain": [
       "      c_l  f%_RFR_mean  f%_RFR_std  desvio_maximo_RFR\n",
       "32  Ano10          3.0        27.0               30.0"
      ]
     },
     "metadata": {},
     "output_type": "display_data"
    }
   ],
   "source": [
    "display(round(a3[a3.c_l=='Ano10']))"
   ]
  },
  {
   "cell_type": "code",
   "execution_count": 51,
   "id": "99356579",
   "metadata": {},
   "outputs": [
    {
     "data": {
      "text/html": [
       "<div>\n",
       "<style scoped>\n",
       "    .dataframe tbody tr th:only-of-type {\n",
       "        vertical-align: middle;\n",
       "    }\n",
       "\n",
       "    .dataframe tbody tr th {\n",
       "        vertical-align: top;\n",
       "    }\n",
       "\n",
       "    .dataframe thead th {\n",
       "        text-align: right;\n",
       "    }\n",
       "</style>\n",
       "<table border=\"1\" class=\"dataframe\">\n",
       "  <thead>\n",
       "    <tr style=\"text-align: right;\">\n",
       "      <th></th>\n",
       "      <th>c_l</th>\n",
       "      <th>f%_RFR_mean</th>\n",
       "      <th>f%_RFR_std</th>\n",
       "      <th>desvio_maximo_RFR</th>\n",
       "    </tr>\n",
       "  </thead>\n",
       "  <tbody>\n",
       "    <tr>\n",
       "      <th>135</th>\n",
       "      <td>mm_ad</td>\n",
       "      <td>-12.0</td>\n",
       "      <td>24.0</td>\n",
       "      <td>36.0</td>\n",
       "    </tr>\n",
       "  </tbody>\n",
       "</table>\n",
       "</div>"
      ],
      "text/plain": [
       "       c_l  f%_RFR_mean  f%_RFR_std  desvio_maximo_RFR\n",
       "135  mm_ad        -12.0        24.0               36.0"
      ]
     },
     "metadata": {},
     "output_type": "display_data"
    }
   ],
   "source": [
    "display(round(a3[a3.c_l=='mm_ad']))"
   ]
  },
  {
   "cell_type": "code",
   "execution_count": 52,
   "id": "1ffaa992",
   "metadata": {},
   "outputs": [
    {
     "data": {
      "text/html": [
       "<div>\n",
       "<style scoped>\n",
       "    .dataframe tbody tr th:only-of-type {\n",
       "        vertical-align: middle;\n",
       "    }\n",
       "\n",
       "    .dataframe tbody tr th {\n",
       "        vertical-align: top;\n",
       "    }\n",
       "\n",
       "    .dataframe thead th {\n",
       "        text-align: right;\n",
       "    }\n",
       "</style>\n",
       "<table border=\"1\" class=\"dataframe\">\n",
       "  <thead>\n",
       "    <tr style=\"text-align: right;\">\n",
       "      <th></th>\n",
       "      <th>c_l</th>\n",
       "      <th>f%_RFR_mean</th>\n",
       "      <th>f%_RFR_std</th>\n",
       "      <th>desvio_maximo_RFR</th>\n",
       "    </tr>\n",
       "  </thead>\n",
       "  <tbody>\n",
       "    <tr>\n",
       "      <th>143</th>\n",
       "      <td>rel_preço_ad</td>\n",
       "      <td>-9.0</td>\n",
       "      <td>26.0</td>\n",
       "      <td>35.0</td>\n",
       "    </tr>\n",
       "  </tbody>\n",
       "</table>\n",
       "</div>"
      ],
      "text/plain": [
       "              c_l  f%_RFR_mean  f%_RFR_std  desvio_maximo_RFR\n",
       "143  rel_preço_ad         -9.0        26.0               35.0"
      ]
     },
     "metadata": {},
     "output_type": "display_data"
    }
   ],
   "source": [
    "display(round(a3[a3.c_l=='rel_preço_ad']))"
   ]
  },
  {
   "cell_type": "code",
   "execution_count": 53,
   "id": "86a86860",
   "metadata": {},
   "outputs": [
    {
     "data": {
      "text/html": [
       "<div>\n",
       "<style scoped>\n",
       "    .dataframe tbody tr th:only-of-type {\n",
       "        vertical-align: middle;\n",
       "    }\n",
       "\n",
       "    .dataframe tbody tr th {\n",
       "        vertical-align: top;\n",
       "    }\n",
       "\n",
       "    .dataframe thead th {\n",
       "        text-align: right;\n",
       "    }\n",
       "</style>\n",
       "<table border=\"1\" class=\"dataframe\">\n",
       "  <thead>\n",
       "    <tr style=\"text-align: right;\">\n",
       "      <th></th>\n",
       "      <th>c_l</th>\n",
       "      <th>f%_RFR_mean</th>\n",
       "      <th>f%_RFR_std</th>\n",
       "      <th>desvio_maximo_RFR</th>\n",
       "    </tr>\n",
       "  </thead>\n",
       "  <tbody>\n",
       "    <tr>\n",
       "      <th>131</th>\n",
       "      <td>miFOB_f_ad</td>\n",
       "      <td>-12.0</td>\n",
       "      <td>24.0</td>\n",
       "      <td>36.0</td>\n",
       "    </tr>\n",
       "  </tbody>\n",
       "</table>\n",
       "</div>"
      ],
      "text/plain": [
       "            c_l  f%_RFR_mean  f%_RFR_std  desvio_maximo_RFR\n",
       "131  miFOB_f_ad        -12.0        24.0               36.0"
      ]
     },
     "metadata": {},
     "output_type": "display_data"
    }
   ],
   "source": [
    "display(round(a3[a3.c_l=='miFOB_f_ad']))"
   ]
  },
  {
   "cell_type": "code",
   "execution_count": 54,
   "id": "1eee4fe0",
   "metadata": {},
   "outputs": [
    {
     "data": {
      "text/html": [
       "<div>\n",
       "<style scoped>\n",
       "    .dataframe tbody tr th:only-of-type {\n",
       "        vertical-align: middle;\n",
       "    }\n",
       "\n",
       "    .dataframe tbody tr th {\n",
       "        vertical-align: top;\n",
       "    }\n",
       "\n",
       "    .dataframe thead th {\n",
       "        text-align: right;\n",
       "    }\n",
       "</style>\n",
       "<table border=\"1\" class=\"dataframe\">\n",
       "  <thead>\n",
       "    <tr style=\"text-align: right;\">\n",
       "      <th></th>\n",
       "      <th>c_l</th>\n",
       "      <th>f%_RFR_mean</th>\n",
       "      <th>f%_RFR_std</th>\n",
       "      <th>desvio_maximo_RFR</th>\n",
       "    </tr>\n",
       "  </thead>\n",
       "  <tbody>\n",
       "    <tr>\n",
       "      <th>130</th>\n",
       "      <td>miFOB_c_ad</td>\n",
       "      <td>-5.0</td>\n",
       "      <td>23.0</td>\n",
       "      <td>28.0</td>\n",
       "    </tr>\n",
       "  </tbody>\n",
       "</table>\n",
       "</div>"
      ],
      "text/plain": [
       "            c_l  f%_RFR_mean  f%_RFR_std  desvio_maximo_RFR\n",
       "130  miFOB_c_ad         -5.0        23.0               28.0"
      ]
     },
     "metadata": {},
     "output_type": "display_data"
    }
   ],
   "source": [
    "display(round(a3[a3.c_l=='miFOB_c_ad']))"
   ]
  },
  {
   "cell_type": "code",
   "execution_count": 55,
   "id": "d5d5db4c",
   "metadata": {},
   "outputs": [
    {
     "data": {
      "text/html": [
       "<div>\n",
       "<style scoped>\n",
       "    .dataframe tbody tr th:only-of-type {\n",
       "        vertical-align: middle;\n",
       "    }\n",
       "\n",
       "    .dataframe tbody tr th {\n",
       "        vertical-align: top;\n",
       "    }\n",
       "\n",
       "    .dataframe thead th {\n",
       "        text-align: right;\n",
       "    }\n",
       "</style>\n",
       "<table border=\"1\" class=\"dataframe\">\n",
       "  <thead>\n",
       "    <tr style=\"text-align: right;\">\n",
       "      <th></th>\n",
       "      <th>c_l</th>\n",
       "      <th>f%_RFR_mean</th>\n",
       "      <th>f%_RFR_std</th>\n",
       "      <th>desvio_maximo_RFR</th>\n",
       "    </tr>\n",
       "  </thead>\n",
       "  <tbody>\n",
       "    <tr>\n",
       "      <th>128</th>\n",
       "      <td>KT_c_ad</td>\n",
       "      <td>5.0</td>\n",
       "      <td>34.0</td>\n",
       "      <td>39.0</td>\n",
       "    </tr>\n",
       "  </tbody>\n",
       "</table>\n",
       "</div>"
      ],
      "text/plain": [
       "         c_l  f%_RFR_mean  f%_RFR_std  desvio_maximo_RFR\n",
       "128  KT_c_ad          5.0        34.0               39.0"
      ]
     },
     "metadata": {},
     "output_type": "display_data"
    }
   ],
   "source": [
    "display(round(a3[a3.c_l=='KT_c_ad']))"
   ]
  },
  {
   "cell_type": "code",
   "execution_count": 56,
   "id": "eca5983b",
   "metadata": {},
   "outputs": [],
   "source": [
    "col_prev_multi_24=a3.iloc[4:5,:]\n",
    "col_prev_multi_24.to_csv('~/git/Importacao-por-SH-e-Municipio/temp/col_prev_multi_24.csv')"
   ]
  },
  {
   "cell_type": "code",
   "execution_count": 57,
   "id": "708c6fa3",
   "metadata": {},
   "outputs": [
    {
     "name": "stdout",
     "output_type": "stream",
     "text": [
      "\n",
      "\n",
      "Para a previsão do ano de 2024, utilizaremos a primeira combinação do rank acima,\n",
      "porém ressaltando que os 15 testes acima apresentaram resultados semelhantes,\n",
      "\n",
      "No teste feito para identificar o melhor mês para iniciar agrupamento de 12 meses\n",
      "se pode verificar que o agrupamento que apresentou a melhor performance foi o \n",
      "grupamento com início no mês 1, Janeiro, o que equivale ao ano comum, normalmente\n",
      "utilizado. Por isso, ele será utilizado na previsão para o ano 2024.\n",
      "\n",
      "A seguir, para completar a compreensão do tema, apresentamos o rank das\n",
      "piores combinações de características para a previsão.\n",
      "\n"
     ]
    }
   ],
   "source": [
    "print(f'\\n\\nPara a previsão do ano de 2024, utilizaremos a primeira combinação do rank acima,\\n\\\n",
    "porém ressaltando que os 15 testes acima apresentaram resultados semelhantes,\\n\\n\\\n",
    "No teste feito para identificar o melhor mês para iniciar agrupamento de 12 meses\\n\\\n",
    "se pode verificar que o agrupamento que apresentou a melhor performance foi o \\n\\\n",
    "grupamento com início no mês 1, Janeiro, o que equivale ao ano comum, normalmente\\n\\\n",
    "utilizado. Por isso, ele será utilizado na previsão para o ano 2024.\\n\\n\\\n",
    "A seguir, para completar a compreensão do tema, apresentamos o rank das\\n\\\n",
    "piores combinações de características para a previsão.\\n')"
   ]
  },
  {
   "cell_type": "code",
   "execution_count": 58,
   "id": "8db94201",
   "metadata": {},
   "outputs": [
    {
     "name": "stdout",
     "output_type": "stream",
     "text": [
      "\n",
      "Piores Combinações de Variáveis para Previsão\n"
     ]
    },
    {
     "data": {
      "text/html": [
       "<div>\n",
       "<style scoped>\n",
       "    .dataframe tbody tr th:only-of-type {\n",
       "        vertical-align: middle;\n",
       "    }\n",
       "\n",
       "    .dataframe tbody tr th {\n",
       "        vertical-align: top;\n",
       "    }\n",
       "\n",
       "    .dataframe thead th {\n",
       "        text-align: right;\n",
       "    }\n",
       "</style>\n",
       "<table border=\"1\" class=\"dataframe\">\n",
       "  <thead>\n",
       "    <tr style=\"text-align: right;\">\n",
       "      <th></th>\n",
       "      <th>c_l</th>\n",
       "      <th>f%_RFR_mean</th>\n",
       "      <th>f%_RFR_std</th>\n",
       "      <th>desvio_maximo_RFR</th>\n",
       "    </tr>\n",
       "  </thead>\n",
       "  <tbody>\n",
       "    <tr>\n",
       "      <th>97</th>\n",
       "      <td>Ano7,KT_c_ad</td>\n",
       "      <td>11.0</td>\n",
       "      <td>46.0</td>\n",
       "      <td>58.0</td>\n",
       "    </tr>\n",
       "    <tr>\n",
       "      <th>96</th>\n",
       "      <td>Ano7</td>\n",
       "      <td>12.0</td>\n",
       "      <td>46.0</td>\n",
       "      <td>58.0</td>\n",
       "    </tr>\n",
       "    <tr>\n",
       "      <th>113</th>\n",
       "      <td>Ano7,rel_preço_ad,KT_c_ad</td>\n",
       "      <td>11.0</td>\n",
       "      <td>46.0</td>\n",
       "      <td>57.0</td>\n",
       "    </tr>\n",
       "  </tbody>\n",
       "</table>\n",
       "</div>"
      ],
      "text/plain": [
       "                           c_l  f%_RFR_mean  f%_RFR_std  desvio_maximo_RFR\n",
       "97                Ano7,KT_c_ad         11.0        46.0               58.0\n",
       "96                        Ano7         12.0        46.0               58.0\n",
       "113  Ano7,rel_preço_ad,KT_c_ad         11.0        46.0               57.0"
      ]
     },
     "metadata": {},
     "output_type": "display_data"
    }
   ],
   "source": [
    "print('\\nPiores Combinações de Variáveis para Previsão')\n",
    "display(round(a3.sort_values(by=['desvio_maximo_RFR'], ascending=False).head(3)))"
   ]
  },
  {
   "cell_type": "code",
   "execution_count": 59,
   "id": "a45e0141",
   "metadata": {},
   "outputs": [
    {
     "data": {
      "text/html": [
       "<div>\n",
       "<style scoped>\n",
       "    .dataframe tbody tr th:only-of-type {\n",
       "        vertical-align: middle;\n",
       "    }\n",
       "\n",
       "    .dataframe tbody tr th {\n",
       "        vertical-align: top;\n",
       "    }\n",
       "\n",
       "    .dataframe thead th {\n",
       "        text-align: right;\n",
       "    }\n",
       "</style>\n",
       "<table border=\"1\" class=\"dataframe\">\n",
       "  <thead>\n",
       "    <tr style=\"text-align: right;\">\n",
       "      <th></th>\n",
       "      <th>duração_treino</th>\n",
       "      <th>test_f%_RFR</th>\n",
       "    </tr>\n",
       "  </thead>\n",
       "  <tbody>\n",
       "    <tr>\n",
       "      <th>1</th>\n",
       "      <td>7</td>\n",
       "      <td>-6</td>\n",
       "    </tr>\n",
       "    <tr>\n",
       "      <th>0</th>\n",
       "      <td>5</td>\n",
       "      <td>-3</td>\n",
       "    </tr>\n",
       "    <tr>\n",
       "      <th>2</th>\n",
       "      <td>9</td>\n",
       "      <td>-1</td>\n",
       "    </tr>\n",
       "    <tr>\n",
       "      <th>3</th>\n",
       "      <td>11</td>\n",
       "      <td>0</td>\n",
       "    </tr>\n",
       "    <tr>\n",
       "      <th>4</th>\n",
       "      <td>13</td>\n",
       "      <td>24</td>\n",
       "    </tr>\n",
       "  </tbody>\n",
       "</table>\n",
       "</div>"
      ],
      "text/plain": [
       "   duração_treino  test_f%_RFR\n",
       "1               7           -6\n",
       "0               5           -3\n",
       "2               9           -1\n",
       "3              11            0\n",
       "4              13           24"
      ]
     },
     "execution_count": 59,
     "metadata": {},
     "output_type": "execute_result"
    }
   ],
   "source": [
    "r.groupby('duração_treino')['test_f%_RFR'].mean().astype(int).reset_index().sort_values(by=['test_f%_RFR'])"
   ]
  },
  {
   "cell_type": "code",
   "execution_count": 60,
   "id": "0a383908",
   "metadata": {
    "scrolled": false
   },
   "outputs": [
    {
     "name": "stdout",
     "output_type": "stream",
     "text": [
      "Os testes objetivando identificar o melhor duração do período de treino para\n",
      "previsão não permitiram uma conclusão, como se pode ver abaixo:\n",
      "\n",
      "   duração_treino  test_f%_RFR\n",
      "1               7           -6\n",
      "0               5           -3\n",
      "2               9           -1\n",
      "3              11            0\n",
      "4              13           24.\n",
      "\n",
      "Com isso, a previsão será feita utilizando a máxima duração possível.\n"
     ]
    }
   ],
   "source": [
    "print(f\"Os testes objetivando identificar o melhor duração do período de treino para\\n\\\n",
    "previsão não permitiram uma conclusão, como se pode ver abaixo:\\n\\n{r.groupby('duração_treino')['test_f%_RFR'].mean().astype(int).reset_index().sort_values(by=['test_f%_RFR'])}.\\n\\n\\\n",
    "Com isso, a previsão será feita utilizando a máxima duração possível.\")"
   ]
  },
  {
   "cell_type": "code",
   "execution_count": 61,
   "id": "ff5612b5",
   "metadata": {},
   "outputs": [
    {
     "name": "stdout",
     "output_type": "stream",
     "text": [
      "\n",
      "\n",
      "Após identificar qual combinção destes parâmetros proporcoina\n",
      "a maior precisão das previsões, faremos, em fim, a previsão para 2024.\n",
      "\n"
     ]
    }
   ],
   "source": [
    "print('\\n\\nApós identificar qual combinção destes parâmetros proporcoina\\n\\\n",
    "a maior precisão das previsões, faremos, em fim, a previsão para 2024.\\n')"
   ]
  },
  {
   "cell_type": "code",
   "execution_count": null,
   "id": "759834a5",
   "metadata": {},
   "outputs": [],
   "source": []
  }
 ],
 "metadata": {
  "kernelspec": {
   "display_name": "Python 3 (ipykernel)",
   "language": "python",
   "name": "python3"
  },
  "language_info": {
   "codemirror_mode": {
    "name": "ipython",
    "version": 3
   },
   "file_extension": ".py",
   "mimetype": "text/x-python",
   "name": "python",
   "nbconvert_exporter": "python",
   "pygments_lexer": "ipython3",
   "version": "3.11.5"
  }
 },
 "nbformat": 4,
 "nbformat_minor": 5
}
