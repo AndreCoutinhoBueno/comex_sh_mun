{
 "cells": [
  {
   "cell_type": "code",
   "execution_count": 47,
   "id": "d39bab5c",
   "metadata": {},
   "outputs": [],
   "source": [
    "# Importa as bibliotecas tecnológicas a serem utilizadas\n",
    "%run '~/git/Bibliotecas.ipynb'"
   ]
  },
  {
   "cell_type": "code",
   "execution_count": 48,
   "id": "6efca433",
   "metadata": {},
   "outputs": [
    {
     "name": "stdout",
     "output_type": "stream",
     "text": [
      "\n",
      "\n",
      "\n",
      "\n",
      "Chuvas na Região de Pouso Alegre\n",
      "\n",
      "\n"
     ]
    }
   ],
   "source": [
    "print('\\n\\n\\n\\nChuvas na Região de Pouso Alegre\\n\\n')"
   ]
  },
  {
   "cell_type": "code",
   "execution_count": 49,
   "id": "96d8bfda",
   "metadata": {},
   "outputs": [
    {
     "name": "stdout",
     "output_type": "stream",
     "text": [
      "\n",
      "Identifica estrutura lógica do nome dos arquivos do INMET:\n",
      "\n"
     ]
    }
   ],
   "source": [
    "print('\\nIdentifica estrutura lógica do nome dos arquivos do INMET:\\n')"
   ]
  },
  {
   "cell_type": "code",
   "execution_count": 50,
   "id": "15a975ec",
   "metadata": {},
   "outputs": [
    {
     "name": "stdout",
     "output_type": "stream",
     "text": [
      "2000/\n",
      "2000/INMET_CO_DF_A001_BRASILIA_07-05-2000_A_31-12-2000.CSV\n",
      "2000/INMET_NE_BA_A401_SALVADOR_13-05-2000_A_31-12-2000.CSV\n"
     ]
    }
   ],
   "source": [
    "import os\n",
    "import zipfile\n",
    "\n",
    "pasta = '/home/andre301267/BD/Inmet/'\n",
    "arquivos_na_pasta = os.listdir(pasta)\n",
    "\n",
    "# Filtrar apenas os arquivos zip na pasta\n",
    "arquivos_zip = [arquivo for arquivo in arquivos_na_pasta if arquivo.endswith('.zip')]\n",
    "\n",
    "if arquivos_zip:\n",
    "    primeiro_zip = arquivos_zip[0]\n",
    "    \n",
    "    caminho_zip = os.path.join(pasta, primeiro_zip)\n",
    "    \n",
    "    with zipfile.ZipFile(caminho_zip, 'r') as zip_ref:\n",
    "        # Obter os nomes de todos os arquivos dentro do primeiro arquivo zipado\n",
    "        nomes_arquivos = zip_ref.namelist()\n",
    "        \n",
    "        # Imprimir os nomes dos três primeiros arquivos\n",
    "        for i in range(min(3, len(nomes_arquivos))):\n",
    "            print(nomes_arquivos[i])\n",
    "else:\n",
    "    print(\"Não foram encontrados arquivos zip na pasta.\")\n"
   ]
  },
  {
   "cell_type": "markdown",
   "id": "e3023dcf",
   "metadata": {},
   "source": [
    "Nota-se que a sigla da UF e o nome do município encontram-se presentes no nome dos arquivos dentro do arquivo zipado"
   ]
  },
  {
   "cell_type": "code",
   "execution_count": 51,
   "id": "6c5b7cfd",
   "metadata": {},
   "outputs": [
    {
     "data": {
      "text/plain": [
       "0           AIURUOCA\n",
       "1             ALAGOA\n",
       "2          ALBERTINA\n",
       "3           ANDRADAS\n",
       "4           BAEPENDI\n",
       "           ...      \n",
       "75     TOCOS DO MOJI\n",
       "76            TOLEDO\n",
       "77       TURVOLÂNDIA\n",
       "78          VIRGÍNIA\n",
       "79    WENCESLAU BRAZ\n",
       "Name: Município, Length: 80, dtype: object"
      ]
     },
     "execution_count": 51,
     "metadata": {},
     "output_type": "execute_result"
    }
   ],
   "source": [
    "m_r_pa=pd.read_csv('~/git/Importacao-por-SH-e-Municipio/temp/m_r_pa.csv')\n",
    "m_r_pa=m_r_pa.Município.str.strip().str.upper()\n",
    "m_r_pa"
   ]
  },
  {
   "cell_type": "code",
   "execution_count": 52,
   "id": "2807e00c",
   "metadata": {},
   "outputs": [
    {
     "name": "stdout",
     "output_type": "stream",
     "text": [
      "\n",
      "\n",
      "Identifica a estrutura interna dos arquivos\n",
      "\n"
     ]
    }
   ],
   "source": [
    "print('\\n\\nIdentifica a estrutura interna dos arquivos\\n')"
   ]
  },
  {
   "cell_type": "code",
   "execution_count": 97,
   "id": "8ddc47ba",
   "metadata": {
    "scrolled": false
   },
   "outputs": [
    {
     "data": {
      "text/html": [
       "<div>\n",
       "<style scoped>\n",
       "    .dataframe tbody tr th:only-of-type {\n",
       "        vertical-align: middle;\n",
       "    }\n",
       "\n",
       "    .dataframe tbody tr th {\n",
       "        vertical-align: top;\n",
       "    }\n",
       "\n",
       "    .dataframe thead th {\n",
       "        text-align: right;\n",
       "    }\n",
       "</style>\n",
       "<table border=\"1\" class=\"dataframe\">\n",
       "  <thead>\n",
       "    <tr style=\"text-align: right;\">\n",
       "      <th></th>\n",
       "      <th>DATA (YYYY-MM-DD)</th>\n",
       "      <th>HORA (UTC)</th>\n",
       "      <th>PRECIPITAÇÃO TOTAL, HORÁRIO (mm)</th>\n",
       "      <th>Data</th>\n",
       "      <th>Hora UTC</th>\n",
       "    </tr>\n",
       "  </thead>\n",
       "  <tbody>\n",
       "    <tr>\n",
       "      <th>0</th>\n",
       "      <td>2007-01-01</td>\n",
       "      <td>00:00</td>\n",
       "      <td>,8</td>\n",
       "      <td>NaN</td>\n",
       "      <td>NaN</td>\n",
       "    </tr>\n",
       "    <tr>\n",
       "      <th>1</th>\n",
       "      <td>2007-01-01</td>\n",
       "      <td>01:00</td>\n",
       "      <td>,2</td>\n",
       "      <td>NaN</td>\n",
       "      <td>NaN</td>\n",
       "    </tr>\n",
       "    <tr>\n",
       "      <th>2</th>\n",
       "      <td>2007-01-01</td>\n",
       "      <td>02:00</td>\n",
       "      <td>,2</td>\n",
       "      <td>NaN</td>\n",
       "      <td>NaN</td>\n",
       "    </tr>\n",
       "    <tr>\n",
       "      <th>3</th>\n",
       "      <td>2007-01-01</td>\n",
       "      <td>03:00</td>\n",
       "      <td>-9999</td>\n",
       "      <td>NaN</td>\n",
       "      <td>NaN</td>\n",
       "    </tr>\n",
       "    <tr>\n",
       "      <th>4</th>\n",
       "      <td>2007-01-01</td>\n",
       "      <td>04:00</td>\n",
       "      <td>-9999</td>\n",
       "      <td>NaN</td>\n",
       "      <td>NaN</td>\n",
       "    </tr>\n",
       "    <tr>\n",
       "      <th>...</th>\n",
       "      <td>...</td>\n",
       "      <td>...</td>\n",
       "      <td>...</td>\n",
       "      <td>...</td>\n",
       "      <td>...</td>\n",
       "    </tr>\n",
       "    <tr>\n",
       "      <th>448291</th>\n",
       "      <td>NaN</td>\n",
       "      <td>NaN</td>\n",
       "      <td>4,8</td>\n",
       "      <td>2021/12/31</td>\n",
       "      <td>1900 UTC</td>\n",
       "    </tr>\n",
       "    <tr>\n",
       "      <th>448292</th>\n",
       "      <td>NaN</td>\n",
       "      <td>NaN</td>\n",
       "      <td>,4</td>\n",
       "      <td>2021/12/31</td>\n",
       "      <td>2000 UTC</td>\n",
       "    </tr>\n",
       "    <tr>\n",
       "      <th>448293</th>\n",
       "      <td>NaN</td>\n",
       "      <td>NaN</td>\n",
       "      <td>1,8</td>\n",
       "      <td>2021/12/31</td>\n",
       "      <td>2100 UTC</td>\n",
       "    </tr>\n",
       "    <tr>\n",
       "      <th>448294</th>\n",
       "      <td>NaN</td>\n",
       "      <td>NaN</td>\n",
       "      <td>,4</td>\n",
       "      <td>2021/12/31</td>\n",
       "      <td>2200 UTC</td>\n",
       "    </tr>\n",
       "    <tr>\n",
       "      <th>448295</th>\n",
       "      <td>NaN</td>\n",
       "      <td>NaN</td>\n",
       "      <td>0</td>\n",
       "      <td>2021/12/31</td>\n",
       "      <td>2300 UTC</td>\n",
       "    </tr>\n",
       "  </tbody>\n",
       "</table>\n",
       "<p>448296 rows × 5 columns</p>\n",
       "</div>"
      ],
      "text/plain": [
       "       DATA (YYYY-MM-DD) HORA (UTC) PRECIPITAÇÃO TOTAL, HORÁRIO (mm)  \\\n",
       "0             2007-01-01      00:00                               ,8   \n",
       "1             2007-01-01      01:00                               ,2   \n",
       "2             2007-01-01      02:00                               ,2   \n",
       "3             2007-01-01      03:00                            -9999   \n",
       "4             2007-01-01      04:00                            -9999   \n",
       "...                  ...        ...                              ...   \n",
       "448291               NaN        NaN                              4,8   \n",
       "448292               NaN        NaN                               ,4   \n",
       "448293               NaN        NaN                              1,8   \n",
       "448294               NaN        NaN                               ,4   \n",
       "448295               NaN        NaN                                0   \n",
       "\n",
       "              Data  Hora UTC  \n",
       "0              NaN       NaN  \n",
       "1              NaN       NaN  \n",
       "2              NaN       NaN  \n",
       "3              NaN       NaN  \n",
       "4              NaN       NaN  \n",
       "...            ...       ...  \n",
       "448291  2021/12/31  1900 UTC  \n",
       "448292  2021/12/31  2000 UTC  \n",
       "448293  2021/12/31  2100 UTC  \n",
       "448294  2021/12/31  2200 UTC  \n",
       "448295  2021/12/31  2300 UTC  \n",
       "\n",
       "[448296 rows x 5 columns]"
      ]
     },
     "metadata": {},
     "output_type": "display_data"
    }
   ],
   "source": [
    "import os\n",
    "import pandas as pd\n",
    "from zipfile import ZipFile\n",
    "from pathlib import Path\n",
    "\n",
    "n_s=pd.DataFrame()\n",
    "\n",
    "# Diretório dos arquivos ZIP\n",
    "pasta_zip = Path('/home/andre301267/BD/Inmet/').expanduser()\n",
    "\n",
    "# Lista de strings para verificar no nome do subarquivo\n",
    "#m_r_pa = [\"string1\", \"string2\", \"outrastring\"]\n",
    "\n",
    "# Inicializa o DataFrame\n",
    "chuvas_r_pa = pd.DataFrame()\n",
    "\n",
    "# Itera sobre todos os arquivos ZIP na pasta\n",
    "for arquivo_zip in pasta_zip.glob('*.zip'):\n",
    "    with ZipFile(arquivo_zip, 'r') as zip_ref:\n",
    "        \n",
    "        # Itera sobre os subarquivos no arquivo ZIP\n",
    "        for nome_subarquivo in zip_ref.namelist():\n",
    "            #print(nome_subarquivo)\n",
    "            # Verifica se o subarquivo atende aos critérios\n",
    "            if \"_MG_\" in nome_subarquivo and any(string in nome_subarquivo for string in m_r_pa):\n",
    "                df=pd.DataFrame({'nome_subarquivo':[nome_subarquivo]})\n",
    "                n_s=pd.concat([n_s,df])\n",
    "                # Extrai as 3 primeiras colunas e as linhas a partir da 10ª\n",
    "                with zip_ref.open(nome_subarquivo) as subarquivo:\n",
    "                    #print(subarquivo)\n",
    "                    df = pd.read_csv(subarquivo,  skiprows=8, usecols=[0,1,2], delimiter=';',encoding='Latin-1')\n",
    "                    # concatena verticalmente com o DataFrame principal\n",
    "                    chuvas_r_pa = pd.concat([chuvas_r_pa, df], ignore_index=True,axis=0)\n",
    "\n",
    "# Exibe o resultado\n",
    "display(chuvas_r_pa)"
   ]
  },
  {
   "cell_type": "code",
   "execution_count": 111,
   "id": "6aac16e3",
   "metadata": {},
   "outputs": [
    {
     "name": "stdout",
     "output_type": "stream",
     "text": [
      "\n",
      "\n",
      "Os municípios da região de Pouso Alegre que possuem estação \n",
      "meteorológica automática do INMET insataladas em seu território são:\n",
      "\n",
      "CONCEICAO DAS ALAGOAS\n",
      "PASSA QUATRO\n",
      "CALDAS\n"
     ]
    }
   ],
   "source": [
    "print('\\n\\nOs municípios da região de Pouso Alegre que possuem estação \\n\\\n",
    "meteorológica automática do INMET insataladas em seu território são:\\n')\n",
    "for m in n_s.nome_subarquivo.str.split('_',expand=True)[[4]].drop_duplicates()[4].tolist():\n",
    "    print(m)\n",
    "    "
   ]
  },
  {
   "cell_type": "code",
   "execution_count": 54,
   "id": "87bad8d8",
   "metadata": {},
   "outputs": [
    {
     "data": {
      "text/html": [
       "<div>\n",
       "<style scoped>\n",
       "    .dataframe tbody tr th:only-of-type {\n",
       "        vertical-align: middle;\n",
       "    }\n",
       "\n",
       "    .dataframe tbody tr th {\n",
       "        vertical-align: top;\n",
       "    }\n",
       "\n",
       "    .dataframe thead th {\n",
       "        text-align: right;\n",
       "    }\n",
       "</style>\n",
       "<table border=\"1\" class=\"dataframe\">\n",
       "  <thead>\n",
       "    <tr style=\"text-align: right;\">\n",
       "      <th></th>\n",
       "      <th>date</th>\n",
       "      <th>hora</th>\n",
       "      <th>mm</th>\n",
       "      <th>date1</th>\n",
       "      <th>hora1</th>\n",
       "    </tr>\n",
       "  </thead>\n",
       "  <tbody>\n",
       "    <tr>\n",
       "      <th>0</th>\n",
       "      <td>2007-01-01</td>\n",
       "      <td>00:00</td>\n",
       "      <td>,8</td>\n",
       "      <td>NaN</td>\n",
       "      <td>NaN</td>\n",
       "    </tr>\n",
       "    <tr>\n",
       "      <th>1</th>\n",
       "      <td>2007-01-01</td>\n",
       "      <td>01:00</td>\n",
       "      <td>,2</td>\n",
       "      <td>NaN</td>\n",
       "      <td>NaN</td>\n",
       "    </tr>\n",
       "    <tr>\n",
       "      <th>2</th>\n",
       "      <td>2007-01-01</td>\n",
       "      <td>02:00</td>\n",
       "      <td>,2</td>\n",
       "      <td>NaN</td>\n",
       "      <td>NaN</td>\n",
       "    </tr>\n",
       "    <tr>\n",
       "      <th>3</th>\n",
       "      <td>2007-01-01</td>\n",
       "      <td>03:00</td>\n",
       "      <td>-9999</td>\n",
       "      <td>NaN</td>\n",
       "      <td>NaN</td>\n",
       "    </tr>\n",
       "    <tr>\n",
       "      <th>4</th>\n",
       "      <td>2007-01-01</td>\n",
       "      <td>04:00</td>\n",
       "      <td>-9999</td>\n",
       "      <td>NaN</td>\n",
       "      <td>NaN</td>\n",
       "    </tr>\n",
       "    <tr>\n",
       "      <th>...</th>\n",
       "      <td>...</td>\n",
       "      <td>...</td>\n",
       "      <td>...</td>\n",
       "      <td>...</td>\n",
       "      <td>...</td>\n",
       "    </tr>\n",
       "    <tr>\n",
       "      <th>448291</th>\n",
       "      <td>NaN</td>\n",
       "      <td>NaN</td>\n",
       "      <td>4,8</td>\n",
       "      <td>2021/12/31</td>\n",
       "      <td>1900 UTC</td>\n",
       "    </tr>\n",
       "    <tr>\n",
       "      <th>448292</th>\n",
       "      <td>NaN</td>\n",
       "      <td>NaN</td>\n",
       "      <td>,4</td>\n",
       "      <td>2021/12/31</td>\n",
       "      <td>2000 UTC</td>\n",
       "    </tr>\n",
       "    <tr>\n",
       "      <th>448293</th>\n",
       "      <td>NaN</td>\n",
       "      <td>NaN</td>\n",
       "      <td>1,8</td>\n",
       "      <td>2021/12/31</td>\n",
       "      <td>2100 UTC</td>\n",
       "    </tr>\n",
       "    <tr>\n",
       "      <th>448294</th>\n",
       "      <td>NaN</td>\n",
       "      <td>NaN</td>\n",
       "      <td>,4</td>\n",
       "      <td>2021/12/31</td>\n",
       "      <td>2200 UTC</td>\n",
       "    </tr>\n",
       "    <tr>\n",
       "      <th>448295</th>\n",
       "      <td>NaN</td>\n",
       "      <td>NaN</td>\n",
       "      <td>0</td>\n",
       "      <td>2021/12/31</td>\n",
       "      <td>2300 UTC</td>\n",
       "    </tr>\n",
       "  </tbody>\n",
       "</table>\n",
       "<p>448296 rows × 5 columns</p>\n",
       "</div>"
      ],
      "text/plain": [
       "              date   hora     mm       date1     hora1\n",
       "0       2007-01-01  00:00     ,8         NaN       NaN\n",
       "1       2007-01-01  01:00     ,2         NaN       NaN\n",
       "2       2007-01-01  02:00     ,2         NaN       NaN\n",
       "3       2007-01-01  03:00  -9999         NaN       NaN\n",
       "4       2007-01-01  04:00  -9999         NaN       NaN\n",
       "...            ...    ...    ...         ...       ...\n",
       "448291         NaN    NaN    4,8  2021/12/31  1900 UTC\n",
       "448292         NaN    NaN     ,4  2021/12/31  2000 UTC\n",
       "448293         NaN    NaN    1,8  2021/12/31  2100 UTC\n",
       "448294         NaN    NaN     ,4  2021/12/31  2200 UTC\n",
       "448295         NaN    NaN      0  2021/12/31  2300 UTC\n",
       "\n",
       "[448296 rows x 5 columns]"
      ]
     },
     "execution_count": 54,
     "metadata": {},
     "output_type": "execute_result"
    }
   ],
   "source": [
    "chuvas_r_pa.columns=['date','hora','mm','date1','hora1']\n",
    "chuvas_r_pa"
   ]
  },
  {
   "cell_type": "code",
   "execution_count": 55,
   "id": "f3190409",
   "metadata": {},
   "outputs": [],
   "source": [
    "chuvas_r_pa_1=chuvas_r_pa[['date','hora','mm']].dropna()\n",
    "chuvas_r_pa_2=chuvas_r_pa[['date1','hora1','mm']].rename(columns={'date1':'date','hora1':'hora'}).dropna()"
   ]
  },
  {
   "cell_type": "code",
   "execution_count": 56,
   "id": "0da65d1a",
   "metadata": {},
   "outputs": [],
   "source": [
    "chuvas_r_pa_1['datetime']=pd.to_datetime(chuvas_r_pa_1.date+'-'+chuvas_r_pa_1.hora)"
   ]
  },
  {
   "cell_type": "code",
   "execution_count": 57,
   "id": "6dc604ef",
   "metadata": {},
   "outputs": [
    {
     "data": {
      "text/html": [
       "<div>\n",
       "<style scoped>\n",
       "    .dataframe tbody tr th:only-of-type {\n",
       "        vertical-align: middle;\n",
       "    }\n",
       "\n",
       "    .dataframe tbody tr th {\n",
       "        vertical-align: top;\n",
       "    }\n",
       "\n",
       "    .dataframe thead th {\n",
       "        text-align: right;\n",
       "    }\n",
       "</style>\n",
       "<table border=\"1\" class=\"dataframe\">\n",
       "  <thead>\n",
       "    <tr style=\"text-align: right;\">\n",
       "      <th></th>\n",
       "      <th>date</th>\n",
       "      <th>hora</th>\n",
       "      <th>mm</th>\n",
       "      <th>datetime</th>\n",
       "    </tr>\n",
       "  </thead>\n",
       "  <tbody>\n",
       "    <tr>\n",
       "      <th>0</th>\n",
       "      <td>2007-01-01</td>\n",
       "      <td>00:00</td>\n",
       "      <td>,8</td>\n",
       "      <td>2007-01-01 00:00:00</td>\n",
       "    </tr>\n",
       "    <tr>\n",
       "      <th>1</th>\n",
       "      <td>2007-01-01</td>\n",
       "      <td>01:00</td>\n",
       "      <td>,2</td>\n",
       "      <td>2007-01-01 01:00:00</td>\n",
       "    </tr>\n",
       "    <tr>\n",
       "      <th>2</th>\n",
       "      <td>2007-01-01</td>\n",
       "      <td>02:00</td>\n",
       "      <td>,2</td>\n",
       "      <td>2007-01-01 02:00:00</td>\n",
       "    </tr>\n",
       "    <tr>\n",
       "      <th>3</th>\n",
       "      <td>2007-01-01</td>\n",
       "      <td>03:00</td>\n",
       "      <td>-9999</td>\n",
       "      <td>2007-01-01 03:00:00</td>\n",
       "    </tr>\n",
       "    <tr>\n",
       "      <th>4</th>\n",
       "      <td>2007-01-01</td>\n",
       "      <td>04:00</td>\n",
       "      <td>-9999</td>\n",
       "      <td>2007-01-01 04:00:00</td>\n",
       "    </tr>\n",
       "    <tr>\n",
       "      <th>...</th>\n",
       "      <td>...</td>\n",
       "      <td>...</td>\n",
       "      <td>...</td>\n",
       "      <td>...</td>\n",
       "    </tr>\n",
       "    <tr>\n",
       "      <th>316819</th>\n",
       "      <td>2018-12-31</td>\n",
       "      <td>19:00</td>\n",
       "      <td>0</td>\n",
       "      <td>2018-12-31 19:00:00</td>\n",
       "    </tr>\n",
       "    <tr>\n",
       "      <th>316820</th>\n",
       "      <td>2018-12-31</td>\n",
       "      <td>20:00</td>\n",
       "      <td>0</td>\n",
       "      <td>2018-12-31 20:00:00</td>\n",
       "    </tr>\n",
       "    <tr>\n",
       "      <th>316821</th>\n",
       "      <td>2018-12-31</td>\n",
       "      <td>21:00</td>\n",
       "      <td>0</td>\n",
       "      <td>2018-12-31 21:00:00</td>\n",
       "    </tr>\n",
       "    <tr>\n",
       "      <th>316822</th>\n",
       "      <td>2018-12-31</td>\n",
       "      <td>22:00</td>\n",
       "      <td>0</td>\n",
       "      <td>2018-12-31 22:00:00</td>\n",
       "    </tr>\n",
       "    <tr>\n",
       "      <th>316823</th>\n",
       "      <td>2018-12-31</td>\n",
       "      <td>23:00</td>\n",
       "      <td>0</td>\n",
       "      <td>2018-12-31 23:00:00</td>\n",
       "    </tr>\n",
       "  </tbody>\n",
       "</table>\n",
       "<p>316824 rows × 4 columns</p>\n",
       "</div>"
      ],
      "text/plain": [
       "              date   hora     mm            datetime\n",
       "0       2007-01-01  00:00     ,8 2007-01-01 00:00:00\n",
       "1       2007-01-01  01:00     ,2 2007-01-01 01:00:00\n",
       "2       2007-01-01  02:00     ,2 2007-01-01 02:00:00\n",
       "3       2007-01-01  03:00  -9999 2007-01-01 03:00:00\n",
       "4       2007-01-01  04:00  -9999 2007-01-01 04:00:00\n",
       "...            ...    ...    ...                 ...\n",
       "316819  2018-12-31  19:00      0 2018-12-31 19:00:00\n",
       "316820  2018-12-31  20:00      0 2018-12-31 20:00:00\n",
       "316821  2018-12-31  21:00      0 2018-12-31 21:00:00\n",
       "316822  2018-12-31  22:00      0 2018-12-31 22:00:00\n",
       "316823  2018-12-31  23:00      0 2018-12-31 23:00:00\n",
       "\n",
       "[316824 rows x 4 columns]"
      ]
     },
     "execution_count": 57,
     "metadata": {},
     "output_type": "execute_result"
    }
   ],
   "source": [
    "chuvas_r_pa_1"
   ]
  },
  {
   "cell_type": "code",
   "execution_count": 58,
   "id": "d54cdd0a",
   "metadata": {},
   "outputs": [
    {
     "data": {
      "text/html": [
       "<div>\n",
       "<style scoped>\n",
       "    .dataframe tbody tr th:only-of-type {\n",
       "        vertical-align: middle;\n",
       "    }\n",
       "\n",
       "    .dataframe tbody tr th {\n",
       "        vertical-align: top;\n",
       "    }\n",
       "\n",
       "    .dataframe thead th {\n",
       "        text-align: right;\n",
       "    }\n",
       "</style>\n",
       "<table border=\"1\" class=\"dataframe\">\n",
       "  <thead>\n",
       "    <tr style=\"text-align: right;\">\n",
       "      <th></th>\n",
       "      <th>date</th>\n",
       "      <th>hora</th>\n",
       "      <th>mm</th>\n",
       "      <th>datetime</th>\n",
       "    </tr>\n",
       "  </thead>\n",
       "  <tbody>\n",
       "    <tr>\n",
       "      <th>316824</th>\n",
       "      <td>2019/01/01</td>\n",
       "      <td>0000</td>\n",
       "      <td>0</td>\n",
       "      <td>2019-01-01 00:00:00</td>\n",
       "    </tr>\n",
       "    <tr>\n",
       "      <th>316825</th>\n",
       "      <td>2019/01/01</td>\n",
       "      <td>0100</td>\n",
       "      <td>0</td>\n",
       "      <td>2019-01-01 01:00:00</td>\n",
       "    </tr>\n",
       "    <tr>\n",
       "      <th>316826</th>\n",
       "      <td>2019/01/01</td>\n",
       "      <td>0200</td>\n",
       "      <td>0</td>\n",
       "      <td>2019-01-01 02:00:00</td>\n",
       "    </tr>\n",
       "    <tr>\n",
       "      <th>316827</th>\n",
       "      <td>2019/01/01</td>\n",
       "      <td>0300</td>\n",
       "      <td>0</td>\n",
       "      <td>2019-01-01 03:00:00</td>\n",
       "    </tr>\n",
       "    <tr>\n",
       "      <th>316828</th>\n",
       "      <td>2019/01/01</td>\n",
       "      <td>0400</td>\n",
       "      <td>0</td>\n",
       "      <td>2019-01-01 04:00:00</td>\n",
       "    </tr>\n",
       "    <tr>\n",
       "      <th>...</th>\n",
       "      <td>...</td>\n",
       "      <td>...</td>\n",
       "      <td>...</td>\n",
       "      <td>...</td>\n",
       "    </tr>\n",
       "    <tr>\n",
       "      <th>448291</th>\n",
       "      <td>2021/12/31</td>\n",
       "      <td>1900</td>\n",
       "      <td>4,8</td>\n",
       "      <td>2021-12-31 19:00:00</td>\n",
       "    </tr>\n",
       "    <tr>\n",
       "      <th>448292</th>\n",
       "      <td>2021/12/31</td>\n",
       "      <td>2000</td>\n",
       "      <td>,4</td>\n",
       "      <td>2021-12-31 20:00:00</td>\n",
       "    </tr>\n",
       "    <tr>\n",
       "      <th>448293</th>\n",
       "      <td>2021/12/31</td>\n",
       "      <td>2100</td>\n",
       "      <td>1,8</td>\n",
       "      <td>2021-12-31 21:00:00</td>\n",
       "    </tr>\n",
       "    <tr>\n",
       "      <th>448294</th>\n",
       "      <td>2021/12/31</td>\n",
       "      <td>2200</td>\n",
       "      <td>,4</td>\n",
       "      <td>2021-12-31 22:00:00</td>\n",
       "    </tr>\n",
       "    <tr>\n",
       "      <th>448295</th>\n",
       "      <td>2021/12/31</td>\n",
       "      <td>2300</td>\n",
       "      <td>0</td>\n",
       "      <td>2021-12-31 23:00:00</td>\n",
       "    </tr>\n",
       "  </tbody>\n",
       "</table>\n",
       "<p>129313 rows × 4 columns</p>\n",
       "</div>"
      ],
      "text/plain": [
       "              date  hora   mm            datetime\n",
       "316824  2019/01/01  0000    0 2019-01-01 00:00:00\n",
       "316825  2019/01/01  0100    0 2019-01-01 01:00:00\n",
       "316826  2019/01/01  0200    0 2019-01-01 02:00:00\n",
       "316827  2019/01/01  0300    0 2019-01-01 03:00:00\n",
       "316828  2019/01/01  0400    0 2019-01-01 04:00:00\n",
       "...            ...   ...  ...                 ...\n",
       "448291  2021/12/31  1900  4,8 2021-12-31 19:00:00\n",
       "448292  2021/12/31  2000   ,4 2021-12-31 20:00:00\n",
       "448293  2021/12/31  2100  1,8 2021-12-31 21:00:00\n",
       "448294  2021/12/31  2200   ,4 2021-12-31 22:00:00\n",
       "448295  2021/12/31  2300    0 2021-12-31 23:00:00\n",
       "\n",
       "[129313 rows x 4 columns]"
      ]
     },
     "execution_count": 58,
     "metadata": {},
     "output_type": "execute_result"
    }
   ],
   "source": [
    "chuvas_r_pa_2.hora=chuvas_r_pa_2.hora.str.split(expand=True)[0]\n",
    "chuvas_r_pa_2['datetime']=pd.to_datetime(chuvas_r_pa_2.date+'-'+chuvas_r_pa_2.hora)\n",
    "chuvas_r_pa_2"
   ]
  },
  {
   "cell_type": "code",
   "execution_count": 59,
   "id": "920495c5",
   "metadata": {},
   "outputs": [
    {
     "data": {
      "text/html": [
       "<div>\n",
       "<style scoped>\n",
       "    .dataframe tbody tr th:only-of-type {\n",
       "        vertical-align: middle;\n",
       "    }\n",
       "\n",
       "    .dataframe tbody tr th {\n",
       "        vertical-align: top;\n",
       "    }\n",
       "\n",
       "    .dataframe thead th {\n",
       "        text-align: right;\n",
       "    }\n",
       "</style>\n",
       "<table border=\"1\" class=\"dataframe\">\n",
       "  <thead>\n",
       "    <tr style=\"text-align: right;\">\n",
       "      <th></th>\n",
       "      <th>date</th>\n",
       "      <th>hora</th>\n",
       "      <th>mm</th>\n",
       "      <th>datetime</th>\n",
       "    </tr>\n",
       "  </thead>\n",
       "  <tbody>\n",
       "    <tr>\n",
       "      <th>308062</th>\n",
       "      <td>2018-12-31</td>\n",
       "      <td>22:00</td>\n",
       "      <td>0</td>\n",
       "      <td>2018-12-31 22:00:00</td>\n",
       "    </tr>\n",
       "    <tr>\n",
       "      <th>316822</th>\n",
       "      <td>2018-12-31</td>\n",
       "      <td>22:00</td>\n",
       "      <td>0</td>\n",
       "      <td>2018-12-31 22:00:00</td>\n",
       "    </tr>\n",
       "    <tr>\n",
       "      <th>299303</th>\n",
       "      <td>2018-12-31</td>\n",
       "      <td>23:00</td>\n",
       "      <td>0</td>\n",
       "      <td>2018-12-31 23:00:00</td>\n",
       "    </tr>\n",
       "    <tr>\n",
       "      <th>308063</th>\n",
       "      <td>2018-12-31</td>\n",
       "      <td>23:00</td>\n",
       "      <td>0</td>\n",
       "      <td>2018-12-31 23:00:00</td>\n",
       "    </tr>\n",
       "    <tr>\n",
       "      <th>316823</th>\n",
       "      <td>2018-12-31</td>\n",
       "      <td>23:00</td>\n",
       "      <td>0</td>\n",
       "      <td>2018-12-31 23:00:00</td>\n",
       "    </tr>\n",
       "  </tbody>\n",
       "</table>\n",
       "</div>"
      ],
      "text/plain": [
       "              date   hora mm            datetime\n",
       "308062  2018-12-31  22:00  0 2018-12-31 22:00:00\n",
       "316822  2018-12-31  22:00  0 2018-12-31 22:00:00\n",
       "299303  2018-12-31  23:00  0 2018-12-31 23:00:00\n",
       "308063  2018-12-31  23:00  0 2018-12-31 23:00:00\n",
       "316823  2018-12-31  23:00  0 2018-12-31 23:00:00"
      ]
     },
     "execution_count": 59,
     "metadata": {},
     "output_type": "execute_result"
    }
   ],
   "source": [
    "chuvas_r_pa_1.sort_values(by=['datetime']).tail()"
   ]
  },
  {
   "cell_type": "code",
   "execution_count": 60,
   "id": "ca4ff1d6",
   "metadata": {},
   "outputs": [
    {
     "data": {
      "text/html": [
       "<div>\n",
       "<style scoped>\n",
       "    .dataframe tbody tr th:only-of-type {\n",
       "        vertical-align: middle;\n",
       "    }\n",
       "\n",
       "    .dataframe tbody tr th {\n",
       "        vertical-align: top;\n",
       "    }\n",
       "\n",
       "    .dataframe thead th {\n",
       "        text-align: right;\n",
       "    }\n",
       "</style>\n",
       "<table border=\"1\" class=\"dataframe\">\n",
       "  <thead>\n",
       "    <tr style=\"text-align: right;\">\n",
       "      <th></th>\n",
       "      <th>date</th>\n",
       "      <th>hora</th>\n",
       "      <th>mm</th>\n",
       "      <th>datetime</th>\n",
       "    </tr>\n",
       "  </thead>\n",
       "  <tbody>\n",
       "    <tr>\n",
       "      <th>316824</th>\n",
       "      <td>2019/01/01</td>\n",
       "      <td>0000</td>\n",
       "      <td>0</td>\n",
       "      <td>2019-01-01 00:00:00</td>\n",
       "    </tr>\n",
       "    <tr>\n",
       "      <th>334344</th>\n",
       "      <td>2019/01/01</td>\n",
       "      <td>0000</td>\n",
       "      <td>0</td>\n",
       "      <td>2019-01-01 00:00:00</td>\n",
       "    </tr>\n",
       "    <tr>\n",
       "      <th>325584</th>\n",
       "      <td>2019/01/01</td>\n",
       "      <td>0000</td>\n",
       "      <td>0</td>\n",
       "      <td>2019-01-01 00:00:00</td>\n",
       "    </tr>\n",
       "    <tr>\n",
       "      <th>325585</th>\n",
       "      <td>2019/01/01</td>\n",
       "      <td>0100</td>\n",
       "      <td>0</td>\n",
       "      <td>2019-01-01 01:00:00</td>\n",
       "    </tr>\n",
       "    <tr>\n",
       "      <th>334345</th>\n",
       "      <td>2019/01/01</td>\n",
       "      <td>0100</td>\n",
       "      <td>0</td>\n",
       "      <td>2019-01-01 01:00:00</td>\n",
       "    </tr>\n",
       "  </tbody>\n",
       "</table>\n",
       "</div>"
      ],
      "text/plain": [
       "              date  hora mm            datetime\n",
       "316824  2019/01/01  0000  0 2019-01-01 00:00:00\n",
       "334344  2019/01/01  0000  0 2019-01-01 00:00:00\n",
       "325584  2019/01/01  0000  0 2019-01-01 00:00:00\n",
       "325585  2019/01/01  0100  0 2019-01-01 01:00:00\n",
       "334345  2019/01/01  0100  0 2019-01-01 01:00:00"
      ]
     },
     "execution_count": 60,
     "metadata": {},
     "output_type": "execute_result"
    }
   ],
   "source": [
    "chuvas_r_pa_2.sort_values(by=['datetime']).head()"
   ]
  },
  {
   "cell_type": "markdown",
   "id": "23121b6a",
   "metadata": {},
   "source": [
    "# Como esta havendo continuidade perfeita entre as partes com e sem marcação \"UTC\", será considerado todos registros marcados com o mesmo horário UTC."
   ]
  },
  {
   "cell_type": "code",
   "execution_count": 61,
   "id": "b93bbfbe",
   "metadata": {},
   "outputs": [
    {
     "data": {
      "text/html": [
       "<div>\n",
       "<style scoped>\n",
       "    .dataframe tbody tr th:only-of-type {\n",
       "        vertical-align: middle;\n",
       "    }\n",
       "\n",
       "    .dataframe tbody tr th {\n",
       "        vertical-align: top;\n",
       "    }\n",
       "\n",
       "    .dataframe thead th {\n",
       "        text-align: right;\n",
       "    }\n",
       "</style>\n",
       "<table border=\"1\" class=\"dataframe\">\n",
       "  <thead>\n",
       "    <tr style=\"text-align: right;\">\n",
       "      <th></th>\n",
       "      <th>date</th>\n",
       "      <th>hora</th>\n",
       "      <th>mm</th>\n",
       "      <th>datetime</th>\n",
       "    </tr>\n",
       "  </thead>\n",
       "  <tbody>\n",
       "    <tr>\n",
       "      <th>101616</th>\n",
       "      <td>2006-07-18</td>\n",
       "      <td>00:00</td>\n",
       "      <td>-9999</td>\n",
       "      <td>2006-07-18 00:00:00</td>\n",
       "    </tr>\n",
       "    <tr>\n",
       "      <th>101617</th>\n",
       "      <td>2006-07-18</td>\n",
       "      <td>01:00</td>\n",
       "      <td>-9999</td>\n",
       "      <td>2006-07-18 01:00:00</td>\n",
       "    </tr>\n",
       "    <tr>\n",
       "      <th>101618</th>\n",
       "      <td>2006-07-18</td>\n",
       "      <td>02:00</td>\n",
       "      <td>-9999</td>\n",
       "      <td>2006-07-18 02:00:00</td>\n",
       "    </tr>\n",
       "    <tr>\n",
       "      <th>101619</th>\n",
       "      <td>2006-07-18</td>\n",
       "      <td>03:00</td>\n",
       "      <td>-9999</td>\n",
       "      <td>2006-07-18 03:00:00</td>\n",
       "    </tr>\n",
       "    <tr>\n",
       "      <th>101620</th>\n",
       "      <td>2006-07-18</td>\n",
       "      <td>04:00</td>\n",
       "      <td>-9999</td>\n",
       "      <td>2006-07-18 04:00:00</td>\n",
       "    </tr>\n",
       "    <tr>\n",
       "      <th>...</th>\n",
       "      <td>...</td>\n",
       "      <td>...</td>\n",
       "      <td>...</td>\n",
       "      <td>...</td>\n",
       "    </tr>\n",
       "    <tr>\n",
       "      <th>378214</th>\n",
       "      <td>2023/12/31</td>\n",
       "      <td>2200</td>\n",
       "      <td>0</td>\n",
       "      <td>2023-12-31 22:00:00</td>\n",
       "    </tr>\n",
       "    <tr>\n",
       "      <th>386974</th>\n",
       "      <td>2023/12/31</td>\n",
       "      <td>2200</td>\n",
       "      <td>0</td>\n",
       "      <td>2023-12-31 22:00:00</td>\n",
       "    </tr>\n",
       "    <tr>\n",
       "      <th>378215</th>\n",
       "      <td>2023/12/31</td>\n",
       "      <td>2300</td>\n",
       "      <td>0</td>\n",
       "      <td>2023-12-31 23:00:00</td>\n",
       "    </tr>\n",
       "    <tr>\n",
       "      <th>395735</th>\n",
       "      <td>2023/12/31</td>\n",
       "      <td>2300</td>\n",
       "      <td>13,4</td>\n",
       "      <td>2023-12-31 23:00:00</td>\n",
       "    </tr>\n",
       "    <tr>\n",
       "      <th>386975</th>\n",
       "      <td>2023/12/31</td>\n",
       "      <td>2300</td>\n",
       "      <td>,2</td>\n",
       "      <td>2023-12-31 23:00:00</td>\n",
       "    </tr>\n",
       "  </tbody>\n",
       "</table>\n",
       "<p>446137 rows × 4 columns</p>\n",
       "</div>"
      ],
      "text/plain": [
       "              date   hora     mm            datetime\n",
       "101616  2006-07-18  00:00  -9999 2006-07-18 00:00:00\n",
       "101617  2006-07-18  01:00  -9999 2006-07-18 01:00:00\n",
       "101618  2006-07-18  02:00  -9999 2006-07-18 02:00:00\n",
       "101619  2006-07-18  03:00  -9999 2006-07-18 03:00:00\n",
       "101620  2006-07-18  04:00  -9999 2006-07-18 04:00:00\n",
       "...            ...    ...    ...                 ...\n",
       "378214  2023/12/31   2200      0 2023-12-31 22:00:00\n",
       "386974  2023/12/31   2200      0 2023-12-31 22:00:00\n",
       "378215  2023/12/31   2300      0 2023-12-31 23:00:00\n",
       "395735  2023/12/31   2300   13,4 2023-12-31 23:00:00\n",
       "386975  2023/12/31   2300     ,2 2023-12-31 23:00:00\n",
       "\n",
       "[446137 rows x 4 columns]"
      ]
     },
     "execution_count": 61,
     "metadata": {},
     "output_type": "execute_result"
    }
   ],
   "source": [
    "chuvas_r_pa=pd.concat([chuvas_r_pa_1,chuvas_r_pa_2])\n",
    "chuvas_r_pa=chuvas_r_pa.sort_values(by=['datetime'])\n",
    "chuvas_r_pa"
   ]
  },
  {
   "cell_type": "code",
   "execution_count": 62,
   "id": "8f197e97",
   "metadata": {
    "scrolled": false
   },
   "outputs": [
    {
     "data": {
      "text/plain": [
       "array(['-9999', '0', ',4', ',2', '1,4', '1,2', '4,4', '3,6', '2', '3',\n",
       "       '8,4', '2,8', '7,6', '2,4', ',8', '10', ',6', '13', '7', '1,6',\n",
       "       '1,8', '9,4', '8,8', '6,2', '4', '3,8', '1', '2,2', '2,6', '3,2',\n",
       "       '6,6', '9', '5', '4,6', '14,6', '9,2', '22', '12,6', '15,8', '4,8',\n",
       "       '10,4', '11,4', '14,2', '12,2', '10,2', '5,2', '8,6', '7,4',\n",
       "       '28,6', '32,2', '11,8', '24,6', '4,2', '26,6', '40,2', '5,6',\n",
       "       '10,6', '9,6', '8', '6,8', '12', '12,8', '46', '7,2', '6', '15',\n",
       "       '14,4', '12,4', '14', '5,8', '23', '27,8', '6,4', '9,8', '7,8',\n",
       "       '18,2', '16,8', '19,6', '17,2', '3,4', '15,2', '5,4', '20', '10,8',\n",
       "       '8,2', '11,2', '17,4', '11', '15,6', '24', '13,4', '21,2', '19,2',\n",
       "       '17', '13,6', '16', '11,6', '21,6', '20,8', '18', '23,8', '20,2',\n",
       "       '14,8', '30,4', '27,6', '16,2', '27,4', '19', '36,6', '26', '25,6',\n",
       "       '13,2', '22,6', '24,8', '25,4', '33', '21', '16,6', '17,6', '24,4',\n",
       "       '23,2', '20,6', '15,4', '19,4', '32,4', '38,2', '21,8', '16,4',\n",
       "       '20,4', '17,8', '18,8', '30', '49', '57,2', '23,6', '24,2', '32,6',\n",
       "       '34,8', '18,6', '13,8', '25,2', '36', '29,2', '21,4', '39,2',\n",
       "       '35,8', '27,2', '38,4', '43,6', '28,8', '34,6', '22,2', '38,6',\n",
       "       '26,4', '43,8', '22,4', '32,8', '31,6', '28,2', '25', '28', '39,6',\n",
       "       '45,6', '30,6', '31,4', '18,4', '36,4', '38', '23,4', '22,8',\n",
       "       '34,4', '25,8', '29,6', '34', '32', '31,8', '37,8', '33,2', '58,2',\n",
       "       '34,2', '29', '26,8', '48', '19,8', '44,4', '28,4', '40', '49,8',\n",
       "       '42', '43,4', '44', '30,2', '33,8', '39,4', '40,6'], dtype=object)"
      ]
     },
     "execution_count": 62,
     "metadata": {},
     "output_type": "execute_result"
    }
   ],
   "source": [
    "chuvas_r_pa.mm.unique()"
   ]
  },
  {
   "cell_type": "code",
   "execution_count": 63,
   "id": "c1e7eb96",
   "metadata": {},
   "outputs": [
    {
     "data": {
      "text/html": [
       "<div>\n",
       "<style scoped>\n",
       "    .dataframe tbody tr th:only-of-type {\n",
       "        vertical-align: middle;\n",
       "    }\n",
       "\n",
       "    .dataframe tbody tr th {\n",
       "        vertical-align: top;\n",
       "    }\n",
       "\n",
       "    .dataframe thead th {\n",
       "        text-align: right;\n",
       "    }\n",
       "</style>\n",
       "<table border=\"1\" class=\"dataframe\">\n",
       "  <thead>\n",
       "    <tr style=\"text-align: right;\">\n",
       "      <th></th>\n",
       "      <th>date</th>\n",
       "      <th>hora</th>\n",
       "      <th>mm</th>\n",
       "      <th>datetime</th>\n",
       "    </tr>\n",
       "  </thead>\n",
       "  <tbody>\n",
       "    <tr>\n",
       "      <th>101616</th>\n",
       "      <td>2006-07-18</td>\n",
       "      <td>00:00</td>\n",
       "      <td>NaN</td>\n",
       "      <td>2006-07-18 00:00:00</td>\n",
       "    </tr>\n",
       "    <tr>\n",
       "      <th>101617</th>\n",
       "      <td>2006-07-18</td>\n",
       "      <td>01:00</td>\n",
       "      <td>NaN</td>\n",
       "      <td>2006-07-18 01:00:00</td>\n",
       "    </tr>\n",
       "    <tr>\n",
       "      <th>101618</th>\n",
       "      <td>2006-07-18</td>\n",
       "      <td>02:00</td>\n",
       "      <td>NaN</td>\n",
       "      <td>2006-07-18 02:00:00</td>\n",
       "    </tr>\n",
       "    <tr>\n",
       "      <th>101619</th>\n",
       "      <td>2006-07-18</td>\n",
       "      <td>03:00</td>\n",
       "      <td>NaN</td>\n",
       "      <td>2006-07-18 03:00:00</td>\n",
       "    </tr>\n",
       "    <tr>\n",
       "      <th>101620</th>\n",
       "      <td>2006-07-18</td>\n",
       "      <td>04:00</td>\n",
       "      <td>NaN</td>\n",
       "      <td>2006-07-18 04:00:00</td>\n",
       "    </tr>\n",
       "    <tr>\n",
       "      <th>...</th>\n",
       "      <td>...</td>\n",
       "      <td>...</td>\n",
       "      <td>...</td>\n",
       "      <td>...</td>\n",
       "    </tr>\n",
       "    <tr>\n",
       "      <th>378214</th>\n",
       "      <td>2023/12/31</td>\n",
       "      <td>2200</td>\n",
       "      <td>0.0</td>\n",
       "      <td>2023-12-31 22:00:00</td>\n",
       "    </tr>\n",
       "    <tr>\n",
       "      <th>386974</th>\n",
       "      <td>2023/12/31</td>\n",
       "      <td>2200</td>\n",
       "      <td>0.0</td>\n",
       "      <td>2023-12-31 22:00:00</td>\n",
       "    </tr>\n",
       "    <tr>\n",
       "      <th>378215</th>\n",
       "      <td>2023/12/31</td>\n",
       "      <td>2300</td>\n",
       "      <td>0.0</td>\n",
       "      <td>2023-12-31 23:00:00</td>\n",
       "    </tr>\n",
       "    <tr>\n",
       "      <th>395735</th>\n",
       "      <td>2023/12/31</td>\n",
       "      <td>2300</td>\n",
       "      <td>13.4</td>\n",
       "      <td>2023-12-31 23:00:00</td>\n",
       "    </tr>\n",
       "    <tr>\n",
       "      <th>386975</th>\n",
       "      <td>2023/12/31</td>\n",
       "      <td>2300</td>\n",
       "      <td>0.2</td>\n",
       "      <td>2023-12-31 23:00:00</td>\n",
       "    </tr>\n",
       "  </tbody>\n",
       "</table>\n",
       "<p>446137 rows × 4 columns</p>\n",
       "</div>"
      ],
      "text/plain": [
       "              date   hora    mm            datetime\n",
       "101616  2006-07-18  00:00   NaN 2006-07-18 00:00:00\n",
       "101617  2006-07-18  01:00   NaN 2006-07-18 01:00:00\n",
       "101618  2006-07-18  02:00   NaN 2006-07-18 02:00:00\n",
       "101619  2006-07-18  03:00   NaN 2006-07-18 03:00:00\n",
       "101620  2006-07-18  04:00   NaN 2006-07-18 04:00:00\n",
       "...            ...    ...   ...                 ...\n",
       "378214  2023/12/31   2200   0.0 2023-12-31 22:00:00\n",
       "386974  2023/12/31   2200   0.0 2023-12-31 22:00:00\n",
       "378215  2023/12/31   2300   0.0 2023-12-31 23:00:00\n",
       "395735  2023/12/31   2300  13.4 2023-12-31 23:00:00\n",
       "386975  2023/12/31   2300   0.2 2023-12-31 23:00:00\n",
       "\n",
       "[446137 rows x 4 columns]"
      ]
     },
     "execution_count": 63,
     "metadata": {},
     "output_type": "execute_result"
    }
   ],
   "source": [
    "chuvas_r_pa.mm=chuvas_r_pa.mm.replace('-9999',np.nan)\n",
    "chuvas_r_pa.mm=chuvas_r_pa.mm.str.replace(',','.')\n",
    "chuvas_r_pa.mm=chuvas_r_pa.mm.astype(float)\n",
    "chuvas_r_pa"
   ]
  },
  {
   "cell_type": "code",
   "execution_count": 64,
   "id": "bb6603c8",
   "metadata": {
    "scrolled": false
   },
   "outputs": [
    {
     "data": {
      "text/html": [
       "<div>\n",
       "<style scoped>\n",
       "    .dataframe tbody tr th:only-of-type {\n",
       "        vertical-align: middle;\n",
       "    }\n",
       "\n",
       "    .dataframe tbody tr th {\n",
       "        vertical-align: top;\n",
       "    }\n",
       "\n",
       "    .dataframe thead th {\n",
       "        text-align: right;\n",
       "    }\n",
       "</style>\n",
       "<table border=\"1\" class=\"dataframe\">\n",
       "  <thead>\n",
       "    <tr style=\"text-align: right;\">\n",
       "      <th></th>\n",
       "      <th>datetime</th>\n",
       "      <th>mm</th>\n",
       "    </tr>\n",
       "  </thead>\n",
       "  <tbody>\n",
       "    <tr>\n",
       "      <th>101616</th>\n",
       "      <td>2006-07-18 00:00:00</td>\n",
       "      <td>NaN</td>\n",
       "    </tr>\n",
       "    <tr>\n",
       "      <th>101617</th>\n",
       "      <td>2006-07-18 01:00:00</td>\n",
       "      <td>NaN</td>\n",
       "    </tr>\n",
       "    <tr>\n",
       "      <th>101618</th>\n",
       "      <td>2006-07-18 02:00:00</td>\n",
       "      <td>NaN</td>\n",
       "    </tr>\n",
       "    <tr>\n",
       "      <th>101619</th>\n",
       "      <td>2006-07-18 03:00:00</td>\n",
       "      <td>NaN</td>\n",
       "    </tr>\n",
       "    <tr>\n",
       "      <th>101620</th>\n",
       "      <td>2006-07-18 04:00:00</td>\n",
       "      <td>NaN</td>\n",
       "    </tr>\n",
       "    <tr>\n",
       "      <th>101621</th>\n",
       "      <td>2006-07-18 05:00:00</td>\n",
       "      <td>NaN</td>\n",
       "    </tr>\n",
       "    <tr>\n",
       "      <th>101622</th>\n",
       "      <td>2006-07-18 06:00:00</td>\n",
       "      <td>NaN</td>\n",
       "    </tr>\n",
       "    <tr>\n",
       "      <th>101623</th>\n",
       "      <td>2006-07-18 07:00:00</td>\n",
       "      <td>NaN</td>\n",
       "    </tr>\n",
       "    <tr>\n",
       "      <th>101624</th>\n",
       "      <td>2006-07-18 08:00:00</td>\n",
       "      <td>NaN</td>\n",
       "    </tr>\n",
       "    <tr>\n",
       "      <th>101625</th>\n",
       "      <td>2006-07-18 09:00:00</td>\n",
       "      <td>NaN</td>\n",
       "    </tr>\n",
       "    <tr>\n",
       "      <th>101626</th>\n",
       "      <td>2006-07-18 10:00:00</td>\n",
       "      <td>NaN</td>\n",
       "    </tr>\n",
       "    <tr>\n",
       "      <th>101627</th>\n",
       "      <td>2006-07-18 11:00:00</td>\n",
       "      <td>NaN</td>\n",
       "    </tr>\n",
       "    <tr>\n",
       "      <th>101628</th>\n",
       "      <td>2006-07-18 12:00:00</td>\n",
       "      <td>NaN</td>\n",
       "    </tr>\n",
       "    <tr>\n",
       "      <th>101629</th>\n",
       "      <td>2006-07-18 13:00:00</td>\n",
       "      <td>NaN</td>\n",
       "    </tr>\n",
       "    <tr>\n",
       "      <th>101630</th>\n",
       "      <td>2006-07-18 14:00:00</td>\n",
       "      <td>NaN</td>\n",
       "    </tr>\n",
       "    <tr>\n",
       "      <th>101631</th>\n",
       "      <td>2006-07-18 15:00:00</td>\n",
       "      <td>NaN</td>\n",
       "    </tr>\n",
       "    <tr>\n",
       "      <th>101632</th>\n",
       "      <td>2006-07-18 16:00:00</td>\n",
       "      <td>NaN</td>\n",
       "    </tr>\n",
       "    <tr>\n",
       "      <th>101633</th>\n",
       "      <td>2006-07-18 17:00:00</td>\n",
       "      <td>0.0</td>\n",
       "    </tr>\n",
       "    <tr>\n",
       "      <th>101634</th>\n",
       "      <td>2006-07-18 18:00:00</td>\n",
       "      <td>0.0</td>\n",
       "    </tr>\n",
       "    <tr>\n",
       "      <th>101635</th>\n",
       "      <td>2006-07-18 19:00:00</td>\n",
       "      <td>0.0</td>\n",
       "    </tr>\n",
       "  </tbody>\n",
       "</table>\n",
       "</div>"
      ],
      "text/plain": [
       "                  datetime   mm\n",
       "101616 2006-07-18 00:00:00  NaN\n",
       "101617 2006-07-18 01:00:00  NaN\n",
       "101618 2006-07-18 02:00:00  NaN\n",
       "101619 2006-07-18 03:00:00  NaN\n",
       "101620 2006-07-18 04:00:00  NaN\n",
       "101621 2006-07-18 05:00:00  NaN\n",
       "101622 2006-07-18 06:00:00  NaN\n",
       "101623 2006-07-18 07:00:00  NaN\n",
       "101624 2006-07-18 08:00:00  NaN\n",
       "101625 2006-07-18 09:00:00  NaN\n",
       "101626 2006-07-18 10:00:00  NaN\n",
       "101627 2006-07-18 11:00:00  NaN\n",
       "101628 2006-07-18 12:00:00  NaN\n",
       "101629 2006-07-18 13:00:00  NaN\n",
       "101630 2006-07-18 14:00:00  NaN\n",
       "101631 2006-07-18 15:00:00  NaN\n",
       "101632 2006-07-18 16:00:00  NaN\n",
       "101633 2006-07-18 17:00:00  0.0\n",
       "101634 2006-07-18 18:00:00  0.0\n",
       "101635 2006-07-18 19:00:00  0.0"
      ]
     },
     "execution_count": 64,
     "metadata": {},
     "output_type": "execute_result"
    }
   ],
   "source": [
    "chuvas_r_pa=chuvas_r_pa[['datetime','mm']].sort_values('datetime')\n",
    "chuvas_r_pa.head(20)"
   ]
  },
  {
   "cell_type": "code",
   "execution_count": 65,
   "id": "36c2e31e",
   "metadata": {},
   "outputs": [
    {
     "data": {
      "text/plain": [
       "293113"
      ]
     },
     "execution_count": 65,
     "metadata": {},
     "output_type": "execute_result"
    }
   ],
   "source": [
    "chuvas_r_pa[['datetime']].duplicated().sum()"
   ]
  },
  {
   "cell_type": "code",
   "execution_count": 66,
   "id": "57ae1d36",
   "metadata": {},
   "outputs": [
    {
     "data": {
      "text/plain": [
       "446137"
      ]
     },
     "execution_count": 66,
     "metadata": {},
     "output_type": "execute_result"
    }
   ],
   "source": [
    "len(chuvas_r_pa)"
   ]
  },
  {
   "cell_type": "code",
   "execution_count": 67,
   "id": "86f9a69b",
   "metadata": {},
   "outputs": [],
   "source": [
    "chuvas_r_pa=chuvas_r_pa[chuvas_r_pa.datetime.dt.year>2006]"
   ]
  },
  {
   "cell_type": "code",
   "execution_count": 68,
   "id": "74555cf5",
   "metadata": {},
   "outputs": [
    {
     "data": {
      "text/plain": [
       "441313"
      ]
     },
     "execution_count": 68,
     "metadata": {},
     "output_type": "execute_result"
    }
   ],
   "source": [
    "len(chuvas_r_pa)"
   ]
  },
  {
   "cell_type": "code",
   "execution_count": 69,
   "id": "c928d07d",
   "metadata": {},
   "outputs": [
    {
     "data": {
      "text/html": [
       "<div>\n",
       "<style scoped>\n",
       "    .dataframe tbody tr th:only-of-type {\n",
       "        vertical-align: middle;\n",
       "    }\n",
       "\n",
       "    .dataframe tbody tr th {\n",
       "        vertical-align: top;\n",
       "    }\n",
       "\n",
       "    .dataframe thead th {\n",
       "        text-align: right;\n",
       "    }\n",
       "</style>\n",
       "<table border=\"1\" class=\"dataframe\">\n",
       "  <thead>\n",
       "    <tr style=\"text-align: right;\">\n",
       "      <th></th>\n",
       "      <th>datetime</th>\n",
       "      <th>mm</th>\n",
       "      <th>m</th>\n",
       "    </tr>\n",
       "  </thead>\n",
       "  <tbody>\n",
       "    <tr>\n",
       "      <th>13944</th>\n",
       "      <td>2007-01-01 00:00:00</td>\n",
       "      <td>4.0</td>\n",
       "      <td>1</td>\n",
       "    </tr>\n",
       "    <tr>\n",
       "      <th>0</th>\n",
       "      <td>2007-01-01 00:00:00</td>\n",
       "      <td>0.8</td>\n",
       "      <td>1</td>\n",
       "    </tr>\n",
       "    <tr>\n",
       "      <th>13945</th>\n",
       "      <td>2007-01-01 01:00:00</td>\n",
       "      <td>2.0</td>\n",
       "      <td>1</td>\n",
       "    </tr>\n",
       "    <tr>\n",
       "      <th>1</th>\n",
       "      <td>2007-01-01 01:00:00</td>\n",
       "      <td>0.2</td>\n",
       "      <td>1</td>\n",
       "    </tr>\n",
       "    <tr>\n",
       "      <th>2</th>\n",
       "      <td>2007-01-01 02:00:00</td>\n",
       "      <td>0.2</td>\n",
       "      <td>1</td>\n",
       "    </tr>\n",
       "    <tr>\n",
       "      <th>...</th>\n",
       "      <td>...</td>\n",
       "      <td>...</td>\n",
       "      <td>...</td>\n",
       "    </tr>\n",
       "    <tr>\n",
       "      <th>395734</th>\n",
       "      <td>2023-12-31 22:00:00</td>\n",
       "      <td>2.2</td>\n",
       "      <td>12</td>\n",
       "    </tr>\n",
       "    <tr>\n",
       "      <th>386974</th>\n",
       "      <td>2023-12-31 22:00:00</td>\n",
       "      <td>0.0</td>\n",
       "      <td>12</td>\n",
       "    </tr>\n",
       "    <tr>\n",
       "      <th>395735</th>\n",
       "      <td>2023-12-31 23:00:00</td>\n",
       "      <td>13.4</td>\n",
       "      <td>12</td>\n",
       "    </tr>\n",
       "    <tr>\n",
       "      <th>378215</th>\n",
       "      <td>2023-12-31 23:00:00</td>\n",
       "      <td>0.0</td>\n",
       "      <td>12</td>\n",
       "    </tr>\n",
       "    <tr>\n",
       "      <th>386975</th>\n",
       "      <td>2023-12-31 23:00:00</td>\n",
       "      <td>0.2</td>\n",
       "      <td>12</td>\n",
       "    </tr>\n",
       "  </tbody>\n",
       "</table>\n",
       "<p>441313 rows × 3 columns</p>\n",
       "</div>"
      ],
      "text/plain": [
       "                  datetime    mm   m\n",
       "13944  2007-01-01 00:00:00   4.0   1\n",
       "0      2007-01-01 00:00:00   0.8   1\n",
       "13945  2007-01-01 01:00:00   2.0   1\n",
       "1      2007-01-01 01:00:00   0.2   1\n",
       "2      2007-01-01 02:00:00   0.2   1\n",
       "...                    ...   ...  ..\n",
       "395734 2023-12-31 22:00:00   2.2  12\n",
       "386974 2023-12-31 22:00:00   0.0  12\n",
       "395735 2023-12-31 23:00:00  13.4  12\n",
       "378215 2023-12-31 23:00:00   0.0  12\n",
       "386975 2023-12-31 23:00:00   0.2  12\n",
       "\n",
       "[441313 rows x 3 columns]"
      ]
     },
     "execution_count": 69,
     "metadata": {},
     "output_type": "execute_result"
    }
   ],
   "source": [
    "chuvas_r_pa['m']=chuvas_r_pa.datetime.dt.month\n",
    "chuvas_r_pa"
   ]
  },
  {
   "cell_type": "code",
   "execution_count": 70,
   "id": "5ae74074",
   "metadata": {},
   "outputs": [],
   "source": [
    "c_na=chuvas_r_pa[chuvas_r_pa.mm.isna()]\n",
    "c_sna=chuvas_r_pa[~chuvas_r_pa.mm.isna()]"
   ]
  },
  {
   "cell_type": "code",
   "execution_count": 71,
   "id": "d97ebd58",
   "metadata": {},
   "outputs": [],
   "source": [
    "c_m=chuvas_r_pa.groupby('m').mm.mean().reset_index()"
   ]
  },
  {
   "cell_type": "code",
   "execution_count": 72,
   "id": "0a1eefd0",
   "metadata": {},
   "outputs": [],
   "source": [
    "c_na_transf=c_na.drop(columns='mm').merge(c_m)"
   ]
  },
  {
   "cell_type": "code",
   "execution_count": 73,
   "id": "9fc1889c",
   "metadata": {},
   "outputs": [],
   "source": [
    "chuvas_r_pa=pd.concat([c_na_transf,c_sna])"
   ]
  },
  {
   "cell_type": "code",
   "execution_count": 74,
   "id": "f60121e1",
   "metadata": {},
   "outputs": [
    {
     "data": {
      "text/html": [
       "<div>\n",
       "<style scoped>\n",
       "    .dataframe tbody tr th:only-of-type {\n",
       "        vertical-align: middle;\n",
       "    }\n",
       "\n",
       "    .dataframe tbody tr th {\n",
       "        vertical-align: top;\n",
       "    }\n",
       "\n",
       "    .dataframe thead th {\n",
       "        text-align: right;\n",
       "    }\n",
       "</style>\n",
       "<table border=\"1\" class=\"dataframe\">\n",
       "  <thead>\n",
       "    <tr style=\"text-align: right;\">\n",
       "      <th></th>\n",
       "      <th>datetime</th>\n",
       "      <th>m</th>\n",
       "      <th>mm</th>\n",
       "    </tr>\n",
       "  </thead>\n",
       "  <tbody>\n",
       "    <tr>\n",
       "      <th>count</th>\n",
       "      <td>441313</td>\n",
       "      <td>441313.000000</td>\n",
       "      <td>441313.000000</td>\n",
       "    </tr>\n",
       "    <tr>\n",
       "      <th>mean</th>\n",
       "      <td>2015-07-14 02:08:34.124895232</td>\n",
       "      <td>6.565744</td>\n",
       "      <td>0.151289</td>\n",
       "    </tr>\n",
       "    <tr>\n",
       "      <th>min</th>\n",
       "      <td>2007-01-01 00:00:00</td>\n",
       "      <td>1.000000</td>\n",
       "      <td>0.000000</td>\n",
       "    </tr>\n",
       "    <tr>\n",
       "      <th>25%</th>\n",
       "      <td>2011-05-02 00:00:00</td>\n",
       "      <td>4.000000</td>\n",
       "      <td>0.000000</td>\n",
       "    </tr>\n",
       "    <tr>\n",
       "      <th>50%</th>\n",
       "      <td>2015-07-12 08:00:00</td>\n",
       "      <td>7.000000</td>\n",
       "      <td>0.000000</td>\n",
       "    </tr>\n",
       "    <tr>\n",
       "      <th>75%</th>\n",
       "      <td>2019-09-23 16:00:00</td>\n",
       "      <td>10.000000</td>\n",
       "      <td>0.000000</td>\n",
       "    </tr>\n",
       "    <tr>\n",
       "      <th>max</th>\n",
       "      <td>2023-12-31 23:00:00</td>\n",
       "      <td>12.000000</td>\n",
       "      <td>58.200000</td>\n",
       "    </tr>\n",
       "    <tr>\n",
       "      <th>std</th>\n",
       "      <td>NaN</td>\n",
       "      <td>3.440549</td>\n",
       "      <td>1.076387</td>\n",
       "    </tr>\n",
       "  </tbody>\n",
       "</table>\n",
       "</div>"
      ],
      "text/plain": [
       "                            datetime              m             mm\n",
       "count                         441313  441313.000000  441313.000000\n",
       "mean   2015-07-14 02:08:34.124895232       6.565744       0.151289\n",
       "min              2007-01-01 00:00:00       1.000000       0.000000\n",
       "25%              2011-05-02 00:00:00       4.000000       0.000000\n",
       "50%              2015-07-12 08:00:00       7.000000       0.000000\n",
       "75%              2019-09-23 16:00:00      10.000000       0.000000\n",
       "max              2023-12-31 23:00:00      12.000000      58.200000\n",
       "std                              NaN       3.440549       1.076387"
      ]
     },
     "execution_count": 74,
     "metadata": {},
     "output_type": "execute_result"
    }
   ],
   "source": [
    "chuvas_r_pa.describe()"
   ]
  },
  {
   "cell_type": "code",
   "execution_count": 75,
   "id": "96a865c3",
   "metadata": {},
   "outputs": [
    {
     "data": {
      "text/plain": [
       "Text(0.5, 1.05, 'Chuvas na Região de Pouso Alegre')"
      ]
     },
     "execution_count": 75,
     "metadata": {},
     "output_type": "execute_result"
    },
    {
     "data": {
      "image/png": "[encoded data removed]",
      "text/plain": [
       "<Figure size 500x500 with 1 Axes>"
      ]
     },
     "metadata": {},
     "output_type": "display_data"
    }
   ],
   "source": [
    "sns.displot(data=chuvas_r_pa[chuvas_r_pa.mm>0],x='mm', log_scale=True)\\\n",
    ".fig.suptitle('Chuvas na Região de Pouso Alegre',y=1.05)"
   ]
  },
  {
   "cell_type": "raw",
   "id": "f3be5734",
   "metadata": {},
   "source": [
    "chuvas_r_pa.loc[chuvas_r_pa.mm<10**-0.8,'mm']=0\n",
    "print('\\n\\nElimina menores que 10**-0.8 KT\\n')"
   ]
  },
  {
   "cell_type": "code",
   "execution_count": 76,
   "id": "8fcd6c66",
   "metadata": {},
   "outputs": [
    {
     "data": {
      "text/plain": [
       "<seaborn.axisgrid.FacetGrid at 0x79da83f3e550>"
      ]
     },
     "execution_count": 76,
     "metadata": {},
     "output_type": "execute_result"
    },
    {
     "data": {
      "image/png": "[encoded data removed]",
      "text/plain": [
       "<Figure size 500x500 with 1 Axes>"
      ]
     },
     "metadata": {},
     "output_type": "display_data"
    }
   ],
   "source": [
    "sns.displot(data=chuvas_r_pa[chuvas_r_pa.mm>0],x='mm', log_scale=True)"
   ]
  },
  {
   "cell_type": "code",
   "execution_count": 77,
   "id": "a9816098",
   "metadata": {},
   "outputs": [
    {
     "name": "stdout",
     "output_type": "stream",
     "text": [
      "\n",
      "\n",
      "Agrupa Estações Meteorológicas\n",
      "\n"
     ]
    }
   ],
   "source": [
    "chuvas_r_pa=chuvas_r_pa.groupby('datetime').mm.mean().reset_index()\n",
    "print('\\n\\nAgrupa Estações Meteorológicas\\n')"
   ]
  },
  {
   "cell_type": "code",
   "execution_count": 78,
   "id": "2d62c7d9",
   "metadata": {},
   "outputs": [
    {
     "data": {
      "text/plain": [
       "<seaborn.axisgrid.FacetGrid at 0x79da83fea250>"
      ]
     },
     "execution_count": 78,
     "metadata": {},
     "output_type": "execute_result"
    },
    {
     "data": {
      "image/png": "[encoded data removed]",
      "text/plain": [
       "<Figure size 500x500 with 1 Axes>"
      ]
     },
     "metadata": {},
     "output_type": "display_data"
    }
   ],
   "source": [
    "sns.displot(data=chuvas_r_pa[chuvas_r_pa.mm>0],x='mm',log_scale=True)"
   ]
  },
  {
   "cell_type": "code",
   "execution_count": 79,
   "id": "ed04191a",
   "metadata": {},
   "outputs": [
    {
     "name": "stdout",
     "output_type": "stream",
     "text": [
      "\n",
      "\n",
      "Agrupa por mês\n",
      "\n"
     ]
    }
   ],
   "source": [
    "chuvas_r_pa['Ano']=chuvas_r_pa.datetime.dt.year\n",
    "chuvas_r_pa['Mês']=chuvas_r_pa.datetime.dt.month\n",
    "chuvas_r_pa['date']=pd.to_datetime(chuvas_r_pa.Ano.astype(str)+'/'+chuvas_r_pa.Mês.astype(str)+'/1')\n",
    "chuvas_r_pa=chuvas_r_pa.groupby(by=['date','Ano','Mês']).mm.sum().reset_index()\n",
    "print('\\n\\nAgrupa por mês\\n')"
   ]
  },
  {
   "cell_type": "code",
   "execution_count": 80,
   "id": "506bb9ba",
   "metadata": {},
   "outputs": [
    {
     "data": {
      "image/png": "[encoded data removed]",
      "text/plain": [
       "<Figure size 500x500 with 1 Axes>"
      ]
     },
     "metadata": {},
     "output_type": "display_data"
    }
   ],
   "source": [
    "sns.displot(data=chuvas_r_pa[chuvas_r_pa.mm>0],x='mm',log_scale=True)\\\n",
    ".fig.suptitle('Volume de Chuva em 1 mês\\n\\\n",
    "na Região de Pouo Alegre',y=1.1)\n",
    "plt.show()"
   ]
  },
  {
   "cell_type": "code",
   "execution_count": 82,
   "id": "0de40da6",
   "metadata": {},
   "outputs": [],
   "source": [
    "chuvas_r_pa=chuvas_r_pa[chuvas_r_pa.mm>1]"
   ]
  },
  {
   "cell_type": "code",
   "execution_count": 83,
   "id": "8c8f8ce4",
   "metadata": {},
   "outputs": [
    {
     "data": {
      "image/png": "[encoded data removed]",
      "text/plain": [
       "<Figure size 500x500 with 1 Axes>"
      ]
     },
     "metadata": {},
     "output_type": "display_data"
    }
   ],
   "source": [
    "sns.displot(data=chuvas_r_pa[chuvas_r_pa.mm>0],x='mm',log_scale=True)\\\n",
    ".fig.suptitle('Volume de Chuva em 1 mês\\n\\\n",
    "na Região de Pouo Alegre',y=1.1)\n",
    "plt.show()"
   ]
  },
  {
   "cell_type": "code",
   "execution_count": 81,
   "id": "bab87295",
   "metadata": {},
   "outputs": [],
   "source": [
    "chuvas_r_pa.to_csv('~/git/Importacao-por-SH-e-Municipio/temp/chuvas_r_pa.csv',index=False)"
   ]
  }
 ],
 "metadata": {
  "kernelspec": {
   "display_name": "Python 3 (ipykernel)",
   "language": "python",
   "name": "python3"
  },
  "language_info": {
   "codemirror_mode": {
    "name": "ipython",
    "version": 3
   },
   "file_extension": ".py",
   "mimetype": "text/x-python",
   "name": "python",
   "nbconvert_exporter": "python",
   "pygments_lexer": "ipython3",
   "version": "3.11.5"
  }
 },
 "nbformat": 4,
 "nbformat_minor": 5
}
