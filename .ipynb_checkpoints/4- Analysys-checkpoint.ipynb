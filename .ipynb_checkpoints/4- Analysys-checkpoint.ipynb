{
 "cells": [
  {
   "cell_type": "code",
   "execution_count": 295,
   "id": "24f895c8-e6ac-4943-91d1-905bb68ad289",
   "metadata": {},
   "outputs": [],
   "source": [
    "%run  '~/git/Bibliotecas.ipynb'"
   ]
  },
  {
   "cell_type": "markdown",
   "id": "4e272e65-df84-4f48-8bc1-be993a19401e",
   "metadata": {},
   "source": [
    "Cria função que procederá teste em todas as tabelas prreparadas para isso no capítulo anterior.  \n",
    "Os testes serão executados utilizando todos os dados anteriores ao ano a ser testado. Os anos a serem testados são os últimos dez anos da tabela."
   ]
  },
  {
   "cell_type": "code",
   "execution_count": 233,
   "id": "8e4fb813-f8cf-42dc-8eeb-707138b0fad3",
   "metadata": {},
   "outputs": [],
   "source": [
    "def test_rf(df, duração):\n",
    "    # Cria df vazia para acumular os resultados dos testes\n",
    "    q=pd.DataFrame()\n",
    "    # Elimina dos testes o último ano da tabela, ano que esta em curso e é o objetivo da predição final.\n",
    "    df_test=df[df.CO_ANO!=df.CO_ANO.max()]\n",
    "    # Inicia loop para proceder teste nos últimos 10 anos \n",
    "    for a in range(df_test.CO_ANO.max()-duração,df_test.CO_ANO.max()+1):\n",
    "        # Elimina anos posteriores ao ano de teste\n",
    "        df_t=df_test[df_test.CO_ANO<=a]\n",
    "        # Determina o período para treino, que são todos os anos menos o último\n",
    "        train=df_t[df_t.CO_ANO!=df_t.CO_ANO.max()]\n",
    "        # Determina o ano de teste, que é o último dsponível\n",
    "        test=df_t[df_t.CO_ANO==df_t.CO_ANO.max()]\n",
    "        # Determina X e y de treino\n",
    "        X_train=train.drop(columns='KG_f')\n",
    "        y_train=train.KG_f\n",
    "        # Determina X e y de teste\n",
    "        X_test=test.drop(columns='KG_f')\n",
    "        y_test=test.KG_f\n",
    "        # Fit o  regressor nos dados de teste\n",
    "        RFR.fit(X_train,y_train)\n",
    "        # Faz a previsão\n",
    "        test_pred=test.assign(KG_f_pred=RFR.predict(X_test))\n",
    "        #display(test_pred)\n",
    "        \n",
    "        # Cria tabela com resultado do  teste \n",
    "        w=pd.DataFrame({'Ano':[a],'KG_f':test_pred.KG_f,'KG_pred_f':test_pred.KG_f_pred})\n",
    "        # Armazena os resultados\n",
    "        q=pd.concat([q,w])\n",
    "    '''    # Imprime o resultado do teste\n",
    "        print(w)'''\n",
    "\n",
    "    # Imprime os resultados gerais\n",
    "    print(round(metrics.mean_absolute_percentage_error(q.KG_f,q.KG_pred_f),2))\n",
    "    "
   ]
  },
  {
   "cell_type": "code",
   "execution_count": 161,
   "id": "d3256de0-01fb-4081-97cc-6e2738f73be3",
   "metadata": {},
   "outputs": [],
   "source": [
    "i=pd.read_csv('~/git/comex_sh_mun/temp/i.csv')\n",
    "i=i[i.CO_ANO!=i.CO_ANO.min()]\n",
    "i_single=i[['CO_ANO','KG_f']]"
   ]
  },
  {
   "cell_type": "code",
   "execution_count": 162,
   "id": "8311c0e6-13b6-482e-96cf-98e3398e470f",
   "metadata": {},
   "outputs": [],
   "source": [
    "i_wide=pd.read_csv('~/git/comex_sh_mun/temp/i_wide.csv')"
   ]
  },
  {
   "cell_type": "code",
   "execution_count": 163,
   "id": "998231fb-ec51-43c5-bf92-2b1746f96bbd",
   "metadata": {
    "scrolled": true
   },
   "outputs": [],
   "source": [
    "i_e=pd.read_csv('~/git/comex_sh_mun/temp/i_e.csv')\n",
    "i_e=i_e[i_e.CO_ANO!=i_e.CO_ANO.min()]"
   ]
  },
  {
   "cell_type": "code",
   "execution_count": 164,
   "id": "f2229c1e-708b-4a58-bb39-44872bd27e30",
   "metadata": {
    "scrolled": true
   },
   "outputs": [],
   "source": [
    "i_e_wide=pd.read_csv('~/git/comex_sh_mun/temp/i_e_wide.csv')\n",
    "i_e_wide=i_e_wide[i_e_wide.CO_ANO!=i_e_wide.CO_ANO.min()]"
   ]
  },
  {
   "cell_type": "code",
   "execution_count": 165,
   "id": "68f2a90d-44ce-4c98-8a44-c309269b4973",
   "metadata": {
    "scrolled": true
   },
   "outputs": [],
   "source": [
    "i_e_c=pd.read_csv('~/git/comex_sh_mun/temp/i_e_c.csv')"
   ]
  },
  {
   "cell_type": "code",
   "execution_count": 166,
   "id": "04f15281-d47f-4e68-ab3c-ddc38cd51580",
   "metadata": {
    "scrolled": true
   },
   "outputs": [],
   "source": [
    "i_e_c_wide=pd.read_csv('~/git/comex_sh_mun/temp/i_e_c_wide.csv')"
   ]
  },
  {
   "cell_type": "code",
   "execution_count": 272,
   "id": "82b6d108-edca-4e12-a950-ff90bd944cde",
   "metadata": {},
   "outputs": [
    {
     "name": "stdout",
     "output_type": "stream",
     "text": [
      "0.26\n",
      "0.28\n"
     ]
    },
    {
     "data": {
      "text/plain": [
       "(None, None)"
      ]
     },
     "execution_count": 272,
     "metadata": {},
     "output_type": "execute_result"
    }
   ],
   "source": [
    "test_rf(i_single,5), test_rf(i_single,2)"
   ]
  },
  {
   "cell_type": "code",
   "execution_count": null,
   "id": "38c90bfb-84cf-418b-b7a0-97571f04c48f",
   "metadata": {},
   "outputs": [],
   "source": []
  },
  {
   "cell_type": "code",
   "execution_count": 285,
   "id": "d5cce871-8963-4ab8-8e7c-54693619f3f8",
   "metadata": {},
   "outputs": [
    {
     "name": "stdout",
     "output_type": "stream",
     "text": [
      "0.11\n"
     ]
    }
   ],
   "source": [
    "test_rf(i,5)"
   ]
  },
  {
   "cell_type": "code",
   "execution_count": 279,
   "id": "cd9d9ca1-e9bd-4408-80f2-0779a527d0a1",
   "metadata": {},
   "outputs": [
    {
     "name": "stdout",
     "output_type": "stream",
     "text": [
      "0.24\n"
     ]
    }
   ],
   "source": [
    "test_rf(i_wide,5)"
   ]
  },
  {
   "cell_type": "code",
   "execution_count": null,
   "id": "ed568952-0e7d-47c3-8df0-33574d898fb9",
   "metadata": {},
   "outputs": [],
   "source": []
  },
  {
   "cell_type": "code",
   "execution_count": 265,
   "id": "78b2487a-11a3-4efe-884b-efb34df011c8",
   "metadata": {},
   "outputs": [
    {
     "name": "stdout",
     "output_type": "stream",
     "text": [
      "0.08\n",
      "0.27\n"
     ]
    },
    {
     "data": {
      "text/plain": [
       "(None, None)"
      ]
     },
     "execution_count": 265,
     "metadata": {},
     "output_type": "execute_result"
    }
   ],
   "source": [
    "test_rf(i,2), test_rf(i_wide,2)"
   ]
  },
  {
   "cell_type": "code",
   "execution_count": null,
   "id": "21864b3b-1d1b-4fc1-a51f-7d63da35f766",
   "metadata": {},
   "outputs": [],
   "source": []
  },
  {
   "cell_type": "code",
   "execution_count": 266,
   "id": "a673e668-78dc-46e6-a16a-32b9816dfb3b",
   "metadata": {},
   "outputs": [
    {
     "name": "stdout",
     "output_type": "stream",
     "text": [
      "0.14\n",
      "0.12\n"
     ]
    },
    {
     "data": {
      "text/plain": [
       "(None, None)"
      ]
     },
     "execution_count": 266,
     "metadata": {},
     "output_type": "execute_result"
    }
   ],
   "source": [
    "test_rf(i_e,5), test_rf(i_e_wide,5)"
   ]
  },
  {
   "cell_type": "code",
   "execution_count": null,
   "id": "3bc798fa-5b5b-49df-b033-0ccf396e094c",
   "metadata": {},
   "outputs": [],
   "source": []
  },
  {
   "cell_type": "code",
   "execution_count": 267,
   "id": "17887917-ec3e-4bd6-8f36-6ade871009b1",
   "metadata": {},
   "outputs": [
    {
     "name": "stdout",
     "output_type": "stream",
     "text": [
      "0.13\n",
      "0.16\n"
     ]
    },
    {
     "data": {
      "text/plain": [
       "(None, None)"
      ]
     },
     "execution_count": 267,
     "metadata": {},
     "output_type": "execute_result"
    }
   ],
   "source": [
    "test_rf(i_e,2) , test_rf(i_e_wide,2)"
   ]
  },
  {
   "cell_type": "code",
   "execution_count": null,
   "id": "8fd6c0b5-6575-4b5f-b656-1b798717c58c",
   "metadata": {},
   "outputs": [],
   "source": []
  },
  {
   "cell_type": "code",
   "execution_count": 268,
   "id": "a6572b58-4075-46af-850c-36efc034c149",
   "metadata": {},
   "outputs": [
    {
     "name": "stdout",
     "output_type": "stream",
     "text": [
      "0.13\n",
      "0.2\n"
     ]
    },
    {
     "data": {
      "text/plain": [
       "(None, None)"
      ]
     },
     "execution_count": 268,
     "metadata": {},
     "output_type": "execute_result"
    }
   ],
   "source": [
    "test_rf(i_e_c,5) ,test_rf(i_e_c_wide,5)"
   ]
  },
  {
   "cell_type": "code",
   "execution_count": null,
   "id": "27989da2-ddbf-45ae-abf7-cf84ac49d36c",
   "metadata": {},
   "outputs": [],
   "source": []
  },
  {
   "cell_type": "code",
   "execution_count": 312,
   "id": "ab791e85-9018-4d45-b875-286184013acb",
   "metadata": {},
   "outputs": [
    {
     "name": "stdout",
     "output_type": "stream",
     "text": [
      "0.14\n"
     ]
    }
   ],
   "source": [
    "test_rf(i_e_c,5)"
   ]
  },
  {
   "cell_type": "code",
   "execution_count": 307,
   "id": "86dee2c6-c2d8-411c-9264-e93e9db2614f",
   "metadata": {},
   "outputs": [
    {
     "name": "stdout",
     "output_type": "stream",
     "text": [
      "0.19\n"
     ]
    }
   ],
   "source": [
    "test_rf(i_e_c_wide,10)"
   ]
  },
  {
   "cell_type": "code",
   "execution_count": null,
   "id": "138c98c3-2a88-4fe4-aef7-a755954a0f75",
   "metadata": {},
   "outputs": [],
   "source": []
  },
  {
   "cell_type": "code",
   "execution_count": null,
   "id": "a3a0d798-e345-473a-abb2-11d4209cecab",
   "metadata": {},
   "outputs": [],
   "source": []
  },
  {
   "cell_type": "code",
   "execution_count": null,
   "id": "72e7c85b-8de6-4c3b-b59d-88bbf235039b",
   "metadata": {},
   "outputs": [],
   "source": []
  },
  {
   "cell_type": "code",
   "execution_count": null,
   "id": "5379d7ab-347b-4129-bf77-8cb77e12ecb8",
   "metadata": {},
   "outputs": [],
   "source": []
  },
  {
   "cell_type": "code",
   "execution_count": null,
   "id": "d0bf00d0-a4e9-4f52-ad80-e286b3d29be8",
   "metadata": {},
   "outputs": [],
   "source": []
  }
 ],
 "metadata": {
  "kernelspec": {
   "display_name": "Python 3 (ipykernel)",
   "language": "python",
   "name": "python3"
  },
  "language_info": {
   "codemirror_mode": {
    "name": "ipython",
    "version": 3
   },
   "file_extension": ".py",
   "mimetype": "text/x-python",
   "name": "python",
   "nbconvert_exporter": "python",
   "pygments_lexer": "ipython3",
   "version": "3.11.5"
  }
 },
 "nbformat": 4,
 "nbformat_minor": 5
}
