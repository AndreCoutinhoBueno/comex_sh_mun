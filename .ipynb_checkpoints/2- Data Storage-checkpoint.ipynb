{
 "cells": [
  {
   "cell_type": "markdown",
   "id": "6b25a390",
   "metadata": {},
   "source": [
    "# 1- Tabelas Auxiliares  \n",
    "\n",
    "Serão utilizadas para interpretar os códigos da base de dados e, por isso, devem ser tratadas no primeiro passo.\n",
    "\n",
    "### Distribuição Territorial Brasileira - IBGE  \n",
    "\n",
    "Devido a uma demonstração de interesse por parte de uma empresa importadora de fertilizantes sediada em Pouso Alegre/MG, esse projeto visa prever as importações deste município e de todos os demais na mesma região geográfica.  \n",
    "\n",
    "O arquivo coletado e armazenado no endereço a seguir será descompactado e filtrado, deixando passar somente as informações referentes a região de Pouso Alegre/MG.\n",
    "\n",
    "* '~/git/BD/IBGE/DTB_2022.zip'\n",
    "\n",
    "Ao procurar o nome \"Pouso Alegre\" dentre os tipos de sub-divisão geograficas, se confirma que este município é classificado como centro de uma \"Região Geográfica **Intermediária**\" do estado de Minas Gerais. As regiões deste tipo contém nelas uma segunda sub-divisão, denominada \"Região Geográfica **Imediata**\" onde, por fim, se encontra a última e menor subdivisão, denominada Município.\n",
    "\n",
    "Ao final, o arquivo será salvo em :\n",
    "\n",
    "* 'git/Importacao-por-SH-e-Municipio/temp/i_f_r_pa.csv'"
   ]
  },
  {
   "cell_type": "code",
   "execution_count": 41,
   "id": "5d6ffac3-ed87-4663-9449-e83e1a30c14a",
   "metadata": {},
   "outputs": [],
   "source": [
    "%run '~/git/Bibliotecas.ipynb'"
   ]
  },
  {
   "cell_type": "code",
   "execution_count": 1,
   "id": "82c27787-3c4a-4bf6-92a8-0c336bf995c5",
   "metadata": {},
   "outputs": [],
   "source": [
    "import zipfile\n",
    "import io\n",
    "import os\n",
    "import pandas as pd"
   ]
  },
  {
   "cell_type": "code",
   "execution_count": 2,
   "id": "d0094e04-6dc3-458b-a906-b5a361a572b4",
   "metadata": {},
   "outputs": [
    {
     "name": "stdout",
     "output_type": "stream",
     "text": [
      "WARNING *** OLE2 inconsistency: SSCS size is 0 but SSAT size is non-zero\n",
      "*** No CODEPAGE record, no encoding_override: will use 'iso-8859-1'\n"
     ]
    },
    {
     "data": {
      "text/html": [
       "<div>\n",
       "<style scoped>\n",
       "    .dataframe tbody tr th:only-of-type {\n",
       "        vertical-align: middle;\n",
       "    }\n",
       "\n",
       "    .dataframe tbody tr th {\n",
       "        vertical-align: top;\n",
       "    }\n",
       "\n",
       "    .dataframe thead th {\n",
       "        text-align: right;\n",
       "    }\n",
       "</style>\n",
       "<table border=\"1\" class=\"dataframe\">\n",
       "  <thead>\n",
       "    <tr style=\"text-align: right;\">\n",
       "      <th></th>\n",
       "      <th>UF</th>\n",
       "      <th>Nome_UF</th>\n",
       "      <th>Região Geográfica Intermediária</th>\n",
       "      <th>Nome Região Geográfica Intermediária</th>\n",
       "      <th>Região Geográfica Imediata</th>\n",
       "      <th>Nome Região Geográfica Imediata</th>\n",
       "      <th>Mesorregião Geográfica</th>\n",
       "      <th>Nome_Mesorregião</th>\n",
       "      <th>Microrregião Geográfica</th>\n",
       "      <th>Nome_Microrregião</th>\n",
       "      <th>Município</th>\n",
       "      <th>Código Município Completo</th>\n",
       "      <th>Nome_Município</th>\n",
       "    </tr>\n",
       "  </thead>\n",
       "  <tbody>\n",
       "    <tr>\n",
       "      <th>0</th>\n",
       "      <td>11</td>\n",
       "      <td>Rondônia</td>\n",
       "      <td>1102</td>\n",
       "      <td>Ji-Paraná</td>\n",
       "      <td>110005</td>\n",
       "      <td>Cacoal</td>\n",
       "      <td>2</td>\n",
       "      <td>Leste Rondoniense</td>\n",
       "      <td>6</td>\n",
       "      <td>Cacoal</td>\n",
       "      <td>15</td>\n",
       "      <td>1100015</td>\n",
       "      <td>Alta Floresta D'Oeste</td>\n",
       "    </tr>\n",
       "    <tr>\n",
       "      <th>1</th>\n",
       "      <td>11</td>\n",
       "      <td>Rondônia</td>\n",
       "      <td>1102</td>\n",
       "      <td>Ji-Paraná</td>\n",
       "      <td>110005</td>\n",
       "      <td>Cacoal</td>\n",
       "      <td>2</td>\n",
       "      <td>Leste Rondoniense</td>\n",
       "      <td>6</td>\n",
       "      <td>Cacoal</td>\n",
       "      <td>379</td>\n",
       "      <td>1100379</td>\n",
       "      <td>Alto Alegre dos Parecis</td>\n",
       "    </tr>\n",
       "    <tr>\n",
       "      <th>2</th>\n",
       "      <td>11</td>\n",
       "      <td>Rondônia</td>\n",
       "      <td>1101</td>\n",
       "      <td>Porto Velho</td>\n",
       "      <td>110002</td>\n",
       "      <td>Ariquemes</td>\n",
       "      <td>2</td>\n",
       "      <td>Leste Rondoniense</td>\n",
       "      <td>3</td>\n",
       "      <td>Ariquemes</td>\n",
       "      <td>403</td>\n",
       "      <td>1100403</td>\n",
       "      <td>Alto Paraíso</td>\n",
       "    </tr>\n",
       "    <tr>\n",
       "      <th>3</th>\n",
       "      <td>11</td>\n",
       "      <td>Rondônia</td>\n",
       "      <td>1102</td>\n",
       "      <td>Ji-Paraná</td>\n",
       "      <td>110004</td>\n",
       "      <td>Ji-Paraná</td>\n",
       "      <td>2</td>\n",
       "      <td>Leste Rondoniense</td>\n",
       "      <td>5</td>\n",
       "      <td>Alvorada D'Oeste</td>\n",
       "      <td>346</td>\n",
       "      <td>1100346</td>\n",
       "      <td>Alvorada D'Oeste</td>\n",
       "    </tr>\n",
       "    <tr>\n",
       "      <th>4</th>\n",
       "      <td>11</td>\n",
       "      <td>Rondônia</td>\n",
       "      <td>1101</td>\n",
       "      <td>Porto Velho</td>\n",
       "      <td>110002</td>\n",
       "      <td>Ariquemes</td>\n",
       "      <td>2</td>\n",
       "      <td>Leste Rondoniense</td>\n",
       "      <td>3</td>\n",
       "      <td>Ariquemes</td>\n",
       "      <td>23</td>\n",
       "      <td>1100023</td>\n",
       "      <td>Ariquemes</td>\n",
       "    </tr>\n",
       "  </tbody>\n",
       "</table>\n",
       "</div>"
      ],
      "text/plain": [
       "   UF   Nome_UF  Região Geográfica Intermediária  \\\n",
       "0  11  Rondônia                             1102   \n",
       "1  11  Rondônia                             1102   \n",
       "2  11  Rondônia                             1101   \n",
       "3  11  Rondônia                             1102   \n",
       "4  11  Rondônia                             1101   \n",
       "\n",
       "  Nome Região Geográfica Intermediária  Região Geográfica Imediata  \\\n",
       "0                            Ji-Paraná                      110005   \n",
       "1                            Ji-Paraná                      110005   \n",
       "2                          Porto Velho                      110002   \n",
       "3                            Ji-Paraná                      110004   \n",
       "4                          Porto Velho                      110002   \n",
       "\n",
       "  Nome Região Geográfica Imediata  Mesorregião Geográfica   Nome_Mesorregião  \\\n",
       "0                          Cacoal                       2  Leste Rondoniense   \n",
       "1                          Cacoal                       2  Leste Rondoniense   \n",
       "2                       Ariquemes                       2  Leste Rondoniense   \n",
       "3                       Ji-Paraná                       2  Leste Rondoniense   \n",
       "4                       Ariquemes                       2  Leste Rondoniense   \n",
       "\n",
       "   Microrregião Geográfica Nome_Microrregião  Município  \\\n",
       "0                        6            Cacoal         15   \n",
       "1                        6            Cacoal        379   \n",
       "2                        3         Ariquemes        403   \n",
       "3                        5  Alvorada D'Oeste        346   \n",
       "4                        3         Ariquemes         23   \n",
       "\n",
       "   Código Município Completo           Nome_Município  \n",
       "0                    1100015    Alta Floresta D'Oeste  \n",
       "1                    1100379  Alto Alegre dos Parecis  \n",
       "2                    1100403             Alto Paraíso  \n",
       "3                    1100346         Alvorada D'Oeste  \n",
       "4                    1100023                Ariquemes  "
      ]
     },
     "metadata": {},
     "output_type": "display_data"
    }
   ],
   "source": [
    "caminho_arquivo_zip = '~/git/BD/IBGE/DTB_2022.zip'\n",
    "string_procurada = 'MUNICIPIO'\n",
    "\n",
    "# Expandir o caminho do arquivo\n",
    "caminho_arquivo_zip = os.path.expanduser(caminho_arquivo_zip)\n",
    "\n",
    "# Variável para armazenar o conteúdo do arquivo XLS\n",
    "m = None\n",
    "\n",
    "# Descompactar o arquivo em memória\n",
    "with zipfile.ZipFile(caminho_arquivo_zip, 'r') as zip_ref:\n",
    "    # Obter uma lista de nomes de arquivos no zip\n",
    "    nomes_arquivos = zip_ref.namelist()\n",
    "\n",
    "    for nome_arquivo in nomes_arquivos:\n",
    "        # Verificar se a string 'MUNICIPIO' está presente no nome do arquivo e se o arquivo é um XLS\n",
    "        if string_procurada.upper() in nome_arquivo.upper() and nome_arquivo.lower().endswith('.xls'):\n",
    "            # Ler o conteúdo do arquivo no zip\n",
    "            conteudo_arquivo = zip_ref.read(nome_arquivo)\n",
    "\n",
    "            # Utilizar o pandas para ler o arquivo XLS\n",
    "            m = pd.read_excel(io.BytesIO(conteudo_arquivo), skiprows=6)\n",
    "\n",
    "            # Exibir as primeiras linhas do DataFrame (opcional)\n",
    "            display(m.head())\n",
    "\n",
    "            # Aqui você pode fazer operações adicionais com o conteúdo do arquivo, se necessário"
   ]
  },
  {
   "cell_type": "code",
   "execution_count": 3,
   "id": "c1981590-b9e3-4c54-8496-e4b853905c1e",
   "metadata": {},
   "outputs": [
    {
     "name": "stdout",
     "output_type": "stream",
     "text": [
      "Folder '/home/andre301267/git/Importacao-por-SH-e-Municipio/temp' created successfully.\n"
     ]
    }
   ],
   "source": [
    "import os\n",
    "\n",
    "folder_path = '/home/andre301267/git/Importacao-por-SH-e-Municipio/temp'\n",
    "\n",
    "# Check if the folder already exists\n",
    "if not os.path.exists(folder_path):\n",
    "    # Create the folder\n",
    "    os.makedirs(folder_path)\n",
    "    print(f\"Folder '{folder_path}' created successfully.\")\n",
    "else:\n",
    "    print(f\"Folder '{folder_path}' already exists.\")\n"
   ]
  },
  {
   "cell_type": "code",
   "execution_count": 4,
   "id": "cf951813",
   "metadata": {},
   "outputs": [
    {
     "name": "stdout",
     "output_type": "stream",
     "text": [
      "\n",
      "Municípios da Região de Pouso Alegre:\n"
     ]
    },
    {
     "data": {
      "text/html": [
       "<div>\n",
       "<style scoped>\n",
       "    .dataframe tbody tr th:only-of-type {\n",
       "        vertical-align: middle;\n",
       "    }\n",
       "\n",
       "    .dataframe tbody tr th {\n",
       "        vertical-align: top;\n",
       "    }\n",
       "\n",
       "    .dataframe thead th {\n",
       "        text-align: right;\n",
       "    }\n",
       "</style>\n",
       "<table border=\"1\" class=\"dataframe\">\n",
       "  <thead>\n",
       "    <tr style=\"text-align: right;\">\n",
       "      <th></th>\n",
       "      <th>Município</th>\n",
       "    </tr>\n",
       "  </thead>\n",
       "  <tbody>\n",
       "    <tr>\n",
       "      <th>0</th>\n",
       "      <td>Aiuruoca</td>\n",
       "    </tr>\n",
       "    <tr>\n",
       "      <th>1</th>\n",
       "      <td>Alagoa</td>\n",
       "    </tr>\n",
       "    <tr>\n",
       "      <th>2</th>\n",
       "      <td>Albertina</td>\n",
       "    </tr>\n",
       "    <tr>\n",
       "      <th>3</th>\n",
       "      <td>Andradas</td>\n",
       "    </tr>\n",
       "    <tr>\n",
       "      <th>4</th>\n",
       "      <td>Baependi</td>\n",
       "    </tr>\n",
       "    <tr>\n",
       "      <th>...</th>\n",
       "      <td>...</td>\n",
       "    </tr>\n",
       "    <tr>\n",
       "      <th>75</th>\n",
       "      <td>Tocos do Moji</td>\n",
       "    </tr>\n",
       "    <tr>\n",
       "      <th>76</th>\n",
       "      <td>Toledo</td>\n",
       "    </tr>\n",
       "    <tr>\n",
       "      <th>77</th>\n",
       "      <td>Turvolândia</td>\n",
       "    </tr>\n",
       "    <tr>\n",
       "      <th>78</th>\n",
       "      <td>Virgínia</td>\n",
       "    </tr>\n",
       "    <tr>\n",
       "      <th>79</th>\n",
       "      <td>Wenceslau Braz</td>\n",
       "    </tr>\n",
       "  </tbody>\n",
       "</table>\n",
       "<p>80 rows × 1 columns</p>\n",
       "</div>"
      ],
      "text/plain": [
       "         Município\n",
       "0         Aiuruoca\n",
       "1           Alagoa\n",
       "2        Albertina\n",
       "3         Andradas\n",
       "4         Baependi\n",
       "..             ...\n",
       "75   Tocos do Moji\n",
       "76          Toledo\n",
       "77     Turvolândia\n",
       "78        Virgínia\n",
       "79  Wenceslau Braz\n",
       "\n",
       "[80 rows x 1 columns]"
      ]
     },
     "metadata": {},
     "output_type": "display_data"
    },
    {
     "name": "stdout",
     "output_type": "stream",
     "text": [
      "\n",
      "Fonte: IBGE\n"
     ]
    }
   ],
   "source": [
    "# Filtra deixando passar somente municíppios da região de Pouso Alegere\n",
    "m_r_pa=m[\n",
    "    (m['Nome Região Geográfica Intermediária'].astype(str).str.contains('Pouso Alegre'))\n",
    "    &\n",
    "    (m['Nome_UF']=='Minas Gerais')\n",
    "]\n",
    "\n",
    "# seleciona somente a coluna com o nome dos municípios\n",
    "m_r_pa=m_r_pa[m_r_pa.columns[[12]].tolist()]\n",
    "# renomeia a coluna em busca de uniformidade com outros arquivos \n",
    "m_r_pa=m_r_pa.rename(columns={'Nome_Município':'Município'}).reset_index(drop=True)\n",
    "\n",
    "# Salva \n",
    "m_r_pa.to_csv('~/git/comex_sh_mun/temp/m_r_pa.csv',index=False)\n",
    "\n",
    "# Imprime\n",
    "print('\\nMunicípios da Região de Pouso Alegre:')\n",
    "display(m_r_pa)\n",
    "print('\\nFonte: IBGE')"
   ]
  },
  {
   "cell_type": "code",
   "execution_count": null,
   "id": "7f5a2579-33bf-4cf8-9720-b7664b7959cc",
   "metadata": {},
   "outputs": [],
   "source": []
  },
  {
   "cell_type": "code",
   "execution_count": null,
   "id": "1e1f667f-f3f6-4017-a3ac-022adc920c2e",
   "metadata": {},
   "outputs": [],
   "source": []
  },
  {
   "cell_type": "code",
   "execution_count": null,
   "id": "27a426f4-cd5d-4e16-b604-5a2ef1a90f02",
   "metadata": {},
   "outputs": [],
   "source": []
  },
  {
   "cell_type": "code",
   "execution_count": null,
   "id": "5d2bd154-8b5f-40ac-acd6-ceee18984c58",
   "metadata": {},
   "outputs": [],
   "source": []
  },
  {
   "cell_type": "code",
   "execution_count": null,
   "id": "d3e80f8c-4bd3-463b-a3a8-abedf22a41ba",
   "metadata": {},
   "outputs": [],
   "source": []
  },
  {
   "cell_type": "code",
   "execution_count": null,
   "id": "f8f74ef9-0e81-4527-807f-3628871f2514",
   "metadata": {},
   "outputs": [],
   "source": []
  },
  {
   "cell_type": "markdown",
   "id": "9e08969c-3a0f-4434-92ce-3401b6ac672e",
   "metadata": {},
   "source": [
    "# 2- Importação de Fertilizantes por Município  \n",
    "\n",
    "No capítulo anterior, a base de dados com importações por Município, denominada IMP_COMPLETA_MUN.zip, e as tabelas complementares, foram baixadas e salvas localmente na pasta:  \n",
    "\n",
    "* '~/git/BD/Comexstat/'"
   ]
  },
  {
   "cell_type": "markdown",
   "id": "97bc81fe-4ef2-4c80-ae1a-980d02ad149d",
   "metadata": {},
   "source": [
    "Descompacta o arquivo e salva localmente em pasta específica"
   ]
  },
  {
   "cell_type": "code",
   "execution_count": 5,
   "id": "1e5e1ddd",
   "metadata": {},
   "outputs": [
    {
     "name": "stdout",
     "output_type": "stream",
     "text": [
      "Arquivos extraídos para: /home/andre301267/git/BD/Comexstat/extracted_files/\n"
     ]
    }
   ],
   "source": [
    "import zipfile\n",
    "import os\n",
    "\n",
    "caminho_arquivo_zip = '/home/andre301267/git/BD/Comexstat/IMP_COMPLETA_MUN.zip'\n",
    "diretorio_destino = '/home/andre301267/git/BD/Comexstat/extracted_files/'\n",
    "\n",
    "# Crie o diretório de destino, se não existir\n",
    "os.makedirs(diretorio_destino, exist_ok=True)\n",
    "\n",
    "# Abra o arquivo ZIP e extraia para o diretório de destino\n",
    "with zipfile.ZipFile(caminho_arquivo_zip, 'r') as arquivo_zip:\n",
    "    arquivo_zip.extractall(diretorio_destino)\n",
    "\n",
    "print(f'Arquivos extraídos para: {diretorio_destino}')"
   ]
  },
  {
   "cell_type": "markdown",
   "id": "05a7b8d7-8eef-4267-a54c-8371dafb6819",
   "metadata": {},
   "source": [
    "Lê in chunk e Imprime as primeiras 5 linhas do primeiro chunk, para verificar a estrutura do arquivo"
   ]
  },
  {
   "cell_type": "code",
   "execution_count": 6,
   "id": "ea24fc42-e768-468c-af28-b45f56f88760",
   "metadata": {},
   "outputs": [
    {
     "name": "stdout",
     "output_type": "stream",
     "text": [
      "   CO_ANO  CO_MES   SH4  CO_PAIS SG_UF_MUN   CO_MUN  KG_LIQUIDO  VL_FOB\n",
      "0    1997       6  9032      399        SP  3450308        1460  179845\n",
      "1    1997       4  8421      249        SP  3424402         289   18950\n",
      "2    1997      12  7616       23        MG  3106200        1312   20534\n",
      "3    1997      12  8483      249        SC  4209102        4251  120559\n",
      "4    1997       6  4104       63        RS  4307609       10828  247316\n"
     ]
    }
   ],
   "source": [
    "reader=pd.read_csv('~/git/BD/Comexstat/extracted_files/IMP_COMPLETA_MUN.csv', chunksize=5, encoding='Latin-1',sep=';')\n",
    "\n",
    "print(next(reader))"
   ]
  },
  {
   "cell_type": "markdown",
   "id": "d98b0697-4073-45c6-8c6d-1e2a2a0ae0fc",
   "metadata": {},
   "source": [
    "Nessa tabela acima, o produto é identificado na coluna SH4. Para interpretar esse código numérico e filtrar somente os fertilizantes, será necessário funidir a base de dados com a tabela auxiliar \"NCM_SH.csv \", fornecida pelo site Comexstat.  \n",
    "\n",
    "Vamos então abrir e visualizar a tabela \"NCM_SH.csv\":"
   ]
  },
  {
   "cell_type": "code",
   "execution_count": 7,
   "id": "3da2edb8-9366-45aa-a2cf-e386b58e57b6",
   "metadata": {},
   "outputs": [
    {
     "data": {
      "text/html": [
       "<div>\n",
       "<style scoped>\n",
       "    .dataframe tbody tr th:only-of-type {\n",
       "        vertical-align: middle;\n",
       "    }\n",
       "\n",
       "    .dataframe tbody tr th {\n",
       "        vertical-align: top;\n",
       "    }\n",
       "\n",
       "    .dataframe thead th {\n",
       "        text-align: right;\n",
       "    }\n",
       "</style>\n",
       "<table border=\"1\" class=\"dataframe\">\n",
       "  <thead>\n",
       "    <tr style=\"text-align: right;\">\n",
       "      <th></th>\n",
       "      <th>CO_SH6</th>\n",
       "      <th>NO_SH6_POR</th>\n",
       "      <th>NO_SH6_ESP</th>\n",
       "      <th>NO_SH6_ING</th>\n",
       "      <th>CO_SH4</th>\n",
       "      <th>NO_SH4_POR</th>\n",
       "      <th>NO_SH4_ESP</th>\n",
       "      <th>NO_SH4_ING</th>\n",
       "      <th>CO_SH2</th>\n",
       "      <th>NO_SH2_POR</th>\n",
       "      <th>NO_SH2_ESP</th>\n",
       "      <th>NO_SH2_ING</th>\n",
       "      <th>CO_NCM_SECROM</th>\n",
       "      <th>NO_SEC_POR</th>\n",
       "      <th>NO_SEC_ESP</th>\n",
       "      <th>NO_SEC_ING</th>\n",
       "    </tr>\n",
       "  </thead>\n",
       "  <tbody>\n",
       "    <tr>\n",
       "      <th>0</th>\n",
       "      <td>10110</td>\n",
       "      <td>Animais vivos das espécies cavalar, asinina e ...</td>\n",
       "      <td>Caballos y asnos, reproductores de raza pura</td>\n",
       "      <td>Pure-bred breeding horses and asses</td>\n",
       "      <td>101</td>\n",
       "      <td>Cavalos, asininos e muares, vivos</td>\n",
       "      <td>Caballos, asnos, mulos y burdéganos, vivos</td>\n",
       "      <td>Live horses, asses, mules and hinnies</td>\n",
       "      <td>1</td>\n",
       "      <td>Animais vivos</td>\n",
       "      <td>Animales vivos</td>\n",
       "      <td>Live animals</td>\n",
       "      <td>I</td>\n",
       "      <td>Animais vivos e produtos do reino animal</td>\n",
       "      <td>Animales vivos y productos del reino animal</td>\n",
       "      <td>Lives animals; Animal products</td>\n",
       "    </tr>\n",
       "  </tbody>\n",
       "</table>\n",
       "</div>"
      ],
      "text/plain": [
       "   CO_SH6                                         NO_SH6_POR  \\\n",
       "0   10110  Animais vivos das espécies cavalar, asinina e ...   \n",
       "\n",
       "                                     NO_SH6_ESP  \\\n",
       "0  Caballos y asnos, reproductores de raza pura   \n",
       "\n",
       "                            NO_SH6_ING  CO_SH4  \\\n",
       "0  Pure-bred breeding horses and asses     101   \n",
       "\n",
       "                          NO_SH4_POR  \\\n",
       "0  Cavalos, asininos e muares, vivos   \n",
       "\n",
       "                                   NO_SH4_ESP  \\\n",
       "0  Caballos, asnos, mulos y burdéganos, vivos   \n",
       "\n",
       "                              NO_SH4_ING  CO_SH2     NO_SH2_POR  \\\n",
       "0  Live horses, asses, mules and hinnies       1  Animais vivos   \n",
       "\n",
       "       NO_SH2_ESP    NO_SH2_ING CO_NCM_SECROM  \\\n",
       "0  Animales vivos  Live animals             I   \n",
       "\n",
       "                                 NO_SEC_POR  \\\n",
       "0  Animais vivos e produtos do reino animal   \n",
       "\n",
       "                                    NO_SEC_ESP                      NO_SEC_ING  \n",
       "0  Animales vivos y productos del reino animal  Lives animals; Animal products  "
      ]
     },
     "execution_count": 7,
     "metadata": {},
     "output_type": "execute_result"
    }
   ],
   "source": [
    "ncm_sh=pd.read_csv('~/git/BD/Comexstat/NCM_SH.csv',encoding='Latin-1',sep=';')\n",
    "ncm_sh.head(1)"
   ]
  },
  {
   "cell_type": "code",
   "execution_count": 8,
   "id": "040adcb0-d015-4cd7-8742-a6c1e6fe8029",
   "metadata": {},
   "outputs": [
    {
     "name": "stdout",
     "output_type": "stream",
     "text": [
      "<class 'pandas.core.frame.DataFrame'>\n",
      "RangeIndex: 6609 entries, 0 to 6608\n",
      "Data columns (total 16 columns):\n",
      " #   Column         Non-Null Count  Dtype \n",
      "---  ------         --------------  ----- \n",
      " 0   CO_SH6         6609 non-null   int64 \n",
      " 1   NO_SH6_POR     6609 non-null   object\n",
      " 2   NO_SH6_ESP     6609 non-null   object\n",
      " 3   NO_SH6_ING     6609 non-null   object\n",
      " 4   CO_SH4         6609 non-null   int64 \n",
      " 5   NO_SH4_POR     6609 non-null   object\n",
      " 6   NO_SH4_ESP     6609 non-null   object\n",
      " 7   NO_SH4_ING     6609 non-null   object\n",
      " 8   CO_SH2         6609 non-null   int64 \n",
      " 9   NO_SH2_POR     6609 non-null   object\n",
      " 10  NO_SH2_ESP     6609 non-null   object\n",
      " 11  NO_SH2_ING     6609 non-null   object\n",
      " 12  CO_NCM_SECROM  6609 non-null   object\n",
      " 13  NO_SEC_POR     6609 non-null   object\n",
      " 14  NO_SEC_ESP     6609 non-null   object\n",
      " 15  NO_SEC_ING     6609 non-null   object\n",
      "dtypes: int64(3), object(13)\n",
      "memory usage: 826.3+ KB\n"
     ]
    }
   ],
   "source": [
    "ncm_sh.info()"
   ]
  },
  {
   "cell_type": "markdown",
   "id": "335a06f6-3381-40c5-b248-cba2693450fb",
   "metadata": {},
   "source": [
    "O arquivo original o detalhamento de produto é SH4. Tentaremos simplificar buscando localizar os fertilizantes em um grupamento de produto mais amplo, o SH2"
   ]
  },
  {
   "cell_type": "code",
   "execution_count": 9,
   "id": "eb3e635f-40b6-4f33-953c-d8949c8010c7",
   "metadata": {},
   "outputs": [
    {
     "data": {
      "text/html": [
       "<div>\n",
       "<style scoped>\n",
       "    .dataframe tbody tr th:only-of-type {\n",
       "        vertical-align: middle;\n",
       "    }\n",
       "\n",
       "    .dataframe tbody tr th {\n",
       "        vertical-align: top;\n",
       "    }\n",
       "\n",
       "    .dataframe thead th {\n",
       "        text-align: right;\n",
       "    }\n",
       "</style>\n",
       "<table border=\"1\" class=\"dataframe\">\n",
       "  <thead>\n",
       "    <tr style=\"text-align: right;\">\n",
       "      <th></th>\n",
       "      <th>CO_SH4</th>\n",
       "      <th>NO_SH4_POR</th>\n",
       "      <th>CO_SH2</th>\n",
       "      <th>NO_SH2_POR</th>\n",
       "    </tr>\n",
       "  </thead>\n",
       "  <tbody>\n",
       "    <tr>\n",
       "      <th>0</th>\n",
       "      <td>101</td>\n",
       "      <td>Cavalos, asininos e muares, vivos</td>\n",
       "      <td>1</td>\n",
       "      <td>Animais vivos</td>\n",
       "    </tr>\n",
       "    <tr>\n",
       "      <th>8</th>\n",
       "      <td>102</td>\n",
       "      <td>Animais vivos da espécie bovina</td>\n",
       "      <td>1</td>\n",
       "      <td>Animais vivos</td>\n",
       "    </tr>\n",
       "    <tr>\n",
       "      <th>14</th>\n",
       "      <td>103</td>\n",
       "      <td>Animais vivos da espécie suína</td>\n",
       "      <td>1</td>\n",
       "      <td>Animais vivos</td>\n",
       "    </tr>\n",
       "    <tr>\n",
       "      <th>17</th>\n",
       "      <td>104</td>\n",
       "      <td>Animais vivos das espécies ovina e caprina</td>\n",
       "      <td>1</td>\n",
       "      <td>Animais vivos</td>\n",
       "    </tr>\n",
       "    <tr>\n",
       "      <th>19</th>\n",
       "      <td>105</td>\n",
       "      <td>Galos, galinhas, patos, gansos, perus, peruas ...</td>\n",
       "      <td>1</td>\n",
       "      <td>Animais vivos</td>\n",
       "    </tr>\n",
       "  </tbody>\n",
       "</table>\n",
       "</div>"
      ],
      "text/plain": [
       "    CO_SH4                                         NO_SH4_POR  CO_SH2  \\\n",
       "0      101                  Cavalos, asininos e muares, vivos       1   \n",
       "8      102                    Animais vivos da espécie bovina       1   \n",
       "14     103                     Animais vivos da espécie suína       1   \n",
       "17     104         Animais vivos das espécies ovina e caprina       1   \n",
       "19     105  Galos, galinhas, patos, gansos, perus, peruas ...       1   \n",
       "\n",
       "       NO_SH2_POR  \n",
       "0   Animais vivos  \n",
       "8   Animais vivos  \n",
       "14  Animais vivos  \n",
       "17  Animais vivos  \n",
       "19  Animais vivos  "
      ]
     },
     "execution_count": 9,
     "metadata": {},
     "output_type": "execute_result"
    }
   ],
   "source": [
    "ncm_sh=ncm_sh[ncm_sh.columns[[4,5,8,9]]].drop_duplicates()\n",
    "ncm_sh.head()"
   ]
  },
  {
   "cell_type": "markdown",
   "id": "f48c8232-3e79-42ef-b89d-2f231bff23f6",
   "metadata": {},
   "source": [
    "Entre a base e dados e a tabela auxiliar, podemos notar que a colunas referentes ao código SH4 tem nomes diferentes. A seguir será alterado um dos nomes para iguala-los entre as tabelas."
   ]
  },
  {
   "cell_type": "code",
   "execution_count": 10,
   "id": "528c26ad-fa2d-40b4-8bf4-9ae91cba8a32",
   "metadata": {},
   "outputs": [],
   "source": [
    "ncm_sh=ncm_sh.rename(columns={'CO_SH4':'SH4'})"
   ]
  },
  {
   "cell_type": "markdown",
   "id": "5c55fbc6-e1d4-43f1-a1f8-ba5a6c85dea9",
   "metadata": {},
   "source": [
    "Na coluna com o nome do código SH2 em português, \"NO_SH2_POR\":"
   ]
  },
  {
   "cell_type": "code",
   "execution_count": 11,
   "id": "adb8fc79-6665-4fce-8a85-13ed3faed415",
   "metadata": {},
   "outputs": [
    {
     "data": {
      "text/plain": [
       "array([31])"
      ]
     },
     "execution_count": 11,
     "metadata": {},
     "output_type": "execute_result"
    }
   ],
   "source": [
    "sh2_desejado=ncm_sh[ncm_sh.NO_SH2_POR.str.contains('fertilizantes')].CO_SH2.unique()\n",
    "sh2_desejado"
   ]
  },
  {
   "cell_type": "markdown",
   "id": "4d02315d-343d-4ed2-b7cd-c950510d281d",
   "metadata": {},
   "source": [
    "Como só foi localizado um único código SH2 contendo o termo 'fertilizantes', salvaremos ele em variável para na sequencia filtrarmos a base de dados."
   ]
  },
  {
   "cell_type": "code",
   "execution_count": 12,
   "id": "1a1842ec-e9f3-46b1-9acf-70e81c50a076",
   "metadata": {},
   "outputs": [
    {
     "data": {
      "text/plain": [
       "31"
      ]
     },
     "execution_count": 12,
     "metadata": {},
     "output_type": "execute_result"
    }
   ],
   "source": [
    "sh2_desejado=sh2_desejado[0]\n",
    "sh2_desejado"
   ]
  },
  {
   "cell_type": "markdown",
   "id": "fa0295fd-4c55-4624-aa6b-438dc18e1aea",
   "metadata": {},
   "source": [
    "O arquivo da base de dados é muito grande para ser aberto de uma só vez. Vamos então ler o arquivo em chuncks, fundi-lo (merge) com a tabela auxiliar ncm_sh, e filtrar cada chunk que contiver na coluna \"CO_SH2\" o valor contido  na variável \"sh2_desejado\"."
   ]
  },
  {
   "cell_type": "code",
   "execution_count": 13,
   "id": "55e8249d-b2d5-4b76-9a93-110220856e50",
   "metadata": {},
   "outputs": [
    {
     "name": "stdout",
     "output_type": "stream",
     "text": [
      "CPU times: user 30.3 s, sys: 2.23 s, total: 32.6 s\n",
      "Wall time: 32.8 s\n"
     ]
    },
    {
     "data": {
      "text/html": [
       "<div>\n",
       "<style scoped>\n",
       "    .dataframe tbody tr th:only-of-type {\n",
       "        vertical-align: middle;\n",
       "    }\n",
       "\n",
       "    .dataframe tbody tr th {\n",
       "        vertical-align: top;\n",
       "    }\n",
       "\n",
       "    .dataframe thead th {\n",
       "        text-align: right;\n",
       "    }\n",
       "</style>\n",
       "<table border=\"1\" class=\"dataframe\">\n",
       "  <thead>\n",
       "    <tr style=\"text-align: right;\">\n",
       "      <th></th>\n",
       "      <th>CO_ANO</th>\n",
       "      <th>CO_MES</th>\n",
       "      <th>SH4</th>\n",
       "      <th>CO_PAIS</th>\n",
       "      <th>SG_UF_MUN</th>\n",
       "      <th>CO_MUN</th>\n",
       "      <th>KG_LIQUIDO</th>\n",
       "      <th>VL_FOB</th>\n",
       "      <th>NO_SH4_POR</th>\n",
       "      <th>CO_SH2</th>\n",
       "      <th>NO_SH2_POR</th>\n",
       "    </tr>\n",
       "  </thead>\n",
       "  <tbody>\n",
       "    <tr>\n",
       "      <th>53145</th>\n",
       "      <td>1997</td>\n",
       "      <td>7</td>\n",
       "      <td>3105</td>\n",
       "      <td>249</td>\n",
       "      <td>SP</td>\n",
       "      <td>3431308</td>\n",
       "      <td>3653780</td>\n",
       "      <td>734410</td>\n",
       "      <td>Adubos (fertilizantes) minerais ou químicos, c...</td>\n",
       "      <td>31</td>\n",
       "      <td>Adubos (fertilizantes)</td>\n",
       "    </tr>\n",
       "  </tbody>\n",
       "</table>\n",
       "</div>"
      ],
      "text/plain": [
       "       CO_ANO  CO_MES   SH4  CO_PAIS SG_UF_MUN   CO_MUN  KG_LIQUIDO  VL_FOB  \\\n",
       "53145    1997       7  3105      249        SP  3431308     3653780  734410   \n",
       "\n",
       "                                              NO_SH4_POR  CO_SH2  \\\n",
       "53145  Adubos (fertilizantes) minerais ou químicos, c...      31   \n",
       "\n",
       "                   NO_SH2_POR  \n",
       "53145  Adubos (fertilizantes)  "
      ]
     },
     "execution_count": 13,
     "metadata": {},
     "output_type": "execute_result"
    }
   ],
   "source": [
    "%%time\n",
    "reader=pd.read_csv('~/git/BD/Comexstat/extracted_files/IMP_COMPLETA_MUN.csv', chunksize=100_000, encoding='Latin-1',sep=';')\n",
    "i_f_m=pd.DataFrame()\n",
    "for chunk in reader:\n",
    "    chunk=chunk.merge(ncm_sh)\n",
    "    chunk=chunk[chunk.CO_SH2==sh2_desejado]\n",
    "    i_f_m=pd.concat([i_f_m,chunk])\n",
    "i_f_m.head(1)"
   ]
  },
  {
   "cell_type": "code",
   "execution_count": 14,
   "id": "3d77539d-544a-4b40-8d47-e608f3da0765",
   "metadata": {},
   "outputs": [
    {
     "data": {
      "text/plain": [
       "(118136, 11)"
      ]
     },
     "execution_count": 14,
     "metadata": {},
     "output_type": "execute_result"
    }
   ],
   "source": [
    "i_f_m.shape"
   ]
  },
  {
   "cell_type": "code",
   "execution_count": 15,
   "id": "24d79742-adb9-469b-a87c-be6bcc7f5ef9",
   "metadata": {},
   "outputs": [
    {
     "data": {
      "text/plain": [
       "0"
      ]
     },
     "execution_count": 15,
     "metadata": {},
     "output_type": "execute_result"
    }
   ],
   "source": [
    "i_f_m.duplicated(subset=['CO_ANO','CO_MES','SH4','CO_MUN','CO_PAIS']).sum()"
   ]
  },
  {
   "cell_type": "markdown",
   "id": "1ddbef8d-324a-4a0b-912c-3ec0a5cb13fa",
   "metadata": {},
   "source": [
    "Continuando a filtragem, dexando dessa vez passar somente as linhas onde a coluna SG_UF_MUN for igual a 'MG'"
   ]
  },
  {
   "cell_type": "code",
   "execution_count": 16,
   "id": "ed01b7cc-c933-405a-a388-241d9eae347f",
   "metadata": {},
   "outputs": [],
   "source": [
    "i_f_m=i_f_m[i_f_m.SG_UF_MUN=='MG']"
   ]
  },
  {
   "cell_type": "markdown",
   "id": "cecc98f6-716c-4150-82fc-46b778c0bffb",
   "metadata": {},
   "source": [
    "Processando a última filtragem, agora deixando passar somente as linhas que correspndem aos municípios da região de Pouso Alegre. Para isso será utilizada a tabela auxiliar contendo os códigos e os nomes dos municípios, UF_MUN.csv"
   ]
  },
  {
   "cell_type": "code",
   "execution_count": 17,
   "id": "b434eb5f-ebd2-4bcd-954d-25b96451eb7c",
   "metadata": {},
   "outputs": [],
   "source": [
    "uf_mun=pd.read_csv('~/git/BD/Comexstat/UF_MUN.csv',encoding='Latin-1',sep=';')"
   ]
  },
  {
   "cell_type": "markdown",
   "id": "01b2de57-8c1a-41c0-bee1-798e8c9e1a6b",
   "metadata": {},
   "source": [
    "Será modificado o nome deu uma das colunas de forma a igualar com a base de dados"
   ]
  },
  {
   "cell_type": "code",
   "execution_count": null,
   "id": "375ba94a-4386-435b-9a04-18912d4c282d",
   "metadata": {},
   "outputs": [],
   "source": []
  },
  {
   "cell_type": "code",
   "execution_count": null,
   "id": "d04cc726-9cae-4316-8b21-7ce031b8bd57",
   "metadata": {},
   "outputs": [],
   "source": []
  },
  {
   "cell_type": "code",
   "execution_count": null,
   "id": "9d1053cc-1f4e-461d-a561-90d9b477a88e",
   "metadata": {},
   "outputs": [],
   "source": []
  },
  {
   "cell_type": "code",
   "execution_count": null,
   "id": "91850080-ecd4-4634-b7fe-f7d1626adac4",
   "metadata": {},
   "outputs": [],
   "source": []
  },
  {
   "cell_type": "code",
   "execution_count": null,
   "id": "4bb5b862-a8c2-4f52-804e-11d44802eb7e",
   "metadata": {},
   "outputs": [],
   "source": []
  },
  {
   "cell_type": "code",
   "execution_count": 18,
   "id": "92e41efe-ac13-451b-b83d-7f01cd481051",
   "metadata": {},
   "outputs": [],
   "source": [
    "uf_mun=uf_mun.rename(columns={'CO_MUN_GEO':'CO_MUN'})"
   ]
  },
  {
   "cell_type": "markdown",
   "id": "0e88e7f4-fda7-41f1-8919-a0409e5e799e",
   "metadata": {},
   "source": [
    "Crrega a tabela  com os municípios da região de Pouso Alegre (m_r_pa)"
   ]
  },
  {
   "cell_type": "code",
   "execution_count": 19,
   "id": "bec7f82a-4617-424b-b1a5-358cb5a83160",
   "metadata": {},
   "outputs": [],
   "source": [
    "m_r_pa=pd.read_csv('~/git/comex_sh_mun/temp/m_r_pa.csv').rename(columns={'Município':'NO_MUN_MIN'})"
   ]
  },
  {
   "cell_type": "markdown",
   "id": "0939e9cc-1176-473a-8c23-7c4453d62115",
   "metadata": {},
   "source": [
    "Procede a filtragem através da fundição das tabelas"
   ]
  },
  {
   "cell_type": "code",
   "execution_count": 20,
   "id": "47232782-dd58-49aa-a249-e3612a068d42",
   "metadata": {},
   "outputs": [
    {
     "data": {
      "text/plain": [
       "0"
      ]
     },
     "execution_count": 20,
     "metadata": {},
     "output_type": "execute_result"
    }
   ],
   "source": [
    "i_f_m.duplicated().sum()"
   ]
  },
  {
   "cell_type": "code",
   "execution_count": 21,
   "id": "248fe01d-2d17-4ed6-b3dc-fb5c0719dbbf",
   "metadata": {},
   "outputs": [],
   "source": [
    "i_f_m_r_pa=uf_mun.merge(m_r_pa).merge(i_f_m)"
   ]
  },
  {
   "cell_type": "code",
   "execution_count": 22,
   "id": "5834137a-6039-40f9-83bc-1f23506e25ac",
   "metadata": {},
   "outputs": [
    {
     "data": {
      "text/plain": [
       "0"
      ]
     },
     "execution_count": 22,
     "metadata": {},
     "output_type": "execute_result"
    }
   ],
   "source": [
    "i_f_m_r_pa.duplicated().sum()"
   ]
  },
  {
   "cell_type": "code",
   "execution_count": 23,
   "id": "46b0fb36-446a-406a-a3fc-2cd5226e4c2b",
   "metadata": {},
   "outputs": [],
   "source": [
    "# Salva a tabela resultante\n",
    "i_f_m_r_pa.to_csv('~/git/comex_sh_mun/temp/i_f_m_r_pa.csv',index=False)"
   ]
  },
  {
   "cell_type": "code",
   "execution_count": 24,
   "id": "ba6b8cda-5934-4cdc-afdf-21d85d1b58c7",
   "metadata": {},
   "outputs": [
    {
     "data": {
      "text/html": [
       "<div>\n",
       "<style scoped>\n",
       "    .dataframe tbody tr th:only-of-type {\n",
       "        vertical-align: middle;\n",
       "    }\n",
       "\n",
       "    .dataframe tbody tr th {\n",
       "        vertical-align: top;\n",
       "    }\n",
       "\n",
       "    .dataframe thead th {\n",
       "        text-align: right;\n",
       "    }\n",
       "</style>\n",
       "<table border=\"1\" class=\"dataframe\">\n",
       "  <thead>\n",
       "    <tr style=\"text-align: right;\">\n",
       "      <th></th>\n",
       "      <th>CO_MUN</th>\n",
       "      <th>NO_MUN</th>\n",
       "      <th>NO_MUN_MIN</th>\n",
       "      <th>SG_UF</th>\n",
       "      <th>CO_ANO</th>\n",
       "      <th>CO_MES</th>\n",
       "      <th>SH4</th>\n",
       "      <th>CO_PAIS</th>\n",
       "      <th>SG_UF_MUN</th>\n",
       "      <th>KG_LIQUIDO</th>\n",
       "      <th>VL_FOB</th>\n",
       "      <th>NO_SH4_POR</th>\n",
       "      <th>CO_SH2</th>\n",
       "      <th>NO_SH2_POR</th>\n",
       "    </tr>\n",
       "  </thead>\n",
       "  <tbody>\n",
       "    <tr>\n",
       "      <th>0</th>\n",
       "      <td>3125101</td>\n",
       "      <td>EXTREMA</td>\n",
       "      <td>Extrema</td>\n",
       "      <td>MG</td>\n",
       "      <td>2003</td>\n",
       "      <td>9</td>\n",
       "      <td>3105</td>\n",
       "      <td>493</td>\n",
       "      <td>MG</td>\n",
       "      <td>1000</td>\n",
       "      <td>323</td>\n",
       "      <td>Adubos (fertilizantes) minerais ou químicos, c...</td>\n",
       "      <td>31</td>\n",
       "      <td>Adubos (fertilizantes)</td>\n",
       "    </tr>\n",
       "  </tbody>\n",
       "</table>\n",
       "</div>"
      ],
      "text/plain": [
       "    CO_MUN   NO_MUN NO_MUN_MIN SG_UF  CO_ANO  CO_MES   SH4  CO_PAIS SG_UF_MUN  \\\n",
       "0  3125101  EXTREMA    Extrema    MG    2003       9  3105      493        MG   \n",
       "\n",
       "   KG_LIQUIDO  VL_FOB                                         NO_SH4_POR  \\\n",
       "0        1000     323  Adubos (fertilizantes) minerais ou químicos, c...   \n",
       "\n",
       "   CO_SH2              NO_SH2_POR  \n",
       "0      31  Adubos (fertilizantes)  "
      ]
     },
     "execution_count": 24,
     "metadata": {},
     "output_type": "execute_result"
    }
   ],
   "source": [
    "i_f_m_r_pa.head(1)"
   ]
  },
  {
   "cell_type": "code",
   "execution_count": 25,
   "id": "3b9e0355-1bc7-4ea4-960a-416323abedac",
   "metadata": {},
   "outputs": [
    {
     "data": {
      "text/plain": [
       "0"
      ]
     },
     "execution_count": 25,
     "metadata": {},
     "output_type": "execute_result"
    }
   ],
   "source": [
    "i_f_m_r_pa.duplicated().sum()"
   ]
  },
  {
   "cell_type": "markdown",
   "id": "6c92b37d-bdb3-4d30-824f-598179bad884",
   "metadata": {},
   "source": [
    "Por fim, apaga a pasta onde o arquivo original e descompactado foi salvo"
   ]
  },
  {
   "cell_type": "code",
   "execution_count": 26,
   "id": "8585be1b-bb98-46a5-a559-4468541bd36c",
   "metadata": {},
   "outputs": [
    {
     "name": "stdout",
     "output_type": "stream",
     "text": [
      "Diretório /home/andre301267/git/BD/Comexstat/extracted_files/ e seu conteúdo foram excluídos.\n"
     ]
    }
   ],
   "source": [
    "import shutil\n",
    "\n",
    "diretorio_destino = '/home/andre301267/git/BD/Comexstat/extracted_files/'\n",
    "\n",
    "# Excluir o diretório e todo o seu conteúdo\n",
    "shutil.rmtree(diretorio_destino)\n",
    "\n",
    "print(f'Diretório {diretorio_destino} e seu conteúdo foram excluídos.')\n"
   ]
  },
  {
   "cell_type": "code",
   "execution_count": null,
   "id": "f69a353e-0e20-4b18-92fe-561c07ba5998",
   "metadata": {},
   "outputs": [],
   "source": []
  },
  {
   "cell_type": "code",
   "execution_count": null,
   "id": "afe6c4cd-c3be-44d9-9e03-445bc3a224eb",
   "metadata": {},
   "outputs": [],
   "source": []
  },
  {
   "cell_type": "code",
   "execution_count": null,
   "id": "0dd6a430-64a8-4500-bb41-9c7756b7d8b0",
   "metadata": {},
   "outputs": [],
   "source": []
  },
  {
   "cell_type": "code",
   "execution_count": null,
   "id": "f7012a5b-6753-4695-a845-fb44ceb7babd",
   "metadata": {},
   "outputs": [],
   "source": []
  },
  {
   "cell_type": "code",
   "execution_count": null,
   "id": "7a2de984-f23a-4e00-a44e-6cd7179b2d46",
   "metadata": {},
   "outputs": [],
   "source": []
  },
  {
   "cell_type": "code",
   "execution_count": null,
   "id": "e6bbdf49-3b5d-409a-a90b-ed0b81f0a2f2",
   "metadata": {},
   "outputs": [],
   "source": []
  },
  {
   "cell_type": "code",
   "execution_count": null,
   "id": "18a5977c-498c-4744-ab0c-02c54ce9a24e",
   "metadata": {},
   "outputs": [],
   "source": []
  },
  {
   "cell_type": "code",
   "execution_count": null,
   "id": "d368b5d8-b23e-4d29-bd55-8f19835dad14",
   "metadata": {},
   "outputs": [],
   "source": []
  },
  {
   "cell_type": "code",
   "execution_count": null,
   "id": "e3d58f5a-d646-4080-8395-651f45b2527d",
   "metadata": {},
   "outputs": [],
   "source": []
  },
  {
   "cell_type": "code",
   "execution_count": null,
   "id": "d9e63597-d2e8-4ddb-a1e1-c7fe77443ff7",
   "metadata": {},
   "outputs": [],
   "source": []
  },
  {
   "cell_type": "code",
   "execution_count": null,
   "id": "b3c3b487-76ca-474f-b189-60f8c26f6bdf",
   "metadata": {},
   "outputs": [],
   "source": []
  },
  {
   "cell_type": "code",
   "execution_count": null,
   "id": "4d403634-2d79-4e01-8646-228a2a4bef80",
   "metadata": {},
   "outputs": [],
   "source": []
  },
  {
   "cell_type": "code",
   "execution_count": null,
   "id": "9954886f-573d-45c9-ab22-94c0161601d6",
   "metadata": {},
   "outputs": [],
   "source": []
  },
  {
   "cell_type": "code",
   "execution_count": null,
   "id": "9dcaa317-76fa-4c25-b692-3fb19bb582f4",
   "metadata": {},
   "outputs": [],
   "source": []
  },
  {
   "cell_type": "code",
   "execution_count": null,
   "id": "f0efab01-3e67-456d-8978-ef4cb15fb21b",
   "metadata": {},
   "outputs": [],
   "source": []
  },
  {
   "cell_type": "code",
   "execution_count": null,
   "id": "35d5bcbd-41b2-4774-84e2-e279d9806d33",
   "metadata": {},
   "outputs": [],
   "source": []
  },
  {
   "cell_type": "code",
   "execution_count": null,
   "id": "1574e7b7-7658-4798-a6d9-80045be1e5a3",
   "metadata": {},
   "outputs": [],
   "source": []
  },
  {
   "cell_type": "markdown",
   "id": "fea31125",
   "metadata": {},
   "source": [
    "# 3- Exportação de Café  \n",
    "\n",
    "No capítulo anterior, a base de dados de exportação por Município, denominada EXP_COMPLETA_MUN.zip, e as tabelas complementares, foram baixadas e salvas localmente na pasta:  \n",
    "\n",
    "* '~/git/BD/Comexstat/'"
   ]
  },
  {
   "cell_type": "code",
   "execution_count": 70,
   "id": "a2b053e1-5a38-49aa-8c40-b83dfe3feded",
   "metadata": {},
   "outputs": [],
   "source": [
    "import zipfile\n",
    "import io\n",
    "import os\n",
    "import pandas as pd"
   ]
  },
  {
   "cell_type": "markdown",
   "id": "8448de2d-0721-436e-923d-60c26e533702",
   "metadata": {},
   "source": [
    "Descompacta o arquivo e salva localmente em pasta específica"
   ]
  },
  {
   "cell_type": "code",
   "execution_count": 71,
   "id": "e36bcaac-dabb-477e-a7eb-76717ca264c5",
   "metadata": {},
   "outputs": [
    {
     "name": "stdout",
     "output_type": "stream",
     "text": [
      "Arquivos extraídos para: /home/andre301267/git/BD/Comexstat/extracted_files/\n"
     ]
    }
   ],
   "source": [
    "import zipfile\n",
    "import os\n",
    "\n",
    "caminho_arquivo_zip = '/home/andre301267/git/BD/Comexstat/EXP_COMPLETA_MUN.zip'\n",
    "diretorio_destino = '/home/andre301267/git/BD/Comexstat/extracted_files/'\n",
    "\n",
    "# Crie o diretório de destino, se não existir\n",
    "os.makedirs(diretorio_destino, exist_ok=True)\n",
    "\n",
    "# Abra o arquivo ZIP e extraia para o diretório de destino\n",
    "with zipfile.ZipFile(caminho_arquivo_zip, 'r') as arquivo_zip:\n",
    "    arquivo_zip.extractall(diretorio_destino)\n",
    "\n",
    "print(f'Arquivos extraídos para: {diretorio_destino}')"
   ]
  },
  {
   "cell_type": "markdown",
   "id": "c4e9333a-16b0-490e-9957-ade12aa490cc",
   "metadata": {},
   "source": [
    "Lê in chunk e Imprime as primeiras 5 linhas do primeiro chunk, para verificar a estrutura do arquivo"
   ]
  },
  {
   "cell_type": "code",
   "execution_count": 72,
   "id": "8457a12f-9cbe-4848-8084-f80db07b31ac",
   "metadata": {},
   "outputs": [
    {
     "name": "stdout",
     "output_type": "stream",
     "text": [
      "   CO_ANO  CO_MES   SH4  CO_PAIS SG_UF_MUN   CO_MUN  KG_LIQUIDO   VL_FOB\n",
      "0    1997      11  8708       65        PR  4125506          90     3523\n",
      "1    1997      11  8708      149        SP  3448708         324     2502\n",
      "2    1997      11  9403      275        SC  4215802      909015  2367314\n",
      "3    1997      11  6104      586        SC  4208906         710    23344\n",
      "4    1997      11  8419      196        SP  3403208       96300   382100\n"
     ]
    }
   ],
   "source": [
    "reader=pd.read_csv('~/git/BD/Comexstat/extracted_files/EXP_COMPLETA_MUN.csv', chunksize=5, encoding='Latin-1',sep=';')\n",
    "\n",
    "print(next(reader))"
   ]
  },
  {
   "attachments": {},
   "cell_type": "markdown",
   "id": "d0a8128f-d92c-4a93-9d63-70093bd28023",
   "metadata": {},
   "source": [
    "A tabela auxiliar contendo os códigos e os nomes dos municípios, UF_MUN.csv"
   ]
  },
  {
   "cell_type": "code",
   "execution_count": 73,
   "id": "703beb8b-e278-4c09-ba01-d0aba81e9ad4",
   "metadata": {},
   "outputs": [
    {
     "data": {
      "text/html": [
       "<div>\n",
       "<style scoped>\n",
       "    .dataframe tbody tr th:only-of-type {\n",
       "        vertical-align: middle;\n",
       "    }\n",
       "\n",
       "    .dataframe tbody tr th {\n",
       "        vertical-align: top;\n",
       "    }\n",
       "\n",
       "    .dataframe thead th {\n",
       "        text-align: right;\n",
       "    }\n",
       "</style>\n",
       "<table border=\"1\" class=\"dataframe\">\n",
       "  <thead>\n",
       "    <tr style=\"text-align: right;\">\n",
       "      <th></th>\n",
       "      <th>CO_MUN_GEO</th>\n",
       "      <th>NO_MUN</th>\n",
       "      <th>NO_MUN_MIN</th>\n",
       "      <th>SG_UF</th>\n",
       "    </tr>\n",
       "  </thead>\n",
       "  <tbody>\n",
       "    <tr>\n",
       "      <th>0</th>\n",
       "      <td>1501758</td>\n",
       "      <td>BREJO GRANDE DO ARAGUAIA</td>\n",
       "      <td>Brejo Grande do Araguaia</td>\n",
       "      <td>PA</td>\n",
       "    </tr>\n",
       "  </tbody>\n",
       "</table>\n",
       "</div>"
      ],
      "text/plain": [
       "   CO_MUN_GEO                    NO_MUN                NO_MUN_MIN SG_UF\n",
       "0     1501758  BREJO GRANDE DO ARAGUAIA  Brejo Grande do Araguaia    PA"
      ]
     },
     "execution_count": 73,
     "metadata": {},
     "output_type": "execute_result"
    }
   ],
   "source": [
    "uf_mun=pd.read_csv('~/git/BD/Comexstat/UF_MUN.csv',encoding='Latin-1',sep=';')\n",
    "uf_mun.head(1)"
   ]
  },
  {
   "cell_type": "markdown",
   "id": "30d29641-cfed-4168-8e3f-e4c98b1aee47",
   "metadata": {},
   "source": [
    "Será modificado o nome de uma das colunas de forma a igualar com a base de dados"
   ]
  },
  {
   "cell_type": "code",
   "execution_count": 74,
   "id": "b6a6d74a-05c7-4429-b0db-328843092b96",
   "metadata": {},
   "outputs": [],
   "source": [
    "uf_mun=uf_mun.rename(columns={'CO_MUN_GEO':'CO_MUN'})"
   ]
  },
  {
   "cell_type": "markdown",
   "id": "7b09c6e7-ef7a-4f30-b755-548714eb2e2d",
   "metadata": {},
   "source": [
    "Carrega a tabela (que foi salva no item 1) com os municípios da região de Pouso Alegre (m_r_pa), para ser usada na filtragem os registros de exportação."
   ]
  },
  {
   "cell_type": "code",
   "execution_count": 75,
   "id": "24b42623-936f-485f-88fb-627787907492",
   "metadata": {},
   "outputs": [],
   "source": [
    "m_r_pa=pd.read_csv('~/git/comex_sh_mun/temp/m_r_pa.csv').rename(columns={'Município':'NO_MUN_MIN'})"
   ]
  },
  {
   "cell_type": "code",
   "execution_count": 76,
   "id": "2bbaf6da-f4dd-4eed-aada-a3e77601ac70",
   "metadata": {},
   "outputs": [],
   "source": [
    "co_mun_r_pa=uf_mun.merge(m_r_pa)"
   ]
  },
  {
   "cell_type": "code",
   "execution_count": 77,
   "id": "db6c6407-ad77-4de5-bd71-358e14731c63",
   "metadata": {},
   "outputs": [
    {
     "data": {
      "text/plain": [
       "84"
      ]
     },
     "execution_count": 77,
     "metadata": {},
     "output_type": "execute_result"
    }
   ],
   "source": [
    "len(co_mun_r_pa[['CO_MUN']])"
   ]
  },
  {
   "cell_type": "code",
   "execution_count": 78,
   "id": "02dc4b26-8a82-42ac-afa8-b2aad142e89b",
   "metadata": {},
   "outputs": [
    {
     "data": {
      "text/plain": [
       "84"
      ]
     },
     "execution_count": 78,
     "metadata": {},
     "output_type": "execute_result"
    }
   ],
   "source": [
    "len(co_mun_r_pa[['CO_MUN']].drop_duplicates())"
   ]
  },
  {
   "cell_type": "markdown",
   "id": "5f351f6b-a42c-442e-b008-56d988c91402",
   "metadata": {},
   "source": []
  },
  {
   "cell_type": "code",
   "execution_count": 79,
   "id": "5a1d2554-4a38-42f9-9b21-3a372f85fe3e",
   "metadata": {},
   "outputs": [
    {
     "name": "stdout",
     "output_type": "stream",
     "text": [
      "CPU times: user 23 s, sys: 135 ms, total: 23.2 s\n",
      "Wall time: 23.3 s\n"
     ]
    },
    {
     "data": {
      "text/html": [
       "<div>\n",
       "<style scoped>\n",
       "    .dataframe tbody tr th:only-of-type {\n",
       "        vertical-align: middle;\n",
       "    }\n",
       "\n",
       "    .dataframe tbody tr th {\n",
       "        vertical-align: top;\n",
       "    }\n",
       "\n",
       "    .dataframe thead th {\n",
       "        text-align: right;\n",
       "    }\n",
       "</style>\n",
       "<table border=\"1\" class=\"dataframe\">\n",
       "  <thead>\n",
       "    <tr style=\"text-align: right;\">\n",
       "      <th></th>\n",
       "      <th>CO_ANO</th>\n",
       "      <th>CO_MES</th>\n",
       "      <th>SH4</th>\n",
       "      <th>CO_PAIS</th>\n",
       "      <th>SG_UF_MUN</th>\n",
       "      <th>CO_MUN</th>\n",
       "      <th>KG_LIQUIDO</th>\n",
       "      <th>VL_FOB</th>\n",
       "      <th>NO_MUN</th>\n",
       "      <th>NO_MUN_MIN</th>\n",
       "      <th>SG_UF</th>\n",
       "    </tr>\n",
       "  </thead>\n",
       "  <tbody>\n",
       "    <tr>\n",
       "      <th>0</th>\n",
       "      <td>1997</td>\n",
       "      <td>11</td>\n",
       "      <td>6210</td>\n",
       "      <td>586</td>\n",
       "      <td>MG</td>\n",
       "      <td>3159605</td>\n",
       "      <td>243</td>\n",
       "      <td>5162</td>\n",
       "      <td>SANTA RITA DO SAPUCAI</td>\n",
       "      <td>Santa Rita do Sapucaí</td>\n",
       "      <td>MG</td>\n",
       "    </tr>\n",
       "  </tbody>\n",
       "</table>\n",
       "</div>"
      ],
      "text/plain": [
       "   CO_ANO  CO_MES   SH4  CO_PAIS SG_UF_MUN   CO_MUN  KG_LIQUIDO  VL_FOB  \\\n",
       "0    1997      11  6210      586        MG  3159605         243    5162   \n",
       "\n",
       "                  NO_MUN             NO_MUN_MIN SG_UF  \n",
       "0  SANTA RITA DO SAPUCAI  Santa Rita do Sapucaí    MG  "
      ]
     },
     "execution_count": 79,
     "metadata": {},
     "output_type": "execute_result"
    }
   ],
   "source": [
    "%%time\n",
    "reader=pd.read_csv('~/git/BD/Comexstat/extracted_files/EXP_COMPLETA_MUN.csv', chunksize=10_000, encoding='Latin-1',sep=';')\n",
    "e_m_r_pa=pd.DataFrame()\n",
    "for chunk in reader:\n",
    "    # Filtra cada chunk , deixando passar somente os registros dos municípios da região de Pouso Alegre\n",
    "    chunk=chunk.merge(co_mun_r_pa)\n",
    "    e_m_r_pa=pd.concat([e_m_r_pa,chunk])\n",
    "e_m_r_pa.head(1)"
   ]
  },
  {
   "cell_type": "markdown",
   "id": "5a9d127e-490b-4587-b366-3db5843880b8",
   "metadata": {},
   "source": [
    "Agora identificaremos qual produto agrícola é o mais relevante para a região foco, para que ele seja utilizado como variável multipla na previsão dos fertilizantes.  \n",
    "\n",
    "Antes, em nome da simplicidade, o plano é prever os produtos utilizando o código de categora mais abrangente disponível, que é o código SH2, que é obtido através da fusão da base de dados com a tabela auxiliar, NCM_SH.csv, fornecida pelo site Comexstat."
   ]
  },
  {
   "cell_type": "code",
   "execution_count": 80,
   "id": "85113526-34f3-4cf5-a6a9-ae87e75249ac",
   "metadata": {},
   "outputs": [
    {
     "data": {
      "text/html": [
       "<div>\n",
       "<style scoped>\n",
       "    .dataframe tbody tr th:only-of-type {\n",
       "        vertical-align: middle;\n",
       "    }\n",
       "\n",
       "    .dataframe tbody tr th {\n",
       "        vertical-align: top;\n",
       "    }\n",
       "\n",
       "    .dataframe thead th {\n",
       "        text-align: right;\n",
       "    }\n",
       "</style>\n",
       "<table border=\"1\" class=\"dataframe\">\n",
       "  <thead>\n",
       "    <tr style=\"text-align: right;\">\n",
       "      <th></th>\n",
       "      <th>CO_SH6</th>\n",
       "      <th>NO_SH6_POR</th>\n",
       "      <th>NO_SH6_ESP</th>\n",
       "      <th>NO_SH6_ING</th>\n",
       "      <th>SH4</th>\n",
       "      <th>NO_SH4_POR</th>\n",
       "      <th>NO_SH4_ESP</th>\n",
       "      <th>NO_SH4_ING</th>\n",
       "      <th>CO_SH2</th>\n",
       "      <th>NO_SH2_POR</th>\n",
       "      <th>NO_SH2_ESP</th>\n",
       "      <th>NO_SH2_ING</th>\n",
       "      <th>CO_NCM_SECROM</th>\n",
       "      <th>NO_SEC_POR</th>\n",
       "      <th>NO_SEC_ESP</th>\n",
       "      <th>NO_SEC_ING</th>\n",
       "    </tr>\n",
       "  </thead>\n",
       "  <tbody>\n",
       "    <tr>\n",
       "      <th>0</th>\n",
       "      <td>10110</td>\n",
       "      <td>Animais vivos das espécies cavalar, asinina e ...</td>\n",
       "      <td>Caballos y asnos, reproductores de raza pura</td>\n",
       "      <td>Pure-bred breeding horses and asses</td>\n",
       "      <td>101</td>\n",
       "      <td>Cavalos, asininos e muares, vivos</td>\n",
       "      <td>Caballos, asnos, mulos y burdéganos, vivos</td>\n",
       "      <td>Live horses, asses, mules and hinnies</td>\n",
       "      <td>1</td>\n",
       "      <td>Animais vivos</td>\n",
       "      <td>Animales vivos</td>\n",
       "      <td>Live animals</td>\n",
       "      <td>I</td>\n",
       "      <td>Animais vivos e produtos do reino animal</td>\n",
       "      <td>Animales vivos y productos del reino animal</td>\n",
       "      <td>Lives animals; Animal products</td>\n",
       "    </tr>\n",
       "  </tbody>\n",
       "</table>\n",
       "</div>"
      ],
      "text/plain": [
       "   CO_SH6                                         NO_SH6_POR  \\\n",
       "0   10110  Animais vivos das espécies cavalar, asinina e ...   \n",
       "\n",
       "                                     NO_SH6_ESP  \\\n",
       "0  Caballos y asnos, reproductores de raza pura   \n",
       "\n",
       "                            NO_SH6_ING  SH4  \\\n",
       "0  Pure-bred breeding horses and asses  101   \n",
       "\n",
       "                          NO_SH4_POR  \\\n",
       "0  Cavalos, asininos e muares, vivos   \n",
       "\n",
       "                                   NO_SH4_ESP  \\\n",
       "0  Caballos, asnos, mulos y burdéganos, vivos   \n",
       "\n",
       "                              NO_SH4_ING  CO_SH2     NO_SH2_POR  \\\n",
       "0  Live horses, asses, mules and hinnies       1  Animais vivos   \n",
       "\n",
       "       NO_SH2_ESP    NO_SH2_ING CO_NCM_SECROM  \\\n",
       "0  Animales vivos  Live animals             I   \n",
       "\n",
       "                                 NO_SEC_POR  \\\n",
       "0  Animais vivos e produtos do reino animal   \n",
       "\n",
       "                                    NO_SEC_ESP                      NO_SEC_ING  \n",
       "0  Animales vivos y productos del reino animal  Lives animals; Animal products  "
      ]
     },
     "execution_count": 80,
     "metadata": {},
     "output_type": "execute_result"
    }
   ],
   "source": [
    "ncm_sh=pd.read_csv('~/git/BD/Comexstat/NCM_SH.csv',encoding='Latin-1',sep=';').rename(columns={'CO_SH4':'SH4'})\n",
    "ncm_sh.head(1)"
   ]
  },
  {
   "cell_type": "markdown",
   "id": "65763a85-b938-4018-83a0-f3957c12e379",
   "metadata": {},
   "source": [
    "Descarta detalhamentos maiores (SH6) e condensa a tabela. Sem esse procedimento, nas operações merge a frente, duplicatas seriam criadas."
   ]
  },
  {
   "cell_type": "code",
   "execution_count": 81,
   "id": "e614224b-3b3d-4d6e-89e4-1047c1e0c92a",
   "metadata": {},
   "outputs": [],
   "source": [
    "ncm_sh=ncm_sh[['SH4', 'NO_SH4_POR', 'CO_SH2', 'NO_SH2_POR']].drop_duplicates()"
   ]
  },
  {
   "cell_type": "code",
   "execution_count": 82,
   "id": "e90428b8-ba9d-4a04-b409-62c8345abe9b",
   "metadata": {},
   "outputs": [
    {
     "data": {
      "text/plain": [
       "138345"
      ]
     },
     "execution_count": 82,
     "metadata": {},
     "output_type": "execute_result"
    }
   ],
   "source": [
    "len(e_m_r_pa)"
   ]
  },
  {
   "cell_type": "code",
   "execution_count": 83,
   "id": "f12c9ce3-38f9-4c96-8f4b-ba52449fefbc",
   "metadata": {},
   "outputs": [],
   "source": [
    "e_m_r_pa=e_m_r_pa.merge(ncm_sh)"
   ]
  },
  {
   "cell_type": "code",
   "execution_count": 84,
   "id": "82ac9056-5ef6-45a2-a6ff-4e65df04f4bd",
   "metadata": {},
   "outputs": [
    {
     "data": {
      "text/plain": [
       "138345"
      ]
     },
     "execution_count": 84,
     "metadata": {},
     "output_type": "execute_result"
    }
   ],
   "source": [
    "len(e_m_r_pa)"
   ]
  },
  {
   "cell_type": "code",
   "execution_count": 85,
   "id": "6c9fd1f8-7a5d-4692-af57-feacedf1d919",
   "metadata": {},
   "outputs": [
    {
     "data": {
      "text/html": [
       "<div>\n",
       "<style scoped>\n",
       "    .dataframe tbody tr th:only-of-type {\n",
       "        vertical-align: middle;\n",
       "    }\n",
       "\n",
       "    .dataframe tbody tr th {\n",
       "        vertical-align: top;\n",
       "    }\n",
       "\n",
       "    .dataframe thead th {\n",
       "        text-align: right;\n",
       "    }\n",
       "</style>\n",
       "<table border=\"1\" class=\"dataframe\">\n",
       "  <thead>\n",
       "    <tr style=\"text-align: right;\">\n",
       "      <th></th>\n",
       "      <th>CO_SH2</th>\n",
       "      <th>NO_SH2_POR</th>\n",
       "      <th>VL_FOB</th>\n",
       "    </tr>\n",
       "  </thead>\n",
       "  <tbody>\n",
       "    <tr>\n",
       "      <th>0</th>\n",
       "      <td>9</td>\n",
       "      <td>Café, chá, mate e especiarias</td>\n",
       "      <td>5520896891</td>\n",
       "    </tr>\n",
       "    <tr>\n",
       "      <th>1</th>\n",
       "      <td>84</td>\n",
       "      <td>Reatores nucleares, caldeiras, máquinas, apare...</td>\n",
       "      <td>1876247134</td>\n",
       "    </tr>\n",
       "    <tr>\n",
       "      <th>2</th>\n",
       "      <td>85</td>\n",
       "      <td>Máquinas, aparelhos e materiais elétricos, e s...</td>\n",
       "      <td>1321930431</td>\n",
       "    </tr>\n",
       "    <tr>\n",
       "      <th>3</th>\n",
       "      <td>26</td>\n",
       "      <td>Minerios, escórias e cinzas</td>\n",
       "      <td>1051069830</td>\n",
       "    </tr>\n",
       "    <tr>\n",
       "      <th>4</th>\n",
       "      <td>28</td>\n",
       "      <td>Produtos químicos inorgânicos; compostos inorg...</td>\n",
       "      <td>913656789</td>\n",
       "    </tr>\n",
       "  </tbody>\n",
       "</table>\n",
       "</div>"
      ],
      "text/plain": [
       "   CO_SH2                                         NO_SH2_POR      VL_FOB\n",
       "0       9                      Café, chá, mate e especiarias  5520896891\n",
       "1      84  Reatores nucleares, caldeiras, máquinas, apare...  1876247134\n",
       "2      85  Máquinas, aparelhos e materiais elétricos, e s...  1321930431\n",
       "3      26                        Minerios, escórias e cinzas  1051069830\n",
       "4      28  Produtos químicos inorgânicos; compostos inorg...   913656789"
      ]
     },
     "execution_count": 85,
     "metadata": {},
     "output_type": "execute_result"
    }
   ],
   "source": [
    "e_m_r_pa.groupby(by=['CO_SH2','NO_SH2_POR']).VL_FOB.sum().sort_values(ascending=False).reset_index().head()"
   ]
  },
  {
   "cell_type": "code",
   "execution_count": 86,
   "id": "d44ce9c9-ea1b-4a6a-9d08-d2bd01d87479",
   "metadata": {},
   "outputs": [],
   "source": [
    "e_c_m_r_pa=e_m_r_pa[e_m_r_pa.CO_SH2==9]"
   ]
  },
  {
   "cell_type": "code",
   "execution_count": 44,
   "id": "f324549b-6dd3-433c-b56a-fa8acfc3cea7",
   "metadata": {},
   "outputs": [
    {
     "data": {
      "text/html": [
       "<div>\n",
       "<style scoped>\n",
       "    .dataframe tbody tr th:only-of-type {\n",
       "        vertical-align: middle;\n",
       "    }\n",
       "\n",
       "    .dataframe tbody tr th {\n",
       "        vertical-align: top;\n",
       "    }\n",
       "\n",
       "    .dataframe thead th {\n",
       "        text-align: right;\n",
       "    }\n",
       "</style>\n",
       "<table border=\"1\" class=\"dataframe\">\n",
       "  <thead>\n",
       "    <tr style=\"text-align: right;\">\n",
       "      <th></th>\n",
       "      <th>CO_ANO</th>\n",
       "      <th>CO_MES</th>\n",
       "      <th>SH4</th>\n",
       "      <th>CO_PAIS</th>\n",
       "      <th>SG_UF_MUN</th>\n",
       "      <th>CO_MUN</th>\n",
       "      <th>KG_LIQUIDO</th>\n",
       "      <th>VL_FOB</th>\n",
       "      <th>NO_MUN</th>\n",
       "      <th>NO_MUN_MIN</th>\n",
       "      <th>SG_UF</th>\n",
       "      <th>NO_SH4_POR</th>\n",
       "      <th>CO_SH2</th>\n",
       "      <th>NO_SH2_POR</th>\n",
       "    </tr>\n",
       "  </thead>\n",
       "  <tbody>\n",
       "    <tr>\n",
       "      <th>18709</th>\n",
       "      <td>1997</td>\n",
       "      <td>3</td>\n",
       "      <td>901</td>\n",
       "      <td>764</td>\n",
       "      <td>MG</td>\n",
       "      <td>3102605</td>\n",
       "      <td>150000</td>\n",
       "      <td>514554</td>\n",
       "      <td>ANDRADAS</td>\n",
       "      <td>Andradas</td>\n",
       "      <td>MG</td>\n",
       "      <td>Café, mesmo torrado ou descafeinado; cascas e ...</td>\n",
       "      <td>9</td>\n",
       "      <td>Café, chá, mate e especiarias</td>\n",
       "    </tr>\n",
       "  </tbody>\n",
       "</table>\n",
       "</div>"
      ],
      "text/plain": [
       "       CO_ANO  CO_MES  SH4  CO_PAIS SG_UF_MUN   CO_MUN  KG_LIQUIDO  VL_FOB  \\\n",
       "18709    1997       3  901      764        MG  3102605      150000  514554   \n",
       "\n",
       "         NO_MUN NO_MUN_MIN SG_UF  \\\n",
       "18709  ANDRADAS   Andradas    MG   \n",
       "\n",
       "                                              NO_SH4_POR  CO_SH2  \\\n",
       "18709  Café, mesmo torrado ou descafeinado; cascas e ...       9   \n",
       "\n",
       "                          NO_SH2_POR  \n",
       "18709  Café, chá, mate e especiarias  "
      ]
     },
     "execution_count": 44,
     "metadata": {},
     "output_type": "execute_result"
    }
   ],
   "source": [
    "e_c_m_r_pa.head(1)"
   ]
  },
  {
   "cell_type": "markdown",
   "id": "502ef75a-a846-4691-a764-8c691d7c6f2e",
   "metadata": {},
   "source": [
    "Enfim, salvamos o arquivo, que esta pronto para uso."
   ]
  },
  {
   "cell_type": "code",
   "execution_count": 45,
   "id": "43425e33-e7c4-4f9e-a4c5-7fcfcdf5d1ec",
   "metadata": {},
   "outputs": [],
   "source": [
    "e_c_m_r_pa.to_csv('~/git/comex_sh_mun/temp/e_c_m_r_pa.csv',index=False)"
   ]
  },
  {
   "cell_type": "markdown",
   "id": "ff078563",
   "metadata": {},
   "source": [
    "Apaga arquivo zip expandido"
   ]
  },
  {
   "cell_type": "code",
   "execution_count": 46,
   "id": "530f27cf",
   "metadata": {},
   "outputs": [
    {
     "name": "stdout",
     "output_type": "stream",
     "text": [
      "Diretório /home/andre301267/git/BD/Comexstat/extracted_files/ apagado com sucesso.\n"
     ]
    }
   ],
   "source": [
    "import shutil\n",
    "import os\n",
    "\n",
    "# Diretório a ser apagado\n",
    "directory_to_delete = '~/git/BD/Comexstat/extracted_files/'\n",
    "\n",
    "# Expandir o caminho do usuário\n",
    "directory_to_delete = os.path.expanduser(directory_to_delete)\n",
    "\n",
    "# Verificar se o diretório existe antes de apagar\n",
    "if os.path.exists(directory_to_delete):\n",
    "    # Apagar o diretório e todo o seu conteúdo\n",
    "    shutil.rmtree(directory_to_delete)\n",
    "    print(f'Diretório {directory_to_delete} apagado com sucesso.')\n",
    "else:\n",
    "    print(f'O diretório {directory_to_delete} não existe.')"
   ]
  },
  {
   "cell_type": "code",
   "execution_count": null,
   "id": "1be9b9ad-d975-4adb-b41c-56d196653bf1",
   "metadata": {},
   "outputs": [],
   "source": []
  },
  {
   "cell_type": "code",
   "execution_count": null,
   "id": "4922cb93-5d98-47a1-82c6-eda1e545cc5d",
   "metadata": {},
   "outputs": [],
   "source": []
  },
  {
   "cell_type": "code",
   "execution_count": null,
   "id": "f33a7f5f-0e07-4428-84d0-da551e4acbfa",
   "metadata": {},
   "outputs": [],
   "source": []
  },
  {
   "cell_type": "code",
   "execution_count": null,
   "id": "77e688f7-9b86-440e-8551-a846a02acf65",
   "metadata": {},
   "outputs": [],
   "source": []
  },
  {
   "cell_type": "code",
   "execution_count": null,
   "id": "5c1644cc-d859-4c4b-a91e-f0fd50b392ed",
   "metadata": {},
   "outputs": [],
   "source": []
  },
  {
   "cell_type": "code",
   "execution_count": null,
   "id": "dc7c99af-38e4-4979-81de-fa8ebc7f808b",
   "metadata": {},
   "outputs": [],
   "source": []
  },
  {
   "cell_type": "code",
   "execution_count": null,
   "id": "17a81903-ec42-4923-ad27-016f4df5e624",
   "metadata": {},
   "outputs": [],
   "source": []
  },
  {
   "cell_type": "code",
   "execution_count": null,
   "id": "8399612d-d07f-4aa8-837e-07663fcd3be5",
   "metadata": {},
   "outputs": [],
   "source": []
  },
  {
   "cell_type": "code",
   "execution_count": null,
   "id": "100c4cfe-bb39-495b-9959-655ff484e4ab",
   "metadata": {},
   "outputs": [],
   "source": []
  },
  {
   "cell_type": "code",
   "execution_count": null,
   "id": "65b88cbd-7c47-4a60-a3a5-2263ec85f81b",
   "metadata": {},
   "outputs": [],
   "source": []
  },
  {
   "cell_type": "code",
   "execution_count": null,
   "id": "a27c554a-4347-4bbe-abbc-9c4fc514f9dd",
   "metadata": {},
   "outputs": [],
   "source": []
  },
  {
   "cell_type": "code",
   "execution_count": null,
   "id": "3e877f55-74ff-4430-a55f-5b6cc15c2475",
   "metadata": {},
   "outputs": [],
   "source": []
  },
  {
   "cell_type": "code",
   "execution_count": null,
   "id": "42b12ac4-4a5c-4248-90aa-683825f4eb36",
   "metadata": {},
   "outputs": [],
   "source": []
  },
  {
   "cell_type": "code",
   "execution_count": null,
   "id": "98e1c1bc-c772-452a-ab4a-2e718e03c59b",
   "metadata": {},
   "outputs": [],
   "source": []
  },
  {
   "cell_type": "code",
   "execution_count": null,
   "id": "be70308a-087d-4f00-a024-4fac4e743e8e",
   "metadata": {},
   "outputs": [],
   "source": []
  },
  {
   "cell_type": "code",
   "execution_count": null,
   "id": "15daa8c3-6fe4-4106-a98f-3e4cb28aade1",
   "metadata": {},
   "outputs": [],
   "source": []
  },
  {
   "cell_type": "code",
   "execution_count": null,
   "id": "40192bf0-f505-430d-8d01-c9b4e15367eb",
   "metadata": {},
   "outputs": [],
   "source": []
  },
  {
   "cell_type": "code",
   "execution_count": null,
   "id": "55d375a9-e5e5-4d5b-bb71-5a5f065891b8",
   "metadata": {},
   "outputs": [],
   "source": []
  },
  {
   "cell_type": "code",
   "execution_count": null,
   "id": "b35d0d23-d007-4dec-9c2d-b3d5104a6b33",
   "metadata": {},
   "outputs": [],
   "source": []
  },
  {
   "cell_type": "code",
   "execution_count": null,
   "id": "b03791bd-63c9-4a91-bd7d-1a3544c0f890",
   "metadata": {},
   "outputs": [],
   "source": []
  },
  {
   "cell_type": "code",
   "execution_count": null,
   "id": "ce73054a-9386-4e04-87c9-69cdbb28904d",
   "metadata": {},
   "outputs": [],
   "source": []
  },
  {
   "cell_type": "code",
   "execution_count": null,
   "id": "f75502fe-2e5f-47f0-9a88-e5a42c5abd53",
   "metadata": {},
   "outputs": [],
   "source": []
  },
  {
   "cell_type": "code",
   "execution_count": null,
   "id": "0138014e-e952-457e-aa1b-08d7fa718144",
   "metadata": {},
   "outputs": [],
   "source": []
  },
  {
   "cell_type": "code",
   "execution_count": null,
   "id": "ab554ea7-dfde-498d-a9b0-1269d7c5bedc",
   "metadata": {},
   "outputs": [],
   "source": []
  },
  {
   "cell_type": "code",
   "execution_count": null,
   "id": "bea996be-62eb-4ff1-b9a2-b1034d4826a7",
   "metadata": {},
   "outputs": [],
   "source": []
  },
  {
   "cell_type": "code",
   "execution_count": null,
   "id": "83248c18-2252-483b-acd0-add1e2598ef4",
   "metadata": {},
   "outputs": [],
   "source": []
  },
  {
   "cell_type": "code",
   "execution_count": null,
   "id": "d5320c50-7f74-48f0-9ad4-eeb2baa0877a",
   "metadata": {},
   "outputs": [],
   "source": []
  },
  {
   "cell_type": "code",
   "execution_count": null,
   "id": "f3c7a88d-8282-4aa6-9642-076606080dd7",
   "metadata": {},
   "outputs": [],
   "source": []
  },
  {
   "cell_type": "code",
   "execution_count": null,
   "id": "3d508223-d967-45e4-8a56-6e1572cad4c8",
   "metadata": {},
   "outputs": [],
   "source": []
  },
  {
   "cell_type": "code",
   "execution_count": null,
   "id": "c7f3eda4-bbc6-4024-a842-bba3e4945755",
   "metadata": {},
   "outputs": [],
   "source": []
  },
  {
   "cell_type": "code",
   "execution_count": null,
   "id": "5837a6b4-35fc-4073-a42e-ddef8918fdfe",
   "metadata": {},
   "outputs": [],
   "source": []
  },
  {
   "cell_type": "code",
   "execution_count": null,
   "id": "26ef5590-580f-469c-ba87-5a8eb428de29",
   "metadata": {},
   "outputs": [],
   "source": []
  },
  {
   "cell_type": "markdown",
   "id": "bdfce7e4-6ee9-4f99-9fb1-dec194af2aef",
   "metadata": {},
   "source": [
    "# 4- Volumes de Chuva  \n",
    "\n",
    "No capítulo anterior, a base de dados sobre chuvas, que é representada por um arquivo zip por ano de coleta, foi baixadas e salvas localmente na pasta:  \n",
    "\n",
    "* '~/git/BD/Inmet/'"
   ]
  },
  {
   "cell_type": "markdown",
   "id": "b18fdcb0-f6da-4232-9492-f2b1bdbb9733",
   "metadata": {},
   "source": [
    "Extrai um dos arquivos zip para reconhecer o que esta no inteior"
   ]
  },
  {
   "cell_type": "raw",
   "id": "a7db7c76-1ebc-4cff-a268-63a5c447bd1c",
   "metadata": {},
   "source": [
    "%%time\n",
    "import zipfile\n",
    "import os\n",
    "\n",
    "# Caminho do arquivo ZIP\n",
    "caminho_arquivo_zip = os.path.expanduser('~/git/BD/Inmet/2020.zip')\n",
    "\n",
    "# Expandir o arquivo ZIP para um diretório temporário\n",
    "diretorio_temporario = '/home/andre301267/git/BD/Inmet/extracted_files/'\n",
    "with zipfile.ZipFile(caminho_arquivo_zip, 'r') as zip_ref:\n",
    "    zip_ref.extractall(diretorio_temporario)\n",
    "\n",
    "# Listar os arquivos no diretório temporário\n",
    "arquivos_temporarios = os.listdir(diretorio_temporario)\n",
    "'''\n",
    "# Exibir os arquivos\n",
    "for arquivo_temporario in arquivos_temporarios:\n",
    "    print(arquivo_temporario)'''"
   ]
  },
  {
   "cell_type": "markdown",
   "id": "b06ecd36-483b-48df-bf85-5e7c6ba3a52f",
   "metadata": {},
   "source": [
    "Limpa diretorio de extração"
   ]
  },
  {
   "cell_type": "raw",
   "id": "4865fe44-e0c6-4f5a-869d-6022ac24881c",
   "metadata": {},
   "source": [
    "%%time\n",
    "# Limpar o diretório temporário (opcional)\n",
    "for arquivo_temporario in arquivos_temporarios:\n",
    "    caminho_completo = os.path.join(diretorio_temporario, arquivo_temporario)\n",
    "    os.remove(caminho_completo)\n",
    "\n",
    "# Remover o diretório temporário\n",
    "os.rmdir(diretorio_temporario)"
   ]
  },
  {
   "cell_type": "markdown",
   "id": "8410ec8c-3311-4efb-bce0-240099c96a7f",
   "metadata": {},
   "source": [
    "Extrai todos os arquivos zip"
   ]
  },
  {
   "cell_type": "raw",
   "id": "0a79e6ee-2ef9-4e3e-bda4-c620c217727d",
   "metadata": {},
   "source": [
    "%%time\n",
    "import zipfile\n",
    "import os\n",
    "\n",
    "# Diretório de origem dos arquivos ZIP\n",
    "diretorio_origem = os.path.expanduser('~/git/BD/Inmet/')\n",
    "\n",
    "# Diretório de destino para os arquivos extraídos\n",
    "diretorio_destino = '/home/andre301267/git/BD/Inmet/extracted_files/'\n",
    "\n",
    "# Garante que o diretório de destino existe\n",
    "os.makedirs(diretorio_destino, exist_ok=True)\n",
    "\n",
    "# Lista de arquivos ZIP no diretório de origem\n",
    "arquivos_zip = [arquivo for arquivo in os.listdir(diretorio_origem) if arquivo.endswith('.zip')]\n",
    "\n",
    "# Itera sobre os arquivos ZIP e extrai para o diretório de destino\n",
    "for arquivo_zip in arquivos_zip:\n",
    "    caminho_completo_zip = os.path.join(diretorio_origem, arquivo_zip)\n",
    "\n",
    "    with zipfile.ZipFile(caminho_completo_zip, 'r') as zip_ref:\n",
    "        # Extrai os arquivos para o diretório de destino\n",
    "        zip_ref.extractall(diretorio_destino)\n",
    "\n",
    "print(\"Extração concluída.\")\n"
   ]
  },
  {
   "cell_type": "markdown",
   "id": "326c5103-f6f9-4923-822b-2379520e7189",
   "metadata": {},
   "source": [
    "Move os arquivos extraídos para a pasta raíz"
   ]
  },
  {
   "cell_type": "raw",
   "id": "80453259-9501-4e93-bd6f-6e1f6793bb30",
   "metadata": {},
   "source": [
    "import os\n",
    "import shutil\n",
    "\n",
    "diretorio_origem = '/home/andre301267/git/BD/Inmet/extracted_files/'\n",
    "\n",
    "# Iterar sobre todas as subpastas\n",
    "for pasta, subpastas, arquivos in os.walk(diretorio_origem):\n",
    "    # Iterar sobre os arquivos em cada subpasta\n",
    "    for arquivo in arquivos:\n",
    "        # Construir os caminhos completos de origem e destino\n",
    "        caminho_origem = os.path.join(pasta, arquivo)\n",
    "        caminho_destino = os.path.join(diretorio_origem, arquivo)\n",
    "\n",
    "        # Mover o arquivo para a raiz do diretório\n",
    "        shutil.move(caminho_origem, caminho_destino)\n",
    "\n",
    "print(\"Movimentação concluída.\")\n"
   ]
  },
  {
   "cell_type": "markdown",
   "id": "aad37cef-9912-42bd-85e1-0d7a0cd7aff1",
   "metadata": {},
   "source": [
    "Elimina as subpastas que ficaram vazias"
   ]
  },
  {
   "cell_type": "raw",
   "id": "361daaa4-abba-4bc2-bb9a-80f862a3d9bd",
   "metadata": {},
   "source": [
    "import os\n",
    "\n",
    "diretorio_origem = '/home/andre301267/git/BD/Inmet/extracted_files/'\n",
    "\n",
    "# Iterar sobre todas as subpastas em ordem reversa\n",
    "for pasta, subpastas, arquivos in os.walk(diretorio_origem, topdown=False):\n",
    "    for subpasta in subpastas:\n",
    "        # Construir o caminho completo da subpasta\n",
    "        caminho_subpasta = os.path.join(pasta, subpasta)\n",
    "\n",
    "        # Verificar se a subpasta está vazia\n",
    "        if not os.listdir(caminho_subpasta):\n",
    "            # Remover a subpasta vazia\n",
    "            os.rmdir(caminho_subpasta)\n",
    "\n",
    "print(\"Subpastas vazias removidas.\")\n"
   ]
  },
  {
   "cell_type": "markdown",
   "id": "c6d8655d-5ecd-4ca9-b4c1-0448f9e5b75c",
   "metadata": {},
   "source": [
    "Remove todos os arquivos descompatados que não se refiram ao estado de MG"
   ]
  },
  {
   "cell_type": "raw",
   "id": "a5234865-2fc0-427f-9ed3-0a98ee6ca7fc",
   "metadata": {},
   "source": [
    "import os\n",
    "\n",
    "diretorio_origem = '/home/andre301267/git/BD/Inmet/extracted_files/'\n",
    "\n",
    "# Iterar sobre todos os arquivos na raiz do diretório\n",
    "for arquivo in os.listdir(diretorio_origem):\n",
    "    # Construir o caminho completo do arquivo\n",
    "    caminho_arquivo = os.path.join(diretorio_origem, arquivo)\n",
    "\n",
    "    # Verificar se o arquivo não contém \"_MG_\" no nome\n",
    "    if \"_MG_\" not in arquivo:\n",
    "        # Remover o arquivo\n",
    "        os.remove(caminho_arquivo)\n",
    "        #print(f\"Arquivo removido: {caminho_arquivo}\")\n",
    "\n",
    "print(\"Remoção de arquivos concluída.\")\n"
   ]
  },
  {
   "cell_type": "markdown",
   "id": "987b104d-a339-4201-b659-da1411feaf76",
   "metadata": {},
   "source": [
    "Carrega arquivo contendo lista de municípios da região de Pouso Alegre"
   ]
  },
  {
   "cell_type": "raw",
   "id": "35db2092-34da-4c2d-89d8-8019e7bb5508",
   "metadata": {},
   "source": [
    "import pandas as pd\n",
    "m_r_pa=pd.read_csv('~/git/comex_sh_mun/temp/m_r_pa.csv')\n",
    "m_r_pa.Município=m_r_pa.Município.str.upper().str.strip()\n",
    "m_r_pa_l=m_r_pa.Município.tolist()"
   ]
  },
  {
   "cell_type": "markdown",
   "id": "33fce036-d1c1-4a3e-972c-cc22ba00be09",
   "metadata": {},
   "source": [
    "Remove os arquivos que não contiverem no nome um nome de um dos município da região de Pouso Alegre"
   ]
  },
  {
   "cell_type": "raw",
   "id": "85eab1b1-e577-4f13-9933-ab0b067676a1",
   "metadata": {
    "scrolled": true
   },
   "source": [
    "import os\n",
    "\n",
    "diretorio_origem = '/home/andre301267/git/BD/Inmet/extracted_files/'\n",
    "\n",
    "# Iterar sobre todos os arquivos na raiz do diretório\n",
    "for arquivo in os.listdir(diretorio_origem):\n",
    "    # Construir o caminho completo do arquivo\n",
    "    caminho_arquivo = os.path.join(diretorio_origem, arquivo)\n",
    "\n",
    "    # Verificar se o arquivo não contém nenhuma das strings da lista\n",
    "    if all(string not in arquivo for string in m_r_pa_l):\n",
    "        # Remover o arquivo\n",
    "        os.remove(caminho_arquivo)\n",
    "        print(f\"Arquivo removido: {caminho_arquivo}\")\n",
    "\n",
    "# print(\"Remoção de arquivos concluída.\")"
   ]
  },
  {
   "cell_type": "markdown",
   "id": "68bd0d93-76ee-4c81-984b-09472de36b2d",
   "metadata": {},
   "source": [
    "Divide as tabelas extraídas em duas, concatenando essas partes em uma planilha cada. Uma parte contedo a identificação das estações meteorológicas, outra parte contendo os dados climatológicos."
   ]
  },
  {
   "cell_type": "code",
   "execution_count": 31,
   "id": "8e9a6b10-d893-4923-82ba-10e163e0aa4c",
   "metadata": {},
   "outputs": [
    {
     "name": "stdout",
     "output_type": "stream",
     "text": [
      "DataFrame Parte 1:\n"
     ]
    },
    {
     "data": {
      "text/html": [
       "<div>\n",
       "<style scoped>\n",
       "    .dataframe tbody tr th:only-of-type {\n",
       "        vertical-align: middle;\n",
       "    }\n",
       "\n",
       "    .dataframe tbody tr th {\n",
       "        vertical-align: top;\n",
       "    }\n",
       "\n",
       "    .dataframe thead th {\n",
       "        text-align: right;\n",
       "    }\n",
       "</style>\n",
       "<table border=\"1\" class=\"dataframe\">\n",
       "  <thead>\n",
       "    <tr style=\"text-align: right;\">\n",
       "      <th></th>\n",
       "      <th>UF:</th>\n",
       "      <th>ESTACAO:</th>\n",
       "      <th>CODIGO (WMO):</th>\n",
       "      <th>LATITUDE:</th>\n",
       "      <th>LONGITUDE:</th>\n",
       "    </tr>\n",
       "  </thead>\n",
       "  <tbody>\n",
       "    <tr>\n",
       "      <th>1</th>\n",
       "      <td>MG</td>\n",
       "      <td>CONCEICAO DAS ALAGOAS</td>\n",
       "      <td>A520</td>\n",
       "      <td>-19,98586</td>\n",
       "      <td>-48,151574</td>\n",
       "    </tr>\n",
       "    <tr>\n",
       "      <th>2</th>\n",
       "      <td>MG</td>\n",
       "      <td>PASSA QUATRO</td>\n",
       "      <td>A529</td>\n",
       "      <td>-22,395799</td>\n",
       "      <td>-44,961909</td>\n",
       "    </tr>\n",
       "    <tr>\n",
       "      <th>3</th>\n",
       "      <td>MG</td>\n",
       "      <td>CALDAS</td>\n",
       "      <td>A530</td>\n",
       "      <td>-21,918066</td>\n",
       "      <td>-46,382996</td>\n",
       "    </tr>\n",
       "  </tbody>\n",
       "</table>\n",
       "</div>"
      ],
      "text/plain": [
       "0 UF:               ESTACAO: CODIGO (WMO):   LATITUDE:  LONGITUDE:\n",
       "1  MG  CONCEICAO DAS ALAGOAS          A520   -19,98586  -48,151574\n",
       "2  MG           PASSA QUATRO          A529  -22,395799  -44,961909\n",
       "3  MG                 CALDAS          A530  -21,918066  -46,382996"
      ]
     },
     "metadata": {},
     "output_type": "display_data"
    },
    {
     "name": "stdout",
     "output_type": "stream",
     "text": [
      "\n",
      "DataFrame Parte 2:\n"
     ]
    },
    {
     "data": {
      "text/html": [
       "<div>\n",
       "<style scoped>\n",
       "    .dataframe tbody tr th:only-of-type {\n",
       "        vertical-align: middle;\n",
       "    }\n",
       "\n",
       "    .dataframe tbody tr th {\n",
       "        vertical-align: top;\n",
       "    }\n",
       "\n",
       "    .dataframe thead th {\n",
       "        text-align: right;\n",
       "    }\n",
       "</style>\n",
       "<table border=\"1\" class=\"dataframe\">\n",
       "  <thead>\n",
       "    <tr style=\"text-align: right;\">\n",
       "      <th></th>\n",
       "      <th>Data</th>\n",
       "      <th>Hora UTC</th>\n",
       "      <th>PRECIPITAÇÃO TOTAL, HORÁRIO (mm)</th>\n",
       "      <th>PRESSAO ATMOSFERICA AO NIVEL DA ESTACAO, HORARIA (mB)</th>\n",
       "      <th>PRESSÃO ATMOSFERICA MAX.NA HORA ANT. (AUT) (mB)</th>\n",
       "      <th>PRESSÃO ATMOSFERICA MIN. NA HORA ANT. (AUT) (mB)</th>\n",
       "      <th>RADIACAO GLOBAL (Kj/m²)</th>\n",
       "      <th>TEMPERATURA DO AR - BULBO SECO, HORARIA (°C)</th>\n",
       "      <th>TEMPERATURA DO PONTO DE ORVALHO (°C)</th>\n",
       "      <th>TEMPERATURA MÁXIMA NA HORA ANT. (AUT) (°C)</th>\n",
       "      <th>...</th>\n",
       "      <th>UMIDADE REL. MIN. NA HORA ANT. (AUT) (%)</th>\n",
       "      <th>UMIDADE RELATIVA DO AR, HORARIA (%)</th>\n",
       "      <th>VENTO, DIREÇÃO HORARIA (gr) (° (gr))</th>\n",
       "      <th>VENTO, RAJADA MAXIMA (m/s)</th>\n",
       "      <th>VENTO, VELOCIDADE HORARIA (m/s)</th>\n",
       "      <th>Unnamed: 19</th>\n",
       "      <th>Estação</th>\n",
       "      <th>DATA (YYYY-MM-DD)</th>\n",
       "      <th>HORA (UTC)</th>\n",
       "      <th>RADIACAO GLOBAL (KJ/m²)</th>\n",
       "    </tr>\n",
       "  </thead>\n",
       "  <tbody>\n",
       "    <tr>\n",
       "      <th>0</th>\n",
       "      <td>2020/01/01</td>\n",
       "      <td>0000 UTC</td>\n",
       "      <td>0</td>\n",
       "      <td>945</td>\n",
       "      <td>945</td>\n",
       "      <td>944,2</td>\n",
       "      <td>NaN</td>\n",
       "      <td>23,8</td>\n",
       "      <td>20</td>\n",
       "      <td>24,6</td>\n",
       "      <td>...</td>\n",
       "      <td>74.0</td>\n",
       "      <td>79.0</td>\n",
       "      <td>58.0</td>\n",
       "      <td>0</td>\n",
       "      <td>0</td>\n",
       "      <td>NaN</td>\n",
       "      <td>CONCEICAO DAS ALAGOAS</td>\n",
       "      <td>NaN</td>\n",
       "      <td>NaN</td>\n",
       "      <td>NaN</td>\n",
       "    </tr>\n",
       "    <tr>\n",
       "      <th>1</th>\n",
       "      <td>2020/01/01</td>\n",
       "      <td>0100 UTC</td>\n",
       "      <td>0</td>\n",
       "      <td>945,9</td>\n",
       "      <td>946</td>\n",
       "      <td>945</td>\n",
       "      <td>NaN</td>\n",
       "      <td>23,6</td>\n",
       "      <td>19,4</td>\n",
       "      <td>24,1</td>\n",
       "      <td>...</td>\n",
       "      <td>75.0</td>\n",
       "      <td>78.0</td>\n",
       "      <td>2.0</td>\n",
       "      <td>4,9</td>\n",
       "      <td>1,4</td>\n",
       "      <td>NaN</td>\n",
       "      <td>CONCEICAO DAS ALAGOAS</td>\n",
       "      <td>NaN</td>\n",
       "      <td>NaN</td>\n",
       "      <td>NaN</td>\n",
       "    </tr>\n",
       "    <tr>\n",
       "      <th>2</th>\n",
       "      <td>2020/01/01</td>\n",
       "      <td>0200 UTC</td>\n",
       "      <td>0</td>\n",
       "      <td>945,8</td>\n",
       "      <td>946,1</td>\n",
       "      <td>945,8</td>\n",
       "      <td>NaN</td>\n",
       "      <td>23,1</td>\n",
       "      <td>19,7</td>\n",
       "      <td>24</td>\n",
       "      <td>...</td>\n",
       "      <td>75.0</td>\n",
       "      <td>81.0</td>\n",
       "      <td>47.0</td>\n",
       "      <td>5,1</td>\n",
       "      <td>1,1</td>\n",
       "      <td>NaN</td>\n",
       "      <td>CONCEICAO DAS ALAGOAS</td>\n",
       "      <td>NaN</td>\n",
       "      <td>NaN</td>\n",
       "      <td>NaN</td>\n",
       "    </tr>\n",
       "    <tr>\n",
       "      <th>3</th>\n",
       "      <td>2020/01/01</td>\n",
       "      <td>0300 UTC</td>\n",
       "      <td>0</td>\n",
       "      <td>945,8</td>\n",
       "      <td>946</td>\n",
       "      <td>945,8</td>\n",
       "      <td>NaN</td>\n",
       "      <td>23,1</td>\n",
       "      <td>20</td>\n",
       "      <td>23,3</td>\n",
       "      <td>...</td>\n",
       "      <td>80.0</td>\n",
       "      <td>83.0</td>\n",
       "      <td>30.0</td>\n",
       "      <td>3,7</td>\n",
       "      <td>2,9</td>\n",
       "      <td>NaN</td>\n",
       "      <td>CONCEICAO DAS ALAGOAS</td>\n",
       "      <td>NaN</td>\n",
       "      <td>NaN</td>\n",
       "      <td>NaN</td>\n",
       "    </tr>\n",
       "    <tr>\n",
       "      <th>4</th>\n",
       "      <td>2020/01/01</td>\n",
       "      <td>0400 UTC</td>\n",
       "      <td>0</td>\n",
       "      <td>945,5</td>\n",
       "      <td>945,9</td>\n",
       "      <td>945,5</td>\n",
       "      <td>NaN</td>\n",
       "      <td>23,2</td>\n",
       "      <td>20</td>\n",
       "      <td>23,4</td>\n",
       "      <td>...</td>\n",
       "      <td>82.0</td>\n",
       "      <td>82.0</td>\n",
       "      <td>349.0</td>\n",
       "      <td>4,4</td>\n",
       "      <td>2,5</td>\n",
       "      <td>NaN</td>\n",
       "      <td>CONCEICAO DAS ALAGOAS</td>\n",
       "      <td>NaN</td>\n",
       "      <td>NaN</td>\n",
       "      <td>NaN</td>\n",
       "    </tr>\n",
       "    <tr>\n",
       "      <th>...</th>\n",
       "      <td>...</td>\n",
       "      <td>...</td>\n",
       "      <td>...</td>\n",
       "      <td>...</td>\n",
       "      <td>...</td>\n",
       "      <td>...</td>\n",
       "      <td>...</td>\n",
       "      <td>...</td>\n",
       "      <td>...</td>\n",
       "      <td>...</td>\n",
       "      <td>...</td>\n",
       "      <td>...</td>\n",
       "      <td>...</td>\n",
       "      <td>...</td>\n",
       "      <td>...</td>\n",
       "      <td>...</td>\n",
       "      <td>...</td>\n",
       "      <td>...</td>\n",
       "      <td>...</td>\n",
       "      <td>...</td>\n",
       "      <td>...</td>\n",
       "    </tr>\n",
       "    <tr>\n",
       "      <th>8755</th>\n",
       "      <td>2019/12/31</td>\n",
       "      <td>1900 UTC</td>\n",
       "      <td>0</td>\n",
       "      <td>891</td>\n",
       "      <td>891,3</td>\n",
       "      <td>891</td>\n",
       "      <td>NaN</td>\n",
       "      <td>26,6</td>\n",
       "      <td>NaN</td>\n",
       "      <td>27,8</td>\n",
       "      <td>...</td>\n",
       "      <td>NaN</td>\n",
       "      <td>NaN</td>\n",
       "      <td>325.0</td>\n",
       "      <td>5,7</td>\n",
       "      <td>,5</td>\n",
       "      <td>NaN</td>\n",
       "      <td>CALDAS</td>\n",
       "      <td>NaN</td>\n",
       "      <td>NaN</td>\n",
       "      <td>1929,6</td>\n",
       "    </tr>\n",
       "    <tr>\n",
       "      <th>8756</th>\n",
       "      <td>2019/12/31</td>\n",
       "      <td>2000 UTC</td>\n",
       "      <td>0</td>\n",
       "      <td>890,7</td>\n",
       "      <td>891</td>\n",
       "      <td>890,5</td>\n",
       "      <td>NaN</td>\n",
       "      <td>24,4</td>\n",
       "      <td>NaN</td>\n",
       "      <td>26,6</td>\n",
       "      <td>...</td>\n",
       "      <td>NaN</td>\n",
       "      <td>NaN</td>\n",
       "      <td>91.0</td>\n",
       "      <td>4,3</td>\n",
       "      <td>2</td>\n",
       "      <td>NaN</td>\n",
       "      <td>CALDAS</td>\n",
       "      <td>NaN</td>\n",
       "      <td>NaN</td>\n",
       "      <td>644,2</td>\n",
       "    </tr>\n",
       "    <tr>\n",
       "      <th>8757</th>\n",
       "      <td>2019/12/31</td>\n",
       "      <td>2100 UTC</td>\n",
       "      <td>0</td>\n",
       "      <td>890,8</td>\n",
       "      <td>890,9</td>\n",
       "      <td>890,6</td>\n",
       "      <td>NaN</td>\n",
       "      <td>22,6</td>\n",
       "      <td>NaN</td>\n",
       "      <td>24,7</td>\n",
       "      <td>...</td>\n",
       "      <td>NaN</td>\n",
       "      <td>NaN</td>\n",
       "      <td>105.0</td>\n",
       "      <td>4,2</td>\n",
       "      <td>,1</td>\n",
       "      <td>NaN</td>\n",
       "      <td>CALDAS</td>\n",
       "      <td>NaN</td>\n",
       "      <td>NaN</td>\n",
       "      <td>295</td>\n",
       "    </tr>\n",
       "    <tr>\n",
       "      <th>8758</th>\n",
       "      <td>2019/12/31</td>\n",
       "      <td>2200 UTC</td>\n",
       "      <td>0</td>\n",
       "      <td>890,8</td>\n",
       "      <td>891</td>\n",
       "      <td>890,8</td>\n",
       "      <td>NaN</td>\n",
       "      <td>21,1</td>\n",
       "      <td>NaN</td>\n",
       "      <td>22,6</td>\n",
       "      <td>...</td>\n",
       "      <td>NaN</td>\n",
       "      <td>NaN</td>\n",
       "      <td>144.0</td>\n",
       "      <td>1,2</td>\n",
       "      <td>0</td>\n",
       "      <td>NaN</td>\n",
       "      <td>CALDAS</td>\n",
       "      <td>NaN</td>\n",
       "      <td>NaN</td>\n",
       "      <td>77,3</td>\n",
       "    </tr>\n",
       "    <tr>\n",
       "      <th>8759</th>\n",
       "      <td>2019/12/31</td>\n",
       "      <td>2300 UTC</td>\n",
       "      <td>0</td>\n",
       "      <td>891,6</td>\n",
       "      <td>891,6</td>\n",
       "      <td>890,8</td>\n",
       "      <td>NaN</td>\n",
       "      <td>20,1</td>\n",
       "      <td>NaN</td>\n",
       "      <td>21,1</td>\n",
       "      <td>...</td>\n",
       "      <td>NaN</td>\n",
       "      <td>NaN</td>\n",
       "      <td>182.0</td>\n",
       "      <td>0</td>\n",
       "      <td>0</td>\n",
       "      <td>NaN</td>\n",
       "      <td>CALDAS</td>\n",
       "      <td>NaN</td>\n",
       "      <td>NaN</td>\n",
       "      <td>NaN</td>\n",
       "    </tr>\n",
       "  </tbody>\n",
       "</table>\n",
       "<p>448296 rows × 24 columns</p>\n",
       "</div>"
      ],
      "text/plain": [
       "            Data  Hora UTC PRECIPITAÇÃO TOTAL, HORÁRIO (mm)  \\\n",
       "0     2020/01/01  0000 UTC                                0   \n",
       "1     2020/01/01  0100 UTC                                0   \n",
       "2     2020/01/01  0200 UTC                                0   \n",
       "3     2020/01/01  0300 UTC                                0   \n",
       "4     2020/01/01  0400 UTC                                0   \n",
       "...          ...       ...                              ...   \n",
       "8755  2019/12/31  1900 UTC                                0   \n",
       "8756  2019/12/31  2000 UTC                                0   \n",
       "8757  2019/12/31  2100 UTC                                0   \n",
       "8758  2019/12/31  2200 UTC                                0   \n",
       "8759  2019/12/31  2300 UTC                                0   \n",
       "\n",
       "     PRESSAO ATMOSFERICA AO NIVEL DA ESTACAO, HORARIA (mB)  \\\n",
       "0                                                   945      \n",
       "1                                                 945,9      \n",
       "2                                                 945,8      \n",
       "3                                                 945,8      \n",
       "4                                                 945,5      \n",
       "...                                                 ...      \n",
       "8755                                                891      \n",
       "8756                                              890,7      \n",
       "8757                                              890,8      \n",
       "8758                                              890,8      \n",
       "8759                                              891,6      \n",
       "\n",
       "     PRESSÃO ATMOSFERICA MAX.NA HORA ANT. (AUT) (mB)  \\\n",
       "0                                                945   \n",
       "1                                                946   \n",
       "2                                              946,1   \n",
       "3                                                946   \n",
       "4                                              945,9   \n",
       "...                                              ...   \n",
       "8755                                           891,3   \n",
       "8756                                             891   \n",
       "8757                                           890,9   \n",
       "8758                                             891   \n",
       "8759                                           891,6   \n",
       "\n",
       "     PRESSÃO ATMOSFERICA MIN. NA HORA ANT. (AUT) (mB) RADIACAO GLOBAL (Kj/m²)  \\\n",
       "0                                               944,2                     NaN   \n",
       "1                                                 945                     NaN   \n",
       "2                                               945,8                     NaN   \n",
       "3                                               945,8                     NaN   \n",
       "4                                               945,5                     NaN   \n",
       "...                                               ...                     ...   \n",
       "8755                                              891                     NaN   \n",
       "8756                                            890,5                     NaN   \n",
       "8757                                            890,6                     NaN   \n",
       "8758                                            890,8                     NaN   \n",
       "8759                                            890,8                     NaN   \n",
       "\n",
       "     TEMPERATURA DO AR - BULBO SECO, HORARIA (°C)  \\\n",
       "0                                            23,8   \n",
       "1                                            23,6   \n",
       "2                                            23,1   \n",
       "3                                            23,1   \n",
       "4                                            23,2   \n",
       "...                                           ...   \n",
       "8755                                         26,6   \n",
       "8756                                         24,4   \n",
       "8757                                         22,6   \n",
       "8758                                         21,1   \n",
       "8759                                         20,1   \n",
       "\n",
       "     TEMPERATURA DO PONTO DE ORVALHO (°C)  \\\n",
       "0                                      20   \n",
       "1                                    19,4   \n",
       "2                                    19,7   \n",
       "3                                      20   \n",
       "4                                      20   \n",
       "...                                   ...   \n",
       "8755                                  NaN   \n",
       "8756                                  NaN   \n",
       "8757                                  NaN   \n",
       "8758                                  NaN   \n",
       "8759                                  NaN   \n",
       "\n",
       "     TEMPERATURA MÁXIMA NA HORA ANT. (AUT) (°C)  ...  \\\n",
       "0                                          24,6  ...   \n",
       "1                                          24,1  ...   \n",
       "2                                            24  ...   \n",
       "3                                          23,3  ...   \n",
       "4                                          23,4  ...   \n",
       "...                                         ...  ...   \n",
       "8755                                       27,8  ...   \n",
       "8756                                       26,6  ...   \n",
       "8757                                       24,7  ...   \n",
       "8758                                       22,6  ...   \n",
       "8759                                       21,1  ...   \n",
       "\n",
       "     UMIDADE REL. MIN. NA HORA ANT. (AUT) (%)  \\\n",
       "0                                        74.0   \n",
       "1                                        75.0   \n",
       "2                                        75.0   \n",
       "3                                        80.0   \n",
       "4                                        82.0   \n",
       "...                                       ...   \n",
       "8755                                      NaN   \n",
       "8756                                      NaN   \n",
       "8757                                      NaN   \n",
       "8758                                      NaN   \n",
       "8759                                      NaN   \n",
       "\n",
       "     UMIDADE RELATIVA DO AR, HORARIA (%) VENTO, DIREÇÃO HORARIA (gr) (° (gr))  \\\n",
       "0                                   79.0                                 58.0   \n",
       "1                                   78.0                                  2.0   \n",
       "2                                   81.0                                 47.0   \n",
       "3                                   83.0                                 30.0   \n",
       "4                                   82.0                                349.0   \n",
       "...                                  ...                                  ...   \n",
       "8755                                 NaN                                325.0   \n",
       "8756                                 NaN                                 91.0   \n",
       "8757                                 NaN                                105.0   \n",
       "8758                                 NaN                                144.0   \n",
       "8759                                 NaN                                182.0   \n",
       "\n",
       "      VENTO, RAJADA MAXIMA (m/s)  VENTO, VELOCIDADE HORARIA (m/s)  \\\n",
       "0                              0                                0   \n",
       "1                            4,9                              1,4   \n",
       "2                            5,1                              1,1   \n",
       "3                            3,7                              2,9   \n",
       "4                            4,4                              2,5   \n",
       "...                          ...                              ...   \n",
       "8755                         5,7                               ,5   \n",
       "8756                         4,3                                2   \n",
       "8757                         4,2                               ,1   \n",
       "8758                         1,2                                0   \n",
       "8759                           0                                0   \n",
       "\n",
       "      Unnamed: 19                Estação DATA (YYYY-MM-DD) HORA (UTC)  \\\n",
       "0             NaN  CONCEICAO DAS ALAGOAS               NaN        NaN   \n",
       "1             NaN  CONCEICAO DAS ALAGOAS               NaN        NaN   \n",
       "2             NaN  CONCEICAO DAS ALAGOAS               NaN        NaN   \n",
       "3             NaN  CONCEICAO DAS ALAGOAS               NaN        NaN   \n",
       "4             NaN  CONCEICAO DAS ALAGOAS               NaN        NaN   \n",
       "...           ...                    ...               ...        ...   \n",
       "8755          NaN                 CALDAS               NaN        NaN   \n",
       "8756          NaN                 CALDAS               NaN        NaN   \n",
       "8757          NaN                 CALDAS               NaN        NaN   \n",
       "8758          NaN                 CALDAS               NaN        NaN   \n",
       "8759          NaN                 CALDAS               NaN        NaN   \n",
       "\n",
       "      RADIACAO GLOBAL (KJ/m²)  \n",
       "0                         NaN  \n",
       "1                         NaN  \n",
       "2                         NaN  \n",
       "3                         NaN  \n",
       "4                         NaN  \n",
       "...                       ...  \n",
       "8755                   1929,6  \n",
       "8756                    644,2  \n",
       "8757                      295  \n",
       "8758                     77,3  \n",
       "8759                      NaN  \n",
       "\n",
       "[448296 rows x 24 columns]"
      ]
     },
     "metadata": {},
     "output_type": "display_data"
    }
   ],
   "source": [
    "import os\n",
    "import pandas as pd\n",
    "\n",
    "# Diretório dos arquivos\n",
    "diretorio = '/home/andre301267/git/BD/Inmet/extracted_files/'\n",
    "\n",
    "# Lista para armazenar os DataFrames\n",
    "df_parte1 = pd.DataFrame()\n",
    "df_parte2 = pd.DataFrame()\n",
    "\n",
    "# Iterar sobre os arquivos no diretório\n",
    "for arquivo in os.listdir(diretorio):\n",
    "    if arquivo.endswith('.CSV'):  # Certifique-se de que estamos lidando apenas com arquivos de texto\n",
    "        caminho_arquivo = os.path.join(diretorio, arquivo)\n",
    "\n",
    "        # Ler as primeiras 8 linhas\n",
    "        parte1 = pd.read_csv(caminho_arquivo, nrows=7,sep=';',encoding='Latin-1')\n",
    "       # print(parte1)\n",
    "\n",
    "        # Ler a partir da linha 9\n",
    "        parte2 = pd.read_csv(caminho_arquivo, skiprows=8,sep=';',encoding='Latin-1').assign(Estação=parte1.iloc[1,1])\n",
    "\n",
    "        # Adicionar DataFrames às listas\n",
    "        df_parte1=pd.concat([df_parte1,parte1],axis=1)\n",
    "        df_parte2=pd.concat([df_parte2,parte2])\n",
    "\n",
    "# Formata arquivo contendo ID das estações\n",
    "df_parte1=df_parte1.transpose().drop(columns=[5,6]).drop_duplicates(subset=[1]).drop_duplicates(subset=[2])\\\n",
    ".reset_index(drop=True)\n",
    "\n",
    "df_parte1.columns=df_parte1.iloc[0]\n",
    "\n",
    "df_parte1=df_parte1.iloc[1:]\n",
    "\n",
    "\n",
    "# Exibir os DataFrames\n",
    "print(\"DataFrame Parte 1:\")\n",
    "display(df_parte1)\n",
    "\n",
    "print(\"\\nDataFrame Parte 2:\")\n",
    "display(df_parte2)"
   ]
  },
  {
   "cell_type": "markdown",
   "id": "67a13bfb-274b-4e4e-bd77-20e8c1b9991e",
   "metadata": {},
   "source": [
    "Remove o diretório de extração"
   ]
  },
  {
   "cell_type": "raw",
   "id": "d94867e1-e50e-4e7c-8aef-0792a6dddd8d",
   "metadata": {},
   "source": [
    "import os\n",
    "\n",
    "diretorio = '/home/andre301267/git/BD/Inmet/extracted_files/'\n",
    "\n",
    "# Obtenha a versão absoluta do diretório\n",
    "diretorio_absoluto = os.path.expanduser(diretorio)\n",
    "\n",
    "# Liste todos os arquivos no diretório\n",
    "arquivos = os.listdir(diretorio_absoluto)\n",
    "\n",
    "# Itere sobre os arquivos e remova-os\n",
    "for arquivo in arquivos:\n",
    "    caminho_completo = os.path.join(diretorio_absoluto, arquivo)\n",
    "    if os.path.isfile(caminho_completo):\n",
    "        os.remove(caminho_completo)\n",
    "\n",
    "print(f'Todos os arquivos em {diretorio} foram removidos.')\n",
    "\n",
    "# Remover o diretório temporário\n",
    "os.rmdir(diretorio)"
   ]
  },
  {
   "cell_type": "markdown",
   "id": "3e8c8ef1-c625-4e45-8f1a-9a2dbfdb7966",
   "metadata": {},
   "source": [
    "Salva arquivos"
   ]
  },
  {
   "cell_type": "code",
   "execution_count": 32,
   "id": "aa1ad940-ee29-488a-b76a-b2f148b6d836",
   "metadata": {},
   "outputs": [],
   "source": [
    "df_parte1.to_csv('~/git/comex_sh_mun/temp/estações_meteo.csv',index=False)\n",
    "df_parte2.to_csv('~/git/comex_sh_mun/temp/chuvas_m_r_pa.csv',index=False)"
   ]
  },
  {
   "cell_type": "code",
   "execution_count": 33,
   "id": "7803a206-9825-4faf-a218-94cbce3509df",
   "metadata": {},
   "outputs": [
    {
     "data": {
      "text/plain": [
       "array([',2', ',4', ',6', ',8', '-9999', '0', '1', '1,2', '1,4', '1,6',\n",
       "       '1,8', '10', '10,2', '10,4', '10,6', '10,8', '11', '11,2', '11,4',\n",
       "       '11,6', '11,8', '12', '12,2', '12,4', '12,6', '12,8', '13', '13,2',\n",
       "       '13,4', '13,6', '13,8', '14', '14,2', '14,4', '14,6', '14,8', '15',\n",
       "       '15,2', '15,4', '15,6', '15,8', '16', '16,2', '16,4', '16,6',\n",
       "       '16,8', '17', '17,2', '17,4', '17,6', '17,8', '18', '18,2', '18,4',\n",
       "       '18,6', '18,8', '19', '19,2', '19,4', '19,6', '19,8', '2', '2,2',\n",
       "       '2,4', '2,6', '2,8', '20', '20,2', '20,4', '20,6', '20,8', '21',\n",
       "       '21,2', '21,4', '21,6', '21,8', '22', '22,2', '22,4', '22,6',\n",
       "       '22,8', '23', '23,2', '23,4', '23,6', '23,8', '24', '24,2', '24,4',\n",
       "       '24,6', '24,8', '25', '25,2', '25,4', '25,6', '25,8', '26', '26,4',\n",
       "       '26,6', '26,8', '27,2', '27,4', '27,6', '27,8', '28', '28,2',\n",
       "       '28,4', '28,6', '28,8', '29', '29,2', '29,6', '3', '3,2', '3,4',\n",
       "       '3,6', '3,8', '30', '30,2', '30,4', '30,6', '31,4', '31,6', '31,8',\n",
       "       '32', '32,2', '32,4', '32,6', '32,8', '33', '33,2', '33,8', '34',\n",
       "       '34,2', '34,4', '34,6', '34,8', '35,8', '36', '36,4', '36,6',\n",
       "       '37,8', '38', '38,2', '38,4', '38,6', '39,2', '39,4', '39,6', '4',\n",
       "       '4,2', '4,4', '4,6', '4,8', '40', '40,2', '40,6', '42', '43,4',\n",
       "       '43,6', '43,8', '44', '44,4', '45,6', '46', '48', '49', '49,8',\n",
       "       '5', '5,2', '5,4', '5,6', '5,8', '57,2', '58,2', '6', '6,2', '6,4',\n",
       "       '6,6', '6,8', '7', '7,2', '7,4', '7,6', '7,8', '8', '8,2', '8,4',\n",
       "       '8,6', '8,8', '9', '9,2', '9,4', '9,6', '9,8', nan], dtype=object)"
      ]
     },
     "execution_count": 33,
     "metadata": {},
     "output_type": "execute_result"
    }
   ],
   "source": [
    "df_parte2['PRECIPITAÇÃO TOTAL, HORÁRIO (mm)'].sort_values().unique()"
   ]
  },
  {
   "cell_type": "code",
   "execution_count": null,
   "id": "05614bd3-8079-499c-a65e-8552b68c463c",
   "metadata": {},
   "outputs": [],
   "source": []
  }
 ],
 "metadata": {
  "kernelspec": {
   "display_name": "Python 3 (ipykernel)",
   "language": "python",
   "name": "python3"
  },
  "language_info": {
   "codemirror_mode": {
    "name": "ipython",
    "version": 3
   },
   "file_extension": ".py",
   "mimetype": "text/x-python",
   "name": "python",
   "nbconvert_exporter": "python",
   "pygments_lexer": "ipython3",
   "version": "3.11.5"
  }
 },
 "nbformat": 4,
 "nbformat_minor": 5
}
