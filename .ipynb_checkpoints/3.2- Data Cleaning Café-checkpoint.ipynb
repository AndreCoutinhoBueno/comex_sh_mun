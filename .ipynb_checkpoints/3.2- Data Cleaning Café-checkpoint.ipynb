{
 "cells": [
  {
   "cell_type": "markdown",
   "id": "520353b2-2db2-42d7-a801-e5e8c463d6e1",
   "metadata": {},
   "source": [
    "# 1- Exportação de Café por Município da Região de Pouso Alegre"
   ]
  },
  {
   "cell_type": "code",
   "execution_count": 1,
   "id": "53ab2fc5-dcde-4b81-82e3-b22485b17679",
   "metadata": {},
   "outputs": [],
   "source": [
    "%run '~/git/Bibliotecas.ipynb'"
   ]
  },
  {
   "cell_type": "code",
   "execution_count": 2,
   "id": "10b57946-49f0-4ca1-af83-723a54e143c5",
   "metadata": {},
   "outputs": [
    {
     "data": {
      "text/html": [
       "<div>\n",
       "<style scoped>\n",
       "    .dataframe tbody tr th:only-of-type {\n",
       "        vertical-align: middle;\n",
       "    }\n",
       "\n",
       "    .dataframe tbody tr th {\n",
       "        vertical-align: top;\n",
       "    }\n",
       "\n",
       "    .dataframe thead th {\n",
       "        text-align: right;\n",
       "    }\n",
       "</style>\n",
       "<table border=\"1\" class=\"dataframe\">\n",
       "  <thead>\n",
       "    <tr style=\"text-align: right;\">\n",
       "      <th></th>\n",
       "      <th>CO_ANO</th>\n",
       "      <th>CO_MES</th>\n",
       "      <th>SH4</th>\n",
       "      <th>CO_PAIS</th>\n",
       "      <th>SG_UF_MUN</th>\n",
       "      <th>CO_MUN</th>\n",
       "      <th>KG_LIQUIDO</th>\n",
       "      <th>VL_FOB</th>\n",
       "      <th>NO_MUN</th>\n",
       "      <th>NO_MUN_MIN</th>\n",
       "      <th>SG_UF</th>\n",
       "      <th>NO_SH4_POR</th>\n",
       "      <th>CO_SH2</th>\n",
       "      <th>NO_SH2_POR</th>\n",
       "    </tr>\n",
       "  </thead>\n",
       "  <tbody>\n",
       "    <tr>\n",
       "      <th>0</th>\n",
       "      <td>1997</td>\n",
       "      <td>3</td>\n",
       "      <td>901</td>\n",
       "      <td>764</td>\n",
       "      <td>MG</td>\n",
       "      <td>3102605</td>\n",
       "      <td>150000</td>\n",
       "      <td>514554</td>\n",
       "      <td>ANDRADAS</td>\n",
       "      <td>Andradas</td>\n",
       "      <td>MG</td>\n",
       "      <td>Café, mesmo torrado ou descafeinado; cascas e ...</td>\n",
       "      <td>9</td>\n",
       "      <td>Café, chá, mate e especiarias</td>\n",
       "    </tr>\n",
       "  </tbody>\n",
       "</table>\n",
       "</div>"
      ],
      "text/plain": [
       "   CO_ANO  CO_MES  SH4  CO_PAIS SG_UF_MUN   CO_MUN  KG_LIQUIDO  VL_FOB  \\\n",
       "0    1997       3  901      764        MG  3102605      150000  514554   \n",
       "\n",
       "     NO_MUN NO_MUN_MIN SG_UF  \\\n",
       "0  ANDRADAS   Andradas    MG   \n",
       "\n",
       "                                          NO_SH4_POR  CO_SH2  \\\n",
       "0  Café, mesmo torrado ou descafeinado; cascas e ...       9   \n",
       "\n",
       "                      NO_SH2_POR  \n",
       "0  Café, chá, mate e especiarias  "
      ]
     },
     "execution_count": 2,
     "metadata": {},
     "output_type": "execute_result"
    }
   ],
   "source": [
    "e_c_m_r_pa=pd.read_csv('~/git/comex_sh_mun/temp/e_c_m_r_pa.csv')\n",
    "e_c_m_r_pa.head(1)"
   ]
  },
  {
   "cell_type": "code",
   "execution_count": 3,
   "id": "6c26d9a1-23eb-4590-9ba4-397215365994",
   "metadata": {},
   "outputs": [
    {
     "data": {
      "text/plain": [
       "SH4\n",
       "908            36\n",
       "906           165\n",
       "909           267\n",
       "904           420\n",
       "902           455\n",
       "903         29636\n",
       "910         56647\n",
       "901    1979841389\n",
       "Name: KG_LIQUIDO, dtype: int64"
      ]
     },
     "execution_count": 3,
     "metadata": {},
     "output_type": "execute_result"
    }
   ],
   "source": [
    "e_c_m_r_pa.groupby('SH4').KG_LIQUIDO.sum().sort_values()"
   ]
  },
  {
   "cell_type": "code",
   "execution_count": 4,
   "id": "96c5243e-d18a-4e44-9941-14167fb689a5",
   "metadata": {},
   "outputs": [
    {
     "data": {
      "text/plain": [
       "SH4\n",
       "904        3\n",
       "906        3\n",
       "908        3\n",
       "910        6\n",
       "909       19\n",
       "902       20\n",
       "903       21\n",
       "901    13365\n",
       "Name: KG_LIQUIDO, dtype: int64"
      ]
     },
     "execution_count": 4,
     "metadata": {},
     "output_type": "execute_result"
    }
   ],
   "source": [
    "e_c_m_r_pa.groupby('SH4').KG_LIQUIDO.count().sort_values()"
   ]
  },
  {
   "cell_type": "code",
   "execution_count": 5,
   "id": "e9b32219-7ae3-4af3-bece-d5308d155e50",
   "metadata": {},
   "outputs": [
    {
     "data": {
      "text/plain": [
       "901"
      ]
     },
     "execution_count": 5,
     "metadata": {},
     "output_type": "execute_result"
    }
   ],
   "source": [
    "sh4_café=e_c_m_r_pa.groupby('SH4').KG_LIQUIDO.count().sort_values().reset_index()['SH4'].tail(1).values[0]\n",
    "sh4_café"
   ]
  },
  {
   "cell_type": "code",
   "execution_count": 6,
   "id": "607f53ca-2b16-48c7-a242-ba533316c3eb",
   "metadata": {
    "scrolled": true
   },
   "outputs": [
    {
     "data": {
      "text/html": [
       "<div>\n",
       "<style scoped>\n",
       "    .dataframe tbody tr th:only-of-type {\n",
       "        vertical-align: middle;\n",
       "    }\n",
       "\n",
       "    .dataframe tbody tr th {\n",
       "        vertical-align: top;\n",
       "    }\n",
       "\n",
       "    .dataframe thead th {\n",
       "        text-align: right;\n",
       "    }\n",
       "</style>\n",
       "<table border=\"1\" class=\"dataframe\">\n",
       "  <thead>\n",
       "    <tr style=\"text-align: right;\">\n",
       "      <th></th>\n",
       "      <th>CO_ANO</th>\n",
       "      <th>CO_MES</th>\n",
       "      <th>SH4</th>\n",
       "      <th>CO_PAIS</th>\n",
       "      <th>SG_UF_MUN</th>\n",
       "      <th>CO_MUN</th>\n",
       "      <th>KG_LIQUIDO</th>\n",
       "      <th>VL_FOB</th>\n",
       "      <th>NO_MUN</th>\n",
       "      <th>NO_MUN_MIN</th>\n",
       "      <th>SG_UF</th>\n",
       "      <th>NO_SH4_POR</th>\n",
       "      <th>CO_SH2</th>\n",
       "      <th>NO_SH2_POR</th>\n",
       "    </tr>\n",
       "  </thead>\n",
       "  <tbody>\n",
       "    <tr>\n",
       "      <th>0</th>\n",
       "      <td>1997</td>\n",
       "      <td>3</td>\n",
       "      <td>901</td>\n",
       "      <td>764</td>\n",
       "      <td>MG</td>\n",
       "      <td>3102605</td>\n",
       "      <td>150000</td>\n",
       "      <td>514554</td>\n",
       "      <td>ANDRADAS</td>\n",
       "      <td>Andradas</td>\n",
       "      <td>MG</td>\n",
       "      <td>Café, mesmo torrado ou descafeinado; cascas e ...</td>\n",
       "      <td>9</td>\n",
       "      <td>Café, chá, mate e especiarias</td>\n",
       "    </tr>\n",
       "  </tbody>\n",
       "</table>\n",
       "</div>"
      ],
      "text/plain": [
       "   CO_ANO  CO_MES  SH4  CO_PAIS SG_UF_MUN   CO_MUN  KG_LIQUIDO  VL_FOB  \\\n",
       "0    1997       3  901      764        MG  3102605      150000  514554   \n",
       "\n",
       "     NO_MUN NO_MUN_MIN SG_UF  \\\n",
       "0  ANDRADAS   Andradas    MG   \n",
       "\n",
       "                                          NO_SH4_POR  CO_SH2  \\\n",
       "0  Café, mesmo torrado ou descafeinado; cascas e ...       9   \n",
       "\n",
       "                      NO_SH2_POR  \n",
       "0  Café, chá, mate e especiarias  "
      ]
     },
     "execution_count": 6,
     "metadata": {},
     "output_type": "execute_result"
    }
   ],
   "source": [
    "e_c_m_r_pa=e_c_m_r_pa[e_c_m_r_pa.SH4==sh4_café]\n",
    "e_c_m_r_pa.head(1)"
   ]
  },
  {
   "cell_type": "code",
   "execution_count": 7,
   "id": "276d8385-16f2-4b79-a9f7-8331bc64d29b",
   "metadata": {},
   "outputs": [],
   "source": [
    "e_c_m_r_pa=e_c_m_r_pa[e_c_m_r_pa.columns[[0,1,2,3,8,6,7,]].tolist()]"
   ]
  },
  {
   "cell_type": "code",
   "execution_count": 8,
   "id": "3913c3a4-334b-49c3-aed3-96539dedcf03",
   "metadata": {},
   "outputs": [],
   "source": [
    "# Cria manualmente a tabela de correção do dólar\n",
    "infl_dolar=pd.DataFrame({\n",
    " 'CO_ANO':np.arange(1997,2025),\n",
    " 'FATOR':[0.50,0.50,0.51,0.53,0.55,0.56,0.57,0.59,0.61,\\\n",
    " 0.63,0.64,0.67,0.67,0.68,0.70,0.72,0.73,0.74,\\\n",
    " 0.74,0.75,0.77,0.78,0.80,0.81,0.85,0.92,0.96,1.00]})\n",
    "\n",
    "e_c_m_r_pa=e_c_m_r_pa.merge(infl_dolar)\n",
    "\n",
    "e_c_m_r_pa['KG_LIQUIDO_real']=e_c_m_r_pa['KG_LIQUIDO']\n",
    "\n",
    "e_c_m_r_pa['KG_LIQUIDO']=e_c_m_r_pa['KG_LIQUIDO']/e_c_m_r_pa['FATOR']"
   ]
  },
  {
   "cell_type": "code",
   "execution_count": 9,
   "id": "79af2327-9b8f-4518-8637-efb03b6512c1",
   "metadata": {},
   "outputs": [
    {
     "data": {
      "text/html": [
       "<div>\n",
       "<style scoped>\n",
       "    .dataframe tbody tr th:only-of-type {\n",
       "        vertical-align: middle;\n",
       "    }\n",
       "\n",
       "    .dataframe tbody tr th {\n",
       "        vertical-align: top;\n",
       "    }\n",
       "\n",
       "    .dataframe thead th {\n",
       "        text-align: right;\n",
       "    }\n",
       "</style>\n",
       "<table border=\"1\" class=\"dataframe\">\n",
       "  <thead>\n",
       "    <tr style=\"text-align: right;\">\n",
       "      <th></th>\n",
       "      <th>CO_ANO</th>\n",
       "      <th>CO_MES</th>\n",
       "      <th>SH4</th>\n",
       "      <th>CO_PAIS</th>\n",
       "      <th>NO_MUN</th>\n",
       "      <th>KG_LIQUIDO</th>\n",
       "      <th>VL_FOB</th>\n",
       "      <th>FATOR</th>\n",
       "      <th>KG_LIQUIDO_real</th>\n",
       "    </tr>\n",
       "  </thead>\n",
       "  <tbody>\n",
       "  </tbody>\n",
       "</table>\n",
       "</div>"
      ],
      "text/plain": [
       "Empty DataFrame\n",
       "Columns: [CO_ANO, CO_MES, SH4, CO_PAIS, NO_MUN, KG_LIQUIDO, VL_FOB, FATOR, KG_LIQUIDO_real]\n",
       "Index: []"
      ]
     },
     "execution_count": 9,
     "metadata": {},
     "output_type": "execute_result"
    }
   ],
   "source": [
    "e_c_m_r_pa[e_c_m_r_pa.duplicated()]"
   ]
  },
  {
   "cell_type": "code",
   "execution_count": 10,
   "id": "f13da153-6d4e-458c-a40c-20ffcec8beda",
   "metadata": {},
   "outputs": [
    {
     "data": {
      "text/plain": [
       "0"
      ]
     },
     "execution_count": 10,
     "metadata": {},
     "output_type": "execute_result"
    }
   ],
   "source": [
    "len(e_c_m_r_pa[e_c_m_r_pa.duplicated(subset=['CO_ANO','CO_MES','CO_PAIS','SH4','NO_MUN'])])"
   ]
  },
  {
   "cell_type": "code",
   "execution_count": 11,
   "id": "96f296f6-8b9a-4012-833f-b38542cd66fd",
   "metadata": {},
   "outputs": [
    {
     "data": {
      "text/html": [
       "<div>\n",
       "<style scoped>\n",
       "    .dataframe tbody tr th:only-of-type {\n",
       "        vertical-align: middle;\n",
       "    }\n",
       "\n",
       "    .dataframe tbody tr th {\n",
       "        vertical-align: top;\n",
       "    }\n",
       "\n",
       "    .dataframe thead th {\n",
       "        text-align: right;\n",
       "    }\n",
       "</style>\n",
       "<table border=\"1\" class=\"dataframe\">\n",
       "  <thead>\n",
       "    <tr style=\"text-align: right;\">\n",
       "      <th></th>\n",
       "      <th>CO_ANO</th>\n",
       "      <th>CO_MES</th>\n",
       "      <th>SH4</th>\n",
       "      <th>CO_PAIS</th>\n",
       "      <th>NO_MUN</th>\n",
       "      <th>KG_LIQUIDO</th>\n",
       "      <th>VL_FOB</th>\n",
       "      <th>FATOR</th>\n",
       "      <th>KG_LIQUIDO_real</th>\n",
       "    </tr>\n",
       "  </thead>\n",
       "  <tbody>\n",
       "  </tbody>\n",
       "</table>\n",
       "</div>"
      ],
      "text/plain": [
       "Empty DataFrame\n",
       "Columns: [CO_ANO, CO_MES, SH4, CO_PAIS, NO_MUN, KG_LIQUIDO, VL_FOB, FATOR, KG_LIQUIDO_real]\n",
       "Index: []"
      ]
     },
     "execution_count": 11,
     "metadata": {},
     "output_type": "execute_result"
    }
   ],
   "source": [
    "e_c_m_r_pa[e_c_m_r_pa.duplicated(subset=['NO_MUN','CO_ANO','CO_MES','SH4','CO_PAIS'])]"
   ]
  },
  {
   "cell_type": "code",
   "execution_count": 12,
   "id": "8965fda2-63ea-4263-a8a2-974d2f945f72",
   "metadata": {},
   "outputs": [
    {
     "data": {
      "text/html": [
       "<div>\n",
       "<style scoped>\n",
       "    .dataframe tbody tr th:only-of-type {\n",
       "        vertical-align: middle;\n",
       "    }\n",
       "\n",
       "    .dataframe tbody tr th {\n",
       "        vertical-align: top;\n",
       "    }\n",
       "\n",
       "    .dataframe thead th {\n",
       "        text-align: right;\n",
       "    }\n",
       "</style>\n",
       "<table border=\"1\" class=\"dataframe\">\n",
       "  <thead>\n",
       "    <tr style=\"text-align: right;\">\n",
       "      <th></th>\n",
       "      <th>CO_ANO</th>\n",
       "      <th>CO_MES</th>\n",
       "      <th>SH4</th>\n",
       "      <th>CO_PAIS</th>\n",
       "      <th>NO_MUN</th>\n",
       "      <th>KG_LIQUIDO</th>\n",
       "      <th>VL_FOB</th>\n",
       "      <th>FATOR</th>\n",
       "      <th>KG_LIQUIDO_real</th>\n",
       "    </tr>\n",
       "  </thead>\n",
       "  <tbody>\n",
       "    <tr>\n",
       "      <th>5207</th>\n",
       "      <td>2011</td>\n",
       "      <td>9</td>\n",
       "      <td>901</td>\n",
       "      <td>23</td>\n",
       "      <td>ANDRADAS</td>\n",
       "      <td>0.0</td>\n",
       "      <td>6</td>\n",
       "      <td>0.70</td>\n",
       "      <td>0</td>\n",
       "    </tr>\n",
       "    <tr>\n",
       "      <th>9871</th>\n",
       "      <td>2019</td>\n",
       "      <td>8</td>\n",
       "      <td>901</td>\n",
       "      <td>427</td>\n",
       "      <td>POCOS DE CALDAS</td>\n",
       "      <td>0.0</td>\n",
       "      <td>1</td>\n",
       "      <td>0.80</td>\n",
       "      <td>0</td>\n",
       "    </tr>\n",
       "    <tr>\n",
       "      <th>10420</th>\n",
       "      <td>2019</td>\n",
       "      <td>8</td>\n",
       "      <td>901</td>\n",
       "      <td>160</td>\n",
       "      <td>OURO FINO</td>\n",
       "      <td>0.0</td>\n",
       "      <td>3568</td>\n",
       "      <td>0.80</td>\n",
       "      <td>0</td>\n",
       "    </tr>\n",
       "    <tr>\n",
       "      <th>10593</th>\n",
       "      <td>2020</td>\n",
       "      <td>9</td>\n",
       "      <td>901</td>\n",
       "      <td>69</td>\n",
       "      <td>BOTELHOS</td>\n",
       "      <td>0.0</td>\n",
       "      <td>10</td>\n",
       "      <td>0.81</td>\n",
       "      <td>0</td>\n",
       "    </tr>\n",
       "    <tr>\n",
       "      <th>10834</th>\n",
       "      <td>2020</td>\n",
       "      <td>8</td>\n",
       "      <td>901</td>\n",
       "      <td>455</td>\n",
       "      <td>BOTELHOS</td>\n",
       "      <td>0.0</td>\n",
       "      <td>5</td>\n",
       "      <td>0.81</td>\n",
       "      <td>0</td>\n",
       "    </tr>\n",
       "    <tr>\n",
       "      <th>10930</th>\n",
       "      <td>2020</td>\n",
       "      <td>8</td>\n",
       "      <td>901</td>\n",
       "      <td>628</td>\n",
       "      <td>BOTELHOS</td>\n",
       "      <td>0.0</td>\n",
       "      <td>10</td>\n",
       "      <td>0.81</td>\n",
       "      <td>0</td>\n",
       "    </tr>\n",
       "    <tr>\n",
       "      <th>10991</th>\n",
       "      <td>2020</td>\n",
       "      <td>8</td>\n",
       "      <td>901</td>\n",
       "      <td>375</td>\n",
       "      <td>BOTELHOS</td>\n",
       "      <td>0.0</td>\n",
       "      <td>3</td>\n",
       "      <td>0.81</td>\n",
       "      <td>0</td>\n",
       "    </tr>\n",
       "    <tr>\n",
       "      <th>11179</th>\n",
       "      <td>2020</td>\n",
       "      <td>8</td>\n",
       "      <td>901</td>\n",
       "      <td>607</td>\n",
       "      <td>BOTELHOS</td>\n",
       "      <td>0.0</td>\n",
       "      <td>10</td>\n",
       "      <td>0.81</td>\n",
       "      <td>0</td>\n",
       "    </tr>\n",
       "    <tr>\n",
       "      <th>11421</th>\n",
       "      <td>2021</td>\n",
       "      <td>5</td>\n",
       "      <td>901</td>\n",
       "      <td>275</td>\n",
       "      <td>BOTELHOS</td>\n",
       "      <td>0.0</td>\n",
       "      <td>10</td>\n",
       "      <td>0.85</td>\n",
       "      <td>0</td>\n",
       "    </tr>\n",
       "    <tr>\n",
       "      <th>11860</th>\n",
       "      <td>2021</td>\n",
       "      <td>5</td>\n",
       "      <td>901</td>\n",
       "      <td>240</td>\n",
       "      <td>ANDRADAS</td>\n",
       "      <td>0.0</td>\n",
       "      <td>9</td>\n",
       "      <td>0.85</td>\n",
       "      <td>0</td>\n",
       "    </tr>\n",
       "  </tbody>\n",
       "</table>\n",
       "</div>"
      ],
      "text/plain": [
       "       CO_ANO  CO_MES  SH4  CO_PAIS           NO_MUN  KG_LIQUIDO  VL_FOB  \\\n",
       "5207     2011       9  901       23         ANDRADAS         0.0       6   \n",
       "9871     2019       8  901      427  POCOS DE CALDAS         0.0       1   \n",
       "10420    2019       8  901      160        OURO FINO         0.0    3568   \n",
       "10593    2020       9  901       69         BOTELHOS         0.0      10   \n",
       "10834    2020       8  901      455         BOTELHOS         0.0       5   \n",
       "10930    2020       8  901      628         BOTELHOS         0.0      10   \n",
       "10991    2020       8  901      375         BOTELHOS         0.0       3   \n",
       "11179    2020       8  901      607         BOTELHOS         0.0      10   \n",
       "11421    2021       5  901      275         BOTELHOS         0.0      10   \n",
       "11860    2021       5  901      240         ANDRADAS         0.0       9   \n",
       "\n",
       "       FATOR  KG_LIQUIDO_real  \n",
       "5207    0.70                0  \n",
       "9871    0.80                0  \n",
       "10420   0.80                0  \n",
       "10593   0.81                0  \n",
       "10834   0.81                0  \n",
       "10930   0.81                0  \n",
       "10991   0.81                0  \n",
       "11179   0.81                0  \n",
       "11421   0.85                0  \n",
       "11860   0.85                0  "
      ]
     },
     "execution_count": 12,
     "metadata": {},
     "output_type": "execute_result"
    }
   ],
   "source": [
    "e_c_m_r_pa[e_c_m_r_pa.KG_LIQUIDO<=0]"
   ]
  },
  {
   "cell_type": "markdown",
   "id": "59ed25bb-649f-4f68-8977-db924d958faa",
   "metadata": {},
   "source": [
    "Como os registros com 0 KG apresentam também os valores em US$ desprezíveis, eles seráo descartados."
   ]
  },
  {
   "cell_type": "code",
   "execution_count": 13,
   "id": "64ccb4c6-889c-4a9c-9053-d111a2b718ef",
   "metadata": {},
   "outputs": [],
   "source": [
    "e_c_m_r_pa=e_c_m_r_pa[e_c_m_r_pa.KG_LIQUIDO>0]"
   ]
  },
  {
   "cell_type": "code",
   "execution_count": 14,
   "id": "352910e9-dd4c-43d6-9738-caaade54505f",
   "metadata": {},
   "outputs": [
    {
     "data": {
      "text/html": [
       "<div>\n",
       "<style scoped>\n",
       "    .dataframe tbody tr th:only-of-type {\n",
       "        vertical-align: middle;\n",
       "    }\n",
       "\n",
       "    .dataframe tbody tr th {\n",
       "        vertical-align: top;\n",
       "    }\n",
       "\n",
       "    .dataframe thead th {\n",
       "        text-align: right;\n",
       "    }\n",
       "</style>\n",
       "<table border=\"1\" class=\"dataframe\">\n",
       "  <thead>\n",
       "    <tr style=\"text-align: right;\">\n",
       "      <th></th>\n",
       "      <th>CO_ANO</th>\n",
       "      <th>CO_MES</th>\n",
       "      <th>SH4</th>\n",
       "      <th>CO_PAIS</th>\n",
       "      <th>NO_MUN</th>\n",
       "      <th>KG_LIQUIDO</th>\n",
       "      <th>VL_FOB</th>\n",
       "      <th>FATOR</th>\n",
       "      <th>KG_LIQUIDO_real</th>\n",
       "    </tr>\n",
       "  </thead>\n",
       "  <tbody>\n",
       "    <tr>\n",
       "      <th>10144</th>\n",
       "      <td>2019</td>\n",
       "      <td>9</td>\n",
       "      <td>901</td>\n",
       "      <td>427</td>\n",
       "      <td>POCOS DE CALDAS</td>\n",
       "      <td>1.25</td>\n",
       "      <td>0</td>\n",
       "      <td>0.8</td>\n",
       "      <td>1</td>\n",
       "    </tr>\n",
       "  </tbody>\n",
       "</table>\n",
       "</div>"
      ],
      "text/plain": [
       "       CO_ANO  CO_MES  SH4  CO_PAIS           NO_MUN  KG_LIQUIDO  VL_FOB  \\\n",
       "10144    2019       9  901      427  POCOS DE CALDAS        1.25       0   \n",
       "\n",
       "       FATOR  KG_LIQUIDO_real  \n",
       "10144    0.8                1  "
      ]
     },
     "execution_count": 14,
     "metadata": {},
     "output_type": "execute_result"
    }
   ],
   "source": [
    "e_c_m_r_pa[e_c_m_r_pa.VL_FOB<=0]"
   ]
  },
  {
   "cell_type": "code",
   "execution_count": 15,
   "id": "758ae7c3-da06-4616-a943-a4540bb44048",
   "metadata": {},
   "outputs": [
    {
     "data": {
      "image/png": "[encoded data removed]",
      "text/plain": [
       "<Figure size 500x500 with 1 Axes>"
      ]
     },
     "metadata": {},
     "output_type": "display_data"
    }
   ],
   "source": [
    "sns.displot(data=e_c_m_r_pa,x='KG_LIQUIDO',log_scale=True, bins=15)\\\n",
    ".fig.suptitle('Importação de Fertilizantes por Município\\n da Região de Pouso Alegre',y=1.1)\n",
    "plt.show()"
   ]
  },
  {
   "cell_type": "markdown",
   "id": "52ef2126-699c-461c-a42c-e4c954b0f387",
   "metadata": {},
   "source": [
    "A distribuição dos valores de peso serão considerados normais."
   ]
  },
  {
   "cell_type": "code",
   "execution_count": 16,
   "id": "ed92239e-bc69-4fc9-9df3-9ff05f9125a5",
   "metadata": {},
   "outputs": [],
   "source": [
    "e_c_m_r_pa=e_c_m_r_pa.assign(descarte_peso='não')"
   ]
  },
  {
   "cell_type": "code",
   "execution_count": 17,
   "id": "7c57f587-0c5a-4efc-bdc5-07f3ae7e1d47",
   "metadata": {},
   "outputs": [
    {
     "data": {
      "text/html": [
       "<div>\n",
       "<style scoped>\n",
       "    .dataframe tbody tr th:only-of-type {\n",
       "        vertical-align: middle;\n",
       "    }\n",
       "\n",
       "    .dataframe tbody tr th {\n",
       "        vertical-align: top;\n",
       "    }\n",
       "\n",
       "    .dataframe thead th {\n",
       "        text-align: right;\n",
       "    }\n",
       "</style>\n",
       "<table border=\"1\" class=\"dataframe\">\n",
       "  <thead>\n",
       "    <tr style=\"text-align: right;\">\n",
       "      <th></th>\n",
       "      <th>CO_ANO</th>\n",
       "      <th>CO_MES</th>\n",
       "      <th>SH4</th>\n",
       "      <th>CO_PAIS</th>\n",
       "      <th>NO_MUN</th>\n",
       "      <th>KG_LIQUIDO</th>\n",
       "      <th>VL_FOB</th>\n",
       "      <th>FATOR</th>\n",
       "      <th>KG_LIQUIDO_real</th>\n",
       "      <th>descarte_peso</th>\n",
       "    </tr>\n",
       "  </thead>\n",
       "  <tbody>\n",
       "  </tbody>\n",
       "</table>\n",
       "</div>"
      ],
      "text/plain": [
       "Empty DataFrame\n",
       "Columns: [CO_ANO, CO_MES, SH4, CO_PAIS, NO_MUN, KG_LIQUIDO, VL_FOB, FATOR, KG_LIQUIDO_real, descarte_peso]\n",
       "Index: []"
      ]
     },
     "execution_count": 17,
     "metadata": {},
     "output_type": "execute_result"
    }
   ],
   "source": [
    "e_c_m_r_pa[e_c_m_r_pa.KG_LIQUIDO<=0]"
   ]
  },
  {
   "cell_type": "code",
   "execution_count": 18,
   "id": "bfc8bfe8-d09b-4ece-8587-e8314ef09726",
   "metadata": {},
   "outputs": [
    {
     "data": {
      "text/html": [
       "<div>\n",
       "<style scoped>\n",
       "    .dataframe tbody tr th:only-of-type {\n",
       "        vertical-align: middle;\n",
       "    }\n",
       "\n",
       "    .dataframe tbody tr th {\n",
       "        vertical-align: top;\n",
       "    }\n",
       "\n",
       "    .dataframe thead th {\n",
       "        text-align: right;\n",
       "    }\n",
       "</style>\n",
       "<table border=\"1\" class=\"dataframe\">\n",
       "  <thead>\n",
       "    <tr style=\"text-align: right;\">\n",
       "      <th></th>\n",
       "      <th>CO_ANO</th>\n",
       "      <th>CO_MES</th>\n",
       "      <th>SH4</th>\n",
       "      <th>CO_PAIS</th>\n",
       "      <th>NO_MUN</th>\n",
       "      <th>KG_LIQUIDO</th>\n",
       "      <th>VL_FOB</th>\n",
       "      <th>FATOR</th>\n",
       "      <th>KG_LIQUIDO_real</th>\n",
       "      <th>descarte_peso</th>\n",
       "    </tr>\n",
       "  </thead>\n",
       "  <tbody>\n",
       "    <tr>\n",
       "      <th>10144</th>\n",
       "      <td>2019</td>\n",
       "      <td>9</td>\n",
       "      <td>901</td>\n",
       "      <td>427</td>\n",
       "      <td>POCOS DE CALDAS</td>\n",
       "      <td>1.25</td>\n",
       "      <td>0</td>\n",
       "      <td>0.8</td>\n",
       "      <td>1</td>\n",
       "      <td>não</td>\n",
       "    </tr>\n",
       "  </tbody>\n",
       "</table>\n",
       "</div>"
      ],
      "text/plain": [
       "       CO_ANO  CO_MES  SH4  CO_PAIS           NO_MUN  KG_LIQUIDO  VL_FOB  \\\n",
       "10144    2019       9  901      427  POCOS DE CALDAS        1.25       0   \n",
       "\n",
       "       FATOR  KG_LIQUIDO_real descarte_peso  \n",
       "10144    0.8                1           não  "
      ]
     },
     "execution_count": 18,
     "metadata": {},
     "output_type": "execute_result"
    }
   ],
   "source": [
    "e_c_m_r_pa[e_c_m_r_pa.VL_FOB<=0]"
   ]
  },
  {
   "cell_type": "code",
   "execution_count": 19,
   "id": "b967f77a-eaf1-494f-8b18-5f8a32f773b4",
   "metadata": {},
   "outputs": [],
   "source": [
    "e_c_m_r_pa=e_c_m_r_pa[e_c_m_r_pa.VL_FOB>0]"
   ]
  },
  {
   "cell_type": "code",
   "execution_count": 20,
   "id": "de3d5955-0d0a-487a-9a34-0111bb569095",
   "metadata": {},
   "outputs": [],
   "source": [
    "e_c_m_r_pa.loc[e_c_m_r_pa.KG_LIQUIDO<0,'descarte_peso']='sim'"
   ]
  },
  {
   "cell_type": "code",
   "execution_count": 21,
   "id": "4b89f4bd-a669-45aa-a31f-6a972439b734",
   "metadata": {},
   "outputs": [
    {
     "data": {
      "image/png": "[encoded data removed]",
      "text/plain": [
       "<Figure size 500x500 with 1 Axes>"
      ]
     },
     "metadata": {},
     "output_type": "display_data"
    }
   ],
   "source": [
    "sns.displot(data=e_c_m_r_pa,x='VL_FOB',log_scale=True, bins=15)\\\n",
    ".fig.suptitle('Importação de Fertilizantes por Município\\n da Região de Pouso Alegre',y=1.1)\n",
    "plt.show()"
   ]
  },
  {
   "cell_type": "markdown",
   "id": "6201cfec-76f6-4e40-8862-9087c3ecb5b6",
   "metadata": {},
   "source": [
    "A distribuição dos valores FOB são considerados normais."
   ]
  },
  {
   "cell_type": "code",
   "execution_count": 22,
   "id": "3ae6126b-1a90-4ef1-8166-f0c14aa9a10d",
   "metadata": {},
   "outputs": [],
   "source": [
    "e_c_m_r_pa=e_c_m_r_pa.assign(descarte_vl='não')"
   ]
  },
  {
   "cell_type": "code",
   "execution_count": 23,
   "id": "4bf979e6-0810-42fc-a16b-157b0d30954d",
   "metadata": {},
   "outputs": [],
   "source": [
    "e_c_m_r_pa.loc[e_c_m_r_pa.KG_LIQUIDO<0,'descarte_vl']='sim'"
   ]
  },
  {
   "cell_type": "code",
   "execution_count": 24,
   "id": "13358689-0185-4173-a21f-85c5ffc92a0f",
   "metadata": {},
   "outputs": [
    {
     "data": {
      "text/html": [
       "<div>\n",
       "<style scoped>\n",
       "    .dataframe tbody tr th:only-of-type {\n",
       "        vertical-align: middle;\n",
       "    }\n",
       "\n",
       "    .dataframe tbody tr th {\n",
       "        vertical-align: top;\n",
       "    }\n",
       "\n",
       "    .dataframe thead th {\n",
       "        text-align: right;\n",
       "    }\n",
       "</style>\n",
       "<table border=\"1\" class=\"dataframe\">\n",
       "  <thead>\n",
       "    <tr style=\"text-align: right;\">\n",
       "      <th></th>\n",
       "      <th>CO_ANO</th>\n",
       "      <th>CO_MES</th>\n",
       "      <th>SH4</th>\n",
       "      <th>CO_PAIS</th>\n",
       "      <th>NO_MUN</th>\n",
       "      <th>KG_LIQUIDO</th>\n",
       "      <th>VL_FOB</th>\n",
       "      <th>FATOR</th>\n",
       "      <th>KG_LIQUIDO_real</th>\n",
       "      <th>descarte_peso</th>\n",
       "      <th>descarte_vl</th>\n",
       "    </tr>\n",
       "  </thead>\n",
       "  <tbody>\n",
       "  </tbody>\n",
       "</table>\n",
       "</div>"
      ],
      "text/plain": [
       "Empty DataFrame\n",
       "Columns: [CO_ANO, CO_MES, SH4, CO_PAIS, NO_MUN, KG_LIQUIDO, VL_FOB, FATOR, KG_LIQUIDO_real, descarte_peso, descarte_vl]\n",
       "Index: []"
      ]
     },
     "execution_count": 24,
     "metadata": {},
     "output_type": "execute_result"
    }
   ],
   "source": [
    "e_c_m_r_pa[e_c_m_r_pa.descarte_vl=='sim'].head(1)"
   ]
  },
  {
   "cell_type": "code",
   "execution_count": null,
   "id": "1bf2a162-2732-4948-8dbf-d793c08cb8fb",
   "metadata": {},
   "outputs": [],
   "source": []
  },
  {
   "cell_type": "code",
   "execution_count": null,
   "id": "b64c4ce4-cca5-4acb-8882-8dd783b9fa75",
   "metadata": {},
   "outputs": [],
   "source": []
  },
  {
   "cell_type": "code",
   "execution_count": null,
   "id": "c6e12cc4-d33f-46f2-8558-8fe1f52a239a",
   "metadata": {},
   "outputs": [],
   "source": []
  },
  {
   "cell_type": "code",
   "execution_count": 25,
   "id": "e6b8601e-761f-4c71-88b3-49cb3b597a4b",
   "metadata": {},
   "outputs": [],
   "source": [
    "e_c_m_r_pa['US$/KG']=e_c_m_r_pa.VL_FOB/e_c_m_r_pa.KG_LIQUIDO"
   ]
  },
  {
   "cell_type": "code",
   "execution_count": 26,
   "id": "2adcfee9-f15c-49c0-9e7e-b73132af1f36",
   "metadata": {},
   "outputs": [
    {
     "data": {
      "image/png": "[encoded data removed]",
      "text/plain": [
       "<Figure size 500x500 with 1 Axes>"
      ]
     },
     "metadata": {},
     "output_type": "display_data"
    }
   ],
   "source": [
    "sns.displot(data=e_c_m_r_pa,x='US$/KG',log_scale=True, bins=15)\\\n",
    ".fig.suptitle('Importação de Fertilizantes por Município\\n da Região de Pouso Alegre',y=1.1)\n",
    "plt.show()"
   ]
  },
  {
   "cell_type": "markdown",
   "id": "108616e7-8785-4dc4-af65-08d7e64c48b1",
   "metadata": {},
   "source": [
    "Os valores de preço maiores que 10**1.1 não são considerados normais e serão marcados para descarte."
   ]
  },
  {
   "cell_type": "code",
   "execution_count": 27,
   "id": "42442739-8469-4e38-80f2-a0427f13476c",
   "metadata": {},
   "outputs": [],
   "source": [
    "e_c_m_r_pa=e_c_m_r_pa.assign(descarte_preço='não')"
   ]
  },
  {
   "cell_type": "code",
   "execution_count": 28,
   "id": "1c805307-a6f3-4515-b442-62885d77c099",
   "metadata": {},
   "outputs": [],
   "source": [
    "e_c_m_r_pa.loc[e_c_m_r_pa['US$/KG']>10**1.1,'descarte_preço']='sim'"
   ]
  },
  {
   "cell_type": "code",
   "execution_count": 29,
   "id": "2879e206-140f-436b-94a2-3ac5f76b51af",
   "metadata": {},
   "outputs": [
    {
     "data": {
      "text/html": [
       "<div>\n",
       "<style scoped>\n",
       "    .dataframe tbody tr th:only-of-type {\n",
       "        vertical-align: middle;\n",
       "    }\n",
       "\n",
       "    .dataframe tbody tr th {\n",
       "        vertical-align: top;\n",
       "    }\n",
       "\n",
       "    .dataframe thead th {\n",
       "        text-align: right;\n",
       "    }\n",
       "</style>\n",
       "<table border=\"1\" class=\"dataframe\">\n",
       "  <thead>\n",
       "    <tr style=\"text-align: right;\">\n",
       "      <th></th>\n",
       "      <th>CO_ANO</th>\n",
       "      <th>CO_MES</th>\n",
       "      <th>SH4</th>\n",
       "      <th>CO_PAIS</th>\n",
       "      <th>NO_MUN</th>\n",
       "      <th>KG_LIQUIDO</th>\n",
       "      <th>VL_FOB</th>\n",
       "      <th>FATOR</th>\n",
       "      <th>KG_LIQUIDO_real</th>\n",
       "      <th>descarte_peso</th>\n",
       "      <th>descarte_vl</th>\n",
       "      <th>US$/KG</th>\n",
       "      <th>descarte_preço</th>\n",
       "    </tr>\n",
       "  </thead>\n",
       "  <tbody>\n",
       "    <tr>\n",
       "      <th>3495</th>\n",
       "      <td>2006</td>\n",
       "      <td>2</td>\n",
       "      <td>901</td>\n",
       "      <td>756</td>\n",
       "      <td>POCOS DE CALDAS</td>\n",
       "      <td>101.587302</td>\n",
       "      <td>1920</td>\n",
       "      <td>0.63</td>\n",
       "      <td>64</td>\n",
       "      <td>não</td>\n",
       "      <td>não</td>\n",
       "      <td>18.9</td>\n",
       "      <td>sim</td>\n",
       "    </tr>\n",
       "  </tbody>\n",
       "</table>\n",
       "</div>"
      ],
      "text/plain": [
       "      CO_ANO  CO_MES  SH4  CO_PAIS           NO_MUN  KG_LIQUIDO  VL_FOB  \\\n",
       "3495    2006       2  901      756  POCOS DE CALDAS  101.587302    1920   \n",
       "\n",
       "      FATOR  KG_LIQUIDO_real descarte_peso descarte_vl  US$/KG descarte_preço  \n",
       "3495   0.63               64           não         não    18.9            sim  "
      ]
     },
     "execution_count": 29,
     "metadata": {},
     "output_type": "execute_result"
    }
   ],
   "source": [
    "e_c_m_r_pa[e_c_m_r_pa.descarte_preço=='sim'].head(1)"
   ]
  },
  {
   "cell_type": "code",
   "execution_count": 30,
   "id": "99ab4398-22c9-4a57-8fa8-19a55999cf9d",
   "metadata": {},
   "outputs": [],
   "source": [
    "e_c_m_r_pa[\n",
    "(e_c_m_r_pa.descarte_peso=='sim')&\n",
    "(e_c_m_r_pa.descarte_vl=='sim')&\n",
    "(e_c_m_r_pa.descarte_preço=='sim')\n",
    "].tipo='descarte_triplo'"
   ]
  },
  {
   "cell_type": "code",
   "execution_count": null,
   "id": "1c44846d-492a-4549-b1bd-efb7360e38c9",
   "metadata": {},
   "outputs": [],
   "source": []
  },
  {
   "cell_type": "code",
   "execution_count": 31,
   "id": "a5cf009b-ca90-4528-9cf3-09300086a77c",
   "metadata": {},
   "outputs": [],
   "source": [
    "e_c_m_r_pa['tipo']='sem_descarte'"
   ]
  },
  {
   "cell_type": "code",
   "execution_count": 32,
   "id": "2fde85d0-772f-45d9-83cb-db2367fcb864",
   "metadata": {},
   "outputs": [],
   "source": [
    "e_c_m_r_pa.loc[(e_c_m_r_pa.descarte_peso=='sim')&(e_c_m_r_pa.descarte_vl=='sim')&(e_c_m_r_pa.descarte_preço=='sim'),'tipo']='descarte_triplo'"
   ]
  },
  {
   "cell_type": "code",
   "execution_count": 33,
   "id": "18526903-1d9f-4830-ab87-ebef5f42daa1",
   "metadata": {},
   "outputs": [
    {
     "data": {
      "text/plain": [
       "array(['sem_descarte'], dtype=object)"
      ]
     },
     "execution_count": 33,
     "metadata": {},
     "output_type": "execute_result"
    }
   ],
   "source": [
    "e_c_m_r_pa.tipo.unique()"
   ]
  },
  {
   "cell_type": "code",
   "execution_count": 34,
   "id": "95f4793f-14d7-4ffd-bf47-e37b4e1ac2c5",
   "metadata": {},
   "outputs": [],
   "source": [
    "e_c_m_r_pa.loc[(e_c_m_r_pa.descarte_peso=='não')&(e_c_m_r_pa.descarte_vl=='sim')&(e_c_m_r_pa.descarte_preço=='sim'),'tipo']='descarte_vl_preço'"
   ]
  },
  {
   "cell_type": "code",
   "execution_count": 35,
   "id": "bfd780c3-ae90-4a6f-9233-c99d7a76f1d1",
   "metadata": {},
   "outputs": [
    {
     "data": {
      "text/plain": [
       "array(['sem_descarte'], dtype=object)"
      ]
     },
     "execution_count": 35,
     "metadata": {},
     "output_type": "execute_result"
    }
   ],
   "source": [
    "e_c_m_r_pa.tipo.unique()"
   ]
  },
  {
   "cell_type": "code",
   "execution_count": 36,
   "id": "a3811862-5a35-4522-bbb4-84878fcae7c4",
   "metadata": {},
   "outputs": [],
   "source": [
    "e_c_m_r_pa.loc[(e_c_m_r_pa.descarte_peso=='sim')&(e_c_m_r_pa.descarte_vl=='não')&(e_c_m_r_pa.descarte_preço=='sim'),'tipo']='descarte_peso_preço'"
   ]
  },
  {
   "cell_type": "code",
   "execution_count": 37,
   "id": "d33b58cb-687d-4faf-85b1-12cf9893e3e4",
   "metadata": {},
   "outputs": [
    {
     "data": {
      "text/plain": [
       "array(['sem_descarte'], dtype=object)"
      ]
     },
     "execution_count": 37,
     "metadata": {},
     "output_type": "execute_result"
    }
   ],
   "source": [
    "e_c_m_r_pa.tipo.unique()"
   ]
  },
  {
   "cell_type": "code",
   "execution_count": 38,
   "id": "3bdbe6ad-55ba-467f-8995-9d9d022e4024",
   "metadata": {},
   "outputs": [],
   "source": [
    "e_c_m_r_pa.loc[(e_c_m_r_pa.descarte_peso=='não')&(e_c_m_r_pa.descarte_vl=='sim')&(e_c_m_r_pa.descarte_preço=='sim'),'tipo']='descarte_vl_preço'"
   ]
  },
  {
   "cell_type": "code",
   "execution_count": 39,
   "id": "7220a320-82aa-44b7-aa55-6010606c2ee2",
   "metadata": {},
   "outputs": [
    {
     "data": {
      "text/plain": [
       "array(['sem_descarte'], dtype=object)"
      ]
     },
     "execution_count": 39,
     "metadata": {},
     "output_type": "execute_result"
    }
   ],
   "source": [
    "e_c_m_r_pa.tipo.unique()"
   ]
  },
  {
   "cell_type": "code",
   "execution_count": 40,
   "id": "75f3a65c-c728-44d3-9218-6feeb742ec97",
   "metadata": {},
   "outputs": [],
   "source": [
    "e_c_m_r_pa.loc[(e_c_m_r_pa.descarte_peso=='não')&(e_c_m_r_pa.descarte_vl=='não')&(e_c_m_r_pa.descarte_preço=='sim'),'tipo']='descarte_preço'"
   ]
  },
  {
   "cell_type": "code",
   "execution_count": 41,
   "id": "c9dd80fe-92f7-40de-82d9-6e93138bb2e1",
   "metadata": {},
   "outputs": [
    {
     "data": {
      "text/plain": [
       "array(['sem_descarte', 'descarte_preço'], dtype=object)"
      ]
     },
     "execution_count": 41,
     "metadata": {},
     "output_type": "execute_result"
    }
   ],
   "source": [
    "e_c_m_r_pa.tipo.unique()"
   ]
  },
  {
   "cell_type": "code",
   "execution_count": 42,
   "id": "07cde9e6-0730-4501-b4b0-801439aca398",
   "metadata": {},
   "outputs": [],
   "source": [
    "e_c_m_r_pa.loc[(e_c_m_r_pa.descarte_peso=='sim')&(e_c_m_r_pa.descarte_vl=='não')&(e_c_m_r_pa.descarte_preço=='não'),'tipo']='descarte_peso'"
   ]
  },
  {
   "cell_type": "code",
   "execution_count": 43,
   "id": "778cae99-55b6-4411-8adb-8deb2cc3470d",
   "metadata": {},
   "outputs": [
    {
     "data": {
      "text/plain": [
       "array(['sem_descarte', 'descarte_preço'], dtype=object)"
      ]
     },
     "execution_count": 43,
     "metadata": {},
     "output_type": "execute_result"
    }
   ],
   "source": [
    "e_c_m_r_pa.tipo.unique()"
   ]
  },
  {
   "cell_type": "code",
   "execution_count": 44,
   "id": "b144f00b-71d3-445c-a6e0-fe996dc8f766",
   "metadata": {},
   "outputs": [],
   "source": [
    "e_c_m_r_pa.loc[(e_c_m_r_pa.descarte_peso=='não')&(e_c_m_r_pa.descarte_vl=='sim')&(e_c_m_r_pa.descarte_preço=='não'),'tipo']='descarte_vl'"
   ]
  },
  {
   "cell_type": "code",
   "execution_count": 45,
   "id": "229ffe62-9b47-4612-938c-d1ee7410f120",
   "metadata": {},
   "outputs": [
    {
     "data": {
      "text/plain": [
       "array(['sem_descarte', 'descarte_preço'], dtype=object)"
      ]
     },
     "execution_count": 45,
     "metadata": {},
     "output_type": "execute_result"
    }
   ],
   "source": [
    "e_c_m_r_pa.tipo.unique()"
   ]
  },
  {
   "cell_type": "code",
   "execution_count": 46,
   "id": "4d7cf636-d503-4046-9cc2-d76e9954fe46",
   "metadata": {},
   "outputs": [],
   "source": [
    "e_c_m_r_pa.loc[(e_c_m_r_pa.descarte_peso=='não')&(e_c_m_r_pa.descarte_vl=='não')&(e_c_m_r_pa.descarte_preço=='não'),'tipo']='sem_descarte'"
   ]
  },
  {
   "cell_type": "code",
   "execution_count": 47,
   "id": "cb4eaf34-7d80-484c-9d8c-073346885c8b",
   "metadata": {},
   "outputs": [
    {
     "data": {
      "text/plain": [
       "array(['sem_descarte', 'descarte_preço'], dtype=object)"
      ]
     },
     "execution_count": 47,
     "metadata": {},
     "output_type": "execute_result"
    }
   ],
   "source": [
    "e_c_m_r_pa.tipo.unique()"
   ]
  },
  {
   "cell_type": "code",
   "execution_count": 48,
   "id": "1c974fca-17ac-4a64-8a76-642549b8aa16",
   "metadata": {},
   "outputs": [],
   "source": [
    "w=e_c_m_r_pa.copy()"
   ]
  },
  {
   "cell_type": "code",
   "execution_count": 49,
   "id": "aed8359d-f8ec-4603-995b-60af7c4b5ce9",
   "metadata": {},
   "outputs": [],
   "source": [
    "e_c_m_r_pa=e_c_m_r_pa[e_c_m_r_pa.tipo!='descarte_triplo']"
   ]
  },
  {
   "cell_type": "code",
   "execution_count": null,
   "id": "bcb0b927-1130-42f0-bc1e-4756ac1c4546",
   "metadata": {},
   "outputs": [],
   "source": []
  },
  {
   "cell_type": "code",
   "execution_count": null,
   "id": "1d32b2e5-c9bf-4502-a34d-3d52a76593e2",
   "metadata": {},
   "outputs": [],
   "source": []
  },
  {
   "cell_type": "code",
   "execution_count": 50,
   "id": "110c1049-eb32-4d57-8a67-897992a32113",
   "metadata": {},
   "outputs": [
    {
     "data": {
      "image/png": "[encoded data removed]",
      "text/plain": [
       "<Figure size 656.5x500 with 1 Axes>"
      ]
     },
     "metadata": {},
     "output_type": "display_data"
    },
    {
     "data": {
      "image/png": "[encoded data removed]",
      "text/plain": [
       "<Figure size 656.5x500 with 1 Axes>"
      ]
     },
     "metadata": {},
     "output_type": "display_data"
    },
    {
     "data": {
      "image/png": "[encoded data removed]",
      "text/plain": [
       "<Figure size 656.5x500 with 1 Axes>"
      ]
     },
     "metadata": {},
     "output_type": "display_data"
    }
   ],
   "source": [
    "for c in ['KG_LIQUIDO','VL_FOB','US$/KG']:\n",
    "    sns.displot(data=e_c_m_r_pa,x=c,log_scale=True, hue='tipo', bins=15).fig.suptitle('Exportação de Café por Município\\n da Região de Pouso Alegre',y=1.1)\n",
    "    plt.show()"
   ]
  },
  {
   "attachments": {},
   "cell_type": "markdown",
   "id": "4e0386ba-1d00-4526-a8fa-311c9d77cb90",
   "metadata": {},
   "source": [
    "Acima nos gráficos odemos observar que , apesar dos registros marcados para descarte serem apresentarem peso anormalmente baixo, os valores declarados são significativos e sistemáticos, dando a impressão de que são pagamaento de bônos de qualidade em cargas anteriores. Por isso, nada será marcado para descarte.\n",
    "\n",
    "A protuberância a esquerda do gráfico se acredita ser causada pela inflação ao longo dos anos, mas por simplicidade, no momento, não será feita correção da inflação.\n",
    "\n",
    "Apenas os registros com preço acima de 10**1.2 serão descartados."
   ]
  },
  {
   "cell_type": "code",
   "execution_count": 51,
   "id": "1471fe37-75ee-497c-ad81-ca839d835514",
   "metadata": {},
   "outputs": [],
   "source": [
    "e_c_m_r_pa_clean=e_c_m_r_pa[e_c_m_r_pa['US$/KG']<10**1.1]"
   ]
  },
  {
   "cell_type": "code",
   "execution_count": 52,
   "id": "b5da6bc1-bc75-4681-9552-067b27d8a53a",
   "metadata": {
    "scrolled": true
   },
   "outputs": [
    {
     "data": {
      "text/html": [
       "<div>\n",
       "<style scoped>\n",
       "    .dataframe tbody tr th:only-of-type {\n",
       "        vertical-align: middle;\n",
       "    }\n",
       "\n",
       "    .dataframe tbody tr th {\n",
       "        vertical-align: top;\n",
       "    }\n",
       "\n",
       "    .dataframe thead th {\n",
       "        text-align: right;\n",
       "    }\n",
       "</style>\n",
       "<table border=\"1\" class=\"dataframe\">\n",
       "  <thead>\n",
       "    <tr style=\"text-align: right;\">\n",
       "      <th></th>\n",
       "      <th>CO_ANO</th>\n",
       "      <th>CO_MES</th>\n",
       "      <th>SH4</th>\n",
       "      <th>CO_PAIS</th>\n",
       "      <th>NO_MUN</th>\n",
       "      <th>KG_LIQUIDO</th>\n",
       "      <th>VL_FOB</th>\n",
       "      <th>FATOR</th>\n",
       "      <th>KG_LIQUIDO_real</th>\n",
       "      <th>descarte_peso</th>\n",
       "      <th>descarte_vl</th>\n",
       "      <th>US$/KG</th>\n",
       "      <th>descarte_preço</th>\n",
       "      <th>tipo</th>\n",
       "    </tr>\n",
       "  </thead>\n",
       "  <tbody>\n",
       "    <tr>\n",
       "      <th>0</th>\n",
       "      <td>1997</td>\n",
       "      <td>3</td>\n",
       "      <td>901</td>\n",
       "      <td>764</td>\n",
       "      <td>ANDRADAS</td>\n",
       "      <td>300000.0</td>\n",
       "      <td>514554</td>\n",
       "      <td>0.5</td>\n",
       "      <td>150000</td>\n",
       "      <td>não</td>\n",
       "      <td>não</td>\n",
       "      <td>1.71518</td>\n",
       "      <td>não</td>\n",
       "      <td>sem_descarte</td>\n",
       "    </tr>\n",
       "  </tbody>\n",
       "</table>\n",
       "</div>"
      ],
      "text/plain": [
       "   CO_ANO  CO_MES  SH4  CO_PAIS    NO_MUN  KG_LIQUIDO  VL_FOB  FATOR  \\\n",
       "0    1997       3  901      764  ANDRADAS    300000.0  514554    0.5   \n",
       "\n",
       "   KG_LIQUIDO_real descarte_peso descarte_vl   US$/KG descarte_preço  \\\n",
       "0           150000           não         não  1.71518            não   \n",
       "\n",
       "           tipo  \n",
       "0  sem_descarte  "
      ]
     },
     "execution_count": 52,
     "metadata": {},
     "output_type": "execute_result"
    }
   ],
   "source": [
    "e_c_m_r_pa_clean.head(1)"
   ]
  },
  {
   "cell_type": "code",
   "execution_count": 53,
   "id": "3675af8b-a711-4a6f-b6ef-525d3a39fadc",
   "metadata": {},
   "outputs": [],
   "source": [
    "e_c_m_r_pa_clean=e_c_m_r_pa_clean.iloc[:,:7]"
   ]
  },
  {
   "cell_type": "code",
   "execution_count": 54,
   "id": "03e46281-7b39-4384-a7d0-39a7e6b17c91",
   "metadata": {},
   "outputs": [],
   "source": [
    "e_c_m_r_pa_clean.iloc[:,:5]=e_c_m_r_pa_clean.iloc[:,:5].astype('category')"
   ]
  },
  {
   "cell_type": "code",
   "execution_count": 55,
   "id": "a1effaed-bab0-4772-8569-cf80e414b551",
   "metadata": {},
   "outputs": [
    {
     "data": {
      "text/plain": [
       "13259"
      ]
     },
     "execution_count": 55,
     "metadata": {},
     "output_type": "execute_result"
    }
   ],
   "source": [
    "len(e_c_m_r_pa_clean)"
   ]
  },
  {
   "cell_type": "code",
   "execution_count": 56,
   "id": "f1cc6a7b-055e-4270-8f43-adda48558960",
   "metadata": {},
   "outputs": [],
   "source": [
    "e_c_m_r_pa_clean.to_csv('~/git/comex_sh_mun/temp/e_c_m_r_pa_clean.csv',index=False)"
   ]
  }
 ],
 "metadata": {
  "kernelspec": {
   "display_name": "Python 3 (ipykernel)",
   "language": "python",
   "name": "python3"
  },
  "language_info": {
   "codemirror_mode": {
    "name": "ipython",
    "version": 3
   },
   "file_extension": ".py",
   "mimetype": "text/x-python",
   "name": "python",
   "nbconvert_exporter": "python",
   "pygments_lexer": "ipython3",
   "version": "3.11.5"
  }
 },
 "nbformat": 4,
 "nbformat_minor": 5
}
