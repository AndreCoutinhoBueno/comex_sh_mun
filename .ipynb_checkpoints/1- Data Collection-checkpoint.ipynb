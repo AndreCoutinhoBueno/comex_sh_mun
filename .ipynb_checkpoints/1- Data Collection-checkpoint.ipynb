{
 "cells": [
  {
   "cell_type": "markdown",
   "id": "de183bd7",
   "metadata": {},
   "source": [
    "**Nota em relação ao Github:** Os arquivos salvos nessa fase são maiores do que o tamanho aceito em minha conta, e por isso eles serão ignorados e não disponibilizados neste site."
   ]
  },
  {
   "cell_type": "markdown",
   "id": "733f002a",
   "metadata": {},
   "source": [
    "# 1- Distribuição Territorial Brasileira - IBGE\n",
    "\n",
    "Normalmente as importações de fertilizantes **não** são feitas por todos os municípios do Brasil, nem mesmo em todos os municípios de elevado consumo de fertilizantes. O que define de fato se um município é ou não um importador de fertilizantes é o custo logístico da posição geográfica dele para atender as pricipais áreas de cultivo.\n",
    "\n",
    "Como os fertilizantes podem ser considerados 'commodities', a competitividade logística é o fator principal para o desenvolvimento do negócio.\n",
    "\n",
    "Para estudar as importações de um determinado município, é necessário avaliar conjuntamente as importações de todo os os municípios da região geográfica que o município atende.\n",
    "\n",
    "Deste [link](https://www.ibge.gov.br/geociencias/organizacao-do-territorio/estrutura-territorial/23701-divisao-territorial-brasileira.html?t=acesso-ao-produto) do IBGE foi baixado manualmente o arquivo compactado contendo a distribuição territorial do Brasil, que foi salvo localmente em '~/git/BD/IBGE/DTB_2022.zip'"
   ]
  },
  {
   "cell_type": "markdown",
   "id": "9986f091",
   "metadata": {},
   "source": [
    "# 2- Importação por Município\n",
    "\n",
    "O site [Comexstat](http://comexstat.mdic.gov.br/pt/geral), portal para acesso gratuito às estatísticas de comércio exterior do Brasil, disponibiliza arquivos que apresentam todos os dados utilizados para construção da balança comercial brasileira, detalhados por NCM ou por Municípios do exportador/importador. \n",
    "\n",
    "O site informa que os dados estão disponíveis em arquivos compatados que contém arquivos CSV, utilizando como separador o ponto e vírgula (;), e com os nomes das colunas na primeira linha. \n",
    "\n",
    "Para esse projeto, o interesse esta sobre a base de dados detalhada por Município da empresa exportadora/importadora e Posição do Sistema Harmonizado (SH4). Estes arquivos  são detalhado por ano, mês, código SH4, código de país de destino/origem do produto, código da UF do domicílio fiscal da empresa, código do município domicílio fiscal da empresa exportadora/importadora, quilograma líquido, valor dólar FOB (US$).\n",
    "\n",
    "Para aproveitamento completo dos arquivos de dados, será necessário baixar e utilizar as Tabelas de Correlações de Códigos e Classificações. \n",
    "\n",
    "A base de dados por Município, denominada IMP_COMPLETA_MUN.zip,  e as tabelas complementares, foram baixadas e salvas localmente na pasta:  \n",
    "\n",
    "* '~/git/BD/Comexstat/'"
   ]
  },
  {
   "cell_type": "markdown",
   "id": "79d51146",
   "metadata": {},
   "source": [
    "# 3- Exportações por Município  \n",
    "\n",
    "Neste projeto, para prever importações de fertilizantes, será consuzida a denominada a \"Regresão com Multiplas Variáveis\". Dentre essas multiplas variáveis, se deseja utilizar o principal produto agrícola de exportação da região de Pouso Alegre.  \n",
    "\n",
    "Para isso utilizaremos novamente o mesmo site Comexstat, porém a base  de dados será referente a \"Exportação por Município\".\n",
    "\n",
    "O arquivocompatado foi baixado e salvo em:\n",
    "\n",
    "* '~/git/BD/Comexstat/EXP_COMPLETA_MUN.zip'"
   ]
  },
  {
   "cell_type": "markdown",
   "id": "d49354af",
   "metadata": {},
   "source": [
    "# 4- Volume de Chuva\n",
    "\n",
    "Ainda sobre regressão com multiplas variáveis, outra variável considerada relacionada com as importações de fertilizantes são os volumes e distribuição das chuvas na região foco.\n",
    "\n",
    "O [INMET](https://portal.inmet.gov.br/) disponibliza banco de dados meteorológicos, capturados por estações automáticas espalhadas estratégicamente em regiões de interesse do Brasil.\n",
    "\n",
    "O site optou por disponibilizar separadamente um arquivo ou base de dados para cada ano do calendário, desde o ano 2000.\n",
    "\n",
    "O os arquivos contém tabelas, uma para cada estação meteorológica.\n",
    "\n",
    "Todos os arquivos foram baixados e salvos em:  \n",
    "\n",
    "* '~/git/BD/Inmet/'"
   ]
  }
 ],
 "metadata": {
  "kernelspec": {
   "display_name": "Python 3 (ipykernel)",
   "language": "python",
   "name": "python3"
  },
  "language_info": {
   "codemirror_mode": {
    "name": "ipython",
    "version": 3
   },
   "file_extension": ".py",
   "mimetype": "text/x-python",
   "name": "python",
   "nbconvert_exporter": "python",
   "pygments_lexer": "ipython3",
   "version": "3.11.5"
  }
 },
 "nbformat": 4,
 "nbformat_minor": 5
}
