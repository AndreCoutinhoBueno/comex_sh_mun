{
 "cells": [
  {
   "cell_type": "code",
   "execution_count": 1,
   "id": "fee81f22-7ac4-4672-8734-ebb4829ca309",
   "metadata": {},
   "outputs": [],
   "source": [
    "# Carrega as biliotecas necessárias\n",
    "%run '~/git/Bibliotecas.ipynb'\n",
    "# Carrega a tabela de chuvas\n",
    "chuvas_m_r_pa=pd.read_csv('~/git/comex_sh_mun/temp/chuvas_m_r_pa.csv')"
   ]
  },
  {
   "cell_type": "code",
   "execution_count": 2,
   "id": "5392320f-8b64-4ee8-862f-acd71f6945c3",
   "metadata": {},
   "outputs": [],
   "source": [
    "chuvas_m_r_pa['Data']=chuvas_m_r_pa['Data'].astype(str)+chuvas_m_r_pa['DATA (YYYY-MM-DD)'].astype(str)"
   ]
  },
  {
   "cell_type": "code",
   "execution_count": 3,
   "id": "0bf7866f-ab65-49c3-bc7f-6d04c8a517d1",
   "metadata": {},
   "outputs": [
    {
     "data": {
      "text/html": [
       "<div>\n",
       "<style scoped>\n",
       "    .dataframe tbody tr th:only-of-type {\n",
       "        vertical-align: middle;\n",
       "    }\n",
       "\n",
       "    .dataframe tbody tr th {\n",
       "        vertical-align: top;\n",
       "    }\n",
       "\n",
       "    .dataframe thead th {\n",
       "        text-align: right;\n",
       "    }\n",
       "</style>\n",
       "<table border=\"1\" class=\"dataframe\">\n",
       "  <thead>\n",
       "    <tr style=\"text-align: right;\">\n",
       "      <th></th>\n",
       "      <th>Estação</th>\n",
       "      <th>Data</th>\n",
       "      <th>DATA (YYYY-MM-DD)</th>\n",
       "      <th>Hora UTC</th>\n",
       "      <th>HORA (UTC)</th>\n",
       "      <th>PRECIPITAÇÃO TOTAL, HORÁRIO (mm)</th>\n",
       "    </tr>\n",
       "  </thead>\n",
       "  <tbody>\n",
       "    <tr>\n",
       "      <th>422016</th>\n",
       "      <td>CONCEICAO DAS ALAGOAS</td>\n",
       "      <td>2019/01/01nan</td>\n",
       "      <td>NaN</td>\n",
       "      <td>0000 UTC</td>\n",
       "      <td>NaN</td>\n",
       "      <td>0</td>\n",
       "    </tr>\n",
       "    <tr>\n",
       "      <th>439558</th>\n",
       "      <td>CALDAS</td>\n",
       "      <td>2019/01/01nan</td>\n",
       "      <td>NaN</td>\n",
       "      <td>2200 UTC</td>\n",
       "      <td>NaN</td>\n",
       "      <td>0</td>\n",
       "    </tr>\n",
       "    <tr>\n",
       "      <th>439557</th>\n",
       "      <td>CALDAS</td>\n",
       "      <td>2019/01/01nan</td>\n",
       "      <td>NaN</td>\n",
       "      <td>2100 UTC</td>\n",
       "      <td>NaN</td>\n",
       "      <td>0</td>\n",
       "    </tr>\n",
       "    <tr>\n",
       "      <th>439556</th>\n",
       "      <td>CALDAS</td>\n",
       "      <td>2019/01/01nan</td>\n",
       "      <td>NaN</td>\n",
       "      <td>2000 UTC</td>\n",
       "      <td>NaN</td>\n",
       "      <td>0</td>\n",
       "    </tr>\n",
       "    <tr>\n",
       "      <th>439555</th>\n",
       "      <td>CALDAS</td>\n",
       "      <td>2019/01/01nan</td>\n",
       "      <td>NaN</td>\n",
       "      <td>1900 UTC</td>\n",
       "      <td>NaN</td>\n",
       "      <td>0</td>\n",
       "    </tr>\n",
       "    <tr>\n",
       "      <th>...</th>\n",
       "      <td>...</td>\n",
       "      <td>...</td>\n",
       "      <td>...</td>\n",
       "      <td>...</td>\n",
       "      <td>...</td>\n",
       "      <td>...</td>\n",
       "    </tr>\n",
       "    <tr>\n",
       "      <th>404491</th>\n",
       "      <td>CONCEICAO DAS ALAGOAS</td>\n",
       "      <td>nan2018-12-31</td>\n",
       "      <td>2018-12-31</td>\n",
       "      <td>NaN</td>\n",
       "      <td>19:00</td>\n",
       "      <td>0</td>\n",
       "    </tr>\n",
       "    <tr>\n",
       "      <th>404492</th>\n",
       "      <td>CONCEICAO DAS ALAGOAS</td>\n",
       "      <td>nan2018-12-31</td>\n",
       "      <td>2018-12-31</td>\n",
       "      <td>NaN</td>\n",
       "      <td>20:00</td>\n",
       "      <td>0</td>\n",
       "    </tr>\n",
       "    <tr>\n",
       "      <th>404493</th>\n",
       "      <td>CONCEICAO DAS ALAGOAS</td>\n",
       "      <td>nan2018-12-31</td>\n",
       "      <td>2018-12-31</td>\n",
       "      <td>NaN</td>\n",
       "      <td>21:00</td>\n",
       "      <td>0</td>\n",
       "    </tr>\n",
       "    <tr>\n",
       "      <th>404495</th>\n",
       "      <td>CONCEICAO DAS ALAGOAS</td>\n",
       "      <td>nan2018-12-31</td>\n",
       "      <td>2018-12-31</td>\n",
       "      <td>NaN</td>\n",
       "      <td>23:00</td>\n",
       "      <td>0</td>\n",
       "    </tr>\n",
       "    <tr>\n",
       "      <th>422014</th>\n",
       "      <td>CALDAS</td>\n",
       "      <td>nan2018-12-31</td>\n",
       "      <td>2018-12-31</td>\n",
       "      <td>NaN</td>\n",
       "      <td>22:00</td>\n",
       "      <td>0</td>\n",
       "    </tr>\n",
       "  </tbody>\n",
       "</table>\n",
       "<p>448296 rows × 6 columns</p>\n",
       "</div>"
      ],
      "text/plain": [
       "                      Estação           Data DATA (YYYY-MM-DD)  Hora UTC  \\\n",
       "422016  CONCEICAO DAS ALAGOAS  2019/01/01nan               NaN  0000 UTC   \n",
       "439558                 CALDAS  2019/01/01nan               NaN  2200 UTC   \n",
       "439557                 CALDAS  2019/01/01nan               NaN  2100 UTC   \n",
       "439556                 CALDAS  2019/01/01nan               NaN  2000 UTC   \n",
       "439555                 CALDAS  2019/01/01nan               NaN  1900 UTC   \n",
       "...                       ...            ...               ...       ...   \n",
       "404491  CONCEICAO DAS ALAGOAS  nan2018-12-31        2018-12-31       NaN   \n",
       "404492  CONCEICAO DAS ALAGOAS  nan2018-12-31        2018-12-31       NaN   \n",
       "404493  CONCEICAO DAS ALAGOAS  nan2018-12-31        2018-12-31       NaN   \n",
       "404495  CONCEICAO DAS ALAGOAS  nan2018-12-31        2018-12-31       NaN   \n",
       "422014                 CALDAS  nan2018-12-31        2018-12-31       NaN   \n",
       "\n",
       "       HORA (UTC) PRECIPITAÇÃO TOTAL, HORÁRIO (mm)  \n",
       "422016        NaN                                0  \n",
       "439558        NaN                                0  \n",
       "439557        NaN                                0  \n",
       "439556        NaN                                0  \n",
       "439555        NaN                                0  \n",
       "...           ...                              ...  \n",
       "404491      19:00                                0  \n",
       "404492      20:00                                0  \n",
       "404493      21:00                                0  \n",
       "404495      23:00                                0  \n",
       "422014      22:00                                0  \n",
       "\n",
       "[448296 rows x 6 columns]"
      ]
     },
     "execution_count": 3,
     "metadata": {},
     "output_type": "execute_result"
    }
   ],
   "source": [
    "chuvas_m_r_pa[['Estação','Data', 'DATA (YYYY-MM-DD)', 'Hora UTC','HORA (UTC)', 'PRECIPITAÇÃO TOTAL, HORÁRIO (mm)']].sort_values(by=['Data'])"
   ]
  },
  {
   "cell_type": "code",
   "execution_count": 4,
   "id": "985023a6-81b5-43e0-826d-f5a95086ff12",
   "metadata": {},
   "outputs": [],
   "source": [
    "chuvas_m_r_pa.Data=pd.to_datetime(chuvas_m_r_pa.Data.str.replace('nan','').sort_values(),format='mixed')"
   ]
  },
  {
   "cell_type": "code",
   "execution_count": 5,
   "id": "53feafe8-f40b-4675-8a74-508363089c44",
   "metadata": {},
   "outputs": [],
   "source": [
    "chuvas_m_r_pa=chuvas_m_r_pa.drop(columns=['DATA (YYYY-MM-DD)'])"
   ]
  },
  {
   "cell_type": "code",
   "execution_count": 6,
   "id": "8ca8f76e-e66a-484e-b921-71249d59f395",
   "metadata": {},
   "outputs": [],
   "source": [
    "chuvas_m_r_pa['Hora']=chuvas_m_r_pa['Hora UTC'].astype(str)+chuvas_m_r_pa['HORA (UTC)'].astype(str)\n",
    "chuvas_m_r_pa['Hora']=chuvas_m_r_pa['Hora'].str.replace('nan','')\n",
    "chuvas_m_r_pa['Hora']=chuvas_m_r_pa['Hora'].str.replace(' (UTC)','')\n",
    "chuvas_m_r_pa['Hora']=chuvas_m_r_pa['Hora'].str.replace(' UTC','')\n",
    "chuvas_m_r_pa.Hora=chuvas_m_r_pa.Hora.str[:2]\n",
    "chuvas_m_r_pa.Hora=chuvas_m_r_pa.Hora.astype(int)\n",
    "chuvas_m_r_pa=chuvas_m_r_pa.rename(columns={'PRECIPITAÇÃO TOTAL, HORÁRIO (mm)':'mm'})"
   ]
  },
  {
   "cell_type": "code",
   "execution_count": 7,
   "id": "1935c8de-e3cb-49ba-b93e-784f17aeb2db",
   "metadata": {},
   "outputs": [
    {
     "data": {
      "text/plain": [
       "array([',2', ',4', ',6', ',8', '-9999', '0', '1', '1,2', '1,4', '1,6',\n",
       "       '1,8', '10', '10,2', '10,4', '10,6', '10,8', '11', '11,2', '11,4',\n",
       "       '11,6', '11,8', '12', '12,2', '12,4', '12,6', '12,8', '13', '13,2',\n",
       "       '13,4', '13,6', '13,8', '14', '14,2', '14,4', '14,6', '14,8', '15',\n",
       "       '15,2', '15,4', '15,6', '15,8', '16', '16,2', '16,4', '16,6',\n",
       "       '16,8', '17', '17,2', '17,4', '17,6', '17,8', '18', '18,2', '18,4',\n",
       "       '18,6', '18,8', '19', '19,2', '19,4', '19,6', '19,8', '2', '2,2',\n",
       "       '2,4', '2,6', '2,8', '20', '20,2', '20,4', '20,6', '20,8', '21',\n",
       "       '21,2', '21,4', '21,6', '21,8', '22', '22,2', '22,4', '22,6',\n",
       "       '22,8', '23', '23,2', '23,4', '23,6', '23,8', '24', '24,2', '24,4',\n",
       "       '24,6', '24,8', '25', '25,2', '25,4', '25,6', '25,8', '26', '26,4',\n",
       "       '26,6', '26,8', '27,2', '27,4', '27,6', '27,8', '28', '28,2',\n",
       "       '28,4', '28,6', '28,8', '29', '29,2', '29,6', '3', '3,2', '3,4',\n",
       "       '3,6', '3,8', '30', '30,2', '30,4', '30,6', '31,4', '31,6', '31,8',\n",
       "       '32', '32,2', '32,4', '32,6', '32,8', '33', '33,2', '33,8', '34',\n",
       "       '34,2', '34,4', '34,6', '34,8', '35,8', '36', '36,4', '36,6',\n",
       "       '37,8', '38', '38,2', '38,4', '38,6', '39,2', '39,4', '39,6', '4',\n",
       "       '4,2', '4,4', '4,6', '4,8', '40', '40,2', '40,6', '42', '43,4',\n",
       "       '43,6', '43,8', '44', '44,4', '45,6', '46', '48', '49', '49,8',\n",
       "       '5', '5,2', '5,4', '5,6', '5,8', '57,2', '58,2', '6', '6,2', '6,4',\n",
       "       '6,6', '6,8', '7', '7,2', '7,4', '7,6', '7,8', '8', '8,2', '8,4',\n",
       "       '8,6', '8,8', '9', '9,2', '9,4', '9,6', '9,8', nan], dtype=object)"
      ]
     },
     "execution_count": 7,
     "metadata": {},
     "output_type": "execute_result"
    }
   ],
   "source": [
    "# Identifica valores únicos no volume de chuva\n",
    "chuvas_m_r_pa.mm.sort_values().unique()"
   ]
  },
  {
   "cell_type": "code",
   "execution_count": 8,
   "id": "31eb41ee-b09e-45b0-9b5f-f987710c8d65",
   "metadata": {},
   "outputs": [],
   "source": [
    "chuvas_m_r_pa.loc[chuvas_m_r_pa.mm=='-9999','mm']=np.nan"
   ]
  },
  {
   "cell_type": "code",
   "execution_count": 9,
   "id": "181adbd3-c150-4f64-a403-1a6e89158f2f",
   "metadata": {},
   "outputs": [],
   "source": [
    "chuvas_m_r_pa.mm=chuvas_m_r_pa.mm.str.replace(',','.')"
   ]
  },
  {
   "cell_type": "code",
   "execution_count": 10,
   "id": "005632ca-a379-448e-85fd-44b5beeec60f",
   "metadata": {},
   "outputs": [],
   "source": [
    "chuvas_m_r_pa.mm=chuvas_m_r_pa.mm.astype('float')"
   ]
  },
  {
   "cell_type": "code",
   "execution_count": 11,
   "id": "53d11fa8-e856-42b9-8249-d6b7873613df",
   "metadata": {},
   "outputs": [
    {
     "data": {
      "text/plain": [
       "array([ 0. ,  0.2,  0.4,  0.6,  0.8,  1. ,  1.2,  1.4,  1.6,  1.8,  2. ,\n",
       "        2.2,  2.4,  2.6,  2.8,  3. ,  3.2,  3.4,  3.6,  3.8,  4. ,  4.2,\n",
       "        4.4,  4.6,  4.8,  5. ,  5.2,  5.4,  5.6,  5.8,  6. ,  6.2,  6.4,\n",
       "        6.6,  6.8,  7. ,  7.2,  7.4,  7.6,  7.8,  8. ,  8.2,  8.4,  8.6,\n",
       "        8.8,  9. ,  9.2,  9.4,  9.6,  9.8, 10. , 10.2, 10.4, 10.6, 10.8,\n",
       "       11. , 11.2, 11.4, 11.6, 11.8, 12. , 12.2, 12.4, 12.6, 12.8, 13. ,\n",
       "       13.2, 13.4, 13.6, 13.8, 14. , 14.2, 14.4, 14.6, 14.8, 15. , 15.2,\n",
       "       15.4, 15.6, 15.8, 16. , 16.2, 16.4, 16.6, 16.8, 17. , 17.2, 17.4,\n",
       "       17.6, 17.8, 18. , 18.2, 18.4, 18.6, 18.8, 19. , 19.2, 19.4, 19.6,\n",
       "       19.8, 20. , 20.2, 20.4, 20.6, 20.8, 21. , 21.2, 21.4, 21.6, 21.8,\n",
       "       22. , 22.2, 22.4, 22.6, 22.8, 23. , 23.2, 23.4, 23.6, 23.8, 24. ,\n",
       "       24.2, 24.4, 24.6, 24.8, 25. , 25.2, 25.4, 25.6, 25.8, 26. , 26.4,\n",
       "       26.6, 26.8, 27.2, 27.4, 27.6, 27.8, 28. , 28.2, 28.4, 28.6, 28.8,\n",
       "       29. , 29.2, 29.6, 30. , 30.2, 30.4, 30.6, 31.4, 31.6, 31.8, 32. ,\n",
       "       32.2, 32.4, 32.6, 32.8, 33. , 33.2, 33.8, 34. , 34.2, 34.4, 34.6,\n",
       "       34.8, 35.8, 36. , 36.4, 36.6, 37.8, 38. , 38.2, 38.4, 38.6, 39.2,\n",
       "       39.4, 39.6, 40. , 40.2, 40.6, 42. , 43.4, 43.6, 43.8, 44. , 44.4,\n",
       "       45.6, 46. , 48. , 49. , 49.8, 57.2, 58.2,  nan])"
      ]
     },
     "execution_count": 11,
     "metadata": {},
     "output_type": "execute_result"
    }
   ],
   "source": [
    "# Identifica valores únicos no volume de chuva\n",
    "chuvas_m_r_pa.mm.sort_values().unique()"
   ]
  },
  {
   "cell_type": "code",
   "execution_count": 12,
   "id": "a8ebd16c-e88e-458d-b2bb-976d4d2f16b5",
   "metadata": {},
   "outputs": [
    {
     "name": "stdout",
     "output_type": "stream",
     "text": [
      "Ainda restam 5.7 % de NaNs na coluna 'mm'.\n"
     ]
    }
   ],
   "source": [
    "print(f\"Ainda restam {round(100*len(chuvas_m_r_pa[['Data','Hora','Estação','mm']][chuvas_m_r_pa.mm.isna()].sort_values(by='Data'))/len(chuvas_m_r_pa),1)} % de NaNs na coluna 'mm'.\")"
   ]
  },
  {
   "cell_type": "code",
   "execution_count": 13,
   "id": "01dbd18d-5675-4c50-bf4c-fc5617c40aba",
   "metadata": {},
   "outputs": [
    {
     "data": {
      "text/plain": [
       "Estação        0\n",
       "Data           0\n",
       "Hora           0\n",
       "mm         25515\n",
       "dtype: int64"
      ]
     },
     "execution_count": 13,
     "metadata": {},
     "output_type": "execute_result"
    }
   ],
   "source": [
    "# Seleciona as colunas desejadas\n",
    "chuvas_m_r_pa=chuvas_m_r_pa[['Estação','Data','Hora','mm']]\n",
    "# Imprime a 1ª linha da tabela resultante\n",
    "chuvas_m_r_pa.isna().sum()"
   ]
  },
  {
   "cell_type": "code",
   "execution_count": 14,
   "id": "90ba04c8-9b12-455a-be63-4997224efe76",
   "metadata": {},
   "outputs": [],
   "source": [
    "chuvas_m_r_pa.Data=chuvas_m_r_pa.Data.astype('datetime64[ns]')\n",
    "# Cria colunas ano, mês e dia\n",
    "chuvas_m_r_pa['CO_ANO']=chuvas_m_r_pa.Data.dt.year\n",
    "chuvas_m_r_pa['CO_MES']=chuvas_m_r_pa.Data.dt.month\n",
    "chuvas_m_r_pa['Dia']=chuvas_m_r_pa.Data.dt.day\n",
    "# Divivde aa tabela em duas: 1ª comos NaNs, 2ª sem NaNs\n",
    "chuvas_m_r_pa_isna=chuvas_m_r_pa[chuvas_m_r_pa.mm.isna()]\n",
    "chuvas_m_r_pa_notna=chuvas_m_r_pa[~chuvas_m_r_pa.mm.isna()]"
   ]
  },
  {
   "cell_type": "markdown",
   "id": "e16a862e-ff2c-4772-a89b-447620ef5c6e",
   "metadata": {},
   "source": [
    "Cria 3 tabelas de correção de NaNs a partir da tabela sem NaNs, com ordem crescente de abrangência para a busca da mediana, que será usada para substituir os NaNs. O objetivo é dar preferência a substituir os NaNs por medianas que tenham sido indetificadas no período mais próximo possível do momento da ocorrẽncia."
   ]
  },
  {
   "cell_type": "code",
   "execution_count": 15,
   "id": "8138ada3-7903-4200-98d6-2ec732722906",
   "metadata": {},
   "outputs": [],
   "source": [
    "corr_1=chuvas_m_r_pa_notna.groupby(by=['CO_ANO','CO_MES','Dia','Hora']).mm.median().reset_index()\n",
    "corr_2=chuvas_m_r_pa_notna.groupby(by=['CO_ANO','CO_MES','Dia']).mm.median().reset_index()\n",
    "corr_3=chuvas_m_r_pa_notna.groupby(by=['CO_ANO','CO_MES']).mm.median().reset_index()"
   ]
  },
  {
   "cell_type": "markdown",
   "id": "7bf5c80a-d94b-4997-8fe5-5c0876424088",
   "metadata": {},
   "source": [
    "Procede a substituição dos NaNs com a 1ª tabela criada"
   ]
  },
  {
   "cell_type": "code",
   "execution_count": 16,
   "id": "2cd71282-d17b-4279-bdc4-f00120710332",
   "metadata": {},
   "outputs": [
    {
     "data": {
      "text/plain": [
       "Estação      0\n",
       "Data         0\n",
       "Hora         0\n",
       "CO_ANO       0\n",
       "CO_MES       0\n",
       "Dia          0\n",
       "mm         243\n",
       "dtype: int64"
      ]
     },
     "execution_count": 16,
     "metadata": {},
     "output_type": "execute_result"
    }
   ],
   "source": [
    "chuvas_m_r_pa_corr_1=chuvas_m_r_pa_isna.drop(columns='mm').merge(corr_1,how='left')\n",
    "chuvas_m_r_pa_corr_1.isna().sum()"
   ]
  },
  {
   "cell_type": "markdown",
   "id": "61daab18-4b7b-4645-9621-2e127f6adac3",
   "metadata": {},
   "source": [
    "Separa a tabela em duas, uma contendo NaN na coluna mm e a outra não"
   ]
  },
  {
   "cell_type": "code",
   "execution_count": 17,
   "id": "02df6716-d24c-4ba0-9901-476e24613429",
   "metadata": {},
   "outputs": [],
   "source": [
    "chuvas_m_r_pa_isna_2=chuvas_m_r_pa_corr_1[chuvas_m_r_pa_corr_1.mm.isna()]\n",
    "chuvas_m_r_pa_corr_1=chuvas_m_r_pa_corr_1[~chuvas_m_r_pa_corr_1.mm.isna()]"
   ]
  },
  {
   "cell_type": "code",
   "execution_count": 18,
   "id": "0f794af8-ace0-4451-9ffa-bf1ea84edf06",
   "metadata": {},
   "outputs": [
    {
     "data": {
      "text/html": [
       "<div>\n",
       "<style scoped>\n",
       "    .dataframe tbody tr th:only-of-type {\n",
       "        vertical-align: middle;\n",
       "    }\n",
       "\n",
       "    .dataframe tbody tr th {\n",
       "        vertical-align: top;\n",
       "    }\n",
       "\n",
       "    .dataframe thead th {\n",
       "        text-align: right;\n",
       "    }\n",
       "</style>\n",
       "<table border=\"1\" class=\"dataframe\">\n",
       "  <thead>\n",
       "    <tr style=\"text-align: right;\">\n",
       "      <th></th>\n",
       "      <th>Estação</th>\n",
       "      <th>Data</th>\n",
       "      <th>Hora</th>\n",
       "      <th>CO_ANO</th>\n",
       "      <th>CO_MES</th>\n",
       "      <th>Dia</th>\n",
       "      <th>mm</th>\n",
       "    </tr>\n",
       "  </thead>\n",
       "  <tbody>\n",
       "  </tbody>\n",
       "</table>\n",
       "</div>"
      ],
      "text/plain": [
       "Empty DataFrame\n",
       "Columns: [Estação, Data, Hora, CO_ANO, CO_MES, Dia, mm]\n",
       "Index: []"
      ]
     },
     "execution_count": 18,
     "metadata": {},
     "output_type": "execute_result"
    }
   ],
   "source": [
    "chuvas_m_r_pa_corr_2=chuvas_m_r_pa_isna_2.drop(columns='mm').merge(corr_2,how='left')\n",
    "chuvas_m_r_pa_isna_3=chuvas_m_r_pa_corr_2[chuvas_m_r_pa_corr_2.mm.isna()]\n",
    "chuvas_m_r_pa_corr_2=chuvas_m_r_pa_corr_2[~chuvas_m_r_pa_corr_2.mm.isna()]\n",
    "chuvas_m_r_pa_isna_3"
   ]
  },
  {
   "cell_type": "code",
   "execution_count": 19,
   "id": "0e593fb7-14bc-44bf-8ef2-3e826724a53a",
   "metadata": {},
   "outputs": [
    {
     "data": {
      "text/plain": [
       "Estação    0\n",
       "Data       0\n",
       "Hora       0\n",
       "mm         0\n",
       "CO_ANO     0\n",
       "CO_MES     0\n",
       "Dia        0\n",
       "dtype: int64"
      ]
     },
     "execution_count": 19,
     "metadata": {},
     "output_type": "execute_result"
    }
   ],
   "source": [
    "pd.concat([chuvas_m_r_pa_notna,chuvas_m_r_pa_corr_1,chuvas_m_r_pa_corr_2]).isna().sum()"
   ]
  },
  {
   "cell_type": "code",
   "execution_count": 20,
   "id": "06d355d7-2fa3-4c0b-a16f-d6577dde20a0",
   "metadata": {},
   "outputs": [
    {
     "data": {
      "text/html": [
       "<div>\n",
       "<style scoped>\n",
       "    .dataframe tbody tr th:only-of-type {\n",
       "        vertical-align: middle;\n",
       "    }\n",
       "\n",
       "    .dataframe tbody tr th {\n",
       "        vertical-align: top;\n",
       "    }\n",
       "\n",
       "    .dataframe thead th {\n",
       "        text-align: right;\n",
       "    }\n",
       "</style>\n",
       "<table border=\"1\" class=\"dataframe\">\n",
       "  <thead>\n",
       "    <tr style=\"text-align: right;\">\n",
       "      <th></th>\n",
       "      <th>Estação</th>\n",
       "      <th>Data</th>\n",
       "      <th>Hora</th>\n",
       "      <th>mm</th>\n",
       "      <th>CO_ANO</th>\n",
       "      <th>CO_MES</th>\n",
       "      <th>Dia</th>\n",
       "    </tr>\n",
       "  </thead>\n",
       "  <tbody>\n",
       "    <tr>\n",
       "      <th>0</th>\n",
       "      <td>CONCEICAO DAS ALAGOAS</td>\n",
       "      <td>2020-01-01</td>\n",
       "      <td>0</td>\n",
       "      <td>0.0</td>\n",
       "      <td>2020</td>\n",
       "      <td>1</td>\n",
       "      <td>1</td>\n",
       "    </tr>\n",
       "    <tr>\n",
       "      <th>1</th>\n",
       "      <td>CONCEICAO DAS ALAGOAS</td>\n",
       "      <td>2020-01-01</td>\n",
       "      <td>1</td>\n",
       "      <td>0.0</td>\n",
       "      <td>2020</td>\n",
       "      <td>1</td>\n",
       "      <td>1</td>\n",
       "    </tr>\n",
       "    <tr>\n",
       "      <th>2</th>\n",
       "      <td>CONCEICAO DAS ALAGOAS</td>\n",
       "      <td>2020-01-01</td>\n",
       "      <td>2</td>\n",
       "      <td>0.0</td>\n",
       "      <td>2020</td>\n",
       "      <td>1</td>\n",
       "      <td>1</td>\n",
       "    </tr>\n",
       "    <tr>\n",
       "      <th>3</th>\n",
       "      <td>CONCEICAO DAS ALAGOAS</td>\n",
       "      <td>2020-01-01</td>\n",
       "      <td>3</td>\n",
       "      <td>0.0</td>\n",
       "      <td>2020</td>\n",
       "      <td>1</td>\n",
       "      <td>1</td>\n",
       "    </tr>\n",
       "    <tr>\n",
       "      <th>4</th>\n",
       "      <td>CONCEICAO DAS ALAGOAS</td>\n",
       "      <td>2020-01-01</td>\n",
       "      <td>4</td>\n",
       "      <td>0.0</td>\n",
       "      <td>2020</td>\n",
       "      <td>1</td>\n",
       "      <td>1</td>\n",
       "    </tr>\n",
       "    <tr>\n",
       "      <th>...</th>\n",
       "      <td>...</td>\n",
       "      <td>...</td>\n",
       "      <td>...</td>\n",
       "      <td>...</td>\n",
       "      <td>...</td>\n",
       "      <td>...</td>\n",
       "      <td>...</td>\n",
       "    </tr>\n",
       "    <tr>\n",
       "      <th>238</th>\n",
       "      <td>CALDAS</td>\n",
       "      <td>2013-06-25</td>\n",
       "      <td>18</td>\n",
       "      <td>0.0</td>\n",
       "      <td>2013</td>\n",
       "      <td>6</td>\n",
       "      <td>25</td>\n",
       "    </tr>\n",
       "    <tr>\n",
       "      <th>239</th>\n",
       "      <td>CALDAS</td>\n",
       "      <td>2013-06-25</td>\n",
       "      <td>19</td>\n",
       "      <td>0.0</td>\n",
       "      <td>2013</td>\n",
       "      <td>6</td>\n",
       "      <td>25</td>\n",
       "    </tr>\n",
       "    <tr>\n",
       "      <th>240</th>\n",
       "      <td>CONCEICAO DAS ALAGOAS</td>\n",
       "      <td>2018-02-07</td>\n",
       "      <td>17</td>\n",
       "      <td>0.0</td>\n",
       "      <td>2018</td>\n",
       "      <td>2</td>\n",
       "      <td>7</td>\n",
       "    </tr>\n",
       "    <tr>\n",
       "      <th>241</th>\n",
       "      <td>PASSA QUATRO</td>\n",
       "      <td>2018-02-07</td>\n",
       "      <td>17</td>\n",
       "      <td>0.0</td>\n",
       "      <td>2018</td>\n",
       "      <td>2</td>\n",
       "      <td>7</td>\n",
       "    </tr>\n",
       "    <tr>\n",
       "      <th>242</th>\n",
       "      <td>CALDAS</td>\n",
       "      <td>2018-02-07</td>\n",
       "      <td>17</td>\n",
       "      <td>0.0</td>\n",
       "      <td>2018</td>\n",
       "      <td>2</td>\n",
       "      <td>7</td>\n",
       "    </tr>\n",
       "  </tbody>\n",
       "</table>\n",
       "<p>448296 rows × 7 columns</p>\n",
       "</div>"
      ],
      "text/plain": [
       "                   Estação       Data  Hora   mm  CO_ANO  CO_MES  Dia\n",
       "0    CONCEICAO DAS ALAGOAS 2020-01-01     0  0.0    2020       1    1\n",
       "1    CONCEICAO DAS ALAGOAS 2020-01-01     1  0.0    2020       1    1\n",
       "2    CONCEICAO DAS ALAGOAS 2020-01-01     2  0.0    2020       1    1\n",
       "3    CONCEICAO DAS ALAGOAS 2020-01-01     3  0.0    2020       1    1\n",
       "4    CONCEICAO DAS ALAGOAS 2020-01-01     4  0.0    2020       1    1\n",
       "..                     ...        ...   ...  ...     ...     ...  ...\n",
       "238                 CALDAS 2013-06-25    18  0.0    2013       6   25\n",
       "239                 CALDAS 2013-06-25    19  0.0    2013       6   25\n",
       "240  CONCEICAO DAS ALAGOAS 2018-02-07    17  0.0    2018       2    7\n",
       "241           PASSA QUATRO 2018-02-07    17  0.0    2018       2    7\n",
       "242                 CALDAS 2018-02-07    17  0.0    2018       2    7\n",
       "\n",
       "[448296 rows x 7 columns]"
      ]
     },
     "execution_count": 20,
     "metadata": {},
     "output_type": "execute_result"
    }
   ],
   "source": [
    "chuvas_m_r_pa_clean=pd.concat([chuvas_m_r_pa_notna,chuvas_m_r_pa_corr_1,chuvas_m_r_pa_corr_2])\n",
    "chuvas_m_r_pa_clean"
   ]
  },
  {
   "cell_type": "code",
   "execution_count": 21,
   "id": "2f40e7e9-de78-480a-a90e-1d41929e07b8",
   "metadata": {},
   "outputs": [
    {
     "data": {
      "text/plain": [
       "0"
      ]
     },
     "execution_count": 21,
     "metadata": {},
     "output_type": "execute_result"
    }
   ],
   "source": [
    "chuvas_m_r_pa_clean[['Data','Hora','CO_ANO','CO_MES','Dia','Hora','Estação']].duplicated().sum()"
   ]
  },
  {
   "cell_type": "code",
   "execution_count": 22,
   "id": "bd1b63b0-aaf5-4671-9bab-478082e8ce2d",
   "metadata": {},
   "outputs": [
    {
     "data": {
      "text/html": [
       "<div>\n",
       "<style scoped>\n",
       "    .dataframe tbody tr th:only-of-type {\n",
       "        vertical-align: middle;\n",
       "    }\n",
       "\n",
       "    .dataframe tbody tr th {\n",
       "        vertical-align: top;\n",
       "    }\n",
       "\n",
       "    .dataframe thead th {\n",
       "        text-align: right;\n",
       "    }\n",
       "</style>\n",
       "<table border=\"1\" class=\"dataframe\">\n",
       "  <thead>\n",
       "    <tr style=\"text-align: right;\">\n",
       "      <th></th>\n",
       "      <th>Estação</th>\n",
       "      <th>Data</th>\n",
       "      <th>Hora</th>\n",
       "      <th>mm</th>\n",
       "      <th>CO_ANO</th>\n",
       "      <th>CO_MES</th>\n",
       "      <th>Dia</th>\n",
       "    </tr>\n",
       "  </thead>\n",
       "  <tbody>\n",
       "    <tr>\n",
       "      <th>0</th>\n",
       "      <td>CONCEICAO DAS ALAGOAS</td>\n",
       "      <td>2020-01-01</td>\n",
       "      <td>0</td>\n",
       "      <td>0.0</td>\n",
       "      <td>2020</td>\n",
       "      <td>1</td>\n",
       "      <td>1</td>\n",
       "    </tr>\n",
       "  </tbody>\n",
       "</table>\n",
       "</div>"
      ],
      "text/plain": [
       "                 Estação       Data  Hora   mm  CO_ANO  CO_MES  Dia\n",
       "0  CONCEICAO DAS ALAGOAS 2020-01-01     0  0.0    2020       1    1"
      ]
     },
     "execution_count": 22,
     "metadata": {},
     "output_type": "execute_result"
    }
   ],
   "source": [
    "chuvas_m_r_pa_clean.head(1)"
   ]
  },
  {
   "cell_type": "code",
   "execution_count": 23,
   "id": "82a11254-b3bc-4741-bf09-705d39372886",
   "metadata": {},
   "outputs": [
    {
     "data": {
      "image/png": "[encoded data removed]",
      "text/plain": [
       "<Figure size 1500x500 with 3 Axes>"
      ]
     },
     "metadata": {},
     "output_type": "display_data"
    }
   ],
   "source": [
    "import numpy as np\n",
    "k=chuvas_m_r_pa_clean[chuvas_m_r_pa_clean.mm>0]\n",
    "k['mm_log']=np.log10(k.mm)\n",
    "k=k[k.mm_log>0]\n",
    "sns.displot(data=k,x='mm_log',log_scale=True,col='Estação')\\\n",
    ".fig.suptitle('Precipitação Horária\\n\\\n",
    "na Região de Pouso Alegre',y=1.1)\n",
    "plt.show()"
   ]
  },
  {
   "cell_type": "code",
   "execution_count": 24,
   "id": "75bde3d8-524e-4995-9299-d4f86bdb110b",
   "metadata": {},
   "outputs": [
    {
     "data": {
      "text/plain": [
       "0.19952623149688797"
      ]
     },
     "execution_count": 24,
     "metadata": {},
     "output_type": "execute_result"
    }
   ],
   "source": [
    "k=k[k.mm_log>10**-0.7]\n",
    "10**-0.7"
   ]
  },
  {
   "cell_type": "markdown",
   "id": "223dc486-e43d-40e9-aca5-8e734d4cfc77",
   "metadata": {},
   "source": [
    "Os dados não parecem normalmente distribuidos. Os demais dados meteorológicos poderão servir para identificar clusters de chuvas e auxiliar normalização. Porém isso não será feito agora. SErão descartadas as ocorrencias de mm_log menor que 10**0.07."
   ]
  },
  {
   "cell_type": "code",
   "execution_count": 25,
   "id": "138bfc6c-5069-41df-bb8d-f901e32274b6",
   "metadata": {},
   "outputs": [],
   "source": [
    "chuvas_m_r_pa_clean=chuvas_m_r_pa_clean[chuvas_m_r_pa_clean.mm>k.mm.min()]"
   ]
  },
  {
   "cell_type": "markdown",
   "id": "ac982d64-9a45-4f33-9aa1-76c56f4ddd8f",
   "metadata": {},
   "source": [
    "Agrupando para igualar a unidade de tempo com os demais dados do projeto."
   ]
  },
  {
   "cell_type": "code",
   "execution_count": 26,
   "id": "6deb1b17-7434-45dd-8f0c-84ddff127018",
   "metadata": {},
   "outputs": [
    {
     "data": {
      "text/html": [
       "<div>\n",
       "<style scoped>\n",
       "    .dataframe tbody tr th:only-of-type {\n",
       "        vertical-align: middle;\n",
       "    }\n",
       "\n",
       "    .dataframe tbody tr th {\n",
       "        vertical-align: top;\n",
       "    }\n",
       "\n",
       "    .dataframe thead th {\n",
       "        text-align: right;\n",
       "    }\n",
       "</style>\n",
       "<table border=\"1\" class=\"dataframe\">\n",
       "  <thead>\n",
       "    <tr style=\"text-align: right;\">\n",
       "      <th></th>\n",
       "      <th>Estação</th>\n",
       "      <th>Data</th>\n",
       "      <th>Hora</th>\n",
       "      <th>mm</th>\n",
       "      <th>CO_ANO</th>\n",
       "      <th>CO_MES</th>\n",
       "      <th>Dia</th>\n",
       "    </tr>\n",
       "  </thead>\n",
       "  <tbody>\n",
       "    <tr>\n",
       "      <th>21</th>\n",
       "      <td>CONCEICAO DAS ALAGOAS</td>\n",
       "      <td>2020-01-01</td>\n",
       "      <td>21</td>\n",
       "      <td>10.4</td>\n",
       "      <td>2020</td>\n",
       "      <td>1</td>\n",
       "      <td>1</td>\n",
       "    </tr>\n",
       "  </tbody>\n",
       "</table>\n",
       "</div>"
      ],
      "text/plain": [
       "                  Estação       Data  Hora    mm  CO_ANO  CO_MES  Dia\n",
       "21  CONCEICAO DAS ALAGOAS 2020-01-01    21  10.4    2020       1    1"
      ]
     },
     "execution_count": 26,
     "metadata": {},
     "output_type": "execute_result"
    }
   ],
   "source": [
    "chuvas_m_r_pa_clean.head(1)"
   ]
  },
  {
   "cell_type": "code",
   "execution_count": 27,
   "id": "3146ca45-b9a3-422a-aa75-8d85528ae52a",
   "metadata": {},
   "outputs": [
    {
     "data": {
      "text/html": [
       "<div>\n",
       "<style scoped>\n",
       "    .dataframe tbody tr th:only-of-type {\n",
       "        vertical-align: middle;\n",
       "    }\n",
       "\n",
       "    .dataframe tbody tr th {\n",
       "        vertical-align: top;\n",
       "    }\n",
       "\n",
       "    .dataframe thead th {\n",
       "        text-align: right;\n",
       "    }\n",
       "</style>\n",
       "<table border=\"1\" class=\"dataframe\">\n",
       "  <thead>\n",
       "    <tr style=\"text-align: right;\">\n",
       "      <th></th>\n",
       "      <th>Estação</th>\n",
       "      <th>CO_ANO</th>\n",
       "      <th>CO_MES</th>\n",
       "      <th>mm</th>\n",
       "      <th>Data</th>\n",
       "    </tr>\n",
       "  </thead>\n",
       "  <tbody>\n",
       "    <tr>\n",
       "      <th>0</th>\n",
       "      <td>CALDAS</td>\n",
       "      <td>2006</td>\n",
       "      <td>11</td>\n",
       "      <td>51.0</td>\n",
       "      <td>2006-11-01</td>\n",
       "    </tr>\n",
       "    <tr>\n",
       "      <th>1</th>\n",
       "      <td>CALDAS</td>\n",
       "      <td>2006</td>\n",
       "      <td>12</td>\n",
       "      <td>350.6</td>\n",
       "      <td>2006-12-01</td>\n",
       "    </tr>\n",
       "    <tr>\n",
       "      <th>2</th>\n",
       "      <td>CALDAS</td>\n",
       "      <td>2007</td>\n",
       "      <td>1</td>\n",
       "      <td>475.2</td>\n",
       "      <td>2007-01-01</td>\n",
       "    </tr>\n",
       "    <tr>\n",
       "      <th>3</th>\n",
       "      <td>CALDAS</td>\n",
       "      <td>2007</td>\n",
       "      <td>2</td>\n",
       "      <td>203.0</td>\n",
       "      <td>2007-02-01</td>\n",
       "    </tr>\n",
       "    <tr>\n",
       "      <th>4</th>\n",
       "      <td>CALDAS</td>\n",
       "      <td>2007</td>\n",
       "      <td>3</td>\n",
       "      <td>65.4</td>\n",
       "      <td>2007-03-01</td>\n",
       "    </tr>\n",
       "  </tbody>\n",
       "</table>\n",
       "</div>"
      ],
      "text/plain": [
       "  Estação  CO_ANO  CO_MES     mm       Data\n",
       "0  CALDAS    2006      11   51.0 2006-11-01\n",
       "1  CALDAS    2006      12  350.6 2006-12-01\n",
       "2  CALDAS    2007       1  475.2 2007-01-01\n",
       "3  CALDAS    2007       2  203.0 2007-02-01\n",
       "4  CALDAS    2007       3   65.4 2007-03-01"
      ]
     },
     "execution_count": 27,
     "metadata": {},
     "output_type": "execute_result"
    }
   ],
   "source": [
    "chuvas_m_r_pa_clean=chuvas_m_r_pa_clean.groupby(by=['Estação','CO_ANO','CO_MES'])['mm'].sum().reset_index()\n",
    "chuvas_m_r_pa_clean['Data']=pd.to_datetime(chuvas_m_r_pa_clean.CO_ANO.astype(str)+'/'+chuvas_m_r_pa_clean.CO_MES.astype(str)+'/1')\n",
    "chuvas_m_r_pa_clean.head()"
   ]
  },
  {
   "cell_type": "code",
   "execution_count": 28,
   "id": "f3bc3feb-9f99-4177-b8c5-46671c24daed",
   "metadata": {},
   "outputs": [
    {
     "data": {
      "image/png": "[encoded data removed]",
      "text/plain": [
       "<Figure size 640x480 with 1 Axes>"
      ]
     },
     "metadata": {},
     "output_type": "display_data"
    }
   ],
   "source": [
    "sns.scatterplot(data=chuvas_m_r_pa_clean[chuvas_m_r_pa_clean.mm>0],x='Data',y='mm', hue='Estação').set_title('Chuvas nos Municípios\\nda Região de Pouso Alegre',y=1.1)\n",
    "plt.show()"
   ]
  },
  {
   "cell_type": "markdown",
   "id": "1c9dc366-a85b-4ee2-97b8-6015b6296c98",
   "metadata": {},
   "source": [
    "Visualmente da para conferir que não ouve interrupção e há compatibilidade de valores entre as estações meteorológicas."
   ]
  },
  {
   "cell_type": "code",
   "execution_count": 29,
   "id": "6043e8c0-3d1d-49ee-869b-4b506c89e79c",
   "metadata": {},
   "outputs": [
    {
     "data": {
      "text/plain": [
       "Estação\n",
       "CALDAS                  2006-11-01\n",
       "CONCEICAO DAS ALAGOAS   2006-08-01\n",
       "PASSA QUATRO            2007-07-01\n",
       "Name: Data, dtype: datetime64[ns]"
      ]
     },
     "execution_count": 29,
     "metadata": {},
     "output_type": "execute_result"
    }
   ],
   "source": [
    "chuvas_m_r_pa_clean.groupby('Estação').Data.min()"
   ]
  },
  {
   "cell_type": "code",
   "execution_count": 30,
   "id": "f7760221-c591-4af9-a2ce-a6d14bf7e45d",
   "metadata": {},
   "outputs": [],
   "source": [
    "chuvas_m_r_pa_clean=chuvas_m_r_pa_clean[chuvas_m_r_pa_clean.Data>=chuvas_m_r_pa_clean[chuvas_m_r_pa_clean.Estação==\"PASSA QUATRO\"].Data.min()]"
   ]
  },
  {
   "cell_type": "code",
   "execution_count": 31,
   "id": "b9d428f7-4c3f-4efd-9ba0-de8357327599",
   "metadata": {},
   "outputs": [
    {
     "data": {
      "text/plain": [
       "Estação\n",
       "CALDAS                  2007-07-01\n",
       "CONCEICAO DAS ALAGOAS   2007-07-01\n",
       "PASSA QUATRO            2007-07-01\n",
       "Name: Data, dtype: datetime64[ns]"
      ]
     },
     "execution_count": 31,
     "metadata": {},
     "output_type": "execute_result"
    }
   ],
   "source": [
    "chuvas_m_r_pa_clean.groupby('Estação').Data.min()"
   ]
  },
  {
   "cell_type": "code",
   "execution_count": 32,
   "id": "44166a8e-025d-4b38-a6c5-7c6f6437114c",
   "metadata": {},
   "outputs": [
    {
     "data": {
      "text/html": [
       "<div>\n",
       "<style scoped>\n",
       "    .dataframe tbody tr th:only-of-type {\n",
       "        vertical-align: middle;\n",
       "    }\n",
       "\n",
       "    .dataframe tbody tr th {\n",
       "        vertical-align: top;\n",
       "    }\n",
       "\n",
       "    .dataframe thead th {\n",
       "        text-align: right;\n",
       "    }\n",
       "</style>\n",
       "<table border=\"1\" class=\"dataframe\">\n",
       "  <thead>\n",
       "    <tr style=\"text-align: right;\">\n",
       "      <th></th>\n",
       "      <th>Estação</th>\n",
       "      <th>CO_ANO</th>\n",
       "      <th>CO_MES</th>\n",
       "      <th>mm</th>\n",
       "      <th>Data</th>\n",
       "    </tr>\n",
       "  </thead>\n",
       "  <tbody>\n",
       "    <tr>\n",
       "      <th>8</th>\n",
       "      <td>CALDAS</td>\n",
       "      <td>2007</td>\n",
       "      <td>7</td>\n",
       "      <td>118.0</td>\n",
       "      <td>2007-07-01</td>\n",
       "    </tr>\n",
       "  </tbody>\n",
       "</table>\n",
       "</div>"
      ],
      "text/plain": [
       "  Estação  CO_ANO  CO_MES     mm       Data\n",
       "8  CALDAS    2007       7  118.0 2007-07-01"
      ]
     },
     "execution_count": 32,
     "metadata": {},
     "output_type": "execute_result"
    }
   ],
   "source": [
    "chuvas_m_r_pa_clean.head(1)"
   ]
  },
  {
   "cell_type": "code",
   "execution_count": 33,
   "id": "615ea394-fe5c-4c75-8176-b6983792b412",
   "metadata": {},
   "outputs": [
    {
     "data": {
      "text/plain": [
       "0"
      ]
     },
     "execution_count": 33,
     "metadata": {},
     "output_type": "execute_result"
    }
   ],
   "source": [
    "chuvas_m_r_pa_clean.duplicated(subset=['CO_ANO','CO_MES','Estação','Data']).sum()"
   ]
  },
  {
   "cell_type": "code",
   "execution_count": 34,
   "id": "bed25dbd-e4ec-4d7a-b08d-dff3184e4ecf",
   "metadata": {},
   "outputs": [],
   "source": [
    "chuvas_m_r_pa_clean.to_csv('~/git/comex_sh_mun/temp/chuvas_m_r_pa_clean.csv',index=False)"
   ]
  }
 ],
 "metadata": {
  "kernelspec": {
   "display_name": "Python 3 (ipykernel)",
   "language": "python",
   "name": "python3"
  },
  "language_info": {
   "codemirror_mode": {
    "name": "ipython",
    "version": 3
   },
   "file_extension": ".py",
   "mimetype": "text/x-python",
   "name": "python",
   "nbconvert_exporter": "python",
   "pygments_lexer": "ipython3",
   "version": "3.11.5"
  }
 },
 "nbformat": 4,
 "nbformat_minor": 5
}
