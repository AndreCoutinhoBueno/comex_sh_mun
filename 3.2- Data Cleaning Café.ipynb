{
 "cells": [
  {
   "cell_type": "code",
   "execution_count": 1,
   "id": "53ab2fc5-dcde-4b81-82e3-b22485b17679",
   "metadata": {},
   "outputs": [],
   "source": [
    "%run '~/git/Bibliotecas.ipynb'"
   ]
  },
  {
   "cell_type": "markdown",
   "id": "520353b2-2db2-42d7-a801-e5e8c463d6e1",
   "metadata": {},
   "source": [
    "# 1- Exportação de Café por Município da Região de Pouso Alegre"
   ]
  },
  {
   "cell_type": "code",
   "execution_count": 2,
   "id": "10b57946-49f0-4ca1-af83-723a54e143c5",
   "metadata": {},
   "outputs": [
    {
     "data": {
      "text/html": [
       "<div>\n",
       "<style scoped>\n",
       "    .dataframe tbody tr th:only-of-type {\n",
       "        vertical-align: middle;\n",
       "    }\n",
       "\n",
       "    .dataframe tbody tr th {\n",
       "        vertical-align: top;\n",
       "    }\n",
       "\n",
       "    .dataframe thead th {\n",
       "        text-align: right;\n",
       "    }\n",
       "</style>\n",
       "<table border=\"1\" class=\"dataframe\">\n",
       "  <thead>\n",
       "    <tr style=\"text-align: right;\">\n",
       "      <th></th>\n",
       "      <th>CO_ANO</th>\n",
       "      <th>CO_MES</th>\n",
       "      <th>SH4</th>\n",
       "      <th>CO_PAIS</th>\n",
       "      <th>SG_UF_MUN</th>\n",
       "      <th>CO_MUN</th>\n",
       "      <th>KG_LIQUIDO</th>\n",
       "      <th>VL_FOB</th>\n",
       "      <th>NO_MUN</th>\n",
       "      <th>NO_MUN_MIN</th>\n",
       "      <th>SG_UF</th>\n",
       "      <th>NO_SH4_POR</th>\n",
       "      <th>CO_SH2</th>\n",
       "      <th>NO_SH2_POR</th>\n",
       "    </tr>\n",
       "  </thead>\n",
       "  <tbody>\n",
       "    <tr>\n",
       "      <th>0</th>\n",
       "      <td>1997</td>\n",
       "      <td>3</td>\n",
       "      <td>901</td>\n",
       "      <td>764</td>\n",
       "      <td>MG</td>\n",
       "      <td>3102605</td>\n",
       "      <td>150000</td>\n",
       "      <td>514554</td>\n",
       "      <td>ANDRADAS</td>\n",
       "      <td>Andradas</td>\n",
       "      <td>MG</td>\n",
       "      <td>Café, mesmo torrado ou descafeinado; cascas e ...</td>\n",
       "      <td>9</td>\n",
       "      <td>Café, chá, mate e especiarias</td>\n",
       "    </tr>\n",
       "  </tbody>\n",
       "</table>\n",
       "</div>"
      ],
      "text/plain": [
       "   CO_ANO  CO_MES  SH4  CO_PAIS SG_UF_MUN   CO_MUN  KG_LIQUIDO  VL_FOB  \\\n",
       "0    1997       3  901      764        MG  3102605      150000  514554   \n",
       "\n",
       "     NO_MUN NO_MUN_MIN SG_UF  \\\n",
       "0  ANDRADAS   Andradas    MG   \n",
       "\n",
       "                                          NO_SH4_POR  CO_SH2  \\\n",
       "0  Café, mesmo torrado ou descafeinado; cascas e ...       9   \n",
       "\n",
       "                      NO_SH2_POR  \n",
       "0  Café, chá, mate e especiarias  "
      ]
     },
     "execution_count": 2,
     "metadata": {},
     "output_type": "execute_result"
    }
   ],
   "source": [
    "i_f_m_r_pa=pd.read_csv('~/git/Importacao-por-SH-e-Municipio/temp/e_c_m_r_pa.csv')\n",
    "i_f_m_r_pa.head(1)"
   ]
  },
  {
   "cell_type": "code",
   "execution_count": 3,
   "id": "276d8385-16f2-4b79-a9f7-8331bc64d29b",
   "metadata": {},
   "outputs": [],
   "source": [
    "i_f_m_r_pa=i_f_m_r_pa[i_f_m_r_pa.columns[[0,1,2,3,5,6,7,]].tolist()]"
   ]
  },
  {
   "cell_type": "code",
   "execution_count": 4,
   "id": "3913c3a4-334b-49c3-aed3-96539dedcf03",
   "metadata": {},
   "outputs": [],
   "source": [
    "# Cria manualmente a tabela de correção do dólar\n",
    "infl_dolar=pd.DataFrame({\n",
    " 'CO_ANO':np.arange(1997,2025),\n",
    " 'FATOR':[0.50,0.50,0.51,0.53,0.55,0.56,0.57,0.59,0.61,\\\n",
    " 0.63,0.64,0.67,0.67,0.68,0.70,0.72,0.73,0.74,\\\n",
    " 0.74,0.75,0.77,0.78,0.80,0.81,0.85,0.92,0.96,1.00]})\n",
    "\n",
    "i_f_m_r_pa=i_f_m_r_pa.merge(infl_dolar)\n",
    "\n",
    "i_f_m_r_pa['KG_LIQUIDO_real']=i_f_m_r_pa['KG_LIQUIDO']\n",
    "\n",
    "i_f_m_r_pa['KG_LIQUIDO']=i_f_m_r_pa['KG_LIQUIDO']/i_f_m_r_pa['FATOR']"
   ]
  },
  {
   "cell_type": "code",
   "execution_count": 5,
   "id": "79af2327-9b8f-4518-8637-efb03b6512c1",
   "metadata": {},
   "outputs": [
    {
     "data": {
      "text/html": [
       "<div>\n",
       "<style scoped>\n",
       "    .dataframe tbody tr th:only-of-type {\n",
       "        vertical-align: middle;\n",
       "    }\n",
       "\n",
       "    .dataframe tbody tr th {\n",
       "        vertical-align: top;\n",
       "    }\n",
       "\n",
       "    .dataframe thead th {\n",
       "        text-align: right;\n",
       "    }\n",
       "</style>\n",
       "<table border=\"1\" class=\"dataframe\">\n",
       "  <thead>\n",
       "    <tr style=\"text-align: right;\">\n",
       "      <th></th>\n",
       "      <th>CO_ANO</th>\n",
       "      <th>CO_MES</th>\n",
       "      <th>SH4</th>\n",
       "      <th>CO_PAIS</th>\n",
       "      <th>CO_MUN</th>\n",
       "      <th>KG_LIQUIDO</th>\n",
       "      <th>VL_FOB</th>\n",
       "      <th>FATOR</th>\n",
       "      <th>KG_LIQUIDO_real</th>\n",
       "    </tr>\n",
       "  </thead>\n",
       "  <tbody>\n",
       "  </tbody>\n",
       "</table>\n",
       "</div>"
      ],
      "text/plain": [
       "Empty DataFrame\n",
       "Columns: [CO_ANO, CO_MES, SH4, CO_PAIS, CO_MUN, KG_LIQUIDO, VL_FOB, FATOR, KG_LIQUIDO_real]\n",
       "Index: []"
      ]
     },
     "execution_count": 5,
     "metadata": {},
     "output_type": "execute_result"
    }
   ],
   "source": [
    "i_f_m_r_pa[i_f_m_r_pa.duplicated()]"
   ]
  },
  {
   "cell_type": "code",
   "execution_count": 6,
   "id": "f13da153-6d4e-458c-a40c-20ffcec8beda",
   "metadata": {},
   "outputs": [
    {
     "data": {
      "text/plain": [
       "0"
      ]
     },
     "execution_count": 6,
     "metadata": {},
     "output_type": "execute_result"
    }
   ],
   "source": [
    "len(i_f_m_r_pa[i_f_m_r_pa.duplicated(subset=['CO_ANO','CO_MES','CO_PAIS','SH4','CO_MUN'])])"
   ]
  },
  {
   "cell_type": "code",
   "execution_count": 7,
   "id": "96f296f6-8b9a-4012-833f-b38542cd66fd",
   "metadata": {},
   "outputs": [
    {
     "data": {
      "text/html": [
       "<div>\n",
       "<style scoped>\n",
       "    .dataframe tbody tr th:only-of-type {\n",
       "        vertical-align: middle;\n",
       "    }\n",
       "\n",
       "    .dataframe tbody tr th {\n",
       "        vertical-align: top;\n",
       "    }\n",
       "\n",
       "    .dataframe thead th {\n",
       "        text-align: right;\n",
       "    }\n",
       "</style>\n",
       "<table border=\"1\" class=\"dataframe\">\n",
       "  <thead>\n",
       "    <tr style=\"text-align: right;\">\n",
       "      <th></th>\n",
       "      <th>CO_ANO</th>\n",
       "      <th>CO_MES</th>\n",
       "      <th>SH4</th>\n",
       "      <th>CO_PAIS</th>\n",
       "      <th>CO_MUN</th>\n",
       "      <th>KG_LIQUIDO</th>\n",
       "      <th>VL_FOB</th>\n",
       "      <th>FATOR</th>\n",
       "      <th>KG_LIQUIDO_real</th>\n",
       "    </tr>\n",
       "  </thead>\n",
       "  <tbody>\n",
       "  </tbody>\n",
       "</table>\n",
       "</div>"
      ],
      "text/plain": [
       "Empty DataFrame\n",
       "Columns: [CO_ANO, CO_MES, SH4, CO_PAIS, CO_MUN, KG_LIQUIDO, VL_FOB, FATOR, KG_LIQUIDO_real]\n",
       "Index: []"
      ]
     },
     "execution_count": 7,
     "metadata": {},
     "output_type": "execute_result"
    }
   ],
   "source": [
    "i_f_m_r_pa[i_f_m_r_pa.duplicated(subset=['CO_MUN','CO_ANO','CO_MES','SH4','CO_PAIS'])]"
   ]
  },
  {
   "cell_type": "code",
   "execution_count": 8,
   "id": "8965fda2-63ea-4263-a8a2-974d2f945f72",
   "metadata": {},
   "outputs": [
    {
     "data": {
      "text/html": [
       "<div>\n",
       "<style scoped>\n",
       "    .dataframe tbody tr th:only-of-type {\n",
       "        vertical-align: middle;\n",
       "    }\n",
       "\n",
       "    .dataframe tbody tr th {\n",
       "        vertical-align: top;\n",
       "    }\n",
       "\n",
       "    .dataframe thead th {\n",
       "        text-align: right;\n",
       "    }\n",
       "</style>\n",
       "<table border=\"1\" class=\"dataframe\">\n",
       "  <thead>\n",
       "    <tr style=\"text-align: right;\">\n",
       "      <th></th>\n",
       "      <th>CO_ANO</th>\n",
       "      <th>CO_MES</th>\n",
       "      <th>SH4</th>\n",
       "      <th>CO_PAIS</th>\n",
       "      <th>CO_MUN</th>\n",
       "      <th>KG_LIQUIDO</th>\n",
       "      <th>VL_FOB</th>\n",
       "      <th>FATOR</th>\n",
       "      <th>KG_LIQUIDO_real</th>\n",
       "    </tr>\n",
       "  </thead>\n",
       "  <tbody>\n",
       "    <tr>\n",
       "      <th>5216</th>\n",
       "      <td>2011</td>\n",
       "      <td>9</td>\n",
       "      <td>901</td>\n",
       "      <td>23</td>\n",
       "      <td>3102605</td>\n",
       "      <td>0.0</td>\n",
       "      <td>6</td>\n",
       "      <td>0.70</td>\n",
       "      <td>0</td>\n",
       "    </tr>\n",
       "    <tr>\n",
       "      <th>9931</th>\n",
       "      <td>2019</td>\n",
       "      <td>8</td>\n",
       "      <td>901</td>\n",
       "      <td>427</td>\n",
       "      <td>3151800</td>\n",
       "      <td>0.0</td>\n",
       "      <td>1</td>\n",
       "      <td>0.80</td>\n",
       "      <td>0</td>\n",
       "    </tr>\n",
       "    <tr>\n",
       "      <th>10480</th>\n",
       "      <td>2019</td>\n",
       "      <td>8</td>\n",
       "      <td>901</td>\n",
       "      <td>160</td>\n",
       "      <td>3146008</td>\n",
       "      <td>0.0</td>\n",
       "      <td>3568</td>\n",
       "      <td>0.80</td>\n",
       "      <td>0</td>\n",
       "    </tr>\n",
       "    <tr>\n",
       "      <th>10660</th>\n",
       "      <td>2020</td>\n",
       "      <td>9</td>\n",
       "      <td>901</td>\n",
       "      <td>69</td>\n",
       "      <td>3108404</td>\n",
       "      <td>0.0</td>\n",
       "      <td>10</td>\n",
       "      <td>0.81</td>\n",
       "      <td>0</td>\n",
       "    </tr>\n",
       "    <tr>\n",
       "      <th>10901</th>\n",
       "      <td>2020</td>\n",
       "      <td>8</td>\n",
       "      <td>901</td>\n",
       "      <td>455</td>\n",
       "      <td>3108404</td>\n",
       "      <td>0.0</td>\n",
       "      <td>5</td>\n",
       "      <td>0.81</td>\n",
       "      <td>0</td>\n",
       "    </tr>\n",
       "    <tr>\n",
       "      <th>10997</th>\n",
       "      <td>2020</td>\n",
       "      <td>8</td>\n",
       "      <td>901</td>\n",
       "      <td>628</td>\n",
       "      <td>3108404</td>\n",
       "      <td>0.0</td>\n",
       "      <td>10</td>\n",
       "      <td>0.81</td>\n",
       "      <td>0</td>\n",
       "    </tr>\n",
       "    <tr>\n",
       "      <th>11058</th>\n",
       "      <td>2020</td>\n",
       "      <td>8</td>\n",
       "      <td>901</td>\n",
       "      <td>375</td>\n",
       "      <td>3108404</td>\n",
       "      <td>0.0</td>\n",
       "      <td>3</td>\n",
       "      <td>0.81</td>\n",
       "      <td>0</td>\n",
       "    </tr>\n",
       "    <tr>\n",
       "      <th>11246</th>\n",
       "      <td>2020</td>\n",
       "      <td>8</td>\n",
       "      <td>901</td>\n",
       "      <td>607</td>\n",
       "      <td>3108404</td>\n",
       "      <td>0.0</td>\n",
       "      <td>10</td>\n",
       "      <td>0.81</td>\n",
       "      <td>0</td>\n",
       "    </tr>\n",
       "    <tr>\n",
       "      <th>11494</th>\n",
       "      <td>2021</td>\n",
       "      <td>5</td>\n",
       "      <td>901</td>\n",
       "      <td>275</td>\n",
       "      <td>3108404</td>\n",
       "      <td>0.0</td>\n",
       "      <td>10</td>\n",
       "      <td>0.85</td>\n",
       "      <td>0</td>\n",
       "    </tr>\n",
       "    <tr>\n",
       "      <th>11933</th>\n",
       "      <td>2021</td>\n",
       "      <td>5</td>\n",
       "      <td>901</td>\n",
       "      <td>240</td>\n",
       "      <td>3102605</td>\n",
       "      <td>0.0</td>\n",
       "      <td>9</td>\n",
       "      <td>0.85</td>\n",
       "      <td>0</td>\n",
       "    </tr>\n",
       "  </tbody>\n",
       "</table>\n",
       "</div>"
      ],
      "text/plain": [
       "       CO_ANO  CO_MES  SH4  CO_PAIS   CO_MUN  KG_LIQUIDO  VL_FOB  FATOR  \\\n",
       "5216     2011       9  901       23  3102605         0.0       6   0.70   \n",
       "9931     2019       8  901      427  3151800         0.0       1   0.80   \n",
       "10480    2019       8  901      160  3146008         0.0    3568   0.80   \n",
       "10660    2020       9  901       69  3108404         0.0      10   0.81   \n",
       "10901    2020       8  901      455  3108404         0.0       5   0.81   \n",
       "10997    2020       8  901      628  3108404         0.0      10   0.81   \n",
       "11058    2020       8  901      375  3108404         0.0       3   0.81   \n",
       "11246    2020       8  901      607  3108404         0.0      10   0.81   \n",
       "11494    2021       5  901      275  3108404         0.0      10   0.85   \n",
       "11933    2021       5  901      240  3102605         0.0       9   0.85   \n",
       "\n",
       "       KG_LIQUIDO_real  \n",
       "5216                 0  \n",
       "9931                 0  \n",
       "10480                0  \n",
       "10660                0  \n",
       "10901                0  \n",
       "10997                0  \n",
       "11058                0  \n",
       "11246                0  \n",
       "11494                0  \n",
       "11933                0  "
      ]
     },
     "execution_count": 8,
     "metadata": {},
     "output_type": "execute_result"
    }
   ],
   "source": [
    "i_f_m_r_pa[i_f_m_r_pa.KG_LIQUIDO<=0]"
   ]
  },
  {
   "cell_type": "markdown",
   "id": "59ed25bb-649f-4f68-8977-db924d958faa",
   "metadata": {},
   "source": [
    "Como os registros com 0 KG apresentam também os valores em US$ desprezíveis, eles seráo descartados."
   ]
  },
  {
   "cell_type": "code",
   "execution_count": 9,
   "id": "64ccb4c6-889c-4a9c-9053-d111a2b718ef",
   "metadata": {},
   "outputs": [],
   "source": [
    "i_f_m_r_pa=i_f_m_r_pa[i_f_m_r_pa.KG_LIQUIDO>0]"
   ]
  },
  {
   "cell_type": "code",
   "execution_count": 10,
   "id": "352910e9-dd4c-43d6-9738-caaade54505f",
   "metadata": {},
   "outputs": [
    {
     "data": {
      "text/html": [
       "<div>\n",
       "<style scoped>\n",
       "    .dataframe tbody tr th:only-of-type {\n",
       "        vertical-align: middle;\n",
       "    }\n",
       "\n",
       "    .dataframe tbody tr th {\n",
       "        vertical-align: top;\n",
       "    }\n",
       "\n",
       "    .dataframe thead th {\n",
       "        text-align: right;\n",
       "    }\n",
       "</style>\n",
       "<table border=\"1\" class=\"dataframe\">\n",
       "  <thead>\n",
       "    <tr style=\"text-align: right;\">\n",
       "      <th></th>\n",
       "      <th>CO_ANO</th>\n",
       "      <th>CO_MES</th>\n",
       "      <th>SH4</th>\n",
       "      <th>CO_PAIS</th>\n",
       "      <th>CO_MUN</th>\n",
       "      <th>KG_LIQUIDO</th>\n",
       "      <th>VL_FOB</th>\n",
       "      <th>FATOR</th>\n",
       "      <th>KG_LIQUIDO_real</th>\n",
       "    </tr>\n",
       "  </thead>\n",
       "  <tbody>\n",
       "    <tr>\n",
       "      <th>10204</th>\n",
       "      <td>2019</td>\n",
       "      <td>9</td>\n",
       "      <td>901</td>\n",
       "      <td>427</td>\n",
       "      <td>3151800</td>\n",
       "      <td>1.25</td>\n",
       "      <td>0</td>\n",
       "      <td>0.8</td>\n",
       "      <td>1</td>\n",
       "    </tr>\n",
       "  </tbody>\n",
       "</table>\n",
       "</div>"
      ],
      "text/plain": [
       "       CO_ANO  CO_MES  SH4  CO_PAIS   CO_MUN  KG_LIQUIDO  VL_FOB  FATOR  \\\n",
       "10204    2019       9  901      427  3151800        1.25       0    0.8   \n",
       "\n",
       "       KG_LIQUIDO_real  \n",
       "10204                1  "
      ]
     },
     "execution_count": 10,
     "metadata": {},
     "output_type": "execute_result"
    }
   ],
   "source": [
    "i_f_m_r_pa[i_f_m_r_pa.VL_FOB<=0]"
   ]
  },
  {
   "cell_type": "code",
   "execution_count": 11,
   "id": "758ae7c3-da06-4616-a943-a4540bb44048",
   "metadata": {},
   "outputs": [
    {
     "data": {
      "image/png": "[encoded data removed]",
      "text/plain": [
       "<Figure size 500x500 with 1 Axes>"
      ]
     },
     "metadata": {},
     "output_type": "display_data"
    }
   ],
   "source": [
    "sns.displot(data=i_f_m_r_pa,x='KG_LIQUIDO',log_scale=True, bins=15)\\\n",
    ".fig.suptitle('Importação de Fertilizantes por Município\\n da Região de Pouso Alegre',y=1.1)\n",
    "plt.show()"
   ]
  },
  {
   "cell_type": "markdown",
   "id": "52ef2126-699c-461c-a42c-e4c954b0f387",
   "metadata": {},
   "source": [
    "A distribuição dos valores de peso serão considerados normais."
   ]
  },
  {
   "cell_type": "code",
   "execution_count": 12,
   "id": "ed92239e-bc69-4fc9-9df3-9ff05f9125a5",
   "metadata": {},
   "outputs": [],
   "source": [
    "i_f_m_r_pa=i_f_m_r_pa.assign(descarte_peso='não')"
   ]
  },
  {
   "cell_type": "code",
   "execution_count": 13,
   "id": "7c57f587-0c5a-4efc-bdc5-07f3ae7e1d47",
   "metadata": {},
   "outputs": [
    {
     "data": {
      "text/html": [
       "<div>\n",
       "<style scoped>\n",
       "    .dataframe tbody tr th:only-of-type {\n",
       "        vertical-align: middle;\n",
       "    }\n",
       "\n",
       "    .dataframe tbody tr th {\n",
       "        vertical-align: top;\n",
       "    }\n",
       "\n",
       "    .dataframe thead th {\n",
       "        text-align: right;\n",
       "    }\n",
       "</style>\n",
       "<table border=\"1\" class=\"dataframe\">\n",
       "  <thead>\n",
       "    <tr style=\"text-align: right;\">\n",
       "      <th></th>\n",
       "      <th>CO_ANO</th>\n",
       "      <th>CO_MES</th>\n",
       "      <th>SH4</th>\n",
       "      <th>CO_PAIS</th>\n",
       "      <th>CO_MUN</th>\n",
       "      <th>KG_LIQUIDO</th>\n",
       "      <th>VL_FOB</th>\n",
       "      <th>FATOR</th>\n",
       "      <th>KG_LIQUIDO_real</th>\n",
       "      <th>descarte_peso</th>\n",
       "    </tr>\n",
       "  </thead>\n",
       "  <tbody>\n",
       "  </tbody>\n",
       "</table>\n",
       "</div>"
      ],
      "text/plain": [
       "Empty DataFrame\n",
       "Columns: [CO_ANO, CO_MES, SH4, CO_PAIS, CO_MUN, KG_LIQUIDO, VL_FOB, FATOR, KG_LIQUIDO_real, descarte_peso]\n",
       "Index: []"
      ]
     },
     "execution_count": 13,
     "metadata": {},
     "output_type": "execute_result"
    }
   ],
   "source": [
    "i_f_m_r_pa[i_f_m_r_pa.KG_LIQUIDO<=0]"
   ]
  },
  {
   "cell_type": "code",
   "execution_count": 14,
   "id": "bfc8bfe8-d09b-4ece-8587-e8314ef09726",
   "metadata": {},
   "outputs": [
    {
     "data": {
      "text/html": [
       "<div>\n",
       "<style scoped>\n",
       "    .dataframe tbody tr th:only-of-type {\n",
       "        vertical-align: middle;\n",
       "    }\n",
       "\n",
       "    .dataframe tbody tr th {\n",
       "        vertical-align: top;\n",
       "    }\n",
       "\n",
       "    .dataframe thead th {\n",
       "        text-align: right;\n",
       "    }\n",
       "</style>\n",
       "<table border=\"1\" class=\"dataframe\">\n",
       "  <thead>\n",
       "    <tr style=\"text-align: right;\">\n",
       "      <th></th>\n",
       "      <th>CO_ANO</th>\n",
       "      <th>CO_MES</th>\n",
       "      <th>SH4</th>\n",
       "      <th>CO_PAIS</th>\n",
       "      <th>CO_MUN</th>\n",
       "      <th>KG_LIQUIDO</th>\n",
       "      <th>VL_FOB</th>\n",
       "      <th>FATOR</th>\n",
       "      <th>KG_LIQUIDO_real</th>\n",
       "      <th>descarte_peso</th>\n",
       "    </tr>\n",
       "  </thead>\n",
       "  <tbody>\n",
       "    <tr>\n",
       "      <th>10204</th>\n",
       "      <td>2019</td>\n",
       "      <td>9</td>\n",
       "      <td>901</td>\n",
       "      <td>427</td>\n",
       "      <td>3151800</td>\n",
       "      <td>1.25</td>\n",
       "      <td>0</td>\n",
       "      <td>0.8</td>\n",
       "      <td>1</td>\n",
       "      <td>não</td>\n",
       "    </tr>\n",
       "  </tbody>\n",
       "</table>\n",
       "</div>"
      ],
      "text/plain": [
       "       CO_ANO  CO_MES  SH4  CO_PAIS   CO_MUN  KG_LIQUIDO  VL_FOB  FATOR  \\\n",
       "10204    2019       9  901      427  3151800        1.25       0    0.8   \n",
       "\n",
       "       KG_LIQUIDO_real descarte_peso  \n",
       "10204                1           não  "
      ]
     },
     "execution_count": 14,
     "metadata": {},
     "output_type": "execute_result"
    }
   ],
   "source": [
    "i_f_m_r_pa[i_f_m_r_pa.VL_FOB<=0]"
   ]
  },
  {
   "cell_type": "code",
   "execution_count": 15,
   "id": "b967f77a-eaf1-494f-8b18-5f8a32f773b4",
   "metadata": {},
   "outputs": [],
   "source": [
    "i_f_m_r_pa=i_f_m_r_pa[i_f_m_r_pa.VL_FOB>0]"
   ]
  },
  {
   "cell_type": "code",
   "execution_count": 16,
   "id": "de3d5955-0d0a-487a-9a34-0111bb569095",
   "metadata": {},
   "outputs": [],
   "source": [
    "i_f_m_r_pa.loc[i_f_m_r_pa.KG_LIQUIDO<0,'descarte_peso']='sim'"
   ]
  },
  {
   "cell_type": "code",
   "execution_count": 17,
   "id": "4b89f4bd-a669-45aa-a31f-6a972439b734",
   "metadata": {},
   "outputs": [
    {
     "data": {
      "image/png": "[encoded data removed]",
      "text/plain": [
       "<Figure size 500x500 with 1 Axes>"
      ]
     },
     "metadata": {},
     "output_type": "display_data"
    }
   ],
   "source": [
    "sns.displot(data=i_f_m_r_pa,x='VL_FOB',log_scale=True, bins=15)\\\n",
    ".fig.suptitle('Importação de Fertilizantes por Município\\n da Região de Pouso Alegre',y=1.1)\n",
    "plt.show()"
   ]
  },
  {
   "cell_type": "markdown",
   "id": "6201cfec-76f6-4e40-8862-9087c3ecb5b6",
   "metadata": {},
   "source": [
    "A distribuição dos valores FOB são considerados normais."
   ]
  },
  {
   "cell_type": "code",
   "execution_count": 18,
   "id": "3ae6126b-1a90-4ef1-8166-f0c14aa9a10d",
   "metadata": {},
   "outputs": [],
   "source": [
    "i_f_m_r_pa=i_f_m_r_pa.assign(descarte_vl='não')"
   ]
  },
  {
   "cell_type": "code",
   "execution_count": 19,
   "id": "4bf979e6-0810-42fc-a16b-157b0d30954d",
   "metadata": {},
   "outputs": [],
   "source": [
    "i_f_m_r_pa.loc[i_f_m_r_pa.KG_LIQUIDO<0,'descarte_vl']='sim'"
   ]
  },
  {
   "cell_type": "code",
   "execution_count": 20,
   "id": "13358689-0185-4173-a21f-85c5ffc92a0f",
   "metadata": {},
   "outputs": [
    {
     "data": {
      "text/html": [
       "<div>\n",
       "<style scoped>\n",
       "    .dataframe tbody tr th:only-of-type {\n",
       "        vertical-align: middle;\n",
       "    }\n",
       "\n",
       "    .dataframe tbody tr th {\n",
       "        vertical-align: top;\n",
       "    }\n",
       "\n",
       "    .dataframe thead th {\n",
       "        text-align: right;\n",
       "    }\n",
       "</style>\n",
       "<table border=\"1\" class=\"dataframe\">\n",
       "  <thead>\n",
       "    <tr style=\"text-align: right;\">\n",
       "      <th></th>\n",
       "      <th>CO_ANO</th>\n",
       "      <th>CO_MES</th>\n",
       "      <th>SH4</th>\n",
       "      <th>CO_PAIS</th>\n",
       "      <th>CO_MUN</th>\n",
       "      <th>KG_LIQUIDO</th>\n",
       "      <th>VL_FOB</th>\n",
       "      <th>FATOR</th>\n",
       "      <th>KG_LIQUIDO_real</th>\n",
       "      <th>descarte_peso</th>\n",
       "      <th>descarte_vl</th>\n",
       "    </tr>\n",
       "  </thead>\n",
       "  <tbody>\n",
       "  </tbody>\n",
       "</table>\n",
       "</div>"
      ],
      "text/plain": [
       "Empty DataFrame\n",
       "Columns: [CO_ANO, CO_MES, SH4, CO_PAIS, CO_MUN, KG_LIQUIDO, VL_FOB, FATOR, KG_LIQUIDO_real, descarte_peso, descarte_vl]\n",
       "Index: []"
      ]
     },
     "execution_count": 20,
     "metadata": {},
     "output_type": "execute_result"
    }
   ],
   "source": [
    "i_f_m_r_pa[i_f_m_r_pa.descarte_vl=='sim'].head(1)"
   ]
  },
  {
   "cell_type": "code",
   "execution_count": null,
   "id": "1bf2a162-2732-4948-8dbf-d793c08cb8fb",
   "metadata": {},
   "outputs": [],
   "source": []
  },
  {
   "cell_type": "code",
   "execution_count": null,
   "id": "b64c4ce4-cca5-4acb-8882-8dd783b9fa75",
   "metadata": {},
   "outputs": [],
   "source": []
  },
  {
   "cell_type": "code",
   "execution_count": null,
   "id": "c6e12cc4-d33f-46f2-8558-8fe1f52a239a",
   "metadata": {},
   "outputs": [],
   "source": []
  },
  {
   "cell_type": "code",
   "execution_count": 21,
   "id": "e6b8601e-761f-4c71-88b3-49cb3b597a4b",
   "metadata": {},
   "outputs": [],
   "source": [
    "i_f_m_r_pa['US$/KG']=i_f_m_r_pa.VL_FOB/i_f_m_r_pa.KG_LIQUIDO"
   ]
  },
  {
   "cell_type": "code",
   "execution_count": 22,
   "id": "2adcfee9-f15c-49c0-9e7e-b73132af1f36",
   "metadata": {},
   "outputs": [
    {
     "data": {
      "image/png": "[encoded data removed]",
      "text/plain": [
       "<Figure size 500x500 with 1 Axes>"
      ]
     },
     "metadata": {},
     "output_type": "display_data"
    }
   ],
   "source": [
    "sns.displot(data=i_f_m_r_pa,x='US$/KG',log_scale=True, bins=15)\\\n",
    ".fig.suptitle('Importação de Fertilizantes por Município\\n da Região de Pouso Alegre',y=1.1)\n",
    "plt.show()"
   ]
  },
  {
   "cell_type": "markdown",
   "id": "108616e7-8785-4dc4-af65-08d7e64c48b1",
   "metadata": {},
   "source": [
    "Os valores de preço maiores que 10**1.1 não são considerados normais e serão marcados para descarte."
   ]
  },
  {
   "cell_type": "code",
   "execution_count": 23,
   "id": "42442739-8469-4e38-80f2-a0427f13476c",
   "metadata": {},
   "outputs": [],
   "source": [
    "i_f_m_r_pa=i_f_m_r_pa.assign(descarte_preço='não')"
   ]
  },
  {
   "cell_type": "code",
   "execution_count": 24,
   "id": "1c805307-a6f3-4515-b442-62885d77c099",
   "metadata": {},
   "outputs": [],
   "source": [
    "i_f_m_r_pa.loc[i_f_m_r_pa['US$/KG']>10**1.1,'descarte_preço']='sim'"
   ]
  },
  {
   "cell_type": "code",
   "execution_count": 25,
   "id": "2879e206-140f-436b-94a2-3ac5f76b51af",
   "metadata": {},
   "outputs": [
    {
     "data": {
      "text/html": [
       "<div>\n",
       "<style scoped>\n",
       "    .dataframe tbody tr th:only-of-type {\n",
       "        vertical-align: middle;\n",
       "    }\n",
       "\n",
       "    .dataframe tbody tr th {\n",
       "        vertical-align: top;\n",
       "    }\n",
       "\n",
       "    .dataframe thead th {\n",
       "        text-align: right;\n",
       "    }\n",
       "</style>\n",
       "<table border=\"1\" class=\"dataframe\">\n",
       "  <thead>\n",
       "    <tr style=\"text-align: right;\">\n",
       "      <th></th>\n",
       "      <th>CO_ANO</th>\n",
       "      <th>CO_MES</th>\n",
       "      <th>SH4</th>\n",
       "      <th>CO_PAIS</th>\n",
       "      <th>CO_MUN</th>\n",
       "      <th>KG_LIQUIDO</th>\n",
       "      <th>VL_FOB</th>\n",
       "      <th>FATOR</th>\n",
       "      <th>KG_LIQUIDO_real</th>\n",
       "      <th>descarte_peso</th>\n",
       "      <th>descarte_vl</th>\n",
       "      <th>US$/KG</th>\n",
       "      <th>descarte_preço</th>\n",
       "    </tr>\n",
       "  </thead>\n",
       "  <tbody>\n",
       "    <tr>\n",
       "      <th>3498</th>\n",
       "      <td>2006</td>\n",
       "      <td>2</td>\n",
       "      <td>901</td>\n",
       "      <td>756</td>\n",
       "      <td>3151800</td>\n",
       "      <td>101.587302</td>\n",
       "      <td>1920</td>\n",
       "      <td>0.63</td>\n",
       "      <td>64</td>\n",
       "      <td>não</td>\n",
       "      <td>não</td>\n",
       "      <td>18.9</td>\n",
       "      <td>sim</td>\n",
       "    </tr>\n",
       "  </tbody>\n",
       "</table>\n",
       "</div>"
      ],
      "text/plain": [
       "      CO_ANO  CO_MES  SH4  CO_PAIS   CO_MUN  KG_LIQUIDO  VL_FOB  FATOR  \\\n",
       "3498    2006       2  901      756  3151800  101.587302    1920   0.63   \n",
       "\n",
       "      KG_LIQUIDO_real descarte_peso descarte_vl  US$/KG descarte_preço  \n",
       "3498               64           não         não    18.9            sim  "
      ]
     },
     "execution_count": 25,
     "metadata": {},
     "output_type": "execute_result"
    }
   ],
   "source": [
    "i_f_m_r_pa[i_f_m_r_pa.descarte_preço=='sim'].head(1)"
   ]
  },
  {
   "cell_type": "code",
   "execution_count": 26,
   "id": "99ab4398-22c9-4a57-8fa8-19a55999cf9d",
   "metadata": {},
   "outputs": [],
   "source": [
    "i_f_m_r_pa[\n",
    "(i_f_m_r_pa.descarte_peso=='sim')&\n",
    "(i_f_m_r_pa.descarte_vl=='sim')&\n",
    "(i_f_m_r_pa.descarte_preço=='sim')\n",
    "].tipo='descarte_triplo'"
   ]
  },
  {
   "cell_type": "code",
   "execution_count": null,
   "id": "1c44846d-492a-4549-b1bd-efb7360e38c9",
   "metadata": {},
   "outputs": [],
   "source": []
  },
  {
   "cell_type": "code",
   "execution_count": 27,
   "id": "a5cf009b-ca90-4528-9cf3-09300086a77c",
   "metadata": {},
   "outputs": [],
   "source": [
    "i_f_m_r_pa['tipo']='sem_descarte'"
   ]
  },
  {
   "cell_type": "code",
   "execution_count": 28,
   "id": "2fde85d0-772f-45d9-83cb-db2367fcb864",
   "metadata": {},
   "outputs": [],
   "source": [
    "i_f_m_r_pa.loc[(i_f_m_r_pa.descarte_peso=='sim')&(i_f_m_r_pa.descarte_vl=='sim')&(i_f_m_r_pa.descarte_preço=='sim'),'tipo']='descarte_triplo'"
   ]
  },
  {
   "cell_type": "code",
   "execution_count": 29,
   "id": "18526903-1d9f-4830-ab87-ebef5f42daa1",
   "metadata": {},
   "outputs": [
    {
     "data": {
      "text/plain": [
       "array(['sem_descarte'], dtype=object)"
      ]
     },
     "execution_count": 29,
     "metadata": {},
     "output_type": "execute_result"
    }
   ],
   "source": [
    "i_f_m_r_pa.tipo.unique()"
   ]
  },
  {
   "cell_type": "code",
   "execution_count": 30,
   "id": "95f4793f-14d7-4ffd-bf47-e37b4e1ac2c5",
   "metadata": {},
   "outputs": [],
   "source": [
    "i_f_m_r_pa.loc[(i_f_m_r_pa.descarte_peso=='não')&(i_f_m_r_pa.descarte_vl=='sim')&(i_f_m_r_pa.descarte_preço=='sim'),'tipo']='descarte_vl_preço'"
   ]
  },
  {
   "cell_type": "code",
   "execution_count": 31,
   "id": "bfd780c3-ae90-4a6f-9233-c99d7a76f1d1",
   "metadata": {},
   "outputs": [
    {
     "data": {
      "text/plain": [
       "array(['sem_descarte'], dtype=object)"
      ]
     },
     "execution_count": 31,
     "metadata": {},
     "output_type": "execute_result"
    }
   ],
   "source": [
    "i_f_m_r_pa.tipo.unique()"
   ]
  },
  {
   "cell_type": "code",
   "execution_count": 32,
   "id": "a3811862-5a35-4522-bbb4-84878fcae7c4",
   "metadata": {},
   "outputs": [],
   "source": [
    "i_f_m_r_pa.loc[(i_f_m_r_pa.descarte_peso=='sim')&(i_f_m_r_pa.descarte_vl=='não')&(i_f_m_r_pa.descarte_preço=='sim'),'tipo']='descarte_peso_preço'"
   ]
  },
  {
   "cell_type": "code",
   "execution_count": 33,
   "id": "d33b58cb-687d-4faf-85b1-12cf9893e3e4",
   "metadata": {},
   "outputs": [
    {
     "data": {
      "text/plain": [
       "array(['sem_descarte'], dtype=object)"
      ]
     },
     "execution_count": 33,
     "metadata": {},
     "output_type": "execute_result"
    }
   ],
   "source": [
    "i_f_m_r_pa.tipo.unique()"
   ]
  },
  {
   "cell_type": "code",
   "execution_count": 34,
   "id": "3bdbe6ad-55ba-467f-8995-9d9d022e4024",
   "metadata": {},
   "outputs": [],
   "source": [
    "i_f_m_r_pa.loc[(i_f_m_r_pa.descarte_peso=='não')&(i_f_m_r_pa.descarte_vl=='sim')&(i_f_m_r_pa.descarte_preço=='sim'),'tipo']='descarte_vl_preço'"
   ]
  },
  {
   "cell_type": "code",
   "execution_count": 35,
   "id": "7220a320-82aa-44b7-aa55-6010606c2ee2",
   "metadata": {},
   "outputs": [
    {
     "data": {
      "text/plain": [
       "array(['sem_descarte'], dtype=object)"
      ]
     },
     "execution_count": 35,
     "metadata": {},
     "output_type": "execute_result"
    }
   ],
   "source": [
    "i_f_m_r_pa.tipo.unique()"
   ]
  },
  {
   "cell_type": "code",
   "execution_count": 36,
   "id": "75f3a65c-c728-44d3-9218-6feeb742ec97",
   "metadata": {},
   "outputs": [],
   "source": [
    "i_f_m_r_pa.loc[(i_f_m_r_pa.descarte_peso=='não')&(i_f_m_r_pa.descarte_vl=='não')&(i_f_m_r_pa.descarte_preço=='sim'),'tipo']='descarte_preço'"
   ]
  },
  {
   "cell_type": "code",
   "execution_count": 37,
   "id": "c9dd80fe-92f7-40de-82d9-6e93138bb2e1",
   "metadata": {},
   "outputs": [
    {
     "data": {
      "text/plain": [
       "array(['sem_descarte', 'descarte_preço'], dtype=object)"
      ]
     },
     "execution_count": 37,
     "metadata": {},
     "output_type": "execute_result"
    }
   ],
   "source": [
    "i_f_m_r_pa.tipo.unique()"
   ]
  },
  {
   "cell_type": "code",
   "execution_count": 38,
   "id": "07cde9e6-0730-4501-b4b0-801439aca398",
   "metadata": {},
   "outputs": [],
   "source": [
    "i_f_m_r_pa.loc[(i_f_m_r_pa.descarte_peso=='sim')&(i_f_m_r_pa.descarte_vl=='não')&(i_f_m_r_pa.descarte_preço=='não'),'tipo']='descarte_peso'"
   ]
  },
  {
   "cell_type": "code",
   "execution_count": 39,
   "id": "778cae99-55b6-4411-8adb-8deb2cc3470d",
   "metadata": {},
   "outputs": [
    {
     "data": {
      "text/plain": [
       "array(['sem_descarte', 'descarte_preço'], dtype=object)"
      ]
     },
     "execution_count": 39,
     "metadata": {},
     "output_type": "execute_result"
    }
   ],
   "source": [
    "i_f_m_r_pa.tipo.unique()"
   ]
  },
  {
   "cell_type": "code",
   "execution_count": 40,
   "id": "b144f00b-71d3-445c-a6e0-fe996dc8f766",
   "metadata": {},
   "outputs": [],
   "source": [
    "i_f_m_r_pa.loc[(i_f_m_r_pa.descarte_peso=='não')&(i_f_m_r_pa.descarte_vl=='sim')&(i_f_m_r_pa.descarte_preço=='não'),'tipo']='descarte_vl'"
   ]
  },
  {
   "cell_type": "code",
   "execution_count": 41,
   "id": "229ffe62-9b47-4612-938c-d1ee7410f120",
   "metadata": {},
   "outputs": [
    {
     "data": {
      "text/plain": [
       "array(['sem_descarte', 'descarte_preço'], dtype=object)"
      ]
     },
     "execution_count": 41,
     "metadata": {},
     "output_type": "execute_result"
    }
   ],
   "source": [
    "i_f_m_r_pa.tipo.unique()"
   ]
  },
  {
   "cell_type": "code",
   "execution_count": 42,
   "id": "4d7cf636-d503-4046-9cc2-d76e9954fe46",
   "metadata": {},
   "outputs": [],
   "source": [
    "i_f_m_r_pa.loc[(i_f_m_r_pa.descarte_peso=='não')&(i_f_m_r_pa.descarte_vl=='não')&(i_f_m_r_pa.descarte_preço=='não'),'tipo']='sem_descarte'"
   ]
  },
  {
   "cell_type": "code",
   "execution_count": 43,
   "id": "cb4eaf34-7d80-484c-9d8c-073346885c8b",
   "metadata": {},
   "outputs": [
    {
     "data": {
      "text/plain": [
       "array(['sem_descarte', 'descarte_preço'], dtype=object)"
      ]
     },
     "execution_count": 43,
     "metadata": {},
     "output_type": "execute_result"
    }
   ],
   "source": [
    "i_f_m_r_pa.tipo.unique()"
   ]
  },
  {
   "cell_type": "code",
   "execution_count": 44,
   "id": "1c974fca-17ac-4a64-8a76-642549b8aa16",
   "metadata": {},
   "outputs": [],
   "source": [
    "w=i_f_m_r_pa.copy()"
   ]
  },
  {
   "cell_type": "code",
   "execution_count": 45,
   "id": "aed8359d-f8ec-4603-995b-60af7c4b5ce9",
   "metadata": {},
   "outputs": [],
   "source": [
    "i_f_m_r_pa=i_f_m_r_pa[i_f_m_r_pa.tipo!='descarte_triplo']"
   ]
  },
  {
   "cell_type": "code",
   "execution_count": null,
   "id": "bcb0b927-1130-42f0-bc1e-4756ac1c4546",
   "metadata": {},
   "outputs": [],
   "source": []
  },
  {
   "cell_type": "code",
   "execution_count": null,
   "id": "1d32b2e5-c9bf-4502-a34d-3d52a76593e2",
   "metadata": {},
   "outputs": [],
   "source": []
  },
  {
   "cell_type": "code",
   "execution_count": 46,
   "id": "110c1049-eb32-4d57-8a67-897992a32113",
   "metadata": {},
   "outputs": [
    {
     "data": {
      "image/png": "[encoded data removed]",
      "text/plain": [
       "<Figure size 656.5x500 with 1 Axes>"
      ]
     },
     "metadata": {},
     "output_type": "display_data"
    },
    {
     "data": {
      "image/png": "[encoded data removed]",
      "text/plain": [
       "<Figure size 656.5x500 with 1 Axes>"
      ]
     },
     "metadata": {},
     "output_type": "display_data"
    },
    {
     "data": {
      "image/png": "[encoded data removed]",
      "text/plain": [
       "<Figure size 656.5x500 with 1 Axes>"
      ]
     },
     "metadata": {},
     "output_type": "display_data"
    }
   ],
   "source": [
    "for c in ['KG_LIQUIDO','VL_FOB','US$/KG']:\n",
    "    sns.displot(data=i_f_m_r_pa,x=c,log_scale=True, hue='tipo', bins=15).fig.suptitle('Importação de Fertilizantes por Município\\n da Região de Pouso Alegre',y=1.1)\n",
    "    plt.show()"
   ]
  },
  {
   "attachments": {},
   "cell_type": "markdown",
   "id": "4e0386ba-1d00-4526-a8fa-311c9d77cb90",
   "metadata": {},
   "source": [
    "Acima nos gráficos odemos observar que , apesar dos registros marcados para descarte serem apresentarem peso anormalmente baixo, os valores declarados são significativos e sistemáticos, dando a impressão de que são pagamaento de bônos de qualidade em cargas anteriores. Por isso, nada será marcado para descarte.\n",
    "\n",
    "A protuberância a esquerda do gráfico se acredita ser causada pela inflação ao longo dos anos, mas por simplicidade, no momento, não será feita correção da inflação.\n",
    "\n",
    "Apenas os registros com preço acima de 10**1.2 serão descartados."
   ]
  },
  {
   "cell_type": "code",
   "execution_count": 47,
   "id": "1471fe37-75ee-497c-ad81-ca839d835514",
   "metadata": {},
   "outputs": [],
   "source": [
    "i_f_m_r_pa_clean=i_f_m_r_pa[i_f_m_r_pa['US$/KG']<10**1.1]"
   ]
  },
  {
   "cell_type": "code",
   "execution_count": 48,
   "id": "b5da6bc1-bc75-4681-9552-067b27d8a53a",
   "metadata": {
    "scrolled": true
   },
   "outputs": [
    {
     "data": {
      "text/html": [
       "<div>\n",
       "<style scoped>\n",
       "    .dataframe tbody tr th:only-of-type {\n",
       "        vertical-align: middle;\n",
       "    }\n",
       "\n",
       "    .dataframe tbody tr th {\n",
       "        vertical-align: top;\n",
       "    }\n",
       "\n",
       "    .dataframe thead th {\n",
       "        text-align: right;\n",
       "    }\n",
       "</style>\n",
       "<table border=\"1\" class=\"dataframe\">\n",
       "  <thead>\n",
       "    <tr style=\"text-align: right;\">\n",
       "      <th></th>\n",
       "      <th>CO_ANO</th>\n",
       "      <th>CO_MES</th>\n",
       "      <th>SH4</th>\n",
       "      <th>CO_PAIS</th>\n",
       "      <th>CO_MUN</th>\n",
       "      <th>KG_LIQUIDO</th>\n",
       "      <th>VL_FOB</th>\n",
       "      <th>FATOR</th>\n",
       "      <th>KG_LIQUIDO_real</th>\n",
       "      <th>descarte_peso</th>\n",
       "      <th>descarte_vl</th>\n",
       "      <th>US$/KG</th>\n",
       "      <th>descarte_preço</th>\n",
       "      <th>tipo</th>\n",
       "    </tr>\n",
       "  </thead>\n",
       "  <tbody>\n",
       "    <tr>\n",
       "      <th>0</th>\n",
       "      <td>1997</td>\n",
       "      <td>3</td>\n",
       "      <td>901</td>\n",
       "      <td>764</td>\n",
       "      <td>3102605</td>\n",
       "      <td>300000.0</td>\n",
       "      <td>514554</td>\n",
       "      <td>0.5</td>\n",
       "      <td>150000</td>\n",
       "      <td>não</td>\n",
       "      <td>não</td>\n",
       "      <td>1.71518</td>\n",
       "      <td>não</td>\n",
       "      <td>sem_descarte</td>\n",
       "    </tr>\n",
       "  </tbody>\n",
       "</table>\n",
       "</div>"
      ],
      "text/plain": [
       "   CO_ANO  CO_MES  SH4  CO_PAIS   CO_MUN  KG_LIQUIDO  VL_FOB  FATOR  \\\n",
       "0    1997       3  901      764  3102605    300000.0  514554    0.5   \n",
       "\n",
       "   KG_LIQUIDO_real descarte_peso descarte_vl   US$/KG descarte_preço  \\\n",
       "0           150000           não         não  1.71518            não   \n",
       "\n",
       "           tipo  \n",
       "0  sem_descarte  "
      ]
     },
     "execution_count": 48,
     "metadata": {},
     "output_type": "execute_result"
    }
   ],
   "source": [
    "i_f_m_r_pa_clean.head(1)"
   ]
  },
  {
   "cell_type": "code",
   "execution_count": 49,
   "id": "3675af8b-a711-4a6f-b6ef-525d3a39fadc",
   "metadata": {},
   "outputs": [],
   "source": [
    "i_f_m_r_pa_clean=i_f_m_r_pa_clean.iloc[:,:7]"
   ]
  },
  {
   "cell_type": "code",
   "execution_count": 50,
   "id": "03e46281-7b39-4384-a7d0-39a7e6b17c91",
   "metadata": {},
   "outputs": [],
   "source": [
    "i_f_m_r_pa_clean.iloc[:,:5]=i_f_m_r_pa_clean.iloc[:,:5].astype('category')"
   ]
  },
  {
   "cell_type": "code",
   "execution_count": 51,
   "id": "a1effaed-bab0-4772-8569-cf80e414b551",
   "metadata": {},
   "outputs": [
    {
     "data": {
      "text/plain": [
       "13286"
      ]
     },
     "execution_count": 51,
     "metadata": {},
     "output_type": "execute_result"
    }
   ],
   "source": [
    "len(i_f_m_r_pa_clean)"
   ]
  },
  {
   "cell_type": "code",
   "execution_count": 52,
   "id": "0fb5a37f-8976-4351-a6ef-6a915b154924",
   "metadata": {},
   "outputs": [],
   "source": [
    "i_f_m_r_pa_clean_sprx=i_f_m_r_pa_clean.groupby(by=i_f_m_r_pa_clean.columns[:5].tolist())[i_f_m_r_pa_clean.columns[5:].tolist()].sum().reset_index()"
   ]
  },
  {
   "cell_type": "code",
   "execution_count": 53,
   "id": "48123bd2-cc42-402e-a4c0-539de00fe91d",
   "metadata": {},
   "outputs": [
    {
     "data": {
      "text/plain": [
       "4814544"
      ]
     },
     "execution_count": 53,
     "metadata": {},
     "output_type": "execute_result"
    }
   ],
   "source": [
    "len(i_f_m_r_pa_clean_sprx)"
   ]
  },
  {
   "cell_type": "code",
   "execution_count": 54,
   "id": "94cf1248-7bc8-45ba-a568-5582765d6fa3",
   "metadata": {},
   "outputs": [
    {
     "data": {
      "text/html": [
       "<div>\n",
       "<style scoped>\n",
       "    .dataframe tbody tr th:only-of-type {\n",
       "        vertical-align: middle;\n",
       "    }\n",
       "\n",
       "    .dataframe tbody tr th {\n",
       "        vertical-align: top;\n",
       "    }\n",
       "\n",
       "    .dataframe thead th {\n",
       "        text-align: right;\n",
       "    }\n",
       "</style>\n",
       "<table border=\"1\" class=\"dataframe\">\n",
       "  <thead>\n",
       "    <tr style=\"text-align: right;\">\n",
       "      <th></th>\n",
       "      <th>CO_ANO</th>\n",
       "      <th>CO_MES</th>\n",
       "      <th>SH4</th>\n",
       "      <th>CO_PAIS</th>\n",
       "      <th>CO_MUN</th>\n",
       "      <th>KG_LIQUIDO</th>\n",
       "      <th>VL_FOB</th>\n",
       "    </tr>\n",
       "  </thead>\n",
       "  <tbody>\n",
       "    <tr>\n",
       "      <th>0</th>\n",
       "      <td>1997</td>\n",
       "      <td>1</td>\n",
       "      <td>901</td>\n",
       "      <td>17</td>\n",
       "      <td>3101409</td>\n",
       "      <td>0.0</td>\n",
       "      <td>0</td>\n",
       "    </tr>\n",
       "    <tr>\n",
       "      <th>1</th>\n",
       "      <td>1997</td>\n",
       "      <td>1</td>\n",
       "      <td>901</td>\n",
       "      <td>17</td>\n",
       "      <td>3102605</td>\n",
       "      <td>0.0</td>\n",
       "      <td>0</td>\n",
       "    </tr>\n",
       "    <tr>\n",
       "      <th>2</th>\n",
       "      <td>1997</td>\n",
       "      <td>1</td>\n",
       "      <td>901</td>\n",
       "      <td>17</td>\n",
       "      <td>3104908</td>\n",
       "      <td>0.0</td>\n",
       "      <td>0</td>\n",
       "    </tr>\n",
       "    <tr>\n",
       "      <th>3</th>\n",
       "      <td>1997</td>\n",
       "      <td>1</td>\n",
       "      <td>901</td>\n",
       "      <td>17</td>\n",
       "      <td>3108305</td>\n",
       "      <td>0.0</td>\n",
       "      <td>0</td>\n",
       "    </tr>\n",
       "    <tr>\n",
       "      <th>4</th>\n",
       "      <td>1997</td>\n",
       "      <td>1</td>\n",
       "      <td>901</td>\n",
       "      <td>17</td>\n",
       "      <td>3108404</td>\n",
       "      <td>0.0</td>\n",
       "      <td>0</td>\n",
       "    </tr>\n",
       "  </tbody>\n",
       "</table>\n",
       "</div>"
      ],
      "text/plain": [
       "  CO_ANO CO_MES  SH4 CO_PAIS   CO_MUN  KG_LIQUIDO  VL_FOB\n",
       "0   1997      1  901      17  3101409         0.0       0\n",
       "1   1997      1  901      17  3102605         0.0       0\n",
       "2   1997      1  901      17  3104908         0.0       0\n",
       "3   1997      1  901      17  3108305         0.0       0\n",
       "4   1997      1  901      17  3108404         0.0       0"
      ]
     },
     "execution_count": 54,
     "metadata": {},
     "output_type": "execute_result"
    }
   ],
   "source": [
    "i_f_m_r_pa_clean_sprx.head()"
   ]
  },
  {
   "cell_type": "code",
   "execution_count": 55,
   "id": "f1cc6a7b-055e-4270-8f43-adda48558960",
   "metadata": {},
   "outputs": [],
   "source": [
    "i_f_m_r_pa_clean_sprx.to_csv('~/git/Importacao-por-SH-e-Municipio/temp/e_c_m_r_pa_clean_sprx.csv',index=True)"
   ]
  }
 ],
 "metadata": {
  "kernelspec": {
   "display_name": "Python 3 (ipykernel)",
   "language": "python",
   "name": "python3"
  },
  "language_info": {
   "codemirror_mode": {
    "name": "ipython",
    "version": 3
   },
   "file_extension": ".py",
   "mimetype": "text/x-python",
   "name": "python",
   "nbconvert_exporter": "python",
   "pygments_lexer": "ipython3",
   "version": "3.11.5"
  }
 },
 "nbformat": 4,
 "nbformat_minor": 5
}
